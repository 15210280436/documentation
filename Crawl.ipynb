{
 "cells": [
  {
   "cell_type": "code",
   "execution_count": 61,
   "metadata": {
    "collapsed": true
   },
   "outputs": [],
   "source": [
    "import os\n",
    "from collections import OrderedDict"
   ]
  },
  {
   "cell_type": "code",
   "execution_count": 49,
   "metadata": {
    "collapsed": false
   },
   "outputs": [],
   "source": [
    "class Post(object):\n",
    "    def __init__(self, fn):\n",
    "        with open(fn) as f:\n",
    "            self.post_text = f.read()\n",
    "\n",
    "        front_matter_lines = [var for var in self.post_text.split('---')[1].split('\\n')[1:-1]]\n",
    "        self.body = self.post_text.split('---')[-1]\n",
    "        self.front_matter_vars = OrderedDict([v.split(': ') for v in [line for line in front_matter_lines]])\n",
    "\n",
    "    @property\n",
    "    def content(self):\n",
    "        post = '---\\n'\n",
    "        for k, v in self.front_matter_vars.iteritems():\n",
    "            post += k + ': ' + v + '\\n'\n",
    "        post += '---'\n",
    "        post += self.body\n",
    "        return post\n",
    "\n",
    "    def write(self, fn):\n",
    "        with open(fn, 'w') as f:\n",
    "            f.write(self.content)"
   ]
  },
  {
   "cell_type": "code",
   "execution_count": 60,
   "metadata": {
    "collapsed": false
   },
   "outputs": [],
   "source": [
    "import traceback\n",
    "for root, dirs, filenames in os.walk('_posts'):\n",
    "    for fn in filenames:\n",
    "        if fn == '.DS_Store' or fn[-1] == '~' or 'index.html' in fn or '.ipynb' in fn:\n",
    "            continue\n",
    "        if 'user_guide' in root:\n",
    "            continue\n",
    "        else:\n",
    "            full_fn = root + '/' + fn\n",
    "            try:\n",
    "                post = Post(full_fn)\n",
    "            except:\n",
    "                print full_fn\n",
    "                print traceback.format_exc()\n",
    "            else:\n",
    "                post.front_matter_vars = OrderedDict((k, v) for k, v in post.front_matter_vars.items() + [('sitemap', 'false')])\n",
    "                post.write(full_fn)"
   ]
  },
  {
   "cell_type": "code",
   "execution_count": null,
   "metadata": {
    "collapsed": true
   },
   "outputs": [],
   "source": []
  }
 ],
 "metadata": {
  "kernelspec": {
   "display_name": "Python 2",
   "language": "python",
   "name": "python2"
  },
  "language_info": {
   "codemirror_mode": {
    "name": "ipython",
    "version": 2
   },
   "file_extension": ".py",
   "mimetype": "text/x-python",
   "name": "python",
   "nbconvert_exporter": "python",
   "pygments_lexer": "ipython2",
   "version": "2.7.10"
  }
 },
 "nbformat": 4,
 "nbformat_minor": 0
}
