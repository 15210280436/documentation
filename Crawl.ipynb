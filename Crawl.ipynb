{
 "cells": [
  {
   "cell_type": "code",
   "execution_count": 1,
   "metadata": {
    "collapsed": true
   },
   "outputs": [],
   "source": [
    "import os\n",
    "from collections import OrderedDict\n",
    "import traceback\n",
    "import json"
   ]
  },
  {
   "cell_type": "code",
   "execution_count": 49,
   "metadata": {
    "collapsed": false
   },
   "outputs": [],
   "source": [
    "class Post(object):\n",
    "    def __init__(self, fn):\n",
    "        with open(fn) as f:\n",
    "            self.post_text = f.read()\n",
    "\n",
    "        front_matter_lines = [var for var in self.post_text.split('---')[1].split('\\n')[1:-1]]\n",
    "        self.body = self.post_text.split('---')[-1]\n",
    "        self.front_matter_vars = OrderedDict([v.split(': ') for v in [line for line in front_matter_lines]])\n",
    "\n",
    "    @property\n",
    "    def content(self):\n",
    "        post = '---\\n'\n",
    "        for k, v in self.front_matter_vars.iteritems():\n",
    "            post += k + ': ' + v + '\\n'\n",
    "        post += '---'\n",
    "        post += self.body\n",
    "        return post\n",
    "\n",
    "    def write(self, fn):\n",
    "        with open(fn, 'w') as f:\n",
    "            f.write(self.content)"
   ]
  },
  {
   "cell_type": "code",
   "execution_count": 60,
   "metadata": {
    "collapsed": false
   },
   "outputs": [],
   "source": [
    "# Add 'sitemap: false' to all of the _posts that aren't index files\n",
    "\n",
    "for root, dirs, filenames in os.walk('_posts'):\n",
    "    for fn in filenames:\n",
    "        if fn == '.DS_Store' or fn[-1] == '~' or 'index.html' in fn or '.ipynb' in fn:\n",
    "            continue\n",
    "        if 'user_guide' in root:\n",
    "            continue\n",
    "        else:\n",
    "            full_fn = root + '/' + fn\n",
    "            try:\n",
    "                post = Post(full_fn)\n",
    "            except:\n",
    "                print full_fn\n",
    "                print traceback.format_exc()\n",
    "            else:\n",
    "                post.front_matter_vars = OrderedDict((k, v) for k, v in post.front_matter_vars.items() + [('sitemap', 'false')])\n",
    "                post.write(full_fn)"
   ]
  },
  {
   "cell_type": "code",
   "execution_count": 2,
   "metadata": {
    "collapsed": true
   },
   "outputs": [],
   "source": [
    "import publisher\n",
    "import shutil"
   ]
  },
  {
   "cell_type": "code",
   "execution_count": 4,
   "metadata": {
    "collapsed": false
   },
   "outputs": [
    {
     "name": "stdout",
     "output_type": "stream",
     "text": [
      "Help on function publish in module publisher.publisher:\n",
      "\n",
      "publish(notebook_name, url_path, page_title, page_description, ignore_last_n_cells=2, uses_plotly_offline=False, thumbnail_url='/images/static-image', language='python')\n",
      "    Convert an IPython notebook into an HTML file that can be consumed\n",
      "    by GitHub pages in plotly's documentation repo.\n",
      "    \n",
      "    Arguments:\n",
      "    - notebook_name: The name of the notebook to convert.\n",
      "                     Used as input arg to nbconvert, nowhere else.\n",
      "    - url_path: e.g. /python/offline\n",
      "    - page_title: The <title> of the page.\n",
      "    - page_description: So, what's this page about?\n",
      "                        Sell it in 160 characters or less.\n",
      "                        This is the <meta name=\"description\"> tag.\n",
      "    - ignore_last_n_cells: When converting to HTML, don't convert the\n",
      "                           ignore_last_n_cells number of cells.\n",
      "                           This is usually the cell that runs this `publish`\n",
      "                           command and the blank output cell that is always\n",
      "                           included.\n",
      "    - uses_plotly_offline: If this was created with plotly.offline, then set\n",
      "                           this to True. This will include an extra lib\n",
      "                           (jquery) that is included in ipython notebook,\n",
      "                           but not included in gh-pages\n",
      "    - thumbnail_url: Used as a thumbnail image on the notebook splash\n",
      "                     (if applicable) and as the image when sharing the\n",
      "                     notebook as a tweet, a facebook post, etc.\n",
      "                     Can be relative to the repo, eg '/images/static-image'\n",
      "                     or absolute, e.g. http://i.imgur.com/j0Uiy0n.jpg\n",
      "    - language: Not sure what this is used for.\n",
      "    \n",
      "    Example:\n",
      "    publish('Plotly Offline',\n",
      "            '/python/offline',\n",
      "            'Plotly Offline for IPython Notebooks',\n",
      "            'How to use Plotly offline inside IPython notebooks with Plotly Offline',\n",
      "             uses_plotly_offline=True)\n",
      "\n"
     ]
    }
   ],
   "source": [
    "help(publisher.publish)"
   ]
  },
  {
   "cell_type": "code",
   "execution_count": 3,
   "metadata": {
    "collapsed": false
   },
   "outputs": [
    {
     "name": "stdout",
     "output_type": "stream",
     "text": [
      "/Users/chriddyp/Repos/documentation/_posts/tutorials\n"
     ]
    }
   ],
   "source": [
    "cd _posts/tutorials/"
   ]
  },
  {
   "cell_type": "code",
   "execution_count": 14,
   "metadata": {
    "collapsed": false
   },
   "outputs": [
    {
     "name": "stdout",
     "output_type": "stream",
     "text": [
      "aircraft_pitch.ipynb\n",
      "! pip install publisher --upgrade\n",
      "import publisher\n",
      "publisher.publish(\n",
      "    'aircraft_pitch.ipynb', '/python/aircraft-pitch-analysis-matlab-plotly', 'Aircraft Pitch Analysis in MATLAB and Plotly', \n",
      "    'MATLAB and Plotly analysis of aircraft pitch. Frequency domain methods for controller design.')\n",
      "apachespark.ipynb\n",
      "! pip install publisher --upgrade\n",
      "import publisher\n",
      "publisher.publish(\n",
      "    'apachespark.ipynb', '/python/apache-spark', 'Plotting Spark DataFrames with Plotly', \n",
      "    'A tutorial showing how to plot Apache Spark DataFrames with Plotly')\n",
      "baltimore.ipynb\n",
      "! pip install publisher --upgrade\n",
      "import publisher\n",
      "publisher.publish(\n",
      "    'baltimore.ipynb', '/python/baltimore-vital-signs', 'Baltimore Vital Signs', \n",
      "    'PCA and k-means clustering on dataset with Baltimore neighborhood indicators')\n",
      "basemap.ipynb\n",
      "! pip install publisher --upgrade\n",
      "import publisher\n",
      "publisher.publish(\n",
      "    'basemap.ipynb', '/python/basemap-maps', 'Plotly maps with Matplotlib Basemap', \n",
      "    'An IPython Notebook showing how to make an interactive world map using plotly and Maplotlib Basemap')\n",
      "bicycle_control.ipynb\n",
      "! pip install publisher --upgrade\n",
      "import publisher\n",
      "publisher.publish(\n",
      "    'bicycle_control.ipynb', '/python/bicycle-control-design', 'Bicycle Control Design with Python and Plotly', \n",
      "    'Design of a sequential dual-loop controller for a bicycle using NumPy, SciPy, Python Control, and Plotly.')\n",
      "bioinformatics.ipynb\n",
      "! pip install publisher --upgrade\n",
      "import publisher\n",
      "publisher.publish(\n",
      "    'bioinformatics.ipynb', '/python/bioinformatics', 'Visualizing biological data: exploratory bioinformatics with plot.ly', \n",
      "    '5 popular visualizations that bioinformaticians use in exploratory analysis of genomic data.')\n",
      "cartodb.ipynb\n",
      "! pip install publisher --upgrade\n",
      "import publisher\n",
      "publisher.publish(\n",
      "    'cartodb.ipynb', '/python/cartodb', 'CartoDB and Plotly', \n",
      "    'CartoDB and Plotly mashup using the Plotly, CartoDB, Pandas, and IPython Notebooks')\n",
      "collaborate.ipynb\n",
      "! pip install publisher --upgrade\n",
      "import publisher\n",
      "publisher.publish(\n",
      "    'collaborate.ipynb', '/python/collaboration', 'Collaboration with Plotly using Python, R and MATLAB', \n",
      "    'An IPython Notebook showing how to collaboration between different programming languages with plotly')\n",
      "cufflinks.ipynb\n",
      "! pip install publisher --upgrade\n",
      "import publisher\n",
      "publisher.publish(\n",
      "    'cufflinks.ipynb', '/python/cufflinks', 'Cufflinks - Easy Plotting using Plotly and Pandas', \n",
      "    'A Python library that binds the power of Plotly with the flexibility of Pandas for easy plotting')\n",
      "excel_python_and_plotly.ipynb\n",
      "! pip install publisher --upgrade\n",
      "import publisher\n",
      "publisher.publish(\n",
      "    'excel_python_and_plotly.ipynb', '/python/excel-python-and-plotly', 'Online Dashboards with Excel, Python, & Plotly', \n",
      "    'This notebook is a primer on building interacitve web-based visualizations straight from an excel workbook with python, xlwings, pandas, and plotly')\n",
      "gmail.ipynb\n",
      "! pip install publisher --upgrade\n",
      "import publisher\n",
      "publisher.publish(\n",
      "    'gmail.ipynb', '/python/graph-gmail-inbox-data', 'Graph Gmail inbox data with IPython notebook', \n",
      "    'Learn how to graph your Gmail inbox data with plotly and IPython Notebook')\n",
      "make_subplots.ipynb\n",
      "! pip install publisher --upgrade\n",
      "import publisher\n",
      "publisher.publish(\n",
      "    'make_subplots.ipynb', '/python/subplots', 'Python Subplots with Plotly and make_subplots', \n",
      "    'An IPython notebook illustrating how to make subplots with Plotly and Python.')\n",
      "markowitz.ipynb\n",
      "! pip install publisher --upgrade\n",
      "import publisher\n",
      "publisher.publish(\n",
      "    'markowitz.ipynb', '/python/markowitz-portfolio-optimization', 'Markowitz portfolio optimization', \n",
      "    'Tutorial on the basic idea behind Markowitz portfolio optimization and how to do it with Python and plotly.')\n",
      "mne-tutorial.ipynb\n",
      "! pip install publisher --upgrade\n",
      "import publisher\n",
      "publisher.publish(\n",
      "    'mne-tutorial.ipynb', '/python/mne-tutorial', 'Plotly visualizations for MNE-Python \n",
      " to process MEG/EEG data', \n",
      "    'Create interactive visualizations using MNE-Python and Plotly')\n",
      "montecarlo.ipynb\n",
      "! pip install publisher --upgrade\n",
      "import publisher\n",
      "publisher.publish(\n",
      "    'montecarlo.ipynb', '/python/computational-bayesian-analysis', 'Computational Methods in Bayesian Analysis', \n",
      "    'Monte Carlo simulations, Markov chains, Gibbs sampling illustrated in Plotly')\n",
      "networkx.ipynb\n",
      "! pip install publisher --upgrade\n",
      "import publisher\n",
      "publisher.publish(\n",
      "    'networkx.ipynb', '/python/network-graphs', 'Network Graphs with the networkx and\n",
      " plotly Python Modules', \n",
      "    'An IPython notebook showing how to use networkx to generate network graphs through Plotly's Python library.')\n",
      "principal_component_analysis.ipynb\n",
      "! pip install publisher --upgrade\n",
      "import publisher\n",
      "publisher.publish(\n",
      "    'principal_component_analysis.ipynb', '/python/principal-component-analysis', 'Principal Component Analysis in 3 Simple Steps', \n",
      "    'A step by step tutorial to Principal Component Analysis, a simple yet powerful transformation technique.')\n",
      "PyTables.ipynb\n",
      "! pip install publisher --upgrade\n",
      "import publisher\n",
      "publisher.publish(\n",
      "    'PyTables.ipynb', '/python/pytables', 'Graphing Data From HDF5, Pandas, PyTables and Plotly', \n",
      "    'pytables notebook covering plotly, pytables, pandas, and hdf5')\n",
      "redshift.ipynb\n",
      "! pip install publisher --upgrade\n",
      "import publisher\n",
      "publisher.publish(\n",
      "    'redshift.ipynb', '/python/amazon-redshift', 'Plotting Data From Your Redshift Data Warehouse', \n",
      "    'A tutorial showing how to plot Amazon AWS Redshift data with Plotly')\n",
      "salesforce.ipynb\n",
      "! pip install publisher --upgrade\n",
      "import publisher\n",
      "publisher.publish(\n",
      "    'salesforce.ipynb', '/python/salesforce', 'Interactive graphing with Salesforce', \n",
      "    'Create interactive graphs with salesforce, IPython Notebook and plotly')\n",
      "sqlite.ipynb\n",
      "! pip install publisher --upgrade\n",
      "import publisher\n",
      "publisher.publish(\n",
      "    'sqlite.ipynb', '/python/big-data-analytics-with-pandas-and-sqlite', 'Big data analytics with Pandas and SQLite', \n",
      "    'A primer on out-of-memory analytics of large datasets with Pandas, SQLite, and IPython notebooks.')\n",
      "survival_analysis.ipynb\n",
      "! pip install publisher --upgrade\n",
      "import publisher\n",
      "publisher.publish(\n",
      "    'survival_analysis.ipynb', '/python/survival-analysis-r-vs-python', 'Survival Analysis with Plotly: R vs Python', \n",
      "    'An introduction to survival analysis with Plotly graphs using R, Python, and IPython notebooks')\n",
      "ukelectionbbg.ipynb\n",
      "! pip install publisher --upgrade\n",
      "import publisher\n",
      "publisher.publish(\n",
      "    'ukelectionbbg.ipynb', '/python/ukelectionbbg', 'Plotting GBP/USD price action around UK general elections', \n",
      "    'Create interactive graphs with market data, IPython Notebook and Plotly')\n"
     ]
    }
   ],
   "source": [
    "# Migrate notebooks\n",
    "for root, dirs, filenames in os.walk('../../../IPython-plotly/notebooks/'):\n",
    "    for fn in filenames:\n",
    "        if fn == '.DS_Store':\n",
    "            continue\n",
    "        if '.ipynb' in fn:\n",
    "            shutil.copy(root+'/'+fn, '.')\n",
    "\n",
    "            config = json.load(open(root+'/config.json'))\n",
    "            print fn\n",
    "            publisher.publish(\n",
    "                fn, '/python/' + config['relative_url'], config['title'], \n",
    "                config['meta_description']\n",
    "            )\n",
    "            print '! pip install publisher --upgrade'\n",
    "            print 'import publisher'\n",
    "            print '\\n'.join(['publisher.publish(',\n",
    "                \"    '{}', '/python/{}', '{}', \".format(fn, config['relative_url'], config['title']),\n",
    "                \"    '{}')\".format(config['meta_description'])])"
   ]
  },
  {
   "cell_type": "code",
   "execution_count": 11,
   "metadata": {
    "collapsed": false
   },
   "outputs": [
    {
     "name": "stdout",
     "output_type": "stream",
     "text": [
      "-rw-r--r--  1 chriddyp  staff   42014 14 Jul 17:08 2015-06-30-PyTables.html\r\n",
      "-rw-r--r--  1 chriddyp  staff   33097 14 Jul 17:08 2015-06-30-aircraft_pitch.html\r\n",
      "-rw-r--r--  1 chriddyp  staff   43961 14 Jul 17:08 2015-06-30-apachespark.html\r\n",
      "-rw-r--r--  1 chriddyp  staff   76497 14 Jul 17:08 2015-06-30-baltimore.html\r\n",
      "-rw-r--r--  1 chriddyp  staff   33097 14 Jul 17:08 2015-06-30-basemap.html\r\n",
      "-rw-r--r--  1 chriddyp  staff   75549 14 Jul 17:08 2015-06-30-bicycle_control.html\r\n",
      "-rw-r--r--  1 chriddyp  staff   60426 14 Jul 17:08 2015-06-30-bioinformatics.html\r\n",
      "-rw-r--r--  1 chriddyp  staff   28671 14 Jul 17:08 2015-06-30-cartodb.html\r\n",
      "-rw-r--r--  1 chriddyp  staff  156857 14 Jul 17:08 2015-06-30-collaborate.html\r\n",
      "-rw-r--r--  1 chriddyp  staff   34552 14 Jul 17:08 2015-06-30-cufflinks.html\r\n",
      "-rw-r--r--  1 chriddyp  staff  548177 14 Jul 17:08 2015-06-30-excel_python_and_plotly.html\r\n",
      "-rw-r--r--  1 chriddyp  staff  187171 14 Jul 17:08 2015-06-30-gmail.html\r\n",
      "-rw-r--r--  1 chriddyp  staff   79843 14 Jul 17:08 2015-06-30-make_subplots.html\r\n",
      "-rw-r--r--  1 chriddyp  staff   45656 14 Jul 17:08 2015-06-30-markowitz.html\r\n",
      "-rw-r--r--  1 chriddyp  staff  653557 14 Jul 17:08 2015-06-30-mne-tutorial.html\r\n",
      "-rw-r--r--  1 chriddyp  staff  162395 14 Jul 17:08 2015-06-30-montecarlo.html\r\n",
      "-rw-r--r--  1 chriddyp  staff    6186 14 Jul 17:08 2015-06-30-networkx.html\r\n",
      "-rw-r--r--  1 chriddyp  staff   73253 14 Jul 17:08 2015-06-30-principal_component_analysis.html\r\n",
      "-rw-r--r--  1 chriddyp  staff   48140 14 Jul 17:08 2015-06-30-redshift.html\r\n",
      "-rw-r--r--  1 chriddyp  staff   32567 14 Jul 17:08 2015-06-30-salesforce.html\r\n",
      "-rw-r--r--  1 chriddyp  staff  107162 14 Jul 17:08 2015-06-30-sqlite.html\r\n",
      "-rw-r--r--  1 chriddyp  staff  233708 14 Jul 17:08 2015-06-30-survival_analysis.html\r\n",
      "-rw-r--r--  1 chriddyp  staff   70596 14 Jul 17:08 2015-06-30-ukelectionbbg.html\r\n"
     ]
    }
   ],
   "source": [
    "ls -l *.html"
   ]
  },
  {
   "cell_type": "code",
   "execution_count": 6,
   "metadata": {
    "collapsed": false
   },
   "outputs": [],
   "source": [
    "j = json.load(open('../user_guide_python/Plotly Offline.ipynb'))"
   ]
  },
  {
   "cell_type": "code",
   "execution_count": 9,
   "metadata": {
    "collapsed": false
   },
   "outputs": [
    {
     "data": {
      "text/plain": [
       "{u'cell_type': u'code',\n",
       " u'execution_count': 2,\n",
       " u'metadata': {u'collapsed': False},\n",
       " u'outputs': [{u'name': u'stdout',\n",
       "   u'output_type': u'stream',\n",
       "   u'text': [u'Requirement already up-to-date: publisher in /Users/chriddyp/Repos/venvpy27/lib/python2.7/site-packages\\r\\n']}],\n",
       " u'source': [u'! pip install publisher --upgrade\\n',\n",
       "  u'\\n',\n",
       "  u'import publisher\\n',\n",
       "  u\"publisher.publish('Plotly Offline', '/python/offline', 'Plotly Offline for IPython Notebooks', \\n\",\n",
       "  u\"                  'How to use Plotly offline inside IPython notebooks with Plotly Offline',\\n\",\n",
       "  u'                   uses_plotly_offline=True)']}"
      ]
     },
     "execution_count": 9,
     "metadata": {},
     "output_type": "execute_result"
    }
   ],
   "source": [
    "j['cells'][-2]"
   ]
  },
  {
   "cell_type": "code",
   "execution_count": null,
   "metadata": {
    "collapsed": true
   },
   "outputs": [],
   "source": []
  },
  {
   "cell_type": "code",
   "execution_count": 15,
   "metadata": {
    "collapsed": false
   },
   "outputs": [],
   "source": [
    "! subl 2015-06-30-survival_analysis.html"
   ]
  },
  {
   "cell_type": "code",
   "execution_count": null,
   "metadata": {
    "collapsed": true
   },
   "outputs": [],
   "source": []
  }
 ],
 "metadata": {
  "kernelspec": {
   "display_name": "Python 2",
   "language": "python",
   "name": "python2"
  },
  "language_info": {
   "codemirror_mode": {
    "name": "ipython",
    "version": 2
   },
   "file_extension": ".py",
   "mimetype": "text/x-python",
   "name": "python",
   "nbconvert_exporter": "python",
   "pygments_lexer": "ipython2",
   "version": "2.7.10"
  }
 },
 "nbformat": 4,
 "nbformat_minor": 0
}
