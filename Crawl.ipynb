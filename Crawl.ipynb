{
 "cells": [
  {
   "cell_type": "code",
   "execution_count": 1,
   "metadata": {
    "collapsed": true
   },
   "outputs": [],
   "source": [
    "import os"
   ]
  },
  {
   "cell_type": "code",
   "execution_count": 49,
   "metadata": {
    "collapsed": false
   },
   "outputs": [],
   "source": [
    "class Post(object):\n",
    "    def __init__(self, fn):\n",
    "        with open(fn) as f:\n",
    "            self.post_text = f.read()\n",
    "\n",
    "        front_matter_lines = [var for var in self.post_text.split('---')[1].split('\\n')[1:-1]]\n",
    "        self.body = self.post_text.split('---')[-1]\n",
    "        self.front_matter_vars = OrderedDict([v.split(': ') for v in [line for line in front_matter_lines]])\n",
    "\n",
    "    @property\n",
    "    def content(self):\n",
    "        post = '---\\n'\n",
    "        for k, v in self.front_matter_vars.iteritems():\n",
    "            post += k + ': ' + v + '\\n'\n",
    "        post += '---'\n",
    "        post += self.body\n",
    "        return post\n",
    "\n",
    "    def write(self, fn):\n",
    "        with open(fn, 'w') as f:\n",
    "            f.write(self.content)"
   ]
  },
  {
   "cell_type": "code",
   "execution_count": 59,
   "metadata": {
    "collapsed": false
   },
   "outputs": [
    {
     "name": "stdout",
     "output_type": "stream",
     "text": [
      "_posts/julia/labels/2015-04-09-styling-names.html\n",
      "Traceback (most recent call last):\n",
      "  File \"<ipython-input-59-9737240ef935>\", line 11, in <module>\n",
      "    post = Post(full_fn)\n",
      "  File \"<ipython-input-49-f555a6495329>\", line 8, in __init__\n",
      "    self.front_matter_vars = OrderedDict([v.split(': ') for v in [line for line in front_matter_lines]])\n",
      "  File \"/Library/Frameworks/Python.framework/Versions/2.7/lib/python2.7/collections.py\", line 57, in __init__\n",
      "    self.__update(*args, **kwds)\n",
      "  File \"/Users/chriddyp/Repos/venvpy27/bin/../lib/python2.7/_abcoll.py\", line 568, in update\n",
      "    for key, value in other:\n",
      "ValueError: need more than 1 value to unpack\n",
      "\n",
      "_posts/matlab/labels/2015-04-09-styling-names.html\n",
      "Traceback (most recent call last):\n",
      "  File \"<ipython-input-59-9737240ef935>\", line 11, in <module>\n",
      "    post = Post(full_fn)\n",
      "  File \"<ipython-input-49-f555a6495329>\", line 8, in __init__\n",
      "    self.front_matter_vars = OrderedDict([v.split(': ') for v in [line for line in front_matter_lines]])\n",
      "  File \"/Library/Frameworks/Python.framework/Versions/2.7/lib/python2.7/collections.py\", line 57, in __init__\n",
      "    self.__update(*args, **kwds)\n",
      "  File \"/Users/chriddyp/Repos/venvpy27/bin/../lib/python2.7/_abcoll.py\", line 568, in update\n",
      "    for key, value in other:\n",
      "ValueError: need more than 1 value to unpack\n",
      "\n",
      "_posts/matlab/redirects/2015-07-15-streaming.html\n",
      "Traceback (most recent call last):\n",
      "  File \"<ipython-input-59-9737240ef935>\", line 11, in <module>\n",
      "    post = Post(full_fn)\n",
      "  File \"<ipython-input-49-f555a6495329>\", line 8, in __init__\n",
      "    self.front_matter_vars = OrderedDict([v.split(': ') for v in [line for line in front_matter_lines]])\n",
      "  File \"/Library/Frameworks/Python.framework/Versions/2.7/lib/python2.7/collections.py\", line 57, in __init__\n",
      "    self.__update(*args, **kwds)\n",
      "  File \"/Users/chriddyp/Repos/venvpy27/bin/../lib/python2.7/_abcoll.py\", line 568, in update\n",
      "    for key, value in other:\n",
      "ValueError: need more than 1 value to unpack\n",
      "\n",
      "_posts/nodejs/labels/2015-04-09-styling-names.html\n",
      "Traceback (most recent call last):\n",
      "  File \"<ipython-input-59-9737240ef935>\", line 11, in <module>\n",
      "    post = Post(full_fn)\n",
      "  File \"<ipython-input-49-f555a6495329>\", line 8, in __init__\n",
      "    self.front_matter_vars = OrderedDict([v.split(': ') for v in [line for line in front_matter_lines]])\n",
      "  File \"/Library/Frameworks/Python.framework/Versions/2.7/lib/python2.7/collections.py\", line 57, in __init__\n",
      "    self.__update(*args, **kwds)\n",
      "  File \"/Users/chriddyp/Repos/venvpy27/bin/../lib/python2.7/_abcoll.py\", line 568, in update\n",
      "    for key, value in other:\n",
      "ValueError: need more than 1 value to unpack\n",
      "\n",
      "_posts/python/contour/2015-06-23-contour-colorscale\n",
      "Traceback (most recent call last):\n",
      "  File \"<ipython-input-59-9737240ef935>\", line 11, in <module>\n",
      "    post = Post(full_fn)\n",
      "  File \"<ipython-input-49-f555a6495329>\", line 8, in __init__\n",
      "    self.front_matter_vars = OrderedDict([v.split(': ') for v in [line for line in front_matter_lines]])\n",
      "  File \"/Library/Frameworks/Python.framework/Versions/2.7/lib/python2.7/collections.py\", line 57, in __init__\n",
      "    self.__update(*args, **kwds)\n",
      "  File \"/Users/chriddyp/Repos/venvpy27/bin/../lib/python2.7/_abcoll.py\", line 568, in update\n",
      "    for key, value in other:\n",
      "ValueError: too many values to unpack\n",
      "\n",
      "_posts/python/labels/2015-04-09-styling-names.html\n",
      "Traceback (most recent call last):\n",
      "  File \"<ipython-input-59-9737240ef935>\", line 11, in <module>\n",
      "    post = Post(full_fn)\n",
      "  File \"<ipython-input-49-f555a6495329>\", line 8, in __init__\n",
      "    self.front_matter_vars = OrderedDict([v.split(': ') for v in [line for line in front_matter_lines]])\n",
      "  File \"/Library/Frameworks/Python.framework/Versions/2.7/lib/python2.7/collections.py\", line 57, in __init__\n",
      "    self.__update(*args, **kwds)\n",
      "  File \"/Users/chriddyp/Repos/venvpy27/bin/../lib/python2.7/_abcoll.py\", line 568, in update\n",
      "    for key, value in other:\n",
      "ValueError: need more than 1 value to unpack\n",
      "\n",
      "_posts/python/redirects/2015-07-15-streaming.html\n",
      "Traceback (most recent call last):\n",
      "  File \"<ipython-input-59-9737240ef935>\", line 11, in <module>\n",
      "    post = Post(full_fn)\n",
      "  File \"<ipython-input-49-f555a6495329>\", line 8, in __init__\n",
      "    self.front_matter_vars = OrderedDict([v.split(': ') for v in [line for line in front_matter_lines]])\n",
      "  File \"/Library/Frameworks/Python.framework/Versions/2.7/lib/python2.7/collections.py\", line 57, in __init__\n",
      "    self.__update(*args, **kwds)\n",
      "  File \"/Users/chriddyp/Repos/venvpy27/bin/../lib/python2.7/_abcoll.py\", line 568, in update\n",
      "    for key, value in other:\n",
      "ValueError: need more than 1 value to unpack\n",
      "\n",
      "_posts/r/labels/2015-04-09-styling-names.html\n",
      "Traceback (most recent call last):\n",
      "  File \"<ipython-input-59-9737240ef935>\", line 11, in <module>\n",
      "    post = Post(full_fn)\n",
      "  File \"<ipython-input-49-f555a6495329>\", line 8, in __init__\n",
      "    self.front_matter_vars = OrderedDict([v.split(': ') for v in [line for line in front_matter_lines]])\n",
      "  File \"/Library/Frameworks/Python.framework/Versions/2.7/lib/python2.7/collections.py\", line 57, in __init__\n",
      "    self.__update(*args, **kwds)\n",
      "  File \"/Users/chriddyp/Repos/venvpy27/bin/../lib/python2.7/_abcoll.py\", line 568, in update\n",
      "    for key, value in other:\n",
      "ValueError: need more than 1 value to unpack\n",
      "\n"
     ]
    }
   ],
   "source": [
    "import traceback\n",
    "for root, dirs, filenames in os.walk('_posts'):\n",
    "    for fn in filenames:\n",
    "        if fn == '.DS_Store' or fn[-1] == '~' or 'index.html' in fn or '.ipynb' in fn:\n",
    "            continue\n",
    "        if 'user_guide' in root:\n",
    "            continue\n",
    "        else:\n",
    "            full_fn = root + '/' + fn\n",
    "            try:\n",
    "                post = Post(full_fn)\n",
    "            except:\n",
    "                print full_fn\n",
    "                print traceback.format_exc()\n",
    "            else:\n",
    "                post.front_matter_vars = OrderedDict((k, v) for k, v in post.front_matter_vars.items() + [('sitemap', 'false')])\n",
    "                post.write(full_fn)"
   ]
  },
  {
   "cell_type": "code",
   "execution_count": 36,
   "metadata": {
    "collapsed": false
   },
   "outputs": [
    {
     "name": "stdout",
     "output_type": "stream",
     "text": [
      "---\n",
      "asdf: fdsa\n",
      "dksksks: bbbbbb\n",
      "---\n",
      "asdfasdf\n",
      "asdfasdf\n"
     ]
    }
   ],
   "source": [
    "s = '---\\nasdf: fdsa\\ndksksks: bbbbbb\\n---\\nasdfasdf\\nasdfasdf'\n",
    "print s"
   ]
  },
  {
   "cell_type": "code",
   "execution_count": 37,
   "metadata": {
    "collapsed": false
   },
   "outputs": [
    {
     "data": {
      "text/plain": [
       "['', '\\nasdf: fdsa\\ndksksks: bbbbbb\\n', '\\nasdfasdf\\nasdfasdf']"
      ]
     },
     "execution_count": 37,
     "metadata": {},
     "output_type": "execute_result"
    }
   ],
   "source": [
    "s.split('---')"
   ]
  },
  {
   "cell_type": "code",
   "execution_count": 14,
   "metadata": {
    "collapsed": false
   },
   "outputs": [
    {
     "data": {
      "text/plain": [
       "0"
      ]
     },
     "execution_count": 14,
     "metadata": {},
     "output_type": "execute_result"
    }
   ],
   "source": [
    "s.index('---')"
   ]
  },
  {
   "cell_type": "code",
   "execution_count": 26,
   "metadata": {
    "collapsed": false
   },
   "outputs": [
    {
     "data": {
      "text/plain": [
       "['asdf: fdsa', 'dksksks: bbbbbb']"
      ]
     },
     "execution_count": 26,
     "metadata": {},
     "output_type": "execute_result"
    }
   ],
   "source": [
    "front_matter_vars = OrderedDict()\n",
    "for line in front_matter_lines:\n",
    "    front_matter_vars"
   ]
  },
  {
   "cell_type": "code",
   "execution_count": 29,
   "metadata": {
    "collapsed": false
   },
   "outputs": [
    {
     "data": {
      "text/plain": [
       "['asdf: fdsa', 'dksksks: bbbbbb']"
      ]
     },
     "execution_count": 29,
     "metadata": {},
     "output_type": "execute_result"
    }
   ],
   "source": []
  },
  {
   "cell_type": "code",
   "execution_count": 21,
   "metadata": {
    "collapsed": false
   },
   "outputs": [
    {
     "ename": "SyntaxError",
     "evalue": "invalid syntax (<ipython-input-21-4a8e2ba025f9>, line 1)",
     "output_type": "error",
     "traceback": [
      "\u001b[0;36m  File \u001b[0;32m\"<ipython-input-21-4a8e2ba025f9>\"\u001b[0;36m, line \u001b[0;32m1\u001b[0m\n\u001b[0;31m    {k: v for k, v in var.split(': ') for [var in s.split('---')[1].split('\\n')[1:-1]]}\u001b[0m\n\u001b[0m                                                                                      ^\u001b[0m\n\u001b[0;31mSyntaxError\u001b[0m\u001b[0;31m:\u001b[0m invalid syntax\n"
     ]
    }
   ],
   "source": [
    "{k: v for k, v in var.split(': ') for } "
   ]
  },
  {
   "cell_type": "code",
   "execution_count": 24,
   "metadata": {
    "collapsed": true
   },
   "outputs": [],
   "source": [
    "from collections import OrderedDict"
   ]
  },
  {
   "cell_type": "code",
   "execution_count": 40,
   "metadata": {
    "collapsed": false
   },
   "outputs": [
    {
     "data": {
      "text/plain": [
       "[('asdf', 'fdsa'), ('dksksks', 'bbbbbb'), ('cats', 'dogs')]"
      ]
     },
     "execution_count": 40,
     "metadata": {},
     "output_type": "execute_result"
    }
   ],
   "source": [
    "o.items() + [('cats', 'dogs')]"
   ]
  },
  {
   "cell_type": "code",
   "execution_count": 35,
   "metadata": {
    "collapsed": false
   },
   "outputs": [
    {
     "name": "stdout",
     "output_type": "stream",
     "text": [
      "asdf: fdsa\n",
      "dksksks: bbbbbb\n"
     ]
    }
   ],
   "source": [
    "for k, v in o.iteritems():\n",
    "    print k + ': ' + v"
   ]
  },
  {
   "cell_type": "code",
   "execution_count": null,
   "metadata": {
    "collapsed": true
   },
   "outputs": [],
   "source": []
  }
 ],
 "metadata": {
  "kernelspec": {
   "display_name": "Python 2",
   "language": "python",
   "name": "python2"
  },
  "language_info": {
   "codemirror_mode": {
    "name": "ipython",
    "version": 2
   },
   "file_extension": ".py",
   "mimetype": "text/x-python",
   "name": "python",
   "nbconvert_exporter": "python",
   "pygments_lexer": "ipython2",
   "version": "2.7.10"
  }
 },
 "nbformat": 4,
 "nbformat_minor": 0
}
