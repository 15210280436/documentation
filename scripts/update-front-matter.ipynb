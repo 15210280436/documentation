{
 "cells": [
  {
   "cell_type": "code",
   "execution_count": 1,
   "metadata": {
    "collapsed": true
   },
   "outputs": [],
   "source": [
    "import os"
   ]
  },
  {
   "cell_type": "code",
   "execution_count": 80,
   "metadata": {
    "collapsed": false
   },
   "outputs": [],
   "source": [
    "import fnmatch\n",
    "import os\n",
    "import os.path\n",
    "import re\n",
    "\n",
    "def walknroll(fun):\n",
    "    includes = ['*.html', '*.md', '*.Rmd']\n",
    "    excludes = ['*all_static*', '*_includes*', '*_layouts*', '*_drafts*']\n",
    "\n",
    "    # transform glob patterns to regular expressions\n",
    "    includes = r'|'.join([fnmatch.translate(x) for x in includes])\n",
    "    excludes = r'|'.join([fnmatch.translate(x) for x in excludes]) or r'$.'\n",
    "\n",
    "    for root, dirs, files in os.walk('..'):\n",
    "        # exclude/include files\n",
    "        files = [os.path.join(root, f) for f in files]\n",
    "        files = [f for f in files if not re.match(excludes, f)]\n",
    "        files = [f for f in files if re.match(includes, f)]\n",
    "\n",
    "        for fname in files:\n",
    "            fun(fname)"
   ]
  },
  {
   "cell_type": "code",
   "execution_count": 111,
   "metadata": {
    "collapsed": false
   },
   "outputs": [],
   "source": [
    "from collections import OrderedDict as OD\n",
    "\n",
    "class NotPost(Exception):\n",
    "    pass\n",
    "\n",
    "class Post:\n",
    "    def __init__(self, fn):\n",
    "        self.fn = fn\n",
    "        content = open(fn).read()\n",
    "        if '---' not in content:\n",
    "            raise NotPost\n",
    "        self.fm = content.split('---')[1] # front matter\n",
    "        self.body = content.split('---')[2]\n",
    "        self.fm_vars = OD((l.split(':')[0], l.split(': ')[1]) for l in self.fm.split('\\n') if ': ' in l)\n",
    "    \n",
    "    def _content(self):\n",
    "        return ('---\\n' +\n",
    "            '\\n'.join([k+': '+v for k, v in self.fm_vars.iteritems()]) +\n",
    "            '\\n---' + self.body)\n",
    "\n",
    "    def __str__(self):\n",
    "        return self._content()\n",
    "    \n",
    "    def __repr__(self):\n",
    "        return 'Post(\\'{}\\')'.format(self.fn)\n",
    "    \n",
    "    def save(self):\n",
    "        with open(self.fn, 'w') as f:\n",
    "            f.write(self._content())"
   ]
  },
  {
   "cell_type": "code",
   "execution_count": 127,
   "metadata": {
    "collapsed": false
   },
   "outputs": [],
   "source": [
    "def process_posts(fn):\n",
    "    try:\n",
    "        p = Post(fn)\n",
    "    except NotPost:\n",
    "        pass\n",
    "    except Exception as e:\n",
    "        print fn\n",
    "        raise e\n",
    "    else:\n",
    "        if 'title' in p.fm_vars:\n",
    "            p.fm_vars['title'] = p.fm_vars['title'].replace('\"', '')\n",
    "            p.save()"
   ]
  },
  {
   "cell_type": "code",
   "execution_count": 128,
   "metadata": {
    "collapsed": false
   },
   "outputs": [],
   "source": [
    "walknroll(process_posts)"
   ]
  },
  {
   "cell_type": "code",
   "execution_count": 106,
   "metadata": {
    "collapsed": false
   },
   "outputs": [],
   "source": [
    "p = Post('../_posts/plotly_js/histogram2d/2015-04-09-2d-histogram.html')"
   ]
  },
  {
   "cell_type": "code",
   "execution_count": 107,
   "metadata": {
    "collapsed": false
   },
   "outputs": [
    {
     "data": {
      "text/plain": [
       "Post('../_posts/plotly_js/histogram2d/2015-04-09-2d-histogram.html')"
      ]
     },
     "execution_count": 107,
     "metadata": {},
     "output_type": "execute_result"
    }
   ],
   "source": [
    "p"
   ]
  },
  {
   "cell_type": "code",
   "execution_count": 110,
   "metadata": {
    "collapsed": false
   },
   "outputs": [
    {
     "name": "stdout",
     "output_type": "stream",
     "text": [
      "\n",
      "name: 2D Histogram of a Bivariate Normal Distribution\n",
      "plot_url: https://plot.ly/~PlotBot/77\n",
      "language: plotly_js\n",
      "suite: histogram2d\n",
      "order: 0\n",
      "sitemap: false\n",
      "\n"
     ]
    }
   ],
   "source": [
    "print p.fm"
   ]
  },
  {
   "cell_type": "code",
   "execution_count": 102,
   "metadata": {
    "collapsed": false
   },
   "outputs": [
    {
     "data": {
      "text/plain": [
       "'python'"
      ]
     },
     "execution_count": 102,
     "metadata": {},
     "output_type": "execute_result"
    }
   ],
   "source": [
    "p.fm_vars.get('language')"
   ]
  },
  {
   "cell_type": "code",
   "execution_count": 22,
   "metadata": {
    "collapsed": false
   },
   "outputs": [],
   "source": [
    "fm = c.split('---')[1]"
   ]
  },
  {
   "cell_type": "code",
   "execution_count": 31,
   "metadata": {
    "collapsed": false
   },
   "outputs": [],
   "source": [
    "from collections import OrderedDict as OD\n",
    "ov = OD((l.split(':')[0], l.split(': ')[1]) for l in fm.split('\\n') if ': ' in l)"
   ]
  },
  {
   "cell_type": "code",
   "execution_count": 33,
   "metadata": {
    "collapsed": false
   },
   "outputs": [
    {
     "name": "stdout",
     "output_type": "stream",
     "text": [
      "name: Rectangle Positioned Relative to the Plot & to the Axes\n",
      "plot_url: https://plot.ly/~neda/4209\n",
      "language: python\n",
      "suite: shape\n",
      "order: 9\n",
      "sitemap: false\n"
     ]
    }
   ],
   "source": [
    "print '\\n'.join([k+': '+v for k, v in ov.iteritems()])"
   ]
  },
  {
   "cell_type": "code",
   "execution_count": 18,
   "metadata": {
    "collapsed": false
   },
   "outputs": [
    {
     "name": "stdout",
     "output_type": "stream",
     "text": [
      "---\n",
      "name: Rectangle Positioned Relative to the Plot & to the Axes\n",
      "plot_url: https://plot.ly/~neda/4209\n",
      "language: python\n",
      "suite: shape\n",
      "order: 9\n",
      "sitemap: false\n",
      "---\n",
      "import plotly.plotly as py\n",
      "from plotly.graph_objs import *\n",
      "\n",
      "trace0 = Scatter(\n",
      "    x=[1.5, 3],\n",
      "    y=[2.5, 2.5],\n",
      "    text=['Rectangle</br>reference to the plot', 'Rectangle</br>reference to the axes'],\n",
      "    mode='text',\n",
      ")\n",
      "data = Data([trace0])\n",
      "layout = {\n",
      "    'xaxis': {\n",
      "        'range': [0, 4],\n",
      "        'showgrid': False,\n",
      "    },\n",
      "    'yaxis': {\n",
      "        'range': [0, 4]\n",
      "    },\n",
      "    'width': 600,\n",
      "    'height': 600,\n",
      "    'shapes': [\n",
      "        # Rectangle reference to the axes\n",
      "        {\n",
      "            'type': 'rect',\n",
      "            'xref': 'x',\n",
      "            'yref': 'y',\n",
      "            'x0': 2.5,\n",
      "            'y0': 0,\n",
      "            'x1': 3.5,\n",
      "            'y1': 2,\n",
      "            'line': {\n",
      "                'color': 'rgb(55, 128, 191)',\n",
      "                'width': 3,\n",
      "            },\n",
      "            'fillcolor': 'rgba(55, 128, 191, 0.6)',\n",
      "        },\n",
      "        # Rectangle reference to the plot\n",
      "        {\n",
      "            'type': 'rect',\n",
      "            'xref': 'paper',\n",
      "            'yref': 'paper',\n",
      "            'x0': 0.25,\n",
      "            'y0': 0,\n",
      "            'x1': 0.5,\n",
      "            'y1': 0.5,\n",
      "            'line': {\n",
      "                'color': 'rgb(50, 171, 96)',\n",
      "                'width': 3,\n",
      "            },\n",
      "            'fillcolor': 'rgba(50, 171, 96, 0.6)',\n",
      "        },\n",
      "    ]\n",
      "}\n",
      "fig = {\n",
      "    'data': data,\n",
      "    'layout': layout,\n",
      "}\n",
      "plot_url = py.plot(fig, validate=False, filename='shapes-rectangle-ref')\n",
      "\n"
     ]
    }
   ],
   "source": [
    "print open('../_posts/python/shapes/2015-06-17-shape-rect-ref.html').read()"
   ]
  },
  {
   "cell_type": "code",
   "execution_count": null,
   "metadata": {
    "collapsed": true
   },
   "outputs": [],
   "source": []
  },
  {
   "cell_type": "code",
   "execution_count": null,
   "metadata": {
    "collapsed": true
   },
   "outputs": [],
   "source": []
  },
  {
   "cell_type": "code",
   "execution_count": null,
   "metadata": {
    "collapsed": true
   },
   "outputs": [],
   "source": []
  }
 ],
 "metadata": {
  "kernelspec": {
   "display_name": "Python 2",
   "language": "python",
   "name": "python2"
  },
  "language_info": {
   "codemirror_mode": {
    "name": "ipython",
    "version": 2
   },
   "file_extension": ".py",
   "mimetype": "text/x-python",
   "name": "python",
   "nbconvert_exporter": "python",
   "pygments_lexer": "ipython2",
   "version": "2.7.10"
  }
 },
 "nbformat": 4,
 "nbformat_minor": 0
}
