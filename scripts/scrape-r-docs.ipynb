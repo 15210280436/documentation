{
 "cells": [
  {
   "cell_type": "code",
   "execution_count": 98,
   "metadata": {
    "collapsed": true
   },
   "outputs": [],
   "source": [
    "with open('../_posts/markdown/layout.R') as f:\n",
    "    docs = f.read()"
   ]
  },
  {
   "cell_type": "code",
   "execution_count": 99,
   "metadata": {
    "collapsed": false
   },
   "outputs": [
    {
     "data": {
      "text/plain": [
       "'plot.ly/r/setting-graph-size/\\n\\nlibrary(plotly)\\nm = list(\\n  l = 50,\\n  r = 50,\\n  b = 100,\\n  t = 100,\\n  pad = 4\\n)\\nplot_ly(x = seq(0, 8), y = seq(0, 8)) %>%\\n  layout(autosize = F, width = 500, height = 500, margin = m)\\n\\n'"
      ]
     },
     "execution_count": 99,
     "metadata": {},
     "output_type": "execute_result"
    }
   ],
   "source": [
    "docs.split('# https://')[1]"
   ]
  },
  {
   "cell_type": "code",
   "execution_count": 37,
   "metadata": {
    "collapsed": true
   },
   "outputs": [],
   "source": [
    "template = '''\n",
    "---\n",
    "title: {title}\n",
    "name: {name}\n",
    "permalink: {url}\n",
    "description: {description}\n",
    "layout: base\n",
    "thumbnail: {thumbnail}\n",
    "language: r\n",
    "page_type: example_index\n",
    "has_thumbnail: false\n",
    "display_as: {display_as}\n",
    "---\n",
    "\n",
    "```{{r, echo = FALSE, message=FALSE}}\n",
    "knitr::opts_chunk$set(message = FALSE)\n",
    "Sys.setenv(\"plotly_username\"=\"RPlotBot\")\n",
    "Sys.setenv(\"plotly_api_key\"=\"q0lz6r5efr\")\n",
    "```\n",
    "# {name}\n",
    "'''\n",
    "\n",
    "example_block = '''\n",
    "\n",
    "{preamble}\n",
    "\n",
    "```{{r, message=FALSE}}\n",
    "{code_block}\n",
    "```\n",
    "\n",
    "'''\n"
   ]
  },
  {
   "cell_type": "code",
   "execution_count": 38,
   "metadata": {
    "collapsed": false
   },
   "outputs": [],
   "source": [
    "import re\n",
    "exs = re.split('# (https://plot\\.ly/r/.*)', docs)[1:]"
   ]
  },
  {
   "cell_type": "code",
   "execution_count": 97,
   "metadata": {
    "collapsed": false
   },
   "outputs": [
    {
     "name": "stdout",
     "output_type": "stream",
     "text": [
      "3d-line-plots.png does not exist\n",
      "3d-line-plots/\n",
      "## Rscript -e 'knitr::knit(\\/Users/chriddyp/Repos/documentation/_posts/markdown/2015-07-30-3d-line-plots.Rmd\")'\n",
      "3d-scatter-plots.png does not exist\n",
      "3d-scatter-plots/\n",
      "## Rscript -e 'knitr::knit(\\/Users/chriddyp/Repos/documentation/_posts/markdown/2015-07-30-3d-scatter-plots.Rmd\")'\n",
      "3d-surface-plots.png does not exist\n",
      "3d-surface-plots/\n",
      "## Rscript -e 'knitr::knit(\\/Users/chriddyp/Repos/documentation/_posts/markdown/2015-07-30-3d-surface-plots.Rmd\")'\n",
      "filled-area-plots.png does not exist\n",
      "filled-area-plots/\n",
      "## Rscript -e 'knitr::knit(\\/Users/chriddyp/Repos/documentation/_posts/markdown/2015-07-30-filled-area-plots.Rmd\")'\n",
      "bar-charts.png does not exist\n",
      "bar-charts/\n",
      "## Rscript -e 'knitr::knit(\\/Users/chriddyp/Repos/documentation/_posts/markdown/2015-07-30-bar-charts.Rmd\")'\n",
      "box-plots.png does not exist\n",
      "box-plots/\n",
      "## Rscript -e 'knitr::knit(\\/Users/chriddyp/Repos/documentation/_posts/markdown/2015-07-30-box-plots.Rmd\")'\n",
      "bubble-charts.png does not exist\n",
      "bubble-charts/\n",
      "## Rscript -e 'knitr::knit(\\/Users/chriddyp/Repos/documentation/_posts/markdown/2015-07-30-bubble-charts.Rmd\")'\n",
      "contour-plots.png does not exist\n",
      "contour-plots/\n",
      "## Rscript -e 'knitr::knit(\\/Users/chriddyp/Repos/documentation/_posts/markdown/2015-07-30-contour-plots.Rmd\")'\n",
      "error-bars.png does not exist\n",
      "error-bars/\n",
      "## Rscript -e 'knitr::knit(\\/Users/chriddyp/Repos/documentation/_posts/markdown/2015-07-30-error-bars.Rmd\")'\n",
      "heatmaps.png does not exist\n",
      "heatmaps/\n",
      "## Rscript -e 'knitr::knit(\\/Users/chriddyp/Repos/documentation/_posts/markdown/2015-07-30-heatmaps.Rmd\")'\n",
      "2D-Histogram.png does not exist\n",
      "2D-Histogram/\n",
      "## Rscript -e 'knitr::knit(\\/Users/chriddyp/Repos/documentation/_posts/markdown/2015-07-30-2D-Histogram.Rmd\")'\n",
      "histograms.png does not exist\n",
      "histograms/\n",
      "## Rscript -e 'knitr::knit(\\/Users/chriddyp/Repos/documentation/_posts/markdown/2015-07-30-histograms.Rmd\")'\n",
      "line-and-scatter.png does not exist\n",
      "line-and-scatter/\n",
      "## Rscript -e 'knitr::knit(\\/Users/chriddyp/Repos/documentation/_posts/markdown/2015-07-30-line-and-scatter.Rmd\")'\n",
      "log-plot.png does not exist\n",
      "log-plot/\n",
      "## Rscript -e 'knitr::knit(\\/Users/chriddyp/Repos/documentation/_posts/markdown/2015-07-30-log-plot.Rmd\")'\n",
      "graphing-multiple-chart-types.png does not exist\n",
      "graphing-multiple-chart-types/\n",
      "## Rscript -e 'knitr::knit(\\/Users/chriddyp/Repos/documentation/_posts/markdown/2015-07-30-graphing-multiple-chart-types.Rmd\")'\n",
      "polar-chart.png does not exist\n",
      "polar-chart/\n",
      "## Rscript -e 'knitr::knit(\\/Users/chriddyp/Repos/documentation/_posts/markdown/2015-07-30-polar-chart.Rmd\")'\n",
      "time-series.png does not exist\n",
      "time-series/\n",
      "## Rscript -e 'knitr::knit(\\/Users/chriddyp/Repos/documentation/_posts/markdown/2015-07-30-time-series.Rmd\")'\n",
      "map-subplots-and-small-multiples (new)------.png does not exist\n",
      "map-subplots-and-small-multiples/ (new)------\n",
      "## Rscript -e 'knitr::knit(\\/Users/chriddyp/Repos/documentation/_posts/markdown/2015-07-30-map-subplots-and-small-multiples (new)------.Rmd\")'\n",
      "mv: rename /Users/chriddyp/Repos/documentation/scripts/*md to /Users/chriddyp/Repos/documentation/_posts/markdown/*md: No such file or directory\n"
     ]
    }
   ],
   "source": [
    "import os.path\n",
    "for i in range(0, len(exs)-1, 2):\n",
    "    relative_url = exs[i].split('https://plot.ly/r/')[1]\n",
    "    url = 'r1/{}'.format(relative_url)\n",
    "    name = relative_url.replace('-', ' ').replace('/', '')\n",
    "    title = name.title()\n",
    "    name = title\n",
    "    description = 'How to create {} in R.'.format(relative_url.replace('-', ' '))\n",
    "    thumbnail = '{}.png'.format(relative_url.replace('/',''))\n",
    "    display_as = 'chart_type'\n",
    "        \n",
    "    code_block = exs[i+1]\n",
    "    code_block = code_block.replace(\"#'\", '###')\n",
    "\n",
    "    example = template.format(\n",
    "        title=title,\n",
    "        name=name,\n",
    "        url=url.lower(),\n",
    "        description=description,\n",
    "        thumbnail=thumbnail,\n",
    "        display_as=display_as,\n",
    "        code_block=code_block\n",
    "    )\n",
    "    \n",
    "    if example[0] == '\\n':\n",
    "        example = example[1:]\n",
    "    \n",
    "    \n",
    "    \n",
    "    print relative_url\n",
    "    filename = '/Users/chriddyp/Repos/documentation/_posts/markdown/2015-07-30-{}.Rmd'.format(relative_url.replace('/', ''))\n",
    "    with open(filename, 'w') as f:\n",
    "        f.write(example)\n",
    "        print \"## Rscript -e 'knitr::knit(\\{}\\\")'\".format(filename)\n",
    "        \n",
    "! mv /Users/chriddyp/Repos/documentation/scripts/*md /Users/chriddyp/Repos/documentation/_posts/markdown/"
   ]
  },
  {
   "cell_type": "code",
   "execution_count": null,
   "metadata": {
    "collapsed": true
   },
   "outputs": [],
   "source": []
  },
  {
   "cell_type": "code",
   "execution_count": 96,
   "metadata": {
    "collapsed": false
   },
   "outputs": [
    {
     "name": "stdout",
     "output_type": "stream",
     "text": [
      "mv: rename /Users/chriddyp/Repos/documentation/scripts/*md to /Users/chriddyp/Repos/documentation/_posts/markdown/*md: No such file or directory\r\n"
     ]
    }
   ],
   "source": [
    "! mv /Users/chriddyp/Repos/documentation/scripts/*md /Users/chriddyp/Repos/documentation/_posts/markdown/"
   ]
  },
  {
   "cell_type": "code",
   "execution_count": 93,
   "metadata": {
    "collapsed": false
   },
   "outputs": [
    {
     "name": "stdout",
     "output_type": "stream",
     "text": [
      "\n",
      "\n",
      "library(plotly)\n",
      "#' basic boxplot\n",
      "plot_ly(y = rnorm(50), type = \"box\") %>%\n",
      "  add_trace(y = rnorm(50, 1))\n",
      "#' adding jittered points\n",
      "plot_ly(y = rnorm(50), type = \"box\", boxpoints = \"all\", jitter = 0.3,\n",
      "        pointpos = -1.8)\n",
      "#' several box plots\n",
      "plot_ly(ggplot2::diamonds, y = price, color = cut, type = \"box\")\n",
      "\n",
      "#' grouped box plots\n",
      "plot_ly(ggplot2::diamonds, x = cut, y = price, color = clarity, type = \"box\") %>%\n",
      "  layout(boxmode = \"group\")\n",
      "\n",
      "\n"
     ]
    }
   ],
   "source": [
    "print exs[11]"
   ]
  },
  {
   "cell_type": "code",
   "execution_count": null,
   "metadata": {
    "collapsed": true
   },
   "outputs": [],
   "source": []
  }
 ],
 "metadata": {
  "kernelspec": {
   "display_name": "Python 2",
   "language": "python",
   "name": "python2"
  },
  "language_info": {
   "codemirror_mode": {
    "name": "ipython",
    "version": 2
   },
   "file_extension": ".py",
   "mimetype": "text/x-python",
   "name": "python",
   "nbconvert_exporter": "python",
   "pygments_lexer": "ipython2",
   "version": "2.7.10"
  }
 },
 "nbformat": 4,
 "nbformat_minor": 0
}
