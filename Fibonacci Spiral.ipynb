{
 "cells": [
  {
   "cell_type": "code",
   "execution_count": 9,
   "metadata": {
    "collapsed": false
   },
   "outputs": [
    {
     "data": {
      "text/html": [
       "<iframe id=\"igraph\" scrolling=\"no\" style=\"border:none;\"seamless=\"seamless\" src=\"https://plot.ly/~jackp/9445.embed\" height=\"525\" width=\"100%\"></iframe>"
      ],
      "text/plain": [
       "<plotly.tools.PlotlyDisplay object>"
      ]
     },
     "execution_count": 9,
     "metadata": {},
     "output_type": "execute_result"
    }
   ],
   "source": [
    "import plotly.plotly as py\n",
    "from plotly.graph_objs import *\n",
    "\n",
    "from numpy import *\n",
    "\n",
    "# Golden spiral with fibonacci rectangles\n",
    "\n",
    "# Build the spiral\n",
    "def spiral(th):\n",
    "    a = 1.120529\n",
    "    b = 0.306349 \n",
    "    r = a*exp(-b*th)\n",
    "    return (r*cos(th), r*sin(th))\n",
    "\n",
    "nspiral = 2 # number of spiral loops\n",
    "\n",
    "th = linspace(-pi/13,2*pi*nspiral,1000); # angle\n",
    "(x,y) = spiral(th)\n",
    "\n",
    "# shift the spiral north so that it is centered\n",
    "yshift = (1.6 - (max(y)-min(y)))/2\n",
    "\n",
    "spiral = Scatter(\n",
    "    x = -x+x[0], \n",
    "    y = y-y[0]+yshift, \n",
    "    line = Line(\n",
    "        color = 'white',\n",
    "        width = 3\n",
    "    )\n",
    ")\n",
    "\n",
    "## Build the rectangles as a heatmap\n",
    "# specify the edges of the heatmap squares\n",
    "phi = ( 1+sqrt(5) )/2.\n",
    "xe = [0, 1, 1+(1/(phi**4)), 1+(1/(phi**3)), phi]    \n",
    "ye = [0, 1/(phi**3),1/phi**3+1/phi**4,1/(phi**2),1]\n",
    "\n",
    "z = [ [13,3,3,5],\n",
    "      [13,2,1,5],\n",
    "      [13,10,11,12],\n",
    "      [13,8,8,8]\n",
    "    ]\n",
    "\n",
    "heatmap = Heatmap(\n",
    "    x = sort(xe), \n",
    "    y = sort(ye)+yshift, \n",
    "    z = z, \n",
    "    scl = 'Portland'\n",
    ")\n",
    "\n",
    "axis_template = dict(\n",
    "    range = [0,1.6],\n",
    "    autorange = False,\n",
    "    showgrid = False,\n",
    "    zeroline = False,\n",
    "    showticklabels = False,\n",
    "    ticks = ''\n",
    ")\n",
    "\n",
    "layout = Layout(\n",
    "    margin = dict(t=200,r=200,b=200,l=200),\n",
    "    showlegend = False,\n",
    "    width = 700,\n",
    "    height = 700,\n",
    "    autosize = False,\n",
    "    xaxis = axis_template,\n",
    "    yaxis = axis_template\n",
    ")\n",
    "\n",
    "figure = Figure( data=[spiral, heatmap],layout=layout )\n",
    "py.iplot( figure, filename='fibonacci spiral' )"
   ]
  },
  {
   "cell_type": "code",
   "execution_count": null,
   "metadata": {
    "collapsed": true
   },
   "outputs": [],
   "source": []
  }
 ],
 "metadata": {
  "kernelspec": {
   "display_name": "Python 2",
   "language": "python",
   "name": "python2"
  },
  "language_info": {
   "codemirror_mode": {
    "name": "ipython",
    "version": 2
   },
   "file_extension": ".py",
   "mimetype": "text/x-python",
   "name": "python",
   "nbconvert_exporter": "python",
   "pygments_lexer": "ipython2",
   "version": "2.7.10"
  }
 },
 "nbformat": 4,
 "nbformat_minor": 0
}
