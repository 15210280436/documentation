{
 "cells": [
  {
   "cell_type": "code",
   "execution_count": 34,
   "metadata": {
    "collapsed": false,
    "scrolled": false
   },
   "outputs": [
    {
     "data": {
      "text/html": [
       "<iframe id=\"igraph\" scrolling=\"no\" style=\"border:none;\"seamless=\"seamless\" src=\"https://plot.ly/~jackp/9439.embed\" height=\"525\" width=\"100%\"></iframe>"
      ],
      "text/plain": [
       "<plotly.tools.PlotlyDisplay object>"
      ]
     },
     "execution_count": 34,
     "metadata": {},
     "output_type": "execute_result"
    }
   ],
   "source": [
    "import plotly.plotly as py\n",
    "from plotly.graph_objs import *\n",
    "\n",
    "# Constuct Cholesky Decomposition of Covariance Matrix\n",
    "import numpy as np\n",
    "import math\n",
    "num_evals = 40\n",
    "l = 15.0\n",
    "a = np.zeros((num_evals,num_evals))\n",
    "x = range(0,num_evals)\n",
    "for i in x:\n",
    "    for j in range (i,num_evals):\n",
    "        a[i][j] = math.exp(-((i-j)/l)**2)\n",
    "        a[j][i] = a[i][j]\n",
    "    a[i][i] += 0.0001 # special sauce\n",
    "cc = np.linalg.cholesky(a).T\n",
    "\n",
    "data = [ \n",
    "    dict(type= 'scatter',\n",
    "        mode = 'lines',\n",
    "        x = x, y = cc[i], \n",
    "        showlegend = False\n",
    "    ) for i in x ]\n",
    "\n",
    "layout = \n",
    "py.iplot( data, validate=False, filename='cholesky-decomposition'  )"
   ]
  },
  {
   "cell_type": "code",
   "execution_count": null,
   "metadata": {
    "collapsed": true
   },
   "outputs": [],
   "source": []
  }
 ],
 "metadata": {
  "kernelspec": {
   "display_name": "Python 2",
   "language": "python",
   "name": "python2"
  },
  "language_info": {
   "codemirror_mode": {
    "name": "ipython",
    "version": 2
   },
   "file_extension": ".py",
   "mimetype": "text/x-python",
   "name": "python",
   "nbconvert_exporter": "python",
   "pygments_lexer": "ipython2",
   "version": "2.7.10"
  }
 },
 "nbformat": 4,
 "nbformat_minor": 0
}
