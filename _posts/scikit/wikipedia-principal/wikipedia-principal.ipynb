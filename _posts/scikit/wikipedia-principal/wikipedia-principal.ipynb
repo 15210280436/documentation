{
 "cells": [
  {
   "cell_type": "markdown",
   "metadata": {},
   "source": [
    "A classical way to assert the relative importance of vertices in a graph is to compute the principal eigenvector of the adjacency matrix so as to assign to each vertex the values of the components of the first eigenvector as a centrality score:\n",
    "\n",
    "https://en.wikipedia.org/wiki/Eigenvector_centrality\n",
    "\n",
    "On the graph of webpages and links those values are called the PageRank scores by Google.\n",
    "The goal of this example is to analyze the graph of links inside wikipedia articles to rank articles by relative importance according to this eigenvector centrality.\n",
    "The traditional way to compute the principal eigenvector is to use the power iteration method:\n",
    "\n",
    "https://en.wikipedia.org/wiki/Power_iteration\n",
    "\n",
    "Here the computation is achieved thanks to Martinsson’s Randomized SVD algorithm implemented in the scikit.\n",
    "The graph data is fetched from the DBpedia dumps. DBpedia is an extraction of the latent structured data of the Wikipedia content."
   ]
  },
  {
   "cell_type": "markdown",
   "metadata": {},
   "source": [
    "#### New to Plotly?\n",
    "Plotly's Python library is free and open source! [Get started](https://plot.ly/python/getting-started/) by downloading the client and [reading the primer](https://plot.ly/python/getting-started/).\n",
    "<br>You can set up Plotly to work in [online](https://plot.ly/python/getting-started/#initialization-for-online-plotting) or [offline](https://plot.ly/python/getting-started/#initialization-for-offline-plotting) mode, or in [jupyter notebooks](https://plot.ly/python/getting-started/#start-plotting-online).\n",
    "<br>We also have a quick-reference [cheatsheet](https://images.plot.ly/plotly-documentation/images/python_cheat_sheet.pdf) (new!) to help you get started!"
   ]
  },
  {
   "cell_type": "markdown",
   "metadata": {},
   "source": [
    "### Version"
   ]
  },
  {
   "cell_type": "code",
   "execution_count": 1,
   "metadata": {
    "collapsed": false
   },
   "outputs": [
    {
     "data": {
      "text/plain": [
       "'0.18'"
      ]
     },
     "execution_count": 1,
     "metadata": {},
     "output_type": "execute_result"
    }
   ],
   "source": [
    "import sklearn\n",
    "sklearn.__version__"
   ]
  },
  {
   "cell_type": "markdown",
   "metadata": {},
   "source": [
    "### Imports"
   ]
  },
  {
   "cell_type": "code",
   "execution_count": 2,
   "metadata": {
    "collapsed": false
   },
   "outputs": [
    {
     "name": "stdout",
     "output_type": "stream",
     "text": [
      "Automatically created module for IPython interactive environment\n"
     ]
    }
   ],
   "source": [
    "from __future__ import print_function\n",
    "\n",
    "from bz2 import BZ2File\n",
    "import os\n",
    "from datetime import datetime\n",
    "from pprint import pprint\n",
    "from time import time\n",
    "\n",
    "import numpy as np\n",
    "\n",
    "from scipy import sparse\n",
    "\n",
    "from sklearn.decomposition import randomized_svd\n",
    "from sklearn.externals.joblib import Memory\n",
    "from sklearn.externals.six.moves.urllib.request import urlopen\n",
    "from sklearn.externals.six import iteritems\n",
    "\n",
    "\n",
    "print(__doc__)"
   ]
  },
  {
   "cell_type": "markdown",
   "metadata": {},
   "source": [
    "### Calculations"
   ]
  },
  {
   "cell_type": "markdown",
   "metadata": {},
   "source": [
    "Where to download the data, if not already on disk"
   ]
  },
  {
   "cell_type": "code",
   "execution_count": 3,
   "metadata": {
    "collapsed": false
   },
   "outputs": [],
   "source": [
    "redirects_url = \"http://downloads.dbpedia.org/3.5.1/en/redirects_en.nt.bz2\"\n",
    "redirects_filename = redirects_url.rsplit(\"/\", 1)[1]\n",
    "\n",
    "page_links_url = \"http://downloads.dbpedia.org/3.5.1/en/page_links_en.nt.bz2\"\n",
    "page_links_filename = page_links_url.rsplit(\"/\", 1)[1]\n",
    "\n",
    "resources = [\n",
    "    (redirects_url, redirects_filename),\n",
    "    (page_links_url, page_links_filename),\n",
    "]\n",
    "\n",
    "for url, filename in resources:\n",
    "    if not os.path.exists(filename):\n",
    "        print(\"Downloading data from '%s', please wait...\" % url)\n",
    "        opener = urlopen(url)\n",
    "        open(filename, 'wb').write(opener.read())\n",
    "        print()"
   ]
  },
  {
   "cell_type": "markdown",
   "metadata": {},
   "source": [
    "Loading the redirect files"
   ]
  },
  {
   "cell_type": "code",
   "execution_count": 4,
   "metadata": {
    "collapsed": false
   },
   "outputs": [
    {
     "name": "stdout",
     "output_type": "stream",
     "text": [
      "Computing the redirect map\n",
      "Parsing the NT redirect file\n",
      "[2016-11-02T22:24:03.208877] line: 00000000\n",
      "[2016-11-02T22:24:13.234477] line: 01000000\n",
      "[2016-11-02T22:24:22.493282] line: 02000000\n",
      "[2016-11-02T22:24:31.276722] line: 03000000\n",
      "[2016-11-02T22:24:39.636346] line: 04000000\n",
      "Computing the transitive closure of the redirect relation\n",
      "[2016-11-02T22:24:40.479710] line: 00000000\n",
      "[2016-11-02T22:24:41.593097] line: 01000000\n",
      "[2016-11-02T22:24:42.719773] line: 02000000\n",
      "[2016-11-02T22:24:43.844900] line: 03000000\n",
      "[2016-11-02T22:24:45.164806] line: 04000000\n",
      "Computing the integer index map\n"
     ]
    },
    {
     "ename": "EOFError",
     "evalue": "compressed file ended before the logical end-of-stream was detected",
     "output_type": "error",
     "traceback": [
      "\u001b[1;31m---------------------------------------------------------------------------\u001b[0m",
      "\u001b[1;31mEOFError\u001b[0m                                  Traceback (most recent call last)",
      "\u001b[1;32m<ipython-input-4-5ff1ae1b0294>\u001b[0m in \u001b[0;36m<module>\u001b[1;34m()\u001b[0m\n\u001b[0;32m     94\u001b[0m \u001b[1;31m# stop after 5M links to make it possible to work in RAM\u001b[0m\u001b[1;33m\u001b[0m\u001b[1;33m\u001b[0m\u001b[0m\n\u001b[0;32m     95\u001b[0m X, redirects, index_map = get_adjacency_matrix(\n\u001b[1;32m---> 96\u001b[1;33m     redirects_filename, page_links_filename, limit=5000000)\n\u001b[0m\u001b[0;32m     97\u001b[0m \u001b[0mnames\u001b[0m \u001b[1;33m=\u001b[0m \u001b[0mdict\u001b[0m\u001b[1;33m(\u001b[0m\u001b[1;33m(\u001b[0m\u001b[0mi\u001b[0m\u001b[1;33m,\u001b[0m \u001b[0mname\u001b[0m\u001b[1;33m)\u001b[0m \u001b[1;32mfor\u001b[0m \u001b[0mname\u001b[0m\u001b[1;33m,\u001b[0m \u001b[0mi\u001b[0m \u001b[1;32min\u001b[0m \u001b[0miteritems\u001b[0m\u001b[1;33m(\u001b[0m\u001b[0mindex_map\u001b[0m\u001b[1;33m)\u001b[0m\u001b[1;33m)\u001b[0m\u001b[1;33m\u001b[0m\u001b[0m\n\u001b[0;32m     98\u001b[0m \u001b[1;33m\u001b[0m\u001b[0m\n",
      "\u001b[1;32m<ipython-input-4-5ff1ae1b0294>\u001b[0m in \u001b[0;36mget_adjacency_matrix\u001b[1;34m(redirects_filename, page_links_filename, limit)\u001b[0m\n\u001b[0;32m     67\u001b[0m     \u001b[0mindex_map\u001b[0m \u001b[1;33m=\u001b[0m \u001b[0mdict\u001b[0m\u001b[1;33m(\u001b[0m\u001b[1;33m)\u001b[0m\u001b[1;33m\u001b[0m\u001b[0m\n\u001b[0;32m     68\u001b[0m     \u001b[0mlinks\u001b[0m \u001b[1;33m=\u001b[0m \u001b[0mlist\u001b[0m\u001b[1;33m(\u001b[0m\u001b[1;33m)\u001b[0m\u001b[1;33m\u001b[0m\u001b[0m\n\u001b[1;32m---> 69\u001b[1;33m     \u001b[1;32mfor\u001b[0m \u001b[0ml\u001b[0m\u001b[1;33m,\u001b[0m \u001b[0mline\u001b[0m \u001b[1;32min\u001b[0m \u001b[0menumerate\u001b[0m\u001b[1;33m(\u001b[0m\u001b[0mBZ2File\u001b[0m\u001b[1;33m(\u001b[0m\u001b[0mpage_links_filename\u001b[0m\u001b[1;33m)\u001b[0m\u001b[1;33m)\u001b[0m\u001b[1;33m:\u001b[0m\u001b[1;33m\u001b[0m\u001b[0m\n\u001b[0m\u001b[0;32m     70\u001b[0m         \u001b[0msplit\u001b[0m \u001b[1;33m=\u001b[0m \u001b[0mline\u001b[0m\u001b[1;33m.\u001b[0m\u001b[0msplit\u001b[0m\u001b[1;33m(\u001b[0m\u001b[1;33m)\u001b[0m\u001b[1;33m\u001b[0m\u001b[0m\n\u001b[0;32m     71\u001b[0m         \u001b[1;32mif\u001b[0m \u001b[0mlen\u001b[0m\u001b[1;33m(\u001b[0m\u001b[0msplit\u001b[0m\u001b[1;33m)\u001b[0m \u001b[1;33m!=\u001b[0m \u001b[1;36m4\u001b[0m\u001b[1;33m:\u001b[0m\u001b[1;33m\u001b[0m\u001b[0m\n",
      "\u001b[1;31mEOFError\u001b[0m: compressed file ended before the logical end-of-stream was detected"
     ]
    }
   ],
   "source": [
    "memory = Memory(cachedir=\".\")\n",
    "\n",
    "\n",
    "def index(redirects, index_map, k):\n",
    "    \"\"\"Find the index of an article name after redirect resolution\"\"\"\n",
    "    k = redirects.get(k, k)\n",
    "    return index_map.setdefault(k, len(index_map))\n",
    "\n",
    "\n",
    "DBPEDIA_RESOURCE_PREFIX_LEN = len(\"http://dbpedia.org/resource/\")\n",
    "SHORTNAME_SLICE = slice(DBPEDIA_RESOURCE_PREFIX_LEN + 1, -1)\n",
    "\n",
    "\n",
    "def short_name(nt_uri):\n",
    "    \"\"\"Remove the < and > URI markers and the common URI prefix\"\"\"\n",
    "    return nt_uri[SHORTNAME_SLICE]\n",
    "\n",
    "\n",
    "def get_redirects(redirects_filename):\n",
    "    \"\"\"Parse the redirections and build a transitively closed map out of it\"\"\"\n",
    "    redirects = {}\n",
    "    print(\"Parsing the NT redirect file\")\n",
    "    for l, line in enumerate(BZ2File(redirects_filename)):\n",
    "        split = line.split()\n",
    "        if len(split) != 4:\n",
    "            print(\"ignoring malformed line: \" + line)\n",
    "            continue\n",
    "        redirects[short_name(split[0])] = short_name(split[2])\n",
    "        if l % 1000000 == 0:\n",
    "            print(\"[%s] line: %08d\" % (datetime.now().isoformat(), l))\n",
    "\n",
    "    # compute the transitive closure\n",
    "    print(\"Computing the transitive closure of the redirect relation\")\n",
    "    for l, source in enumerate(redirects.keys()):\n",
    "        transitive_target = None\n",
    "        target = redirects[source]\n",
    "        seen = set([source])\n",
    "        while True:\n",
    "            transitive_target = target\n",
    "            target = redirects.get(target)\n",
    "            if target is None or target in seen:\n",
    "                break\n",
    "            seen.add(target)\n",
    "        redirects[source] = transitive_target\n",
    "        if l % 1000000 == 0:\n",
    "            print(\"[%s] line: %08d\" % (datetime.now().isoformat(), l))\n",
    "\n",
    "    return redirects\n",
    "\n",
    "\n",
    "# disabling joblib as the pickling of large dicts seems much too slow\n",
    "#@memory.cache\n",
    "def get_adjacency_matrix(redirects_filename, page_links_filename, limit=None):\n",
    "    \"\"\"Extract the adjacency graph as a scipy sparse matrix\n",
    "\n",
    "    Redirects are resolved first.\n",
    "\n",
    "    Returns X, the scipy sparse adjacency matrix, redirects as python\n",
    "    dict from article names to article names and index_map a python dict\n",
    "    from article names to python int (article indexes).\n",
    "    \"\"\"\n",
    "\n",
    "    print(\"Computing the redirect map\")\n",
    "    redirects = get_redirects(redirects_filename)\n",
    "\n",
    "    print(\"Computing the integer index map\")\n",
    "    index_map = dict()\n",
    "    links = list()\n",
    "    for l, line in enumerate(BZ2File(page_links_filename)):\n",
    "        split = line.split()\n",
    "        if len(split) != 4:\n",
    "            print(\"ignoring malformed line: \" + line)\n",
    "            continue\n",
    "        i = index(redirects, index_map, short_name(split[0]))\n",
    "        j = index(redirects, index_map, short_name(split[2]))\n",
    "        links.append((i, j))\n",
    "        if l % 1000000 == 0:\n",
    "            print(\"[%s] line: %08d\" % (datetime.now().isoformat(), l))\n",
    "\n",
    "        if limit is not None and l >= limit - 1:\n",
    "            break\n",
    "\n",
    "    print(\"Computing the adjacency matrix\")\n",
    "    X = sparse.lil_matrix((len(index_map), len(index_map)), dtype=np.float32)\n",
    "    for i, j in links:\n",
    "        X[i, j] = 1.0\n",
    "    del links\n",
    "    print(\"Converting to CSR representation\")\n",
    "    X = X.tocsr()\n",
    "    print(\"CSR conversion done\")\n",
    "    return X, redirects, index_map\n",
    "\n",
    "\n",
    "# stop after 5M links to make it possible to work in RAM\n",
    "X, redirects, index_map = get_adjacency_matrix(\n",
    "    redirects_filename, page_links_filename, limit=5000000)\n",
    "names = dict((i, name) for name, i in iteritems(index_map))\n",
    "\n",
    "print(\"Computing the principal singular vectors using randomized_svd\")\n",
    "t0 = time()\n",
    "U, s, V = randomized_svd(X, 5, n_iter=3)\n",
    "print(\"done in %0.3fs\" % (time() - t0))\n",
    "\n",
    "# print the names of the wikipedia related strongest components of the\n",
    "# principal singular vector which should be similar to the highest eigenvector\n",
    "print(\"Top wikipedia pages according to principal singular vectors\")\n",
    "pprint([names[i] for i in np.abs(U.T[0]).argsort()[-10:]])\n",
    "pprint([names[i] for i in np.abs(V[0]).argsort()[-10:]])\n",
    "\n",
    "\n",
    "def centrality_scores(X, alpha=0.85, max_iter=100, tol=1e-10):\n",
    "    \"\"\"Power iteration computation of the principal eigenvector\n",
    "\n",
    "    This method is also known as Google PageRank and the implementation\n",
    "    is based on the one from the NetworkX project (BSD licensed too)\n",
    "    with copyrights by:\n",
    "\n",
    "      Aric Hagberg <hagberg@lanl.gov>\n",
    "      Dan Schult <dschult@colgate.edu>\n",
    "      Pieter Swart <swart@lanl.gov>\n",
    "    \"\"\"\n",
    "    n = X.shape[0]\n",
    "    X = X.copy()\n",
    "    incoming_counts = np.asarray(X.sum(axis=1)).ravel()\n",
    "\n",
    "    print(\"Normalizing the graph\")\n",
    "    for i in incoming_counts.nonzero()[0]:\n",
    "        X.data[X.indptr[i]:X.indptr[i + 1]] *= 1.0 / incoming_counts[i]\n",
    "    dangle = np.asarray(np.where(X.sum(axis=1) == 0, 1.0 / n, 0)).ravel()\n",
    "\n",
    "    scores = np.ones(n, dtype=np.float32) / n  # initial guess\n",
    "    for i in range(max_iter):\n",
    "        print(\"power iteration #%d\" % i)\n",
    "        prev_scores = scores\n",
    "        scores = (alpha * (scores * X + np.dot(dangle, prev_scores))\n",
    "                  + (1 - alpha) * prev_scores.sum() / n)\n",
    "        # check convergence: normalized l_inf norm\n",
    "        scores_max = np.abs(scores).max()\n",
    "        if scores_max == 0.0:\n",
    "            scores_max = 1.0\n",
    "        err = np.abs(scores - prev_scores).max() / scores_max\n",
    "        print(\"error: %0.6f\" % err)\n",
    "        if err < n * tol:\n",
    "            return scores\n",
    "\n",
    "    return scores\n",
    "\n",
    "print(\"Computing principal eigenvector score using a power iteration method\")\n",
    "t0 = time()\n",
    "scores = centrality_scores(X, max_iter=100, tol=1e-10)\n",
    "print(\"done in %0.3fs\" % (time() - t0))\n",
    "pprint([names[i] for i in np.abs(scores).argsort()[-10:]])\n"
   ]
  },
  {
   "cell_type": "markdown",
   "metadata": {},
   "source": [
    "### License\n",
    "\n",
    "Author: \n",
    "        \n",
    "        Olivier Grisel <olivier.grisel@ensta.org>\n",
    "License: \n",
    "\n",
    "        BSD 3 clause"
   ]
  },
  {
   "cell_type": "code",
   "execution_count": 11,
   "metadata": {
    "collapsed": false
   },
   "outputs": [
    {
     "data": {
      "text/html": [
       "<link href=\"//fonts.googleapis.com/css?family=Open+Sans:600,400,300,200|Inconsolata|Ubuntu+Mono:400,700\" rel=\"stylesheet\" type=\"text/css\" />"
      ],
      "text/plain": [
       "<IPython.core.display.HTML object>"
      ]
     },
     "metadata": {},
     "output_type": "display_data"
    },
    {
     "data": {
      "text/html": [
       "<link rel=\"stylesheet\" type=\"text/css\" href=\"http://help.plot.ly/documentation/all_static/css/ipython-notebook-custom.css\">"
      ],
      "text/plain": [
       "<IPython.core.display.HTML object>"
      ]
     },
     "metadata": {},
     "output_type": "display_data"
    },
    {
     "name": "stdout",
     "output_type": "stream",
     "text": [
      "Collecting git+https://github.com/plotly/publisher.git\n",
      "  Cloning https://github.com/plotly/publisher.git to /tmp/pip-awSyT_-build\n",
      "Installing collected packages: publisher\n",
      "  Running setup.py install for publisher ... \u001b[?25l-\b \berror\n",
      "    Complete output from command /usr/bin/python -u -c \"import setuptools, tokenize;__file__='/tmp/pip-awSyT_-build/setup.py';exec(compile(getattr(tokenize, 'open', open)(__file__).read().replace('\\r\\n', '\\n'), __file__, 'exec'))\" install --record /tmp/pip-WNz3CX-record/install-record.txt --single-version-externally-managed --compile:\n",
      "    running install\n",
      "    running build\n",
      "    running build_py\n",
      "    creating build\n",
      "    creating build/lib.linux-x86_64-2.7\n",
      "    creating build/lib.linux-x86_64-2.7/publisher\n",
      "    copying publisher/publisher.py -> build/lib.linux-x86_64-2.7/publisher\n",
      "    copying publisher/__init__.py -> build/lib.linux-x86_64-2.7/publisher\n",
      "    running install_lib\n",
      "    creating /usr/local/lib/python2.7/dist-packages/publisher\n",
      "    error: could not create '/usr/local/lib/python2.7/dist-packages/publisher': Permission denied\n",
      "    \n",
      "    ----------------------------------------\n",
      "\u001b[31mCommand \"/usr/bin/python -u -c \"import setuptools, tokenize;__file__='/tmp/pip-awSyT_-build/setup.py';exec(compile(getattr(tokenize, 'open', open)(__file__).read().replace('\\r\\n', '\\n'), __file__, 'exec'))\" install --record /tmp/pip-WNz3CX-record/install-record.txt --single-version-externally-managed --compile\" failed with error code 1 in /tmp/pip-awSyT_-build/\u001b[0m\n",
      "\u001b[?25h"
     ]
    }
   ],
   "source": [
    "from IPython.display import display, HTML\n",
    "\n",
    "display(HTML('<link href=\"//fonts.googleapis.com/css?family=Open+Sans:600,400,300,200|Inconsolata|Ubuntu+Mono:400,700\" rel=\"stylesheet\" type=\"text/css\" />'))\n",
    "display(HTML('<link rel=\"stylesheet\" type=\"text/css\" href=\"http://help.plot.ly/documentation/all_static/css/ipython-notebook-custom.css\">'))\n",
    "\n",
    "! pip install git+https://github.com/plotly/publisher.git --upgrade\n",
    "import publisher\n",
    "publisher.publish(\n",
    "    'wikipedia-principal.ipynb', 'scikit-learn/wikipedia_principal_eigenvector/', 'Wikipedia Principal Eigenvector | plotly',\n",
    "    '',\n",
    "    title = 'Wikipedia Principal Eigenvector | plotly',\n",
    "    name = 'Wikipedia Principal Eigenvector',\n",
    "    has_thumbnail='true', thumbnail='thumbnail/scikit-default.jpg', \n",
    "    language='scikit-learn', page_type='example_index',\n",
    "    display_as='real_dataset', order=6)  "
   ]
  },
  {
   "cell_type": "code",
   "execution_count": null,
   "metadata": {
    "collapsed": true
   },
   "outputs": [],
   "source": []
  }
 ],
 "metadata": {
  "kernelspec": {
   "display_name": "Python 2",
   "language": "python",
   "name": "python2"
  },
  "language_info": {
   "codemirror_mode": {
    "name": "ipython",
    "version": 2
   },
   "file_extension": ".py",
   "mimetype": "text/x-python",
   "name": "python",
   "nbconvert_exporter": "python",
   "pygments_lexer": "ipython2",
   "version": "2.7.11"
  }
 },
 "nbformat": 4,
 "nbformat_minor": 0
}
