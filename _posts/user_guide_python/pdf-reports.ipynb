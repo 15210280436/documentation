{
 "cells": [
  {
   "cell_type": "code",
   "execution_count": 1,
   "metadata": {
    "collapsed": false
   },
   "outputs": [
    {
     "name": "stdout",
     "output_type": "stream",
     "text": [
      "Collecting xhtml2pdf\n",
      "  Downloading xhtml2pdf-0.0.6.tar.gz (100kB)\n",
      "\u001b[K    100% |████████████████████████████████| 102kB 917kB/s \n",
      "\u001b[?25hRequirement already satisfied (use --upgrade to upgrade): html5lib in /Users/chriddyp/Repos/venvpy27/lib/python2.7/site-packages (from xhtml2pdf)\n",
      "Collecting pyPdf2 (from xhtml2pdf)\n",
      "  Downloading PyPDF2-1.25.1.tar.gz (194kB)\n",
      "\u001b[K    100% |████████████████████████████████| 196kB 853kB/s \n",
      "\u001b[?25hCollecting Pillow (from xhtml2pdf)\n",
      "  Downloading Pillow-2.9.0-cp27-none-macosx_10_6_intel.macosx_10_9_intel.macosx_10_9_x86_64.macosx_10_10_intel.macosx_10_10_x86_64.whl (2.9MB)\n",
      "\u001b[K    100% |████████████████████████████████| 2.9MB 179kB/s \n",
      "\u001b[?25hCollecting reportlab>=2.2 (from xhtml2pdf)\n",
      "  Downloading reportlab-3.2.0.tar.gz (1.9MB)\n",
      "\u001b[K    100% |████████████████████████████████| 1.9MB 237kB/s \n",
      "\u001b[?25hRequirement already satisfied (use --upgrade to upgrade): six in /Users/chriddyp/Repos/venvpy27/lib/python2.7/site-packages (from html5lib->xhtml2pdf)\n",
      "Requirement already satisfied (use --upgrade to upgrade): pip>=1.4.1 in /Users/chriddyp/Repos/venvpy27/lib/python2.7/site-packages (from reportlab>=2.2->xhtml2pdf)\n",
      "Requirement already satisfied (use --upgrade to upgrade): setuptools>=2.2 in /Users/chriddyp/Repos/venvpy27/lib/python2.7/site-packages (from reportlab>=2.2->xhtml2pdf)\n",
      "Building wheels for collected packages: xhtml2pdf, pyPdf2, reportlab\n",
      "  Running setup.py bdist_wheel for xhtml2pdf\n",
      "  Stored in directory: /Users/chriddyp/Library/Caches/pip/wheels/30/29/7d/2a654daefdfc4a22b8db5c40ed5484e0826795156f8db80fab\n",
      "  Running setup.py bdist_wheel for pyPdf2\n",
      "  Stored in directory: /Users/chriddyp/Library/Caches/pip/wheels/fb/dc/59/8509bdf92a52265bede0c75a70f2af01da24c109405799f623\n",
      "  Running setup.py bdist_wheel for reportlab\n",
      "  Stored in directory: /Users/chriddyp/Library/Caches/pip/wheels/f5/d5/b5/ac451e39e9ca2f401a62afd1f841522af903701caca19f1c16\n",
      "Successfully built xhtml2pdf pyPdf2 reportlab\n",
      "Installing collected packages: pyPdf2, Pillow, reportlab, xhtml2pdf\n",
      "Successfully installed Pillow-2.9.0 pyPdf2-1.25.1 reportlab-3.2.0 xhtml2pdf-0.0.6\n"
     ]
    }
   ],
   "source": [
    "! pip install xhtml2pdf"
   ]
  },
  {
   "cell_type": "code",
   "execution_count": null,
   "metadata": {
    "collapsed": true
   },
   "outputs": [],
   "source": []
  },
  {
   "cell_type": "code",
   "execution_count": 2,
   "metadata": {
    "collapsed": true
   },
   "outputs": [],
   "source": [
    "# The public plotly graphs to include in the email. These can also be generated with `py.plot(figure, filename)`\n",
    "graphs = [\n",
    "    'https://plot.ly/~christopherp/308',\n",
    "    'https://plot.ly/~christopherp/306',\n",
    "    'https://plot.ly/~christopherp/300',\n",
    "    'https://plot.ly/~christopherp/296'\n",
    "]"
   ]
  },
  {
   "cell_type": "code",
   "execution_count": 20,
   "metadata": {
    "collapsed": false
   },
   "outputs": [
    {
     "data": {
      "text/html": [
       "<a href=\"https://plot.ly/~christopherp/308\" target=\"_blank\"><img style=\"width: 500px;\" src=\"https://plot.ly/~christopherp/308.png\"></a><br><a href=\"https://plot.ly/~christopherp/308\" style=\"color: rgb(190,190,190); text-decoration: none; font-weight: 200;\" target=\"_blank\">Click to comment and see the interactive graph</a><br><hr><a href=\"https://plot.ly/~christopherp/306\" target=\"_blank\"><img style=\"width: 500px;\" src=\"https://plot.ly/~christopherp/306.png\"></a><br><a href=\"https://plot.ly/~christopherp/306\" style=\"color: rgb(190,190,190); text-decoration: none; font-weight: 200;\" target=\"_blank\">Click to comment and see the interactive graph</a><br><hr><a href=\"https://plot.ly/~christopherp/300\" target=\"_blank\"><img style=\"width: 500px;\" src=\"https://plot.ly/~christopherp/300.png\"></a><br><a href=\"https://plot.ly/~christopherp/300\" style=\"color: rgb(190,190,190); text-decoration: none; font-weight: 200;\" target=\"_blank\">Click to comment and see the interactive graph</a><br><hr><a href=\"https://plot.ly/~christopherp/296\" target=\"_blank\"><img style=\"width: 500px;\" src=\"https://plot.ly/~christopherp/296.png\"></a><br><a href=\"https://plot.ly/~christopherp/296\" style=\"color: rgb(190,190,190); text-decoration: none; font-weight: 200;\" target=\"_blank\">Click to comment and see the interactive graph</a><br><hr>"
      ],
      "text/plain": [
       "<IPython.core.display.HTML object>"
      ]
     },
     "metadata": {},
     "output_type": "display_data"
    }
   ],
   "source": [
    "from IPython.display import display, HTML\n",
    "\n",
    "template = (''\n",
    "    '<a href=\"{graph_url}\" target=\"_blank\">' # Open the interactive graph when you click on the image\n",
    "        '<img style=\"width: 500px;\" src=\"{graph_url}.png\">'        # Use the \".png\" magic url so that the latest, most-up-to-date image is included\n",
    "    '</a>'\n",
    "    '{caption}'                              # Optional caption to include below the graph\n",
    "    '<br>'                                   # Line break\n",
    "    '<a href=\"{graph_url}\" style=\"color: rgb(190,190,190); text-decoration: none; font-weight: 200;\" target=\"_blank\">'\n",
    "        'Click to comment and see the interactive graph'  # Direct readers to Plotly for commenting, interactive graph\n",
    "    '</a>'\n",
    "    '<br>'\n",
    "    '<hr>'                                   # horizontal line\n",
    "'')\n",
    "\n",
    "email_body = ''\n",
    "for graph in graphs:\n",
    "    _ = template\n",
    "    _ = _.format(graph_url=graph, caption='')\n",
    "    email_body += _\n",
    "    \n",
    "display(HTML(email_body))"
   ]
  },
  {
   "cell_type": "code",
   "execution_count": 12,
   "metadata": {
    "collapsed": true
   },
   "outputs": [],
   "source": [
    "from xhtml2pdf import pisa             # import python module\n",
    "\n",
    "# Utility function\n",
    "def convert_html_to_pdf(source_html, output_filename):\n",
    "    # open output file for writing (truncated binary)\n",
    "    result_file = open(output_filename, \"w+b\")\n",
    "\n",
    "    # convert HTML to PDF\n",
    "    pisa_status = pisa.CreatePDF(\n",
    "            source_html,                # the HTML to convert\n",
    "            dest=result_file)           # file handle to recieve result\n",
    "\n",
    "    # close output file\n",
    "    result_file.close()                 # close output file\n",
    "\n",
    "    # return True on success and False on errors\n",
    "    return pisa_status.err"
   ]
  },
  {
   "cell_type": "code",
   "execution_count": 21,
   "metadata": {
    "collapsed": false
   },
   "outputs": [
    {
     "name": "stderr",
     "output_type": "stream",
     "text": [
      "WARNING:xhtml2pdf:Created temporary file /var/folders/d4/c4jpnb754pj3cfj5pv8y9m080000gn/T/tmpIBsf6w\n"
     ]
    },
    {
     "data": {
      "text/plain": [
       "0"
      ]
     },
     "execution_count": 21,
     "metadata": {},
     "output_type": "execute_result"
    }
   ],
   "source": [
    "convert_html_to_pdf(email_body, 'report.pdf')"
   ]
  },
  {
   "cell_type": "code",
   "execution_count": 50,
   "metadata": {
    "collapsed": true
   },
   "outputs": [],
   "source": [
    "# helper class to display PDFs in IPython notebooks\n",
    "class PDF(object):\n",
    "  def __init__(self, pdf, size=('100%',800)):\n",
    "    self.pdf = pdf\n",
    "    self.size = size\n",
    "\n",
    "  def _repr_html_(self):\n",
    "    return '<iframe src={0} width={1[0]} height={1[1]}></iframe>'.format(self.pdf, self.size)\n",
    "\n",
    "  def _repr_latex_(self):\n",
    "    return r'\\includegraphics[width=1.0\\textwidth]{{{0}}}'.format(self.pdf)\n"
   ]
  },
  {
   "cell_type": "code",
   "execution_count": 22,
   "metadata": {
    "collapsed": false
   },
   "outputs": [
    {
     "data": {
      "text/html": [
       "<iframe src=report.pdf width=100% height=800></iframe>"
      ],
      "text/latex": [
       "\\includegraphics[width=1.0\\textwidth]{report.pdf}"
      ],
      "text/plain": [
       "<__main__.PDF at 0x10531f810>"
      ]
     },
     "execution_count": 22,
     "metadata": {},
     "output_type": "execute_result"
    }
   ],
   "source": [
    "PDF('report.pdf')"
   ]
  },
  {
   "cell_type": "code",
   "execution_count": 23,
   "metadata": {
    "collapsed": true
   },
   "outputs": [],
   "source": [
    "! open report.pdf"
   ]
  },
  {
   "cell_type": "code",
   "execution_count": null,
   "metadata": {
    "collapsed": true
   },
   "outputs": [],
   "source": []
  },
  {
   "cell_type": "code",
   "execution_count": 28,
   "metadata": {
    "collapsed": false
   },
   "outputs": [
    {
     "ename": "IndexError",
     "evalue": "tuple index out of range",
     "output_type": "error",
     "traceback": [
      "\u001b[0;31m---------------------------------------------------------------------------\u001b[0m",
      "\u001b[0;31mIndexError\u001b[0m                                Traceback (most recent call last)",
      "\u001b[0;32m<ipython-input-28-d9999680915b>\u001b[0m in \u001b[0;36m<module>\u001b[0;34m()\u001b[0m\n\u001b[1;32m     24\u001b[0m \u001b[0;32mfor\u001b[0m \u001b[0mimage\u001b[0m \u001b[0;32min\u001b[0m \u001b[0mimages\u001b[0m\u001b[0;34m:\u001b[0m\u001b[0;34m\u001b[0m\u001b[0m\n\u001b[1;32m     25\u001b[0m     \u001b[0m_\u001b[0m \u001b[0;34m=\u001b[0m \u001b[0mtemplate\u001b[0m\u001b[0;34m\u001b[0m\u001b[0m\n\u001b[0;32m---> 26\u001b[0;31m     \u001b[0m_\u001b[0m \u001b[0;34m=\u001b[0m \u001b[0m_\u001b[0m\u001b[0;34m.\u001b[0m\u001b[0mformat\u001b[0m\u001b[0;34m(\u001b[0m\u001b[0mimage\u001b[0m\u001b[0;34m=\u001b[0m\u001b[0mimage\u001b[0m\u001b[0;34m,\u001b[0m \u001b[0mcaption\u001b[0m\u001b[0;34m=\u001b[0m\u001b[0;34m''\u001b[0m\u001b[0;34m,\u001b[0m \u001b[0mwidth\u001b[0m\u001b[0;34m=\u001b[0m\u001b[0mwidth\u001b[0m\u001b[0;34m,\u001b[0m \u001b[0mheight\u001b[0m\u001b[0;34m=\u001b[0m\u001b[0mheight\u001b[0m\u001b[0;34m)\u001b[0m\u001b[0;34m\u001b[0m\u001b[0m\n\u001b[0m\u001b[1;32m     27\u001b[0m     \u001b[0memail_body\u001b[0m \u001b[0;34m+=\u001b[0m \u001b[0m_\u001b[0m\u001b[0;34m\u001b[0m\u001b[0m\n\u001b[1;32m     28\u001b[0m \u001b[0;34m\u001b[0m\u001b[0m\n",
      "\u001b[0;31mIndexError\u001b[0m: tuple index out of range"
     ]
    }
   ],
   "source": [
    "import plotly.plotly as py\n",
    "import base64\n",
    "\n",
    "width = 600\n",
    "height = 600\n",
    "\n",
    "template = (''\n",
    "    '<img style=\"width: {}; height: {}\" src=\"data:image/png;base64,{image}\">' \n",
    "    '{caption}'                              # Optional caption to include below the graph\n",
    "    '<br>'\n",
    "    '<hr>'\n",
    "'')\n",
    "\n",
    "# A collection of Plotly graphs\n",
    "figures = [\n",
    "    {'data': [{'x': [1,2,3], 'y': [3,1,6]}], 'layout': {'title': 'the first graph'}},\n",
    "    {'data': [{'x': [1,2,3], 'y': [3,7,6], 'type': 'bar'}], 'layout': {'title': 'the second graph'}}\n",
    "]\n",
    "\n",
    "# Generate their images using `py.image.get`\n",
    "images = [base64.b64encode(py.image.get(figure, width=width, height=height)) for figure in figures]\n",
    "\n",
    "email_body = ''\n",
    "for image in images:\n",
    "    _ = template\n",
    "    _ = _.format(image=image, caption='', width=width, height=height)\n",
    "    email_body += _\n",
    "\n",
    "display(HTML(email_body))"
   ]
  }
 ],
 "metadata": {
  "kernelspec": {
   "display_name": "Python 2",
   "language": "python",
   "name": "python2"
  },
  "language_info": {
   "codemirror_mode": {
    "name": "ipython",
    "version": 2
   },
   "file_extension": ".py",
   "mimetype": "text/x-python",
   "name": "python",
   "nbconvert_exporter": "python",
   "pygments_lexer": "ipython2",
   "version": "2.7.10"
  }
 },
 "nbformat": 4,
 "nbformat_minor": 0
}
