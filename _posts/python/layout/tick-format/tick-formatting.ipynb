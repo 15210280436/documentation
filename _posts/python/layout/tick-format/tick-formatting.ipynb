{
 "cells": [
  {
   "cell_type": "markdown",
   "metadata": {},
   "source": [
    "#### New to Plotly?\n",
    "Plotly's Python library is free and open source! [Get started](https://plot.ly/python/getting-started/) by downloading the client and [reading the primer](https://plot.ly/python/getting-started/).\n",
    "<br>You can set up Plotly to work in [online](https://plot.ly/python/getting-started/#initialization-for-online-plotting) or [offline](https://plot.ly/python/getting-started/#initialization-for-offline-plotting) mode, or in [jupyter notebooks](https://plot.ly/python/getting-started/#start-plotting-online).\n",
    "<br>We also have a quick-reference [cheatsheet](https://images.plot.ly/plotly-documentation/images/python_cheat_sheet.pdf) (new!) to help you get started!"
   ]
  },
  {
   "cell_type": "markdown",
   "metadata": {},
   "source": [
    "#### Version Check\n",
    "Plotly's python package is updated frequently. Run `pip install plotly --upgrade` to use the latest version."
   ]
  },
  {
   "cell_type": "code",
   "execution_count": null,
   "metadata": {},
   "outputs": [],
   "source": [
    "import plotly\n",
    "plotly.__version__"
   ]
  },
  {
   "cell_type": "markdown",
   "metadata": {},
   "source": [
    "#### Tickmode - Linear"
   ]
  },
  {
   "cell_type": "markdown",
   "metadata": {},
   "source": [
    "If `\"linear\"`, the placement of the ticks is determined by a starting position `tick0` and a tick step `dtick`"
   ]
  },
  {
   "cell_type": "code",
   "execution_count": null,
   "metadata": {},
   "outputs": [],
   "source": [
    "import plotly.plotly as py\n",
    "\n",
    "x = [1, 2, 3, 4, 5, 6, 7, 8, 9, 10, 11, 12]\n",
    "y = [28.8, 28.5, 37, 56.8, 69.7, 79.7, 78.5, 77.8, 74.1, 62.6, 45.3, 39.9]\n",
    "\n",
    "trace0 = dict(\n",
    "    type='scatter',\n",
    "    x=x,\n",
    "    y=y\n",
    ")\n",
    "\n",
    "data = [trace0]\n",
    "\n",
    "layout = dict(\n",
    "    xaxis=dict(\n",
    "        tickmode='linear',\n",
    "        tick0=0.5,\n",
    "        dtick=0.75\n",
    "    )\n",
    ")\n",
    "\n",
    "fig = dict(\n",
    "    data=data,\n",
    "    layout=layout\n",
    ")\n",
    "\n",
    "py.iplot(fig, filename='tickformatting-tickmode-linear')"
   ]
  },
  {
   "cell_type": "markdown",
   "metadata": {},
   "source": [
    "#### Tickmode - Array"
   ]
  },
  {
   "cell_type": "markdown",
   "metadata": {},
   "source": [
    "If `\"array\"`, the placement of the ticks is set via `tickvals` and the tick text is `ticktext`."
   ]
  },
  {
   "cell_type": "code",
   "execution_count": null,
   "metadata": {},
   "outputs": [],
   "source": [
    "import plotly.plotly as py\n",
    "\n",
    "x = [1, 2, 3, 4, 5, 6, 7, 8, 9, 10, 11, 12]\n",
    "y = [28.8, 28.5, 37, 56.8, 69.7, 79.7, 78.5, 77.8, 74.1, 62.6, 45.3, 39.9]\n",
    "\n",
    "trace0 = dict(\n",
    "    type='scatter',\n",
    "    x=x,\n",
    "    y=y\n",
    ")\n",
    "\n",
    "data = [trace0]\n",
    "\n",
    "layout = dict(\n",
    "    xaxis=dict(\n",
    "        tickmode='array',\n",
    "        tickvals=[1, 3, 5, 7, 9, 11],\n",
    "        ticktext=['One', 'Three', 'Five', 'Seven', 'Nine', 'Eleven']\n",
    "    )\n",
    ")\n",
    "\n",
    "fig = dict(\n",
    "    data=data,\n",
    "    layout=layout\n",
    ")\n",
    "\n",
    "py.iplot(fig, filename='tickformatting-tickmode-array')"
   ]
  },
  {
   "cell_type": "markdown",
   "metadata": {},
   "source": [
    "#### Using Tickformat Attribute"
   ]
  },
  {
   "cell_type": "markdown",
   "metadata": {},
   "source": [
    "For more formatting types, see: https://github.com/d3/d3-format/blob/master/README.md#locale_format"
   ]
  },
  {
   "cell_type": "code",
   "execution_count": null,
   "metadata": {},
   "outputs": [],
   "source": [
    "import plotly.plotly as py\n",
    "\n",
    "x = [1, 2, 3, 4, 5, 6, 7, 8, 9, 10, 11, 12]\n",
    "y = [0.18, 0.38, 0.56, 0.46, 0.59, 0.4, 0.78, 0.77, 0.74, 0.42, 0.45, 0.39]\n",
    "\n",
    "trace0 = dict(\n",
    "    type='scatter',\n",
    "    x=x,\n",
    "    y=y\n",
    ")\n",
    "\n",
    "data = [trace0]\n",
    "\n",
    "layout = dict(\n",
    "    yaxis=dict(\n",
    "        tickformat='%'\n",
    "    )\n",
    ")\n",
    "\n",
    "fig = dict(\n",
    "    data=data,\n",
    "    layout=layout\n",
    ")\n",
    "\n",
    "py.iplot(fig, filename='using-tickformat-attribute')"
   ]
  },
  {
   "cell_type": "markdown",
   "metadata": {},
   "source": [
    "#### Using Tickformat Atttribute - Date/Time"
   ]
  },
  {
   "cell_type": "markdown",
   "metadata": {},
   "source": [
    "For more date/time formatting types, see: https://github.com/d3/d3-time-format/blob/master/README.md"
   ]
  },
  {
   "cell_type": "code",
   "execution_count": null,
   "metadata": {},
   "outputs": [],
   "source": [
    "import plotly.plotly as py\n",
    "\n",
    "import pandas as pd\n",
    "\n",
    "df = pd.read_csv('https://raw.githubusercontent.com/plotly/datasets/master/finance-charts-apple.csv')\n",
    "\n",
    "trace0 = dict(\n",
    "    type='scatter',\n",
    "    mode='lines',\n",
    "    name='AAPL High',\n",
    "    x=df['Date'],\n",
    "    y=df['AAPL.High'],\n",
    "    line=dict(\n",
    "        color='#17BECF'\n",
    "    )\n",
    ")\n",
    "\n",
    "trace1 = dict(\n",
    "    type='scatter',\n",
    "    mode='lines',\n",
    "    name='AAPL Low',\n",
    "    x=df['Date'],\n",
    "    y=df['AAPL.Low'],\n",
    "    line=dict(\n",
    "        color='#7F7F7F'\n",
    "    )\n",
    ")\n",
    "\n",
    "data = [trace0, trace1]\n",
    "\n",
    "layout = dict(\n",
    "    title='Time Series with Custom Date-Time Format',\n",
    "    xaxis=dict(\n",
    "        tickformat='%d %B (%a)<br>%Y'\n",
    "    )\n",
    ")\n",
    "\n",
    "fig = dict(\n",
    "    data=data,\n",
    "    layout=layout\n",
    ")\n",
    "\n",
    "py.iplot(fig, filename='using-tickformat-attribute-date')"
   ]
  },
  {
   "cell_type": "markdown",
   "metadata": {},
   "source": [
    "#### Using Exponentformat Attribute"
   ]
  },
  {
   "cell_type": "code",
   "execution_count": 14,
   "metadata": {},
   "outputs": [
    {
     "data": {
      "text/html": [
       "<iframe id=\"igraph\" scrolling=\"no\" style=\"border:none;\" seamless=\"seamless\" src=\"https://plot.ly/~PythonPlotBot/3185.embed\" height=\"525px\" width=\"100%\"></iframe>"
      ],
      "text/plain": [
       "<plotly.tools.PlotlyDisplay object>"
      ]
     },
     "execution_count": 14,
     "metadata": {},
     "output_type": "execute_result"
    }
   ],
   "source": [
    "import plotly.plotly as py\n",
    "\n",
    "x = [1, 2, 3, 4, 5, 6, 7, 8, 9, 10, 11, 12]\n",
    "y = [68000, 52000, 60000, 20000, 95000, 40000, 60000, 79000, 74000, 42000, 20000, 90000]\n",
    "\n",
    "trace0 = dict(\n",
    "    type='scatter',\n",
    "    x=x,\n",
    "    y=y\n",
    ")\n",
    "\n",
    "data = [trace0]\n",
    "\n",
    "layout = dict(\n",
    "    yaxis=dict(\n",
    "        showexponent='all',\n",
    "        exponentformat='e'\n",
    "    )\n",
    ")\n",
    "\n",
    "fig = dict(\n",
    "    data=data,\n",
    "    layout=layout\n",
    ")\n",
    "\n",
    "py.iplot(fig, filename='using-exponentformat')"
   ]
  },
  {
   "cell_type": "markdown",
   "metadata": {},
   "source": [
    "#### Tickformatstops to customize for different zoom levels"
   ]
  },
  {
   "cell_type": "code",
   "execution_count": null,
   "metadata": {},
   "outputs": [],
   "source": [
    "import plotly.plotly as py\n",
    "\n",
    "df = pd.read_csv('https://raw.githubusercontent.com/plotly/datasets/master/finance-charts-apple.csv')\n",
    "\n",
    "trace0 = dict(\n",
    "    type='scatter',\n",
    "    x=df['Date'],\n",
    "    y=df['mavg']\n",
    ")\n",
    "\n",
    "data = [trace0]\n",
    "\n",
    "layout = dict(\n",
    "    xaxis=dict(\n",
    "        tickformatstops=[\n",
    "            dict(\n",
    "                dtickrange=[None, 1000],\n",
    "                value=\"%H:%M:%S.%L ms\"\n",
    "              ),\n",
    "            dict(\n",
    "                dtickrange=[1000, 60000],\n",
    "                value=\"%H:%M:%S s\"\n",
    "              ),\n",
    "            dict(\n",
    "                dtickrange=[60000, 3600000],\n",
    "                value=\"%H:%M m\"\n",
    "              ),\n",
    "            dict(\n",
    "                dtickrange=[3600000, 86400000],\n",
    "                value=\"%H:%M h\"\n",
    "              ),\n",
    "            dict(\n",
    "                dtickrange=[86400000, 604800000],\n",
    "                value=\"%e. %b d\"\n",
    "              ),\n",
    "            dict(\n",
    "                dtickrange=[604800000, \"M1\"],\n",
    "                value=\"%e. %b w\"\n",
    "              ),\n",
    "            dict(\n",
    "                dtickrange=[\"M1\", \"M12\"],\n",
    "                value=\"%b '%y M\"\n",
    "              ),\n",
    "            dict(\n",
    "                dtickrange=[\"M12\", None],\n",
    "                value=\"%Y Y\"\n",
    "              )\n",
    "        ]\n",
    "    )\n",
    ")\n",
    "\n",
    "fig = dict(\n",
    "    data=data,\n",
    "    layout=layout\n",
    ")\n",
    "\n",
    "py.iplot(fig, filename='tickformatstops')"
   ]
  },
  {
   "cell_type": "markdown",
   "metadata": {},
   "source": [
    "#### Include Locale Config"
   ]
  },
  {
   "cell_type": "code",
   "execution_count": null,
   "metadata": {},
   "outputs": [],
   "source": [
    "import plotly.plotly as py\n",
    "\n",
    "x = ['2013-02-04', '2013-04-05', '2013-06-06', '2013-08-07', '2013-10-02']\n",
    "y = [1, 4, 3, 6, 2]\n",
    "\n",
    "trace0 = dict(\n",
    "    type='scatter',\n",
    "    x=x,\n",
    "    y=y\n",
    ")\n",
    "\n",
    "data = [trace0]\n",
    "\n",
    "layout = dict(\n",
    "    xaxis=dict(\n",
    "        tickformat='%a %e %b<br>%Y'\n",
    "    )\n",
    ")\n",
    "\n",
    "\n",
    "fig = dict(\n",
    "    data=data,\n",
    "    layout=layout\n",
    ")\n",
    "\n",
    "py.iplot(fig, filename='locale-config')"
   ]
  },
  {
   "cell_type": "code",
   "execution_count": null,
   "metadata": {},
   "outputs": [],
   "source": []
  }
 ],
 "metadata": {
  "kernelspec": {
   "display_name": "Python 3",
   "language": "python",
   "name": "python3"
  },
  "language_info": {
   "codemirror_mode": {
    "name": "ipython",
    "version": 3
   },
   "file_extension": ".py",
   "mimetype": "text/x-python",
   "name": "python",
   "nbconvert_exporter": "python",
   "pygments_lexer": "ipython3",
   "version": "3.7.1"
  }
 },
 "nbformat": 4,
 "nbformat_minor": 2
}
