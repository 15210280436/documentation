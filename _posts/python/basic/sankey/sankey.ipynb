{
  "cells": [
    {
      "cell_type": "markdown",
      "source": [
        "#### New to Plotly?\n",
        "Plotly's Python library is free and open source! [Get started](https://plot.ly/python/getting-started/) by downloading the client and [reading the primer](https://plot.ly/python/getting-started/).\n",
        "<br>You can set up Plotly to work in [online](https://plot.ly/python/getting-started/#initialization-for-online-plotting) or [offline](https://plot.ly/python/getting-started/#initialization-for-offline-plotting) mode, or in [jupyter notebooks](https://plot.ly/python/getting-started/#start-plotting-online).\n",
        "<br>We also have a quick-reference [cheatsheet](https://images.plot.ly/plotly-documentation/images/python_cheat_sheet.pdf) (new!) to help you get started!"
      ],
      "metadata": {}
    },
    {
      "cell_type": "markdown",
      "source": [
        "#### Version Check\n",
        "Plotly's python package is updated frequently. Run `pip install plotly --upgrade` to use the latest version."
      ],
      "metadata": {}
    },
    {
      "cell_type": "code",
      "source": [
        "import plotly\n",
        "plotly.__version__"
      ],
      "outputs": [],
      "execution_count": 2,
      "metadata": {
        "collapsed": false,
        "outputHidden": false,
        "inputHidden": false
      }
    },
    {
      "cell_type": "markdown",
      "source": [
        "### Create Sankey Canvas"
      ],
      "metadata": {}
    },
    {
      "cell_type": "code",
      "source": [
        "import plotly.graph_objs as go\n",
        "\n",
        "from IPython.core.display import display, HTML\n",
        "\n",
        "plotly.offline.init_notebook_mode(connected=True)\n",
        "\n",
        "data = go.Sankey(\n",
        "    domain = dict(\n",
        "      x =  [0,1],\n",
        "      y =  [0,1]\n",
        "    ),\n",
        "    orientation = \"h\",\n",
        "    valueformat = \".0f\",\n",
        "    valuesuffix = \"TWh\"   \n",
        "  )\n",
        "\n",
        "layout =  go.Layout(\n",
        "    title = \"Energy forecast for 2050, UK — Department of Energy & Climate Change\",\n",
        "    font = dict(\n",
        "      size = 10\n",
        "    )\n",
        ")"
      ],
      "outputs": [],
      "execution_count": 4,
      "metadata": {
        "collapsed": false,
        "outputHidden": false,
        "inputHidden": false
      }
    },
    {
      "cell_type": "markdown",
      "source": [
        "### Add Nodes"
      ],
      "metadata": {}
    },
    {
      "cell_type": "code",
      "source": [
        "import plotly.graph_objs as go\n",
        "\n",
        "import urllib, json\n",
        "\n",
        "plotly.offline.init_notebook_mode(connected=True)\n",
        "\n",
        "url = 'https://raw.githubusercontent.com/plotly/plotly.js/master/test/image/mocks/sankey_energy.json'\n",
        "response = urllib.urlopen(url)\n",
        "data = json.loads(response.read())\n",
        "\n",
        "data = go.Sankey(\n",
        "    domain = dict(\n",
        "      x =  [0,1],\n",
        "      y =  [0,1]\n",
        "    ),\n",
        "    orientation = \"h\",\n",
        "    valueformat = \".0f\",\n",
        "    valuesuffix = \"TWh\",\n",
        "    node = dict(\n",
        "      pad = 15,\n",
        "      thickness = 15,\n",
        "      line = dict(\n",
        "        color = \"black\",\n",
        "        width = 0.5\n",
        "      ),\n",
        "      label =  data['data'][0]['node']['label'],\n",
        "      color =  data['data'][0]['node']['color']\n",
        "    )\n",
        ")\n",
        "\n",
        "layout =  go.Layout(\n",
        "    title = \"Energy forecast for 2050, UK — Department of Energy & Climate Change\",\n",
        "    font = dict(\n",
        "      size = 10\n",
        "    )\n",
        ")"
      ],
      "outputs": [],
      "execution_count": 6,
      "metadata": {
        "collapsed": false,
        "outputHidden": false,
        "inputHidden": false
      }
    },
    {
      "cell_type": "markdown",
      "source": [
        "### Add Links"
      ],
      "metadata": {}
    },
    {
      "cell_type": "code",
      "source": [
        "import plotly.graph_objs as go\n",
        "\n",
        "import urllib, json\n",
        "\n",
        "plotly.offline.init_notebook_mode(connected=True)\n",
        "\n",
        "url = 'https://raw.githubusercontent.com/plotly/plotly.js/master/test/image/mocks/sankey_energy.json'\n",
        "response = urllib.urlopen(url)\n",
        "data = json.loads(response.read())\n",
        "\n",
        "data = go.Sankey(\n",
        "    width = 1118,\n",
        "    height = 772,\n",
        "    domain = dict(\n",
        "      x =  [0,1],\n",
        "      y =  [0,1]\n",
        "    ),\n",
        "    orientation = \"h\",\n",
        "    valueformat = \".0f\",\n",
        "    valuesuffix = \"TWh\",\n",
        "    node = dict(\n",
        "      pad = 15,\n",
        "      thickness = 15,\n",
        "      line = dict(\n",
        "        color = \"black\",\n",
        "        width = 0.5\n",
        "      ),\n",
        "      label =  data['data'][0]['node']['label'],\n",
        "      color =  data['data'][0]['node']['color']\n",
        "    ),\n",
        "    link = dict(\n",
        "      source =  data['data'][0]['link']['source'],\n",
        "      target =  data['data'][0]['link']['target'],\n",
        "      value =  data['data'][0]['link']['value'],\n",
        "      color =  data['data'][0]['link']['color'],\n",
        "      label =  data['data'][0]['link']['label']\n",
        "  ))\n",
        "\n",
        "layout =  go.Layout(\n",
        "    title = \"Energy forecast for 2050, UK — Department of Energy & Climate Change\",\n",
        "    font = dict(\n",
        "      size = 10\n",
        "    )\n",
        ")\n",
        "\n",
        "fig = go.Figure(data=data, layout=layout)\n",
        "plotly.offline.iplot(fig, validate = False)"
      ],
      "outputs": [],
      "execution_count": 13,
      "metadata": {
        "collapsed": false,
        "outputHidden": false,
        "inputHidden": false
      }
    },
    {
      "cell_type": "markdown",
      "source": [
        "### Style Sankey Diagram"
      ],
      "metadata": {}
    },
    {
      "cell_type": "code",
      "source": [
        "import plotly.graph_objs as go\n",
        "\n",
        "import urllib, json\n",
        "\n",
        "plotly.offline.init_notebook_mode(connected=True)\n",
        "\n",
        "url = 'https://raw.githubusercontent.com/plotly/plotly.js/master/test/image/mocks/sankey_energy_dark.json'\n",
        "response = urllib.urlopen(url)\n",
        "data = json.loads(response.read())\n",
        "\n",
        "data = go.Sankey(\n",
        "    domain = dict(\n",
        "      x =  [0,1],\n",
        "      y =  [0,1]\n",
        "    ),\n",
        "    orientation = \"h\",\n",
        "    valueformat = \".0f\",\n",
        "    valuesuffix = \"TWh\",\n",
        "    node = dict(\n",
        "      pad = 15,\n",
        "      thickness = 15,\n",
        "      line = dict(\n",
        "        color = \"black\",\n",
        "        width = 0.5\n",
        "      ),\n",
        "      label =  data['data'][0]['node']['label'],\n",
        "      color =  data['data'][0]['node']['color']\n",
        "    ),\n",
        "    link = dict(\n",
        "      source =  data['data'][0]['link']['source'],\n",
        "      target =  data['data'][0]['link']['target'],\n",
        "      value =  data['data'][0]['link']['value'],\n",
        "      label =  data['data'][0]['link']['label']\n",
        "  ))\n",
        "\n",
        "layout =  go.Layout(\n",
        "    title = \"Energy forecast for 2050, UK — Department of Energy & Climate Change\",\n",
        "    font = dict(\n",
        "      size = 10\n",
        "    )\n",
        ")\n",
        "\n",
        "fig = go.Figure(data=data, layout=layout)\n",
        "plotly.offline.iplot(fig, validate = False)"
      ],
      "outputs": [],
      "execution_count": 12,
      "metadata": {
        "collapsed": false,
        "outputHidden": false,
        "inputHidden": false
      }
    }
  ],
  "metadata": {
    "kernelspec": {
      "name": "python2",
      "language": "python",
      "display_name": "Python 2"
    },
    "kernel_info": {
      "name": "python2"
    },
    "language_info": {
      "mimetype": "text/x-python",
      "nbconvert_exporter": "python",
      "name": "python",
      "pygments_lexer": "ipython2",
      "version": "2.7.12",
      "file_extension": ".py",
      "codemirror_mode": {
        "version": 2,
        "name": "ipython"
      }
    }
  },
  "nbformat": 4,
  "nbformat_minor": 4
}