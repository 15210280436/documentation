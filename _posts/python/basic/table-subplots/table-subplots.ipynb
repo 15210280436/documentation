{
 "cells": [
  {
   "cell_type": "markdown",
   "metadata": {},
   "source": [
    "#### New to Plotly?\n",
    "Plotly's Python library is free and open source! [Get started](https://plot.ly/python/getting-started/) by downloading the client and [reading the primer](https://plot.ly/python/getting-started/).\n",
    "<br>You can set up Plotly to work in [online](https://plot.ly/python/getting-started/#initialization-for-online-plotting) or [offline](https://plot.ly/python/getting-started/#initialization-for-offline-plotting) mode, or in [jupyter notebooks](https://plot.ly/python/getting-started/#start-plotting-online).\n",
    "<br>We also have a quick-reference [cheatsheet](https://images.plot.ly/plotly-documentation/images/python_cheat_sheet.pdf) (new!) to help you get started!\n",
    "#### Version Check\n",
    "Note: Tables are available in version <b>1.9.2+</b><br>\n",
    "Run  `pip install plotly --upgrade` to update your Plotly version"
   ]
  },
  {
   "cell_type": "code",
   "execution_count": 1,
   "metadata": {},
   "outputs": [
    {
     "data": {
      "text/plain": [
       "'2.2.1'"
      ]
     },
     "execution_count": 1,
     "metadata": {},
     "output_type": "execute_result"
    }
   ],
   "source": [
    "import plotly\n",
    "plotly.__version__"
   ]
  },
  {
   "cell_type": "markdown",
   "metadata": {},
   "source": [
    "#### Import CSV Data"
   ]
  },
  {
   "cell_type": "code",
   "execution_count": 2,
   "metadata": {
    "collapsed": true
   },
   "outputs": [],
   "source": [
    "#for i, row in enumerate(df['Date']):\n",
    "#    p = re.compile(' 00:00:00')\n",
    "#    datetime = p.split(df['Date'][i])[0]\n",
    "#    #df.loc.__setitem__((i, 'Date'), datetime)\n",
    "#    df.iloc[i, 'Date'] = datetime"
   ]
  },
  {
   "cell_type": "code",
   "execution_count": 4,
   "metadata": {},
   "outputs": [
    {
     "data": {
      "text/html": [
       "<iframe id=\"igraph\" scrolling=\"no\" style=\"border:none;\" seamless=\"seamless\" src=\"https://plot.ly/~AdamKulidjian/3716.embed\" height=\"380px\" width=\"100%\"></iframe>"
      ],
      "text/plain": [
       "<plotly.tools.PlotlyDisplay object>"
      ]
     },
     "execution_count": 4,
     "metadata": {},
     "output_type": "execute_result"
    }
   ],
   "source": [
    "import datetime\n",
    "import pandas as pd\n",
    "import re\n",
    "import time\n",
    "\n",
    "import plotly.plotly as py\n",
    "import plotly.figure_factory as ff\n",
    "\n",
    "df = pd.read_csv('https://raw.githubusercontent.com/plotly/datasets/master/Mining-BTC-180.csv')\n",
    "\n",
    "for i, row in enumerate(df['Date']):\n",
    "    p = re.compile(' 00:00:00')\n",
    "    datetime = p.split(df['Date'][i])[0]\n",
    "    df.iloc[i, 1] = datetime\n",
    "    \n",
    "table = ff.create_table(df[0:10])\n",
    "py.iplot(table, filename='mining-data')"
   ]
  },
  {
   "cell_type": "markdown",
   "metadata": {},
   "source": [
    "#### Table and Right Aligned Plots"
   ]
  },
  {
   "cell_type": "code",
   "execution_count": 5,
   "metadata": {},
   "outputs": [
    {
     "data": {
      "text/html": [
       "<iframe id=\"igraph\" scrolling=\"no\" style=\"border:none;\" seamless=\"seamless\" src=\"https://plot.ly/~AdamKulidjian/3738.embed\" height=\"800px\" width=\"950px\"></iframe>"
      ],
      "text/plain": [
       "<plotly.tools.PlotlyDisplay object>"
      ]
     },
     "execution_count": 5,
     "metadata": {},
     "output_type": "execute_result"
    }
   ],
   "source": [
    "import plotly.plotly as py\n",
    "import plotly.figure_factory as ff\n",
    "import plotly.graph_objs as go\n",
    "\n",
    "table_trace1 = go.Table(\n",
    "    domain=dict(x=[0.0, 0.5],\n",
    "                y=[0, 1.0]),  \n",
    "                columnwidth = [30] + [ 33, 35, 33],\n",
    "                columnorder=[0, 1, 2, 3, 4],\n",
    "                header = dict(height = 50,\n",
    "                              values = [['<b>Date</b>'],['<b>Hash Rate, TH/sec</b>'], \n",
    "                                        ['<b>Mining revenue</b>'], ['<b>Transaction fees</b>']], \n",
    "                              line = dict(color='rgb(50,50,50)'),\n",
    "                              align = ['left'] * 5,\n",
    "                              font = dict(color=['rgb(45,45,45)'] * 5, size=14),\n",
    "                              fill = dict(color='#d562be')),\n",
    "                cells = dict(values = [df['Date'][-20:], df['Hash-rate'][-20:], df['Mining-revenue-USD'][-20:],\n",
    "                                       df['Transaction-fees-BTC'][-20:]],\n",
    "                             line = dict(color='#506784'),\n",
    "                             align = ['left'] * 5,\n",
    "                             font = dict(color=['rgb(40, 40, 40)'] * 5, size=12),\n",
    "                             format = [None] + [\", .2f\"] * 2 + [',.4f'],  \n",
    "                             prefix = [None] * 2 + ['$', u'\\u20BF'],\n",
    "                             suffix=[None] * 4,\n",
    "                             height = 27,\n",
    "                             fill = dict(color = ['rgb(235, 193, 238)', 'rgba(228, 222, 249, 0.65)']))\n",
    ")\n",
    "\n",
    "trace1=go.Scatter(\n",
    "    x=df['Date'],\n",
    "    y=df['Hash-rate'],\n",
    "    xaxis='x1',\n",
    "    yaxis='y1',\n",
    "    mode='lines',\n",
    "    line=dict(width=2, color='#9748a1'),\n",
    "    name='hash-rate-TH/s'\n",
    ")\n",
    "\n",
    "trace2=go.Scatter(\n",
    "    x=df['Date'],\n",
    "    y=df['Mining-revenue-USD'],\n",
    "    xaxis='x2',\n",
    "    yaxis='y2',\n",
    "    mode='lines',\n",
    "    line=dict(width=2, color='#b04553'),\n",
    "    name='mining revenue'\n",
    ")\n",
    "\n",
    "trace3=go.Scatter(\n",
    "    x=df['Date'],\n",
    "    y=df['Transaction-fees-BTC'],\n",
    "    xaxis='x3',\n",
    "    yaxis='y3',\n",
    "    mode='lines',\n",
    "    line=dict(width=2, color='#af7bbd'),\n",
    "    name='transact-fee'\n",
    ")\n",
    "\n",
    "axis=dict(\n",
    "    showline=True,\n",
    "    zeroline=False,\n",
    "    showgrid=True,\n",
    "    mirror=True, \n",
    "    ticklen=4, \n",
    "    gridcolor='#ffffff',\n",
    "    tickfont=dict(size=10)\n",
    ")\n",
    "\n",
    "layout1 = dict(\n",
    "    width=950,\n",
    "    height=800,\n",
    "    autosize=False,\n",
    "    title='Bitcoin mining stats for 180 days',\n",
    "    margin = dict(t=100, l=0, r=0, b=100),\n",
    "    showlegend=False,          \n",
    "    xaxis1=dict(axis, **dict(domain=[0.55,0.98], anchor= 'y1', showticklabels=False)),\n",
    "    xaxis2=dict(axis, **dict(domain=[0.55,0.98], anchor= 'y2', showticklabels=False)),          \n",
    "    xaxis3=dict(axis, **dict(domain=[0.55,0.98], anchor= 'y3')), \n",
    "    yaxis1=dict(axis, **dict(domain=[0.68,1], anchor= 'x1', hoverformat='.2f')),  \n",
    "    yaxis2=dict(axis, **dict(domain=[0.34,0.66], anchor= 'x2', tickprefix='$', hoverformat='.2f')),\n",
    "    yaxis3=dict(axis, **dict(domain=[0.0,0.32], anchor= 'x3', tickprefix=u'\\u20BF', hoverformat='.2f')),          \n",
    "    plot_bgcolor='rgba(228, 222, 249, 0.65)',\n",
    "    annotations=[\n",
    "        dict(\n",
    "            showarrow=False, \n",
    "            text='The last 20 records',  \n",
    "            xref='paper',     \n",
    "            yref='paper',     \n",
    "            x=0.2, \n",
    "            y=1.01,\n",
    "            xanchor='left',\n",
    "            yanchor='bottom',  \n",
    "            font=dict(size=15)\n",
    "        )\n",
    "    ]           \n",
    ")\n",
    "\n",
    "fig1 = dict(data=[table_trace1, trace1, trace2, trace3], layout=layout1)\n",
    "py.iplot(fig1)"
   ]
  },
  {
   "cell_type": "markdown",
   "metadata": {
    "collapsed": true
   },
   "source": [
    "#### Table and Centered Plots"
   ]
  },
  {
   "cell_type": "code",
   "execution_count": 6,
   "metadata": {},
   "outputs": [
    {
     "data": {
      "text/html": [
       "<iframe id=\"igraph\" scrolling=\"no\" style=\"border:none;\" seamless=\"seamless\" src=\"https://plot.ly/~AdamKulidjian/3740.embed\" height=\"1000px\" width=\"800px\"></iframe>"
      ],
      "text/plain": [
       "<plotly.tools.PlotlyDisplay object>"
      ]
     },
     "execution_count": 6,
     "metadata": {},
     "output_type": "execute_result"
    }
   ],
   "source": [
    "import plotly.plotly as py\n",
    "import plotly.figure_factory as ff\n",
    "import plotly.graph_objs as go\n",
    "\n",
    "table_trace2 = go.Table(\n",
    "    domain=dict(x= [0.1, 0.9],\n",
    "                y= [0.4, 1]),\n",
    "                columnwidth= [30] + [33, 35, 33],\n",
    "                columnorder=[0, 1, 2, 3, 4],\n",
    "                header = dict(height = 50,\n",
    "                              values = [['<b>Date</b>'],['<b>Nr-transactions</b>'], \n",
    "                                        ['<b>Output-volume</b>'],\n",
    "                                        ['<b>Cost-per-trans</b>']],\n",
    "                              line = dict(color='rgb(50, 50, 50)'),\n",
    "                              align = ['left'] * 4,\n",
    "                              font = dict(color=['rgb(45, 45, 45)'] * 4, size=14),\n",
    "                              fill = dict(color = '#d562be')),\n",
    "                cells = dict(values=[df['Date'][-60:-44], \n",
    "                                     df['Number-transactions'][-60:-44],\n",
    "                                     df['Output-volume(BTC)'][-60:-44],\n",
    "                                     df['Cost-per-trans-USD'][-60:-44]],\n",
    "                             line = dict(color='#506784'),\n",
    "                             align = ['left'] * 4,\n",
    "                             font = dict(color=['rgb(40,40,40)']*4, size=12),\n",
    "                             format = [None] + ['d']+[\",.2f\"]*2,  \n",
    "                             prefix = [None] * 2 + [ u'\\u20BF', '$'],\n",
    "                             suffix=[None] * 4,\n",
    "                             height = 27,\n",
    "                             fill = dict(color = ['rgb(235, 193, 238)', 'rgba(228, 222, 249, 0.65)']))\n",
    ")\n",
    "\n",
    "\n",
    "trace4=go.Scatter(\n",
    "    x=df['Date'],\n",
    "    y=df['Number-transactions'],\n",
    "    xaxis='x1',\n",
    "    yaxis='y1',\n",
    "    mode='lines',\n",
    "    line=dict(width=2, color='#af7bbd'),\n",
    "    name='nr-transac'\n",
    ")\n",
    "\n",
    "trace5=go.Scatter(\n",
    "    x=df['Date'],\n",
    "    y=df['Output-volume(BTC)'],\n",
    "    xaxis='x2',\n",
    "    yaxis='y2',\n",
    "    mode='lines',\n",
    "    line=dict(width=2, color='#b04553'),\n",
    "    name='ouput-vol'\n",
    ")\n",
    "\n",
    "trace6=go.Scatter(\n",
    "    x=df['Date'],\n",
    "    y=df['Cost-per-trans-USD'],\n",
    "    xaxis='x3',\n",
    "    yaxis='y3',\n",
    "    mode='lines',\n",
    "    line=dict(width=2, color='#9748a1'),\n",
    "    name='cost-transac'\n",
    ")\n",
    "\n",
    "layout2 = dict(\n",
    "    width=800,\n",
    "    height=1000,\n",
    "    autosize=False,\n",
    "    title='Bitcoin transaction summary for 180 days',\n",
    "    margin=dict(t=100, l=60, r=0),\n",
    "    showlegend=False,          \n",
    "    xaxis1=dict(axis, **dict(domain=[0.1,0.9], anchor= 'y1', showgrid=False, showticklabels=False)),\n",
    "    xaxis2=dict(axis, **dict(domain=[0.1,0.9], anchor= 'y2', showgrid=False, showticklabels=False)),\n",
    "    xaxis3=dict(axis, **dict(domain=[0.1,0.9], anchor= 'y3',showgrid=False, showticklabels=True)),           \n",
    "    yaxis1=dict(axis, **dict(domain=[0.28, 0.398], anchor= 'x1', showgrid=False, hoverformat='d')), \n",
    "    yaxis2=dict(axis, **dict(domain=[0.14, 0.26], anchor= 'x2', showgrid=False, tickprefix= u'\\u20BF', hoverformat='.2f')), \n",
    "    yaxis3=dict(axis, **dict(domain=[0, 0.12], anchor= 'x3', showgrid=False, tickprefix='S', hoverformat='.2f')),            \n",
    "    plot_bgcolor='rgba(228, 222, 249, 0.65)',\n",
    "    annotations=[\n",
    "        dict(\n",
    "            showarrow=False, \n",
    "            text='16 records around the date of september 3, 2017',  \n",
    "            xref='paper',     \n",
    "            yref='paper',     \n",
    "            x=0.2,  \n",
    "            y=1.01,  \n",
    "            xanchor='left',   \n",
    "            yanchor='bottom',  \n",
    "            font=dict(size=15)\n",
    "        )\n",
    "    ],           \n",
    "    shapes=[\n",
    "        dict(\n",
    "            type='rect',\n",
    "            xref='x3',\n",
    "            yref='y3',\n",
    "            x0=df['Date'].iloc[-60 / 10],\n",
    "            y0=8,\n",
    "            x1=df['Date'].iloc[-43 / 10],\n",
    "            y1=53,\n",
    "            layer='below',\n",
    "            line=dict(color='rgba(235,193, 238, 0.9)', width=0.5),\n",
    "            fillcolor= 'rgba(235,193, 238, 0.9)'\n",
    "        ),\n",
    "        dict(\n",
    "            type='rect',\n",
    "            xref='x2',\n",
    "            yref='y2',\n",
    "            x0=df['Date'].iloc[-60 / 10],\n",
    "            y0=3327226,\n",
    "            x1=df['Date'].iloc[-43 / 10],\n",
    "            y1=11801113,\n",
    "            layer='below',\n",
    "            line=dict(color='rgba(235,193, 238, 0.9)', width=0.5),\n",
    "            fillcolor= 'rgba(235,193, 238, 0.9)'\n",
    "        ),\n",
    "        dict(\n",
    "            type='rect',\n",
    "            xref='x1',\n",
    "            yref='y1',\n",
    "            x0=df['Date'].iloc[-60 / 10],\n",
    "            y0=130875,\n",
    "            x1=df['Date'].iloc[-43 / 10],\n",
    "            y1=375098,\n",
    "            layer='below',\n",
    "            line=dict(color='rgba(235,193, 238, 1)', width=0.5),\n",
    "            fillcolor= 'rgba(235,193, 238, 1)'\n",
    "        )\n",
    "    ]         \n",
    ")\n",
    "\n",
    "fig2 = dict(data=[table_trace2, trace4, trace5, trace6], layout=layout2)\n",
    "py.iplot(fig2)"
   ]
  },
  {
   "cell_type": "markdown",
   "metadata": {},
   "source": [
    "#### Reference"
   ]
  },
  {
   "cell_type": "code",
   "execution_count": 7,
   "metadata": {},
   "outputs": [
    {
     "name": "stdout",
     "output_type": "stream",
     "text": [
      "Help on function create_table in module plotly.figure_factory._table:\n",
      "\n",
      "create_table(table_text, colorscale=None, font_colors=None, index=False, index_title='', annotation_offset=0.45, height_constant=30, hoverinfo='none', **kwargs)\n",
      "    BETA function that creates data tables\n",
      "    \n",
      "    :param (pandas.Dataframe | list[list]) text: data for table.\n",
      "    :param (str|list[list]) colorscale: Colorscale for table where the\n",
      "        color at value 0 is the header color, .5 is the first table color\n",
      "        and 1 is the second table color. (Set .5 and 1 to avoid the striped\n",
      "        table effect). Default=[[0, '#66b2ff'], [.5, '#d9d9d9'],\n",
      "        [1, '#ffffff']]\n",
      "    :param (list) font_colors: Color for fonts in table. Can be a single\n",
      "        color, three colors, or a color for each row in the table.\n",
      "        Default=['#000000'] (black text for the entire table)\n",
      "    :param (int) height_constant: Constant multiplied by # of rows to\n",
      "        create table height. Default=30.\n",
      "    :param (bool) index: Create (header-colored) index column index from\n",
      "        Pandas dataframe or list[0] for each list in text. Default=False.\n",
      "    :param (string) index_title: Title for index column. Default=''.\n",
      "    :param kwargs: kwargs passed through plotly.graph_objs.Heatmap.\n",
      "        These kwargs describe other attributes about the annotated Heatmap\n",
      "        trace such as the colorscale. For more information on valid kwargs\n",
      "        call help(plotly.graph_objs.Heatmap)\n",
      "    \n",
      "    Example 1: Simple Plotly Table\n",
      "    ```\n",
      "    import plotly.plotly as py\n",
      "    from plotly.figure_factory import create_table\n",
      "    \n",
      "    text = [['Country', 'Year', 'Population'],\n",
      "            ['US', 2000, 282200000],\n",
      "            ['Canada', 2000, 27790000],\n",
      "            ['US', 2010, 309000000],\n",
      "            ['Canada', 2010, 34000000]]\n",
      "    \n",
      "    table = create_table(text)\n",
      "    py.iplot(table)\n",
      "    ```\n",
      "    \n",
      "    Example 2: Table with Custom Coloring\n",
      "    ```\n",
      "    import plotly.plotly as py\n",
      "    from plotly.figure_factory import create_table\n",
      "    \n",
      "    text = [['Country', 'Year', 'Population'],\n",
      "            ['US', 2000, 282200000],\n",
      "            ['Canada', 2000, 27790000],\n",
      "            ['US', 2010, 309000000],\n",
      "            ['Canada', 2010, 34000000]]\n",
      "    \n",
      "    table = create_table(text,\n",
      "                         colorscale=[[0, '#000000'],\n",
      "                                     [.5, '#80beff'],\n",
      "                                     [1, '#cce5ff']],\n",
      "                         font_colors=['#ffffff', '#000000',\n",
      "                                    '#000000'])\n",
      "    py.iplot(table)\n",
      "    ```\n",
      "    Example 3: Simple Plotly Table with Pandas\n",
      "    ```\n",
      "    import plotly.plotly as py\n",
      "    from plotly.figure_factory import create_table\n",
      "    \n",
      "    import pandas as pd\n",
      "    \n",
      "    df = pd.read_csv('http://www.stat.ubc.ca/~jenny/notOcto/STAT545A/examples/gapminder/data/gapminderDataFiveYear.txt', sep='  ')\n",
      "    df_p = df[0:25]\n",
      "    \n",
      "    table_simple = create_table(df_p)\n",
      "    py.iplot(table_simple)\n",
      "    ```\n",
      "\n"
     ]
    }
   ],
   "source": [
    "help(ff.create_table)"
   ]
  },
  {
   "cell_type": "code",
   "execution_count": 8,
   "metadata": {},
   "outputs": [
    {
     "data": {
      "text/html": [
       "<link href=\"//fonts.googleapis.com/css?family=Open+Sans:600,400,300,200|Inconsolata|Ubuntu+Mono:400,700\" rel=\"stylesheet\" type=\"text/css\" />"
      ],
      "text/plain": [
       "<IPython.core.display.HTML object>"
      ]
     },
     "metadata": {},
     "output_type": "display_data"
    },
    {
     "data": {
      "text/html": [
       "<link rel=\"stylesheet\" type=\"text/css\" href=\"http://help.plot.ly/documentation/all_static/css/ipython-notebook-custom.css\">"
      ],
      "text/plain": [
       "<IPython.core.display.HTML object>"
      ]
     },
     "metadata": {},
     "output_type": "display_data"
    },
    {
     "name": "stdout",
     "output_type": "stream",
     "text": [
      "Collecting git+https://github.com/plotly/publisher.git\n",
      "  Cloning https://github.com/plotly/publisher.git to /private/var/folders/tc/bs9g6vrd36q74m5t8h9cgphh0000gn/T/pip-QDx1Rg-build\n",
      "Installing collected packages: publisher\n",
      "  Found existing installation: publisher 0.10\n",
      "    Uninstalling publisher-0.10:\n",
      "      Successfully uninstalled publisher-0.10\n",
      "  Running setup.py install for publisher ... \u001b[?25ldone\n",
      "\u001b[?25hSuccessfully installed publisher-0.10\n"
     ]
    },
    {
     "name": "stderr",
     "output_type": "stream",
     "text": [
      "/Library/Frameworks/Python.framework/Versions/2.7/lib/python2.7/site-packages/IPython/nbconvert.py:13: ShimWarning:\n",
      "\n",
      "The `IPython.nbconvert` package has been deprecated since IPython 4.0. You should import from nbconvert instead.\n",
      "\n",
      "/Library/Frameworks/Python.framework/Versions/2.7/lib/python2.7/site-packages/publisher/publisher.py:53: UserWarning:\n",
      "\n",
      "Did you \"Save\" this notebook before running this command? Remember to save, always save.\n",
      "\n"
     ]
    }
   ],
   "source": [
    "from IPython.display import display, HTML\n",
    "\n",
    "display(HTML('<link href=\"//fonts.googleapis.com/css?family=Open+Sans:600,400,300,200|Inconsolata|Ubuntu+Mono:400,700\" rel=\"stylesheet\" type=\"text/css\" />'))\n",
    "display(HTML('<link rel=\"stylesheet\" type=\"text/css\" href=\"http://help.plot.ly/documentation/all_static/css/ipython-notebook-custom.css\">'))\n",
    "\n",
    "! pip install git+https://github.com/plotly/publisher.git --upgrade\n",
    "import publisher\n",
    "publisher.publish(\n",
    "    'table-subplots.ipynb', 'python/table-subplots/', 'Python Tables in Subplots | plotly',\n",
    "    'How to place tables in subplot layouts in Python with Plotly.',\n",
    "    title = 'Tables in Subplots | plotly',\n",
    "    name = 'Tables in Subplots',\n",
    "    thumbnail='table_subplot.jpg', language='python',\n",
    "    has_thumbnail='true', display_as='basic', order=7)"
   ]
  },
  {
   "cell_type": "code",
   "execution_count": null,
   "metadata": {
    "collapsed": true
   },
   "outputs": [],
   "source": []
  }
 ],
 "metadata": {
  "kernelspec": {
   "display_name": "Python 2",
   "language": "python",
   "name": "python2"
  },
  "language_info": {
   "codemirror_mode": {
    "name": "ipython",
    "version": 2
   },
   "file_extension": ".py",
   "mimetype": "text/x-python",
   "name": "python",
   "nbconvert_exporter": "python",
   "pygments_lexer": "ipython2",
   "version": "2.7.12"
  }
 },
 "nbformat": 4,
 "nbformat_minor": 1
}
