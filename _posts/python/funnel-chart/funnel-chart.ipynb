{
 "cells": [
  {
   "cell_type": "markdown",
   "metadata": {},
   "source": [
    "#### New to Plotly?\n",
    "Plotly's Python library is free and open source! [Get started](https://plot.ly/python/getting-started/) by downloading the client and [reading the primer](https://plot.ly/python/getting-started/).\n",
    "<br>You can set up Plotly to work in [online](https://plot.ly/python/getting-started/#initialization-for-online-plotting) or [offline](https://plot.ly/python/getting-started/#initialization-for-offline-plotting) mode, or in [jupyter notebooks](https://plot.ly/python/getting-started/#start-plotting-online).\n",
    "<br>We also have a quick-reference [cheatsheet](https://images.plot.ly/plotly-documentation/images/python_cheat_sheet.pdf) (new!) to help you get started!"
   ]
  },
  {
   "cell_type": "code",
   "execution_count": 1,
   "metadata": {
    "collapsed": false
   },
   "outputs": [],
   "source": [
    "from plotly import __version__"
   ]
  },
  {
   "cell_type": "code",
   "execution_count": 2,
   "metadata": {
    "collapsed": false
   },
   "outputs": [
    {
     "data": {
      "text/plain": [
       "'1.12.12'"
      ]
     },
     "execution_count": 2,
     "metadata": {},
     "output_type": "execute_result"
    }
   ],
   "source": [
    "__version__"
   ]
  },
  {
   "cell_type": "code",
   "execution_count": 3,
   "metadata": {
    "collapsed": false
   },
   "outputs": [
    {
     "data": {
      "text/html": [
       "<script>requirejs.config({paths: { 'plotly': ['https://cdn.plot.ly/plotly-latest.min']},});if(!window.Plotly) {{require(['plotly'],function(plotly) {window.Plotly=plotly;});}}</script>"
      ],
      "text/plain": [
       "<IPython.core.display.HTML object>"
      ]
     },
     "metadata": {},
     "output_type": "display_data"
    }
   ],
   "source": [
    "import plotly.graph_objs as go\n",
    "from plotly.offline import download_plotlyjs, init_notebook_mode, iplot\n",
    "init_notebook_mode(connected=True)"
   ]
  },
  {
   "cell_type": "markdown",
   "metadata": {},
   "source": [
    "#### Funnel Charts\n",
    "\n",
    "They are often used to represent data in different stages of a business process.\n",
    "\n",
    "It’s an important mechanism in Business Intelligence to identify potential problem areas of a process. For example, it’s used to observe the revenue or loss in a sales process for each stage."
   ]
  },
  {
   "cell_type": "markdown",
   "metadata": {},
   "source": [
    "A funnel chart has multiple *phases* and *values* associated with them.\n",
    "\n",
    "Here is a table that represents a *user flow* funnel for a social media campaign. The column named 'Values' represents the total number of users at that *Phase*."
   ]
  },
  {
   "cell_type": "markdown",
   "metadata": {},
   "source": [
    "| Phases | Values |\n",
    "|:-:|:-:|\n",
    "| Visit | 13873  |\n",
    "| Sign-up  | 10553  |\n",
    "| Selection  | 5443  |\n",
    "| Purchase  | 3703  |\n",
    "| Review  | 1708  |"
   ]
  },
  {
   "cell_type": "code",
   "execution_count": 4,
   "metadata": {
    "collapsed": true
   },
   "outputs": [],
   "source": [
    "values = [13873, 10553, 5443, 3703, 1708]\n",
    "phases = ['Visit', 'Sign-up', 'Selection', 'Purchase', 'Review']\n",
    "\n",
    "# color of each funnel section\n",
    "colors = ['rgb(32,155,160)', 'rgb(253,93,124)', 'rgb(28,119,139)', 'rgb(182,231,235)', 'rgb(35,154,160)']"
   ]
  },
  {
   "cell_type": "markdown",
   "metadata": {},
   "source": [
    "A funnel section will be drawn using [Plotly shapes](https://plot.ly/python/shapes/), in the shape of a *Rectangle* or *Isosceles Trapezoid* depending on the value of the next phase.\n",
    "\n",
    "The phase having *maximum value* will have the width equal to the plot."
   ]
  },
  {
   "cell_type": "code",
   "execution_count": 5,
   "metadata": {
    "collapsed": false
   },
   "outputs": [],
   "source": [
    "from __future__ import division\n",
    "\n",
    "n_phase = len(phases)\n",
    "plot_width = 400\n",
    "\n",
    "# height of a section and difference between sections \n",
    "section_h = 100\n",
    "section_d = 10\n",
    "\n",
    "# multiplication factor to calculate the width of other sections\n",
    "unit_width = plot_width / max(values)\n",
    "\n",
    "# width of each funnel section relative to the plot width\n",
    "phase_w = [int(value * unit_width) for value in values]\n",
    "\n",
    "# plot height based on the number of sections and the gap in between them\n",
    "height = section_h * n_phase + section_d * (n_phase - 1)"
   ]
  },
  {
   "cell_type": "markdown",
   "metadata": {},
   "source": [
    "Each section will have a height of 100px and there will be a difference of 10px in successive sections.\n",
    "\n",
    "To draw a section, we are going to use [SVG paths](https://developer.mozilla.org/en/docs/Web/SVG/Tutorial/Paths)."
   ]
  },
  {
   "cell_type": "code",
   "execution_count": 6,
   "metadata": {
    "collapsed": false
   },
   "outputs": [],
   "source": [
    "# list containing all the plot shapes\n",
    "shapes = []\n",
    "\n",
    "# list containing the Y-axis location for each section's name and value text\n",
    "label_y = []\n",
    "\n",
    "for i in range(n_phase):\n",
    "        if (i == n_phase-1):\n",
    "                points = [phase_w[i] / 2, height, phase_w[i] / 2, height - section_h]\n",
    "        else:\n",
    "                points = [phase_w[i] / 2, height, phase_w[i+1] / 2, height - section_h]\n",
    "\n",
    "        path = 'M {0} {1} L {2} {3} L -{2} {3} L -{0} {1} Z'.format(*points)\n",
    "\n",
    "        shape = {\n",
    "                'type': 'path',\n",
    "                'path': path,\n",
    "                'fillcolor': colors[i],\n",
    "                'line': {\n",
    "                    'width': 1,\n",
    "                    'color': colors[i]\n",
    "                }\n",
    "        }\n",
    "        shapes.append(shape)\n",
    "        \n",
    "        # Y-axis location for this section's details (text)\n",
    "        label_y.append(height - (section_h / 2))\n",
    "\n",
    "        height = height - (section_h + section_d)"
   ]
  },
  {
   "cell_type": "markdown",
   "metadata": {},
   "source": [
    "To draw the phase names and values, we are using the *text* mode in *scatter* plots.\n",
    "\n",
    "To style the plot, we are changing the background color of the plot and the plot paper, hiding the *legend* and *tick labels*, and removing the *zeroline*."
   ]
  },
  {
   "cell_type": "code",
   "execution_count": 7,
   "metadata": {
    "collapsed": false
   },
   "outputs": [
    {
     "data": {
      "text/html": [
       "<div id=\"0fc2a86c-2b0d-4a89-8a66-1e0612427a0b\" style=\"height: 560px; width: 800px;\" class=\"plotly-graph-div\"></div><script type=\"text/javascript\">require([\"plotly\"], function(Plotly) { window.PLOTLYENV=window.PLOTLYENV || {};window.PLOTLYENV.BASE_URL=\"https://plot.ly\";Plotly.newPlot(\"0fc2a86c-2b0d-4a89-8a66-1e0612427a0b\", [{\"textfont\": {\"color\": \"rgb(200,200,200)\", \"size\": 15}, \"text\": [\"Visit\", \"Sign-up\", \"Selection\", \"Purchase\", \"Review\"], \"mode\": \"text\", \"y\": [490.0, 380.0, 270.0, 160.0, 50.0], \"x\": [-350, -350, -350, -350, -350], \"type\": \"scatter\"}, {\"textfont\": {\"color\": \"rgb(200,200,200)\", \"size\": 15}, \"text\": [13873, 10553, 5443, 3703, 1708], \"mode\": \"text\", \"y\": [490.0, 380.0, 270.0, 160.0, 50.0], \"x\": [350, 350, 350, 350, 350], \"type\": \"scatter\"}], {\"showlegend\": false, \"yaxis\": {\"zeroline\": false, \"showticklabels\": false}, \"paper_bgcolor\": \"rgba(44,58,71,1)\", \"plot_bgcolor\": \"rgba(44,58,71,1)\", \"title\": \"<b>Funnel Chart</b>\", \"height\": 560, \"shapes\": [{\"path\": \"M 200.0 540 L 152.0 440 L -152.0 440 L -200.0 540 Z\", \"line\": {\"color\": \"rgb(32,155,160)\", \"width\": 1}, \"type\": \"path\", \"fillcolor\": \"rgb(32,155,160)\"}, {\"path\": \"M 152.0 430 L 78.0 330 L -78.0 330 L -152.0 430 Z\", \"line\": {\"color\": \"rgb(253,93,124)\", \"width\": 1}, \"type\": \"path\", \"fillcolor\": \"rgb(253,93,124)\"}, {\"path\": \"M 78.0 320 L 53.0 220 L -53.0 220 L -78.0 320 Z\", \"line\": {\"color\": \"rgb(28,119,139)\", \"width\": 1}, \"type\": \"path\", \"fillcolor\": \"rgb(28,119,139)\"}, {\"path\": \"M 53.0 210 L 24.5 110 L -24.5 110 L -53.0 210 Z\", \"line\": {\"color\": \"rgb(182,231,235)\", \"width\": 1}, \"type\": \"path\", \"fillcolor\": \"rgb(182,231,235)\"}, {\"path\": \"M 24.5 100 L 24.5 0 L -24.5 0 L -24.5 100 Z\", \"line\": {\"color\": \"rgb(35,154,160)\", \"width\": 1}, \"type\": \"path\", \"fillcolor\": \"rgb(35,154,160)\"}], \"width\": 800, \"titlefont\": {\"color\": \"rgb(203,203,203)\", \"size\": 20}, \"xaxis\": {\"zeroline\": false, \"showticklabels\": false}}, {\"linkText\": \"Export to plot.ly\", \"showLink\": true})});</script>"
      ],
      "text/plain": [
       "<IPython.core.display.HTML object>"
      ]
     },
     "metadata": {},
     "output_type": "display_data"
    }
   ],
   "source": [
    "# For phase names\n",
    "label_trace = go.Scatter(\n",
    "    x=[-350]*n_phase,\n",
    "    y=label_y,\n",
    "    mode='text',\n",
    "    text=phases,\n",
    "    textfont=dict(\n",
    "        color='rgb(200,200,200)',\n",
    "        size=15\n",
    "    )\n",
    ")\n",
    " \n",
    "# For phase values\n",
    "value_trace = go.Scatter(\n",
    "    x=[350]*n_phase,\n",
    "    y=label_y,\n",
    "    mode='text',\n",
    "    text=values,\n",
    "    textfont=dict(\n",
    "        color='rgb(200,200,200)',\n",
    "        size=15\n",
    "    )\n",
    ")\n",
    "\n",
    "data = [label_trace, value_trace]\n",
    " \n",
    "layout = go.Layout(\n",
    "    title=\"<b>Funnel Chart</b>\",\n",
    "    titlefont=dict(\n",
    "        size=20,\n",
    "        color='rgb(203,203,203)'\n",
    "    ),\n",
    "    shapes=shapes,\n",
    "    height=560,\n",
    "    width=800,\n",
    "    showlegend=False,\n",
    "    paper_bgcolor='rgba(44,58,71,1)',\n",
    "    plot_bgcolor='rgba(44,58,71,1)',\n",
    "    xaxis=dict(\n",
    "        showticklabels=False,\n",
    "        zeroline=False,\n",
    "    ),\n",
    "    yaxis=dict(\n",
    "        showticklabels=False,\n",
    "        zeroline=False\n",
    "    )\n",
    ")\n",
    " \n",
    "fig = go.Figure(data=data, layout=layout)\n",
    "iplot(fig)"
   ]
  },
  {
   "cell_type": "code",
   "execution_count": 8,
   "metadata": {
    "collapsed": false
   },
   "outputs": [
    {
     "data": {
      "text/html": [
       "<link href=\"//fonts.googleapis.com/css?family=Open+Sans:600,400,300,200|Inconsolata|Ubuntu+Mono:400,700\" rel=\"stylesheet\" type=\"text/css\" />"
      ],
      "text/plain": [
       "<IPython.core.display.HTML object>"
      ]
     },
     "metadata": {},
     "output_type": "display_data"
    },
    {
     "data": {
      "text/html": [
       "<link rel=\"stylesheet\" type=\"text/css\" href=\"http://help.plot.ly/documentation/all_static/css/ipython-notebook-custom.css\">"
      ],
      "text/plain": [
       "<IPython.core.display.HTML object>"
      ]
     },
     "metadata": {},
     "output_type": "display_data"
    },
    {
     "name": "stderr",
     "output_type": "stream",
     "text": [
      "/usr/local/lib/python2.7/dist-packages/IPython/nbconvert.py:13: ShimWarning:\n",
      "\n",
      "The `IPython.nbconvert` package has been deprecated. You should import from nbconvert instead.\n",
      "\n",
      "/usr/local/lib/python2.7/dist-packages/publisher/publisher.py:53: UserWarning:\n",
      "\n",
      "Did you \"Save\" this notebook before running this command? Remember to save, always save.\n",
      "\n"
     ]
    }
   ],
   "source": [
    "from IPython.display import display, HTML\n",
    "\n",
    "display(HTML('<link href=\"//fonts.googleapis.com/css?family=Open+Sans:600,400,300,200|Inconsolata|Ubuntu+Mono:400,700\" rel=\"stylesheet\" type=\"text/css\" />'))\n",
    "display(HTML('<link rel=\"stylesheet\" type=\"text/css\" href=\"http://help.plot.ly/documentation/all_static/css/ipython-notebook-custom.css\">'))\n",
    "\n",
    "! pip install git+https://github.com/plotly/publisher.git --upgrade\n",
    "import publisher\n",
    "publisher.publish(\n",
    "    'funnel-chart.ipynb', 'python/funnel-chart/', 'Funnel Chart | plotly',\n",
    "    'How to make funnel-chart plots in Python with Plotly.',\n",
    "    title = 'Python Funnel Chart | plotly',\n",
    "    name = 'Funnel Chart',\n",
    "    has_thumbnail='true', thumbnail='thumbnail/funnel-chart.jpg', \n",
    "    language='python', page_type='example_index',\n",
    "    display_as='chart_type', order=21)"
   ]
  },
  {
   "cell_type": "code",
   "execution_count": null,
   "metadata": {
    "collapsed": true
   },
   "outputs": [],
   "source": []
  }
 ],
 "metadata": {
  "kernelspec": {
   "display_name": "Python 2",
   "language": "python",
   "name": "python2"
  },
  "language_info": {
   "codemirror_mode": {
    "name": "ipython",
    "version": 2
   },
   "file_extension": ".py",
   "mimetype": "text/x-python",
   "name": "python",
   "nbconvert_exporter": "python",
   "pygments_lexer": "ipython2",
   "version": "2.7.6"
  }
 },
 "nbformat": 4,
 "nbformat_minor": 2
}
