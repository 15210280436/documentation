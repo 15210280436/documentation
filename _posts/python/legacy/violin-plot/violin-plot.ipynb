{
 "cells": [
  {
   "cell_type": "markdown",
   "metadata": {},
   "source": [
    "#### New to Plotly?\n",
    "Plotly's Python library is free and open source! [Get started](https://plot.ly/python/getting-started/) by downloading the client and [reading the primer](https://plot.ly/python/getting-started/).\n",
    "<br>You can set up Plotly to work in [online](https://plot.ly/python/getting-started/#initialization-for-online-plotting) or [offline](https://plot.ly/python/getting-started/#initialization-for-offline-plotting) mode, or in [jupyter notebooks](https://plot.ly/python/getting-started/#start-plotting-online).\n",
    "<br>We also have a quick-reference [cheatsheet](https://images.plot.ly/plotly-documentation/images/python_cheat_sheet.pdf) (new!) to help you get started!"
   ]
  },
  {
   "cell_type": "markdown",
   "metadata": {},
   "source": [
    "#### Version Check\n",
    "Note: Violin Plots are available in version <b>1.12.1+</b><br>\n",
    "Run  `pip install plotly --upgrade` to update your Plotly version."
   ]
  },
  {
   "cell_type": "code",
   "execution_count": 3,
   "metadata": {},
   "outputs": [
    {
     "data": {
      "text/plain": [
       "'2.4.0'"
      ]
     },
     "execution_count": 3,
     "metadata": {},
     "output_type": "execute_result"
    }
   ],
   "source": [
    "import plotly\n",
    "plotly.__version__"
   ]
  },
  {
   "cell_type": "markdown",
   "metadata": {},
   "source": [
    "#### One Violin"
   ]
  },
  {
   "cell_type": "code",
   "execution_count": 6,
   "metadata": {},
   "outputs": [
    {
     "ename": "AttributeError",
     "evalue": "'NoneType' object has no attribute 'gaussian_kde'",
     "output_type": "error",
     "traceback": [
      "\u001b[1;31m---------------------------------------------------------------------------\u001b[0m",
      "\u001b[1;31mAttributeError\u001b[0m                            Traceback (most recent call last)",
      "\u001b[1;32m<ipython-input-6-b85fdefeb83c>\u001b[0m in \u001b[0;36m<module>\u001b[1;34m()\u001b[0m\n\u001b[0;32m      9\u001b[0m \u001b[0mdata_list\u001b[0m\u001b[1;33m.\u001b[0m\u001b[0mtolist\u001b[0m\u001b[1;33m(\u001b[0m\u001b[1;33m)\u001b[0m\u001b[1;33m\u001b[0m\u001b[0m\n\u001b[0;32m     10\u001b[0m \u001b[1;33m\u001b[0m\u001b[0m\n\u001b[1;32m---> 11\u001b[1;33m \u001b[0mfig\u001b[0m \u001b[1;33m=\u001b[0m \u001b[0mff\u001b[0m\u001b[1;33m.\u001b[0m\u001b[0mcreate_violin\u001b[0m\u001b[1;33m(\u001b[0m\u001b[0mdata_list\u001b[0m\u001b[1;33m,\u001b[0m \u001b[0mcolors\u001b[0m\u001b[1;33m=\u001b[0m\u001b[1;34m'#604d9e'\u001b[0m\u001b[1;33m)\u001b[0m\u001b[1;33m\u001b[0m\u001b[0m\n\u001b[0m\u001b[0;32m     12\u001b[0m \u001b[0mpy\u001b[0m\u001b[1;33m.\u001b[0m\u001b[0miplot\u001b[0m\u001b[1;33m(\u001b[0m\u001b[0mfig\u001b[0m\u001b[1;33m,\u001b[0m \u001b[0mfilename\u001b[0m\u001b[1;33m=\u001b[0m\u001b[1;34m'One Violin'\u001b[0m\u001b[1;33m)\u001b[0m\u001b[1;33m\u001b[0m\u001b[0m\n",
      "\u001b[1;32mC:\\Users\\Branden\\Anaconda3\\envs\\ipykernel_py2\\lib\\site-packages\\plotly\\figure_factory\\_violin.pyc\u001b[0m in \u001b[0;36mcreate_violin\u001b[1;34m(data, data_header, group_header, colors, use_colorscale, group_stats, rugplot, sort, height, width, title)\u001b[0m\n\u001b[0;32m    573\u001b[0m         \u001b[1;31m# call the plotting functions\u001b[0m\u001b[1;33m\u001b[0m\u001b[1;33m\u001b[0m\u001b[0m\n\u001b[0;32m    574\u001b[0m         plot_data, plot_xrange = violinplot(data, fillcolor=valid_colors[0],\n\u001b[1;32m--> 575\u001b[1;33m                                             rugplot=rugplot)\n\u001b[0m\u001b[0;32m    576\u001b[0m \u001b[1;33m\u001b[0m\u001b[0m\n\u001b[0;32m    577\u001b[0m         layout = graph_objs.Layout(\n",
      "\u001b[1;32mC:\\Users\\Branden\\Anaconda3\\envs\\ipykernel_py2\\lib\\site-packages\\plotly\\figure_factory\\_violin.pyc\u001b[0m in \u001b[0;36mviolinplot\u001b[1;34m(vals, fillcolor, rugplot)\u001b[0m\n\u001b[0;32m    173\u001b[0m \u001b[1;33m\u001b[0m\u001b[0m\n\u001b[0;32m    174\u001b[0m     \u001b[1;31m# kernel density estimation of pdf\u001b[0m\u001b[1;33m\u001b[0m\u001b[1;33m\u001b[0m\u001b[0m\n\u001b[1;32m--> 175\u001b[1;33m     \u001b[0mpdf\u001b[0m \u001b[1;33m=\u001b[0m \u001b[0mscipy_stats\u001b[0m\u001b[1;33m.\u001b[0m\u001b[0mgaussian_kde\u001b[0m\u001b[1;33m(\u001b[0m\u001b[0mvals\u001b[0m\u001b[1;33m)\u001b[0m\u001b[1;33m\u001b[0m\u001b[0m\n\u001b[0m\u001b[0;32m    176\u001b[0m     \u001b[1;31m# grid over the data interval\u001b[0m\u001b[1;33m\u001b[0m\u001b[1;33m\u001b[0m\u001b[0m\n\u001b[0;32m    177\u001b[0m     \u001b[0mxx\u001b[0m \u001b[1;33m=\u001b[0m \u001b[0mnp\u001b[0m\u001b[1;33m.\u001b[0m\u001b[0mlinspace\u001b[0m\u001b[1;33m(\u001b[0m\u001b[0mvals_min\u001b[0m\u001b[1;33m,\u001b[0m \u001b[0mvals_max\u001b[0m\u001b[1;33m,\u001b[0m \u001b[1;36m100\u001b[0m\u001b[1;33m)\u001b[0m\u001b[1;33m\u001b[0m\u001b[0m\n",
      "\u001b[1;31mAttributeError\u001b[0m: 'NoneType' object has no attribute 'gaussian_kde'"
     ]
    }
   ],
   "source": [
    "import plotly.plotly as py\n",
    "import plotly.figure_factory as ff\n",
    "from plotly.graph_objs import graph_objs\n",
    "\n",
    "import numpy as np\n",
    "from scipy import stats\n",
    "\n",
    "data_list = np.random.randn(100)\n",
    "data_list.tolist()\n",
    "\n",
    "fig = ff.create_violin(data_list, colors='#604d9e')\n",
    "py.iplot(fig, filename='One Violin')"
   ]
  },
  {
   "cell_type": "markdown",
   "metadata": {},
   "source": [
    "#### Multiple Violins"
   ]
  },
  {
   "cell_type": "code",
   "execution_count": 7,
   "metadata": {},
   "outputs": [
    {
     "ename": "AttributeError",
     "evalue": "'NoneType' object has no attribute 'gaussian_kde'",
     "output_type": "error",
     "traceback": [
      "\u001b[1;31m---------------------------------------------------------------------------\u001b[0m",
      "\u001b[1;31mAttributeError\u001b[0m                            Traceback (most recent call last)",
      "\u001b[1;32m<ipython-input-7-fea9b3d0690e>\u001b[0m in \u001b[0;36m<module>\u001b[1;34m()\u001b[0m\n\u001b[0;32m     18\u001b[0m \u001b[1;33m\u001b[0m\u001b[0m\n\u001b[0;32m     19\u001b[0m fig = ff.create_violin(df, data_header='Score', group_header='Group',\n\u001b[1;32m---> 20\u001b[1;33m                        height=500, width=800)\n\u001b[0m\u001b[0;32m     21\u001b[0m \u001b[0mpy\u001b[0m\u001b[1;33m.\u001b[0m\u001b[0miplot\u001b[0m\u001b[1;33m(\u001b[0m\u001b[0mfig\u001b[0m\u001b[1;33m,\u001b[0m \u001b[0mfilename\u001b[0m\u001b[1;33m=\u001b[0m\u001b[1;34m'Multiple Violins'\u001b[0m\u001b[1;33m)\u001b[0m\u001b[1;33m\u001b[0m\u001b[0m\n",
      "\u001b[1;32mC:\\Users\\Branden\\Anaconda3\\envs\\ipykernel_py2\\lib\\site-packages\\plotly\\figure_factory\\_violin.pyc\u001b[0m in \u001b[0;36mcreate_violin\u001b[1;34m(data, data_header, group_header, colors, use_colorscale, group_stats, rugplot, sort, height, width, title)\u001b[0m\n\u001b[0;32m    619\u001b[0m                     \u001b[0mdata\u001b[0m\u001b[1;33m,\u001b[0m \u001b[0mdata_header\u001b[0m\u001b[1;33m,\u001b[0m \u001b[0mgroup_header\u001b[0m\u001b[1;33m,\u001b[0m \u001b[0mvalid_colors\u001b[0m\u001b[1;33m,\u001b[0m\u001b[1;33m\u001b[0m\u001b[0m\n\u001b[0;32m    620\u001b[0m                     \u001b[0muse_colorscale\u001b[0m\u001b[1;33m,\u001b[0m \u001b[0mgroup_stats\u001b[0m\u001b[1;33m,\u001b[0m \u001b[0mrugplot\u001b[0m\u001b[1;33m,\u001b[0m \u001b[0msort\u001b[0m\u001b[1;33m,\u001b[0m\u001b[1;33m\u001b[0m\u001b[0m\n\u001b[1;32m--> 621\u001b[1;33m                     \u001b[0mheight\u001b[0m\u001b[1;33m,\u001b[0m \u001b[0mwidth\u001b[0m\u001b[1;33m,\u001b[0m \u001b[0mtitle\u001b[0m\u001b[1;33m\u001b[0m\u001b[0m\n\u001b[0m\u001b[0;32m    622\u001b[0m                 )\n\u001b[0;32m    623\u001b[0m                 \u001b[1;32mreturn\u001b[0m \u001b[0mfig\u001b[0m\u001b[1;33m\u001b[0m\u001b[0m\n",
      "\u001b[1;32mC:\\Users\\Branden\\Anaconda3\\envs\\ipykernel_py2\\lib\\site-packages\\plotly\\figure_factory\\_violin.pyc\u001b[0m in \u001b[0;36mviolin_no_colorscale\u001b[1;34m(data, data_header, group_header, colors, use_colorscale, group_stats, rugplot, sort, height, width, title)\u001b[0m\n\u001b[0;32m    226\u001b[0m         plot_data, plot_xrange = violinplot(vals,\n\u001b[0;32m    227\u001b[0m                                             \u001b[0mfillcolor\u001b[0m\u001b[1;33m=\u001b[0m\u001b[0mcolors\u001b[0m\u001b[1;33m[\u001b[0m\u001b[0mcolor_index\u001b[0m\u001b[1;33m]\u001b[0m\u001b[1;33m,\u001b[0m\u001b[1;33m\u001b[0m\u001b[0m\n\u001b[1;32m--> 228\u001b[1;33m                                             rugplot=rugplot)\n\u001b[0m\u001b[0;32m    229\u001b[0m         \u001b[0mlayout\u001b[0m \u001b[1;33m=\u001b[0m \u001b[0mgraph_objs\u001b[0m\u001b[1;33m.\u001b[0m\u001b[0mLayout\u001b[0m\u001b[1;33m(\u001b[0m\u001b[1;33m)\u001b[0m\u001b[1;33m\u001b[0m\u001b[0m\n\u001b[0;32m    230\u001b[0m \u001b[1;33m\u001b[0m\u001b[0m\n",
      "\u001b[1;32mC:\\Users\\Branden\\Anaconda3\\envs\\ipykernel_py2\\lib\\site-packages\\plotly\\figure_factory\\_violin.pyc\u001b[0m in \u001b[0;36mviolinplot\u001b[1;34m(vals, fillcolor, rugplot)\u001b[0m\n\u001b[0;32m    173\u001b[0m \u001b[1;33m\u001b[0m\u001b[0m\n\u001b[0;32m    174\u001b[0m     \u001b[1;31m# kernel density estimation of pdf\u001b[0m\u001b[1;33m\u001b[0m\u001b[1;33m\u001b[0m\u001b[0m\n\u001b[1;32m--> 175\u001b[1;33m     \u001b[0mpdf\u001b[0m \u001b[1;33m=\u001b[0m \u001b[0mscipy_stats\u001b[0m\u001b[1;33m.\u001b[0m\u001b[0mgaussian_kde\u001b[0m\u001b[1;33m(\u001b[0m\u001b[0mvals\u001b[0m\u001b[1;33m)\u001b[0m\u001b[1;33m\u001b[0m\u001b[0m\n\u001b[0m\u001b[0;32m    176\u001b[0m     \u001b[1;31m# grid over the data interval\u001b[0m\u001b[1;33m\u001b[0m\u001b[1;33m\u001b[0m\u001b[0m\n\u001b[0;32m    177\u001b[0m     \u001b[0mxx\u001b[0m \u001b[1;33m=\u001b[0m \u001b[0mnp\u001b[0m\u001b[1;33m.\u001b[0m\u001b[0mlinspace\u001b[0m\u001b[1;33m(\u001b[0m\u001b[0mvals_min\u001b[0m\u001b[1;33m,\u001b[0m \u001b[0mvals_max\u001b[0m\u001b[1;33m,\u001b[0m \u001b[1;36m100\u001b[0m\u001b[1;33m)\u001b[0m\u001b[1;33m\u001b[0m\u001b[0m\n",
      "\u001b[1;31mAttributeError\u001b[0m: 'NoneType' object has no attribute 'gaussian_kde'"
     ]
    }
   ],
   "source": [
    "import plotly.plotly as py\n",
    "import plotly.figure_factory as ff\n",
    "from plotly.graph_objs import graph_objs\n",
    "\n",
    "import numpy as np\n",
    "import pandas as pd\n",
    "from scipy import stats\n",
    "\n",
    "np.random.seed(619517)\n",
    "Nr = 250\n",
    "y = np.random.randn(Nr)\n",
    "gr = np.random.choice(list(\"ABCDE\"), Nr)\n",
    "norm_params = [(0, 1.2), (0.7, 1), (-0.5, 1.4), (0.3, 1), (0.8, 0.9)]\n",
    "\n",
    "for i, letter in enumerate(\"ABCDE\"):\n",
    "    y[gr == letter] *= norm_params[i][1] + norm_params[i][0]\n",
    "df = pd.DataFrame(dict(Score = y, Group = gr))\n",
    "\n",
    "fig = ff.create_violin(df, data_header='Score', group_header='Group',\n",
    "                       height=500, width=800)\n",
    "py.iplot(fig, filename='Multiple Violins')"
   ]
  },
  {
   "cell_type": "markdown",
   "metadata": {},
   "source": [
    "#### Violin Plots with Colorscale"
   ]
  },
  {
   "cell_type": "code",
   "execution_count": null,
   "metadata": {},
   "outputs": [],
   "source": [
    "import plotly.plotly as py\n",
    "import plotly.figure_factory as ff\n",
    "from plotly.graph_objs import graph_objs\n",
    "\n",
    "import numpy as np\n",
    "import pandas as pd\n",
    "from scipy import stats\n",
    "\n",
    "np.random.seed(619517)\n",
    "Nr = 250\n",
    "y = np.random.randn(Nr)\n",
    "gr = np.random.choice(list(\"ABCDE\"), Nr)\n",
    "norm_params = [(0, 1.2), (0.7, 1), (-0.5, 1.4), (0.3, 1), (0.8, 0.9)]\n",
    "\n",
    "for i, letter in enumerate(\"ABCDE\"):\n",
    "    y[gr == letter] *= norm_params[i][1] + norm_params[i][0]\n",
    "df = pd.DataFrame(dict(Score = y, Group = gr))\n",
    "\n",
    "data_header = 'Score'\n",
    "group_header = 'Group'\n",
    "\n",
    "group_stats = {}\n",
    "groupby_data = df.groupby([group_header])\n",
    "\n",
    "for group in \"ABCDE\":\n",
    "    data_from_group = groupby_data.get_group(group)[data_header]\n",
    "    stat = np.median(data_from_group)\n",
    "    group_stats[group] = stat\n",
    "\n",
    "fig = ff.create_violin(df, data_header='Score', group_header='Group',\n",
    "                       colors='YlOrRd', height=500, width=800,\n",
    "                       use_colorscale=True, group_stats=group_stats)\n",
    "py.iplot(fig, filename='Violin Plots with Colorscale')"
   ]
  },
  {
   "cell_type": "markdown",
   "metadata": {},
   "source": [
    "#### Violin Plots with Dictionary Colors"
   ]
  },
  {
   "cell_type": "code",
   "execution_count": null,
   "metadata": {},
   "outputs": [],
   "source": [
    "import plotly.plotly as py\n",
    "import plotly.figure_factory as ff\n",
    "from plotly.graph_objs import graph_objs\n",
    "\n",
    "import numpy as np\n",
    "import pandas as pd\n",
    "from scipy import stats\n",
    "\n",
    "np.random.seed(619517)\n",
    "Nr = 250\n",
    "y = np.random.randn(Nr)\n",
    "gr = np.random.choice(list(\"ABCDE\"), Nr)\n",
    "norm_params = [(0, 1.2), (0.7, 1), (-0.5, 1.4), (0.3, 1), (0.8, 0.9)]\n",
    "\n",
    "for i, letter in enumerate(\"ABCDE\"):\n",
    "    y[gr == letter] *= norm_params[i][1] + norm_params[i][0]\n",
    "df = pd.DataFrame(dict(Score = y, Group = gr))\n",
    "\n",
    "data_header = 'Score'\n",
    "group_header = 'Group'\n",
    "\n",
    "colors_dict = dict(A = 'rgb(25, 200, 120)',\n",
    "                   B = '#aa6ff60',\n",
    "                   C = (0.3, 0.7, 0.3),\n",
    "                   D = 'rgb(175, 25, 122)',\n",
    "                   E = 'rgb(255, 150, 226)')\n",
    "\n",
    "fig = ff.create_violin(df, data_header='Score', group_header='Group',\n",
    "                       colors=colors_dict, height=500, width=800,\n",
    "                       use_colorscale=False)\n",
    "py.iplot(fig, filename='Violin Plots with Dictionary Colors')"
   ]
  },
  {
   "cell_type": "markdown",
   "metadata": {},
   "source": [
    "#### Reference"
   ]
  },
  {
   "cell_type": "code",
   "execution_count": null,
   "metadata": {},
   "outputs": [],
   "source": [
    "help(ff.create_violin)"
   ]
  },
  {
   "cell_type": "code",
   "execution_count": 7,
   "metadata": {},
   "outputs": [
    {
     "data": {
      "text/html": [
       "<link href=\"//fonts.googleapis.com/css?family=Open+Sans:600,400,300,200|Inconsolata|Ubuntu+Mono:400,700\" rel=\"stylesheet\" type=\"text/css\" />"
      ],
      "text/plain": [
       "<IPython.core.display.HTML object>"
      ]
     },
     "metadata": {},
     "output_type": "display_data"
    },
    {
     "data": {
      "text/html": [
       "<link rel=\"stylesheet\" type=\"text/css\" href=\"http://help.plot.ly/documentation/all_static/css/ipython-notebook-custom.css\">"
      ],
      "text/plain": [
       "<IPython.core.display.HTML object>"
      ]
     },
     "metadata": {},
     "output_type": "display_data"
    },
    {
     "name": "stderr",
     "output_type": "stream",
     "text": [
      "/usr/local/lib/python2.7/site-packages/IPython/nbconvert.py:13: ShimWarning:\n",
      "\n",
      "The `IPython.nbconvert` package has been deprecated. You should import from nbconvert instead.\n",
      "\n",
      "/usr/local/lib/python2.7/site-packages/publisher/publisher.py:53: UserWarning:\n",
      "\n",
      "Did you \"Save\" this notebook before running this command? Remember to save, always save.\n",
      "\n"
     ]
    }
   ],
   "source": [
    "from IPython.display import display, HTML\n",
    "\n",
    "display(HTML('<link href=\"//fonts.googleapis.com/css?family=Open+Sans:600,400,300,200|Inconsolata|Ubuntu+Mono:400,700\" rel=\"stylesheet\" type=\"text/css\" />'))\n",
    "display(HTML('<link rel=\"stylesheet\" type=\"text/css\" href=\"http://help.plot.ly/documentation/all_static/css/ipython-notebook-custom.css\">'))\n",
    "\n",
    "! pip install git+https://github.com/plotly/publisher.git --upgrade\n",
    "import publisher\n",
    "publisher.publish(\n",
    "    'violin-plot.ipynb', 'python/legacy/violin-plot/', 'Violin Plots [Legacy]',\n",
    "    'How to make Violin Plots in Python with Plotly. A Violin Plot is a plot of numeric data with probability distributions drawn on both sides on the plotted data.',\n",
    "    title='Python Violin Plots | plotly',\n",
    "    name='Violin Plots',\n",
    "    thumbnail='thumbnail/violin-plot.jpg', language='python',\n",
    "    has_thumbnail='true', display_as='legacy_charts', order=2,\n",
    "    ipynb= '~notebook_demo/26')"
   ]
  },
  {
   "cell_type": "code",
   "execution_count": null,
   "metadata": {
    "collapsed": true
   },
   "outputs": [],
   "source": []
  }
 ],
 "metadata": {
  "anaconda-cloud": {},
  "kernelspec": {
   "display_name": "Python 2",
   "language": "python",
   "name": "python2"
  },
  "language_info": {
   "codemirror_mode": {
    "name": "ipython",
    "version": 2
   },
   "file_extension": ".py",
   "mimetype": "text/x-python",
   "name": "python",
   "nbconvert_exporter": "python",
   "pygments_lexer": "ipython2",
   "version": "2.7.12"
  }
 },
 "nbformat": 4,
 "nbformat_minor": 1
}
