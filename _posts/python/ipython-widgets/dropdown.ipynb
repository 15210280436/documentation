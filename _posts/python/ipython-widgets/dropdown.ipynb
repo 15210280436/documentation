{
 "cells": [
  {
   "cell_type": "markdown",
   "metadata": {
    "collapsed": true
   },
   "source": [
    "#### New to Plotly?\n",
    "Plotly's Python library is free and open source! [Get started](https://plot.ly/python/getting-started/) by dowloading the client and [reading the primer](https://plot.ly/python/getting-started/).\n",
    "<br>You can set up Plotly to work in [online](https://plot.ly/python/getting-started/#initialization-for-online-plotting) or [offline](https://plot.ly/python/getting-started/#initialization-for-offline-plotting) mode, or in [jupyter notebooks](https://plot.ly/python/getting-started/#start-plotting-online).\n",
    "<br>We also have a quick-reference [cheatsheet](https://images.plot.ly/plotly-documentation/images/python_cheat_sheet.pdf) (new!) to help you get started!"
   ]
  },
  {
   "cell_type": "markdown",
   "metadata": {},
   "source": [
    "#### Simple Dropdown Widget"
   ]
  },
  {
   "cell_type": "code",
   "execution_count": 20,
   "metadata": {
    "collapsed": false,
    "scrolled": true
   },
   "outputs": [],
   "source": [
    "import pandas as pd\n",
    "import datetime\n",
    "\n",
    "from IPython.html import widgets \n",
    "from IPython.display import display, clear_output, Image\n",
    "\n",
    "import plotly.plotly as py\n",
    "from plotly.graph_objs import *\n",
    "import plotly\n",
    "from plotly.widgets import GraphWidget"
   ]
  },
  {
   "cell_type": "code",
   "execution_count": 16,
   "metadata": {
    "collapsed": false
   },
   "outputs": [],
   "source": [
    "g = GraphWidget('https://plot.ly/~kevintest/1149/')\n",
    "w = widgets.Dropdown(\n",
    "    options=['red', 'blue', 'green'],\n",
    "    value='blue',\n",
    "    description='Colour:',\n",
    ")\n",
    "\n",
    "def update_on_change(change):\n",
    "   g.restyle({'marker.color': change['new']})\n",
    "    \n",
    "    \n",
    "w.observe(update_on_change, names=\"selected_label\")\n",
    "\n",
    "display(w)\n",
    "display(g)"
   ]
  },
  {
   "cell_type": "code",
   "execution_count": 21,
   "metadata": {
    "collapsed": false
   },
   "outputs": [
    {
     "data": {
      "text/html": [
       "<img src=\"https://cloud.githubusercontent.com/assets/12302455/16567268/929e1f46-41ea-11e6-8163-096e5a4f4502.gif\">"
      ],
      "text/plain": [
       "<IPython.core.display.HTML object>"
      ]
     },
     "metadata": {},
     "output_type": "display_data"
    }
   ],
   "source": [
    "%%html\n",
    "<img src=\"https://cloud.githubusercontent.com/assets/12302455/16567268/929e1f46-41ea-11e6-8163-096e5a4f4502.gif\">"
   ]
  },
  {
   "cell_type": "markdown",
   "metadata": {},
   "source": [
    "#### Dropdown Widget with Real Data"
   ]
  },
  {
   "cell_type": "markdown",
   "metadata": {},
   "source": [
    "We will be using the `pandas` data package in order to "
   ]
  },
  {
   "cell_type": "code",
   "execution_count": 2,
   "metadata": {
    "collapsed": false
   },
   "outputs": [
    {
     "name": "stderr",
     "output_type": "stream",
     "text": [
      "/Library/Frameworks/Python.framework/Versions/2.7/lib/python2.7/site-packages/pandas/io/parsers.py:1170: DtypeWarning:\n",
      "\n",
      "Columns (8) have mixed types. Specify dtype option on import or set low_memory=False.\n",
      "\n"
     ]
    }
   ],
   "source": [
    "import pandas as pd\n",
    "complaints = pd.read_csv('https://raw.githubusercontent.com/jvns/pandas-cookbook/master/data/311-service-requests.csv')"
   ]
  },
  {
   "cell_type": "code",
   "execution_count": 14,
   "metadata": {
    "collapsed": false
   },
   "outputs": [],
   "source": [
    "def update_plot(complaint):\n",
    "    is_noise = complaints['Complaint Type'] == complaint['new']\n",
    "    temp = complaints[is_noise]\n",
    "    data = temp.groupby(complaints['Borough'])['Complaint Type'].count()\n",
    "    \n",
    "    x = []\n",
    "    y = []\n",
    "    for i in range(len(data)):\n",
    "        x.append(data.index[i])\n",
    "        y.append(data[i])\n",
    "\n",
    "    graph.restyle({\n",
    "                'x': [x],\n",
    "                'y': [y],\n",
    "            })\n",
    "    graph.relayout({'title': 'Number of {} Complaints in New York by Borough'.format(complaint['new'])})\n"
   ]
  },
  {
   "cell_type": "code",
   "execution_count": 15,
   "metadata": {
    "collapsed": false
   },
   "outputs": [],
   "source": [
    "w = widgets.Dropdown(\n",
    "    options= list(complaints['Complaint Type'].unique()),\n",
    "    value='Noise - Street/Sidewalk',\n",
    "    description='Complaint Type:',\n",
    ")\n",
    "graph = GraphWidget('https://plot.ly/~kevintest/1176/')\n",
    "\n",
    "w.observe(update_plot, names=\"selected_label\")\n",
    "display(w)\n",
    "display(graph)"
   ]
  },
  {
   "cell_type": "code",
   "execution_count": 26,
   "metadata": {
    "collapsed": false
   },
   "outputs": [
    {
     "data": {
      "text/html": [
       "<img src=\"https://cloud.githubusercontent.com/assets/12302455/16567269/929f60e0-41ea-11e6-9bb4-2d3acbdc98f6.gif\">"
      ],
      "text/plain": [
       "<IPython.core.display.HTML object>"
      ]
     },
     "metadata": {},
     "output_type": "display_data"
    }
   ],
   "source": [
    "%%html\n",
    "<img src=\"https://cloud.githubusercontent.com/assets/12302455/16567269/929f60e0-41ea-11e6-9bb4-2d3acbdc98f6.gif\">"
   ]
  },
  {
   "cell_type": "markdown",
   "metadata": {},
   "source": [
    "#### Reference\n",
    "See https://plot.ly/python/ for more information and examples."
   ]
  },
  {
   "cell_type": "code",
   "execution_count": 27,
   "metadata": {
    "collapsed": false
   },
   "outputs": [
    {
     "data": {
      "text/html": [
       "<link href=\"//fonts.googleapis.com/css?family=Open+Sans:600,400,300,200|Inconsolata|Ubuntu+Mono:400,700\" rel=\"stylesheet\" type=\"text/css\" />"
      ],
      "text/plain": [
       "<IPython.core.display.HTML object>"
      ]
     },
     "metadata": {},
     "output_type": "display_data"
    },
    {
     "data": {
      "text/html": [
       "<link rel=\"stylesheet\" type=\"text/css\" href=\"http://help.plot.ly/documentation/all_static/css/ipython-notebook-custom.css\">"
      ],
      "text/plain": [
       "<IPython.core.display.HTML object>"
      ]
     },
     "metadata": {},
     "output_type": "display_data"
    },
    {
     "name": "stdout",
     "output_type": "stream",
     "text": [
      "Collecting git+https://github.com/plotly/publisher.git\n",
      "  Cloning https://github.com/plotly/publisher.git to /var/folders/j3/gt_q6y096cjfts4q8zq2dm2c0000gn/T/pip-jjugZO-build\n",
      "Installing collected packages: publisher\n",
      "  Found existing installation: publisher 0.10\n",
      "    Uninstalling publisher-0.10:\n",
      "      Successfully uninstalled publisher-0.10\n",
      "  Running setup.py install for publisher\n",
      "Successfully installed publisher-0.10\n"
     ]
    }
   ],
   "source": [
    "from IPython.display import display, HTML\n",
    "\n",
    "display(HTML('<link href=\"//fonts.googleapis.com/css?family=Open+Sans:600,400,300,200|Inconsolata|Ubuntu+Mono:400,700\" rel=\"stylesheet\" type=\"text/css\" />'))\n",
    "display(HTML('<link rel=\"stylesheet\" type=\"text/css\" href=\"http://help.plot.ly/documentation/all_static/css/ipython-notebook-custom.css\">'))\n",
    "\n",
    "! pip install git+https://github.com/plotly/publisher.git --upgrade\n",
    "    \n",
    "import publisher\n",
    "publisher.publish(\n",
    "    'dropdown.ipynb', 'python/dropdown-widget/', 'IPython Widgets | plotly',\n",
    "    'How to make a dropdown widgets with Plotly',\n",
    "    title = 'Dropdown Widget in Plotly',\n",
    "    name = 'Dropdown Widget in Plotly',\n",
    "    has_thumbnail='true', thumbnail='thumbnail/dropdown-widget.jpg', \n",
    "    language='python', page_type='example_index', \n",
    "    display_as='chart_events', order=21)"
   ]
  },
  {
   "cell_type": "code",
   "execution_count": null,
   "metadata": {
    "collapsed": true
   },
   "outputs": [],
   "source": []
  }
 ],
 "metadata": {
  "kernelspec": {
   "display_name": "Python 2",
   "language": "python",
   "name": "python2"
  },
  "language_info": {
   "codemirror_mode": {
    "name": "ipython",
    "version": 2
   },
   "file_extension": ".py",
   "mimetype": "text/x-python",
   "name": "python",
   "nbconvert_exporter": "python",
   "pygments_lexer": "ipython2",
   "version": "2.7.9"
  }
 },
 "nbformat": 4,
 "nbformat_minor": 0
}
