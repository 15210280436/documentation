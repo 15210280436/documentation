{
 "cells": [
  {
   "cell_type": "markdown",
   "metadata": {},
   "source": [
    "#### New to Plotly?\n",
    "Plotly's Python library is free and open source! [Get started](https://plot.ly/python/getting-started/) by downloading the client and [reading the primer](https://plot.ly/python/getting-started/).\n",
    "<br>You can set up Plotly to work in [online](https://plot.ly/python/getting-started/#initialization-for-online-plotting) or [offline](https://plot.ly/python/getting-started/#initialization-for-offline-plotting) mode, or in [jupyter notebooks](https://plot.ly/python/getting-started/#start-plotting-online).\n",
    "<br>We also have a quick-reference [cheatsheet](https://images.plot.ly/plotly-documentation/images/python_cheat_sheet.pdf) (new!) to help you get started!"
   ]
  },
  {
   "cell_type": "markdown",
   "metadata": {},
   "source": [
    "#### Version Check\n",
    "Note: `Bullet Charts` are available in version <b>2.2.2+</b><br>\n",
    "Run  `pip install plotly --upgrade` to update your Plotly version"
   ]
  },
  {
   "cell_type": "code",
   "execution_count": 3,
   "metadata": {},
   "outputs": [
    {
     "data": {
      "text/plain": [
       "'2.2.2'"
      ]
     },
     "execution_count": 3,
     "metadata": {},
     "output_type": "execute_result"
    }
   ],
   "source": [
    "import plotly\n",
    "plotly.__version__"
   ]
  },
  {
   "cell_type": "markdown",
   "metadata": {},
   "source": [
    "#### Simple Bullet Chart\n",
    "Stephen Few's Bullet Chart was invented to replace dashboard gagues and meters, combining both types of charts into simple bar charts with qualitative bars (`ranges`), quantitiative bars (`measures`) and performance points (`markers`) all into one simple layout. `ranges` typically are broken into three values: bad, okay, good, the `measures` are the darker bars that represent the actual values that a particular variable reached, and the points or `markers` usually indicate a goal point relative to the value achieved by the measure bar.\n",
    "\n",
    "To use this figure factory, you can input either a pandas DataFrame as your data, or a sequence (ex. list, tuple, np.array, etc.) of dictionaries. You must map the column to the name of the particular column or key in your data. For example, if you want column `A` in your DataFrame to be the `measures` column, your function call will look like:\n",
    "\n",
    "```\n",
    "ff.create_bullet(data, measures='A', ...)\n",
    "```\n",
    "\n",
    "The valid params to set your DataFrame columns or dictionary keys to are `titles`, `subtitles`, `ranges`, `measures` and `markers`. The variable for `titles` and `subtitles` must contain strings as its elements and the rest lists."
   ]
  },
  {
   "cell_type": "code",
   "execution_count": 8,
   "metadata": {},
   "outputs": [
    {
     "data": {
      "text/html": [
       "<iframe id=\"igraph\" scrolling=\"no\" style=\"border:none;\" seamless=\"seamless\" src=\"https://plot.ly/~AdamKulidjian/5398.embed\" height=\"600px\" width=\"1000px\"></iframe>"
      ],
      "text/plain": [
       "<plotly.tools.PlotlyDisplay object>"
      ]
     },
     "execution_count": 8,
     "metadata": {},
     "output_type": "execute_result"
    }
   ],
   "source": [
    "import plotly.plotly as py\n",
    "import plotly.figure_factory as ff\n",
    "\n",
    "import pandas as pd\n",
    "\n",
    "data = pd.read_json('https://cdn.rawgit.com/plotly/datasets/master/BulletData.json')\n",
    "\n",
    "fig = ff.create_bullet(\n",
    "    data, markers='markers', measures='measures',\n",
    "    ranges='ranges', subtitles='subtitle', titles='title',\n",
    ")\n",
    "py.iplot(fig, filename='bullet chart from a dataframe')"
   ]
  },
  {
   "cell_type": "markdown",
   "metadata": {},
   "source": [
    "#### Vertical Bullet Chart\n",
    "This example uses a tuple of dictionaries as its data input."
   ]
  },
  {
   "cell_type": "code",
   "execution_count": 5,
   "metadata": {},
   "outputs": [
    {
     "data": {
      "text/html": [
       "<iframe id=\"igraph\" scrolling=\"no\" style=\"border:none;\" seamless=\"seamless\" src=\"https://plot.ly/~AdamKulidjian/5404.embed\" height=\"600px\" width=\"1000px\"></iframe>"
      ],
      "text/plain": [
       "<plotly.tools.PlotlyDisplay object>"
      ]
     },
     "execution_count": 5,
     "metadata": {},
     "output_type": "execute_result"
    }
   ],
   "source": [
    "import plotly.plotly as py\n",
    "import plotly.figure_factory as ff\n",
    "\n",
    "data = (\n",
    "  {\"label\": \"Revenue\", \"sublabel\": \"US$, in thousands\",\n",
    "   \"range\": [150, 225, 300], \"performance\": [220,270], \"point\": [250]},\n",
    "  {\"label\": \"Profit\", \"sublabel\": \"%\", \"range\": [20, 25, 30],\n",
    "   \"performance\": [21, 23], \"point\": [26]},\n",
    "  {\"label\": \"Order Size\", \"sublabel\":\"US$, average\",\"range\": [350, 500, 600],\n",
    "   \"performance\": [100,320],\"point\": [550]},\n",
    "  {\"label\": \"New Customers\", \"sublabel\": \"count\", \"range\": [1400, 2000, 2500],\n",
    "   \"performance\": [1000, 1650],\"point\": [2100]},\n",
    "  {\"label\": \"Satisfaction\", \"sublabel\": \"out of 5\",\"range\": [3.5, 4.25, 5],\n",
    "   \"performance\": [3.2, 4.7], \"point\": [4.4]}\n",
    ")\n",
    "\n",
    "fig = ff.create_bullet(\n",
    "    data, titles='label', subtitles='sublabel', markers='point',\n",
    "    measures='performance', ranges='range', orientation='v',\n",
    ")\n",
    "py.iplot(fig, filename='bullet chart from dict')"
   ]
  },
  {
   "cell_type": "markdown",
   "metadata": {},
   "source": [
    "#### Use Your Own Colors\n",
    "You can use different colors for the `range` and the `measure` columns. Set `range_colors` and `measure_colors` to a 2-item list of two colors to interpolate between."
   ]
  },
  {
   "cell_type": "code",
   "execution_count": 6,
   "metadata": {},
   "outputs": [
    {
     "data": {
      "text/html": [
       "<iframe id=\"igraph\" scrolling=\"no\" style=\"border:none;\" seamless=\"seamless\" src=\"https://plot.ly/~AdamKulidjian/5406.embed\" height=\"600px\" width=\"1000px\"></iframe>"
      ],
      "text/plain": [
       "<plotly.tools.PlotlyDisplay object>"
      ]
     },
     "execution_count": 6,
     "metadata": {},
     "output_type": "execute_result"
    }
   ],
   "source": [
    "import plotly.plotly as py\n",
    "import plotly.figure_factory as ff\n",
    "\n",
    "import pandas as pd\n",
    "\n",
    "data = pd.read_json('https://cdn.rawgit.com/plotly/datasets/master/BulletData.json')\n",
    "\n",
    "measure_colors=['rgb(63,102,153)', 'rgb(120,194,195)']\n",
    "range_colors=['rgb(245,225,218)', 'rgb(241,241,241)']\n",
    "\n",
    "\n",
    "fig = ff.create_bullet(\n",
    "    data, orientation='h', markers='markers', measures='measures',\n",
    "    ranges='ranges', subtitles='subtitle', titles='title',\n",
    "    range_colors=range_colors,\n",
    "    measure_colors=measure_colors\n",
    ")\n",
    "py.iplot(fig, filename='bullet chart - custom colors')"
   ]
  },
  {
   "cell_type": "markdown",
   "metadata": {},
   "source": [
    "#### Custom Kwargs"
   ]
  },
  {
   "cell_type": "code",
   "execution_count": 13,
   "metadata": {},
   "outputs": [
    {
     "data": {
      "text/html": [
       "<iframe id=\"igraph\" scrolling=\"no\" style=\"border:none;\" seamless=\"seamless\" src=\"https://plot.ly/~AdamKulidjian/5408.embed\" height=\"600px\" width=\"600px\"></iframe>"
      ],
      "text/plain": [
       "<plotly.tools.PlotlyDisplay object>"
      ]
     },
     "execution_count": 13,
     "metadata": {},
     "output_type": "execute_result"
    }
   ],
   "source": [
    "import plotly.plotly as py\n",
    "import plotly.figure_factory as ff\n",
    "\n",
    "import pandas as pd\n",
    "\n",
    "data = pd.read_json('https://cdn.rawgit.com/plotly/datasets/master/BulletData.json')\n",
    "\n",
    "fig = ff.create_bullet(\n",
    "    data, orientation='v', markers='markers', measures='measures',\n",
    "    ranges='ranges', subtitles='subtitle', titles='title',\n",
    "    title='lots of kwargs', width=600, showlegend=True,\n",
    "    scatter_options={'marker': {'size': 30,\n",
    "                                'color': 'rgb(21, 166, 20)',\n",
    "                                'symbol': 'hourglass'}}\n",
    "    \n",
    ")\n",
    "py.iplot(fig, filename='bullet chart - custom kwargs')"
   ]
  },
  {
   "cell_type": "markdown",
   "metadata": {},
   "source": [
    "#### Reference"
   ]
  },
  {
   "cell_type": "code",
   "execution_count": 14,
   "metadata": {},
   "outputs": [
    {
     "name": "stdout",
     "output_type": "stream",
     "text": [
      "Help on function create_facet_grid in module plotly.figure_factory._facet_grid:\n",
      "\n",
      "create_facet_grid(df, x=None, y=None, facet_row=None, facet_col=None, color_name=None, colormap=None, color_is_cat=False, facet_row_labels=None, facet_col_labels=None, height=None, width=None, trace_type='scatter', scales='fixed', dtick_x=None, dtick_y=None, show_boxes=True, ggplot2=False, binsize=1, **kwargs)\n",
      "    Returns figure for facet grid.\n",
      "    \n",
      "    :param (pd.DataFrame) df: the dataframe of columns for the facet grid.\n",
      "    :param (str) x: the name of the dataframe column for the x axis data.\n",
      "    :param (str) y: the name of the dataframe column for the y axis data.\n",
      "    :param (str) facet_row: the name of the dataframe column that is used to\n",
      "        facet the grid into row panels.\n",
      "    :param (str) facet_col: the name of the dataframe column that is used to\n",
      "        facet the grid into column panels.\n",
      "    :param (str) color_name: the name of your dataframe column that will\n",
      "        function as the colormap variable.\n",
      "    :param (str|list|dict) colormap: the param that determines how the\n",
      "        color_name column colors the data. If the dataframe contains numeric\n",
      "        data, then a dictionary of colors will group the data categorically\n",
      "        while a Plotly Colorscale name or a custom colorscale will treat it\n",
      "        numerically. To learn more about colors and types of colormap, run\n",
      "        `help(plotly.colors)`.\n",
      "    :param (bool) color_is_cat: determines whether a numerical column for the\n",
      "        colormap will be treated as categorical (True) or sequential (False).\n",
      "            Default = False.\n",
      "    :param (str|dict) facet_row_labels: set to either 'name' or a dictionary\n",
      "        of all the unique values in the faceting row mapped to some text to\n",
      "        show up in the label annotations. If None, labeling works like usual.\n",
      "    :param (str|dict) facet_col_labels: set to either 'name' or a dictionary\n",
      "        of all the values in the faceting row mapped to some text to show up\n",
      "        in the label annotations. If None, labeling works like usual.\n",
      "    :param (int) height: the height of the facet grid figure.\n",
      "    :param (int) width: the width of the facet grid figure.\n",
      "    :param (str) trace_type: decides the type of plot to appear in the\n",
      "        facet grid. The options are 'scatter', 'scattergl', 'histogram',\n",
      "        'bar', and 'box'.\n",
      "        Default = 'scatter'.\n",
      "    :param (str) scales: determines if axes have fixed ranges or not. Valid\n",
      "        settings are 'fixed' (all axes fixed), 'free_x' (x axis free only),\n",
      "        'free_y' (y axis free only) or 'free' (both axes free).\n",
      "    :param (float) dtick_x: determines the distance between each tick on the\n",
      "        x-axis. Default is None which means dtick_x is set automatically.\n",
      "    :param (float) dtick_y: determines the distance between each tick on the\n",
      "        y-axis. Default is None which means dtick_y is set automatically.\n",
      "    :param (bool) show_boxes: draws grey boxes behind the facet titles.\n",
      "    :param (bool) ggplot2: draws the facet grid in the style of `ggplot2`. See\n",
      "        http://ggplot2.tidyverse.org/reference/facet_grid.html for reference.\n",
      "        Default = False\n",
      "    :param (int) binsize: groups all data into bins of a given length.\n",
      "    :param (dict) kwargs: a dictionary of scatterplot arguments.\n",
      "    \n",
      "    Examples 1: One Way Faceting\n",
      "    ```\n",
      "    import plotly.plotly as py\n",
      "    import plotly.figure_factory as ff\n",
      "    \n",
      "    import pandas as pd\n",
      "    \n",
      "    mpg = pd.read_table('https://raw.githubusercontent.com/plotly/datasets/master/mpg_2017.txt')\n",
      "    \n",
      "    fig = ff.create_facet_grid(\n",
      "        mpg,\n",
      "        x='displ',\n",
      "        y='cty',\n",
      "        facet_col='cyl',\n",
      "    )\n",
      "    py.iplot(fig, filename='facet_grid_mpg_one_way_facet')\n",
      "    ```\n",
      "    \n",
      "    Example 2: Two Way Faceting\n",
      "    ```\n",
      "    import plotly.plotly as py\n",
      "    import plotly.figure_factory as ff\n",
      "    \n",
      "    import pandas as pd\n",
      "    \n",
      "    mpg = pd.read_table('https://raw.githubusercontent.com/plotly/datasets/master/mpg_2017.txt')\n",
      "    \n",
      "    fig = ff.create_facet_grid(\n",
      "        mpg,\n",
      "        x='displ',\n",
      "        y='cty',\n",
      "        facet_row='drv',\n",
      "        facet_col='cyl',\n",
      "    )\n",
      "    py.iplot(fig, filename='facet_grid_mpg_two_way_facet')\n",
      "    ```\n",
      "    \n",
      "    Example 3: Categorical Coloring\n",
      "    ```\n",
      "    import plotly.plotly as py\n",
      "    import plotly.figure_factory as ff\n",
      "    \n",
      "    import pandas as pd\n",
      "    \n",
      "    mpg = pd.read_table('https://raw.githubusercontent.com/plotly/datasets/master/mpg_2017.txt')\n",
      "    \n",
      "    fig = ff.create_facet_grid(\n",
      "        mtcars,\n",
      "        x='mpg',\n",
      "        y='wt',\n",
      "        facet_col='cyl',\n",
      "        color_name='cyl',\n",
      "        color_is_cat=True,\n",
      "    )\n",
      "    py.iplot(fig, filename='facet_grid_mpg_default_colors')\n",
      "    ```\n",
      "    \n",
      "    Example 4: Sequential Coloring\n",
      "    ```\n",
      "    import plotly.plotly as py\n",
      "    import plotly.figure_factory as ff\n",
      "    \n",
      "    import pandas as pd\n",
      "    \n",
      "    tips = pd.read_csv('https://raw.githubusercontent.com/plotly/datasets/master/tips.csv')\n",
      "    \n",
      "    fig = ff.create_facet_grid(\n",
      "        tips,\n",
      "        x='total_bill',\n",
      "        y='tip',\n",
      "        facet_row='sex',\n",
      "        facet_col='smoker',\n",
      "        color_name='size',\n",
      "        colormap='Viridis',\n",
      "    )\n",
      "    py.iplot(fig, filename='facet_grid_tips_sequential_colors')\n",
      "    ```\n",
      "    \n",
      "    Example 5: Custom labels\n",
      "    ```\n",
      "    import plotly.plotly as py\n",
      "    import plotly.figure_factory as ff\n",
      "    \n",
      "    import pandas as pd\n",
      "    \n",
      "    mtcars = pd.read_csv('https://raw.githubusercontent.com/plotly/datasets/master/mtcars.csv')\n",
      "    \n",
      "    fig = ff.create_facet_grid(\n",
      "        mtcars,\n",
      "        x='wt',\n",
      "        y='mpg',\n",
      "        facet_col='cyl',\n",
      "        facet_col_labels={4: \"$\\alpha$\", 6: '$\\beta$', 8: '$\\sqrt[y]{x}$'},\n",
      "    )\n",
      "    \n",
      "    py.iplot(fig, filename='facet_grid_mtcars_custom_labels')\n",
      "    ```\n",
      "    \n",
      "    Example 6: Other Trace Type\n",
      "    ```\n",
      "    import plotly.plotly as py\n",
      "    import plotly.figure_factory as ff\n",
      "    \n",
      "    import pandas as pd\n",
      "    \n",
      "    mtcars = pd.read_csv('https://raw.githubusercontent.com/plotly/datasets/master/mtcars.csv')\n",
      "    \n",
      "    fig = ff.create_facet_grid(\n",
      "        mtcars,\n",
      "        x='wt',\n",
      "        facet_col='cyl',\n",
      "        trace_type='histogram',\n",
      "    )\n",
      "    \n",
      "    py.iplot(fig, filename='facet_grid_mtcars_other_trace_type')\n",
      "    ```\n",
      "\n"
     ]
    }
   ],
   "source": [
    "help(ff.create_bullet)"
   ]
  },
  {
   "cell_type": "code",
   "execution_count": 3,
   "metadata": {},
   "outputs": [
    {
     "name": "stdout",
     "output_type": "stream",
     "text": [
      "Collecting git+https://github.com/plotly/publisher.git\n",
      "  Cloning https://github.com/plotly/publisher.git to /private/var/folders/tc/bs9g6vrd36q74m5t8h9cgphh0000gn/T/pip-Q4QvMc-build\n",
      "Installing collected packages: publisher\n",
      "  Found existing installation: publisher 0.11\n",
      "    Uninstalling publisher-0.11:\n",
      "      Successfully uninstalled publisher-0.11\n",
      "  Running setup.py install for publisher ... \u001b[?25ldone\n",
      "\u001b[?25hSuccessfully installed publisher-0.11\n"
     ]
    }
   ],
   "source": [
    "! pip install git+https://github.com/plotly/publisher.git --upgrade\n",
    "import publisher\n",
    "publisher.publish(\n",
    "    'bullet-chart.ipynb', 'python/bullet-charts/', 'Bullet Charts',\n",
    "    \"How to create Stephen Few Bullet Charts in Python with Plotly.\",\n",
    "    title = 'Python Bullet Charts | plotly',\n",
    "    has_thumbnail='true', thumbnail='thumbnail/bullet_charts.jpg',\n",
    "    language='python',\n",
    "    display_as='statistical', order=0)"
   ]
  },
  {
   "cell_type": "code",
   "execution_count": null,
   "metadata": {
    "collapsed": true
   },
   "outputs": [],
   "source": []
  }
 ],
 "metadata": {
  "anaconda-cloud": {},
  "kernelspec": {
   "display_name": "Python 2",
   "language": "python",
   "name": "python2"
  },
  "language_info": {
   "codemirror_mode": {
    "name": "ipython",
    "version": 2
   },
   "file_extension": ".py",
   "mimetype": "text/x-python",
   "name": "python",
   "nbconvert_exporter": "python",
   "pygments_lexer": "ipython2",
   "version": "2.7.12"
  }
 },
 "nbformat": 4,
 "nbformat_minor": 1
}
