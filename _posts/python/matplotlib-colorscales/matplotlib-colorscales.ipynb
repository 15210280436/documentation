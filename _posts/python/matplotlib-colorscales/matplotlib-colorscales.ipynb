{
 "cells": [
  {
   "cell_type": "markdown",
   "metadata": {},
   "source": [
    "#### New to Plotly?\n",
    "Plotly's Python library is free and open source! [Get started](https://plot.ly/python/getting-started/) by dowloading the client and [reading the primer](https://plot.ly/python/getting-started/).\n",
    "<br>You can set up Plotly to work in [online](https://plot.ly/python/getting-started/#initialization-for-online-plotting) or [offline](https://plot.ly/python/getting-started/#initialization-for-offline-plotting) mode, or in [jupyter notebooks](https://plot.ly/python/getting-started/#start-plotting-online).\n",
    "<br>We also have a quick-reference [cheatsheet](https://images.plot.ly/plotly-documentation/images/python_cheat_sheet.pdf) (new!) to help you get started!\n"
   ]
  },
  {
   "cell_type": "markdown",
   "metadata": {},
   "source": [
    "The Colormap module can be downloaded from [here.](https://github.com/plotly/documentation/tree/source-design-merge/_posts/python/matplotlib-colorscales/colormap.py)"
   ]
  },
  {
   "cell_type": "markdown",
   "metadata": {},
   "source": [
    "### Colorscales for HeatMaps"
   ]
  },
  {
   "cell_type": "code",
   "execution_count": 1,
   "metadata": {
    "collapsed": false
   },
   "outputs": [
    {
     "name": "stdout",
     "output_type": "stream",
     "text": [
      "This is the format of your plot grid:\n",
      "[ (1,1) x1,y1 ]  [ (1,2) x2,y2 ]  [ (1,3) x3,y3 ]\n",
      "\n"
     ]
    },
    {
     "data": {
      "text/html": [
       "<iframe id=\"igraph\" scrolling=\"no\" style=\"border:none;\" seamless=\"seamless\" src=\"https://plot.ly/~Diksha_Gabha/859.embed\" height=\"525px\" width=\"100%\"></iframe>"
      ],
      "text/plain": [
       "<plotly.tools.PlotlyDisplay object>"
      ]
     },
     "execution_count": 1,
     "metadata": {},
     "output_type": "execute_result"
    }
   ],
   "source": [
    "import plotly.plotly as py\n",
    "import plotly.graph_objs as go\n",
    "import numpy as np\n",
    "from plotly import tools\n",
    "import colormap\n",
    "\n",
    "x= np.linspace(0,20,50)\n",
    "y= np.linspace(0,15,50)\n",
    "t= np.linspace(0,10,50)\n",
    "\n",
    "parula= colormap.parula()\n",
    "magma= colormap.magma()\n",
    "\n",
    "trace1= go.Heatmap(\n",
    "        z= [x,y,t],        \n",
    "        colorscale=magma)\n",
    "trace2= go.Heatmap(\n",
    "        z= [x,y,t],        \n",
    "        colorscale= 'Viridis')\n",
    "trace3= go.Heatmap(\n",
    "        z= [x,y,t],        \n",
    "        colorscale= parula)\n",
    "\n",
    "fig= tools.make_subplots(rows= 1, cols= 3, subplot_titles= ('MAGMA', 'VIRIDIS',\n",
    "                                                            'PARULA'))\n",
    "fig.append_trace(trace1, 1, 1)\n",
    "fig.append_trace(trace2, 1, 2)\n",
    "fig.append_trace(trace3, 1, 3)\n",
    "fig['layout'].update(title= 'ColorScale for Heatmap')\n",
    "\n",
    "py.iplot(fig)"
   ]
  },
  {
   "cell_type": "markdown",
   "metadata": {},
   "source": [
    "### Colorscales for Contour Plots"
   ]
  },
  {
   "cell_type": "code",
   "execution_count": 2,
   "metadata": {
    "collapsed": false
   },
   "outputs": [
    {
     "name": "stdout",
     "output_type": "stream",
     "text": [
      "This is the format of your plot grid:\n",
      "[ (1,1) x1,y1 ]  [ (1,2) x2,y2 ]  [ (1,3) x3,y3 ]\n",
      "\n"
     ]
    },
    {
     "data": {
      "text/html": [
       "<iframe id=\"igraph\" scrolling=\"no\" style=\"border:none;\" seamless=\"seamless\" src=\"https://plot.ly/~Diksha_Gabha/861.embed\" height=\"525px\" width=\"100%\"></iframe>"
      ],
      "text/plain": [
       "<plotly.tools.PlotlyDisplay object>"
      ]
     },
     "execution_count": 2,
     "metadata": {},
     "output_type": "execute_result"
    }
   ],
   "source": [
    "import plotly.plotly as py\n",
    "import plotly.graph_objs as go\n",
    "import numpy as np\n",
    "from plotly import tools\n",
    "import colormap\n",
    "\n",
    "x= np.linspace(0,20,200)\n",
    "y= np.linspace(0,15,200)\n",
    "t= np.linspace(0,10,200)\n",
    "\n",
    "parula= colormap.parula()\n",
    "magma= colormap.magma()\n",
    "\n",
    "trace1= go.Contour(\n",
    "        z= [x,y,t],        \n",
    "        colorscale= magma)\n",
    "trace2= go.Contour(\n",
    "        z= [x,y,t],        \n",
    "        colorscale= 'Viridis')\n",
    "trace3= go.Contour(\n",
    "        z= [x,y,t],        \n",
    "        colorscale= parula)\n",
    "fig = tools.make_subplots(rows= 1,cols= 3, subplot_titles= ('MAGMA', 'VIRIDIS',\n",
    "                                                            'PARULA'))\n",
    "fig.append_trace(trace1, 1, 1)\n",
    "fig.append_trace(trace2, 1, 2)\n",
    "fig.append_trace(trace3, 1, 3)\n",
    "fig['layout'].update(title= 'ColorScale for Contour Plots')\n",
    "\n",
    "py.iplot(fig)"
   ]
  },
  {
   "cell_type": "markdown",
   "metadata": {},
   "source": [
    "### Colorscales for Trisurf Plots"
   ]
  },
  {
   "cell_type": "code",
   "execution_count": 3,
   "metadata": {
    "collapsed": false
   },
   "outputs": [
    {
     "data": {
      "text/html": [
       "<iframe id=\"igraph\" scrolling=\"no\" style=\"border:none;\" seamless=\"seamless\" src=\"https://plot.ly/~Diksha_Gabha/863.embed\" height=\"800px\" width=\"800px\"></iframe>"
      ],
      "text/plain": [
       "<plotly.tools.PlotlyDisplay object>"
      ]
     },
     "execution_count": 3,
     "metadata": {},
     "output_type": "execute_result"
    }
   ],
   "source": [
    "import plotly.plotly as py\n",
    "from plotly.tools import FigureFactory as FF\n",
    "from plotly.graph_objs import graph_objs\n",
    "import colormap\n",
    "import numpy as np\n",
    "from scipy.spatial import Delaunay\n",
    "import plotly.tools as tls\n",
    "\n",
    "parula= colormap.parula()\n",
    "magma= colormap.magma()\n",
    "\n",
    "u= np.linspace(0, 2*np.pi, 24)\n",
    "v= np.linspace(-1, 1, 8)\n",
    "u,v= np.meshgrid(u,v)\n",
    "u= u.flatten()\n",
    "v= v.flatten()\n",
    "\n",
    "tp= 1 + 0.5*v*np.cos(u/2.)\n",
    "x= tp*np.cos(u)\n",
    "y= tp*np.sin(u)\n",
    "z= 0.5*v*np.sin(u/2.)\n",
    "\n",
    "points2D= np.vstack([u,v]).T\n",
    "tri= Delaunay(points2D)\n",
    "simplices= tri.simplices\n",
    "\n",
    "trace1= FF.create_trisurf(x= x, y= y, z= z,\n",
    "                          simplices= simplices, colormap= magma, plot_edges= False,\n",
    "                          title= 'Magma Colormap for Trisurf Plot')\n",
    "py.iplot(trace1)"
   ]
  },
  {
   "cell_type": "code",
   "execution_count": 4,
   "metadata": {
    "collapsed": false
   },
   "outputs": [
    {
     "data": {
      "text/html": [
       "<iframe id=\"igraph\" scrolling=\"no\" style=\"border:none;\" seamless=\"seamless\" src=\"https://plot.ly/~Diksha_Gabha/865.embed\" height=\"800px\" width=\"800px\"></iframe>"
      ],
      "text/plain": [
       "<plotly.tools.PlotlyDisplay object>"
      ]
     },
     "execution_count": 4,
     "metadata": {},
     "output_type": "execute_result"
    }
   ],
   "source": [
    "trace2= FF.create_trisurf(x= x, y= y, z= z,\n",
    "                          simplices= simplices, colormap= 'Viridis', plot_edges= False,\n",
    "                          title= 'Viridis Colormap for Trisurf Plot')\n",
    "\n",
    "py.iplot(trace2)"
   ]
  },
  {
   "cell_type": "code",
   "execution_count": 5,
   "metadata": {
    "collapsed": false
   },
   "outputs": [
    {
     "data": {
      "text/html": [
       "<iframe id=\"igraph\" scrolling=\"no\" style=\"border:none;\" seamless=\"seamless\" src=\"https://plot.ly/~Diksha_Gabha/867.embed\" height=\"800px\" width=\"800px\"></iframe>"
      ],
      "text/plain": [
       "<plotly.tools.PlotlyDisplay object>"
      ]
     },
     "execution_count": 5,
     "metadata": {},
     "output_type": "execute_result"
    }
   ],
   "source": [
    "trace3= FF.create_trisurf(x= x, y= y, z= z,\n",
    "                          simplices= simplices, colormap= parula, plot_edges= False,\n",
    "                          title= 'Parula Colormap for Trisurf Plot')\n",
    "\n",
    "py.iplot(trace3)"
   ]
  },
  {
   "cell_type": "markdown",
   "metadata": {},
   "source": [
    "### Colorscales for Violin Plots"
   ]
  },
  {
   "cell_type": "code",
   "execution_count": 6,
   "metadata": {
    "collapsed": false
   },
   "outputs": [
    {
     "name": "stdout",
     "output_type": "stream",
     "text": [
      "This is the format of your plot grid:\n",
      "[ (1,1) x1,y1 ]    [ (1,2) x2,y1 ]    [ (1,3) x3,y1 ]    [ (1,4) x4,y1 ]    [ (1,5) x5,y1 ]    [ (1,6) x6,y1 ]    [ (1,7) x7,y1 ]    [ (1,8) x8,y1 ]    [ (1,9) x9,y1 ]    [ (1,10) x10,y1 ]  [ (1,11) x11,y1 ]  [ (1,12) x12,y1 ]  [ (1,13) x13,y1 ]  [ (1,14) x14,y1 ]  [ (1,15) x15,y1 ]  [ (1,16) x16,y1 ]  [ (1,17) x17,y1 ]  [ (1,18) x18,y1 ]  [ (1,19) x19,y1 ]  [ (1,20) x20,y1 ]  [ (1,21) x21,y1 ]  [ (1,22) x22,y1 ]  [ (1,23) x23,y1 ]  [ (1,24) x24,y1 ]  [ (1,25) x25,y1 ]  [ (1,26) x26,y1 ]\n",
      "\n"
     ]
    },
    {
     "data": {
      "text/html": [
       "<iframe id=\"igraph\" scrolling=\"no\" style=\"border:none;\" seamless=\"seamless\" src=\"https://plot.ly/~Diksha_Gabha/869.embed\" height=\"500px\" width=\"900px\"></iframe>"
      ],
      "text/plain": [
       "<plotly.tools.PlotlyDisplay object>"
      ]
     },
     "execution_count": 6,
     "metadata": {},
     "output_type": "execute_result"
    }
   ],
   "source": [
    "import plotly.plotly as py\n",
    "from plotly.tools import FigureFactory as FF\n",
    "from plotly.graph_objs import graph_objs\n",
    "import random\n",
    "import numpy as np\n",
    "import pandas as pd\n",
    "from scipy import stats\n",
    "import colormap\n",
    "\n",
    "magma= colormap.magma()\n",
    "parula= colormap.parula()\n",
    "\n",
    "Nr= 250\n",
    "y= np.random.randn(Nr)\n",
    "gr= np.random.choice(list(\"ABCDEFGHIJKLMNOPQRSTUVWXYZ\"), Nr)\n",
    "\n",
    "random.seed()\n",
    "norm_params= [ ( random.random(), random.random() ) for k in range(26) ]\n",
    "\n",
    "for i, letter in enumerate(\"ABCDEFGHIJKLMNOPQRSTUVWXYZ\"):\n",
    "    y[gr == letter] *= norm_params[i][1] + norm_params[i][0]\n",
    "\n",
    "df= pd.DataFrame(dict(Score = y, Group = gr))\n",
    "data_header= 'Score'\n",
    "group_header= 'Group'\n",
    "\n",
    "group_stats= {}\n",
    "groupby_data= df.groupby([group_header])\n",
    "\n",
    "for group in \"ABCDEFGHIJKLMNOPQRSTUVWXYZ\":\n",
    "    data_from_group = groupby_data.get_group(group)[data_header]\n",
    "    stat = np.median(data_from_group)\n",
    "    group_stats[group] = stat\n",
    "    \n",
    "trace1= FF.create_violin(df, data_header= 'Score', group_header= 'Group',width= 900,height= 500,\n",
    "                         use_colorscale= True, group_stats= group_stats,colors= 'Viridis',\n",
    "                         title= \"Viridis Colorscale for violin Plots\")\n",
    "\n",
    "py.iplot(trace1)"
   ]
  },
  {
   "cell_type": "code",
   "execution_count": 7,
   "metadata": {
    "collapsed": false
   },
   "outputs": [
    {
     "name": "stdout",
     "output_type": "stream",
     "text": [
      "This is the format of your plot grid:\n",
      "[ (1,1) x1,y1 ]    [ (1,2) x2,y1 ]    [ (1,3) x3,y1 ]    [ (1,4) x4,y1 ]    [ (1,5) x5,y1 ]    [ (1,6) x6,y1 ]    [ (1,7) x7,y1 ]    [ (1,8) x8,y1 ]    [ (1,9) x9,y1 ]    [ (1,10) x10,y1 ]  [ (1,11) x11,y1 ]  [ (1,12) x12,y1 ]  [ (1,13) x13,y1 ]  [ (1,14) x14,y1 ]  [ (1,15) x15,y1 ]  [ (1,16) x16,y1 ]  [ (1,17) x17,y1 ]  [ (1,18) x18,y1 ]  [ (1,19) x19,y1 ]  [ (1,20) x20,y1 ]  [ (1,21) x21,y1 ]  [ (1,22) x22,y1 ]  [ (1,23) x23,y1 ]  [ (1,24) x24,y1 ]  [ (1,25) x25,y1 ]  [ (1,26) x26,y1 ]\n",
      "\n"
     ]
    },
    {
     "data": {
      "text/html": [
       "<iframe id=\"igraph\" scrolling=\"no\" style=\"border:none;\" seamless=\"seamless\" src=\"https://plot.ly/~Diksha_Gabha/871.embed\" height=\"500px\" width=\"900px\"></iframe>"
      ],
      "text/plain": [
       "<plotly.tools.PlotlyDisplay object>"
      ]
     },
     "execution_count": 7,
     "metadata": {},
     "output_type": "execute_result"
    }
   ],
   "source": [
    "trace2= FF.create_violin(df, data_header= 'Score', group_header= 'Group',width= 900,height= 500,\n",
    "                         use_colorscale= True, group_stats= group_stats,colors= magma,\n",
    "                         title= \"Magma Colorscale for violin Plots\")\n",
    "py.iplot(trace2)"
   ]
  },
  {
   "cell_type": "code",
   "execution_count": 8,
   "metadata": {
    "collapsed": false
   },
   "outputs": [
    {
     "name": "stdout",
     "output_type": "stream",
     "text": [
      "This is the format of your plot grid:\n",
      "[ (1,1) x1,y1 ]    [ (1,2) x2,y1 ]    [ (1,3) x3,y1 ]    [ (1,4) x4,y1 ]    [ (1,5) x5,y1 ]    [ (1,6) x6,y1 ]    [ (1,7) x7,y1 ]    [ (1,8) x8,y1 ]    [ (1,9) x9,y1 ]    [ (1,10) x10,y1 ]  [ (1,11) x11,y1 ]  [ (1,12) x12,y1 ]  [ (1,13) x13,y1 ]  [ (1,14) x14,y1 ]  [ (1,15) x15,y1 ]  [ (1,16) x16,y1 ]  [ (1,17) x17,y1 ]  [ (1,18) x18,y1 ]  [ (1,19) x19,y1 ]  [ (1,20) x20,y1 ]  [ (1,21) x21,y1 ]  [ (1,22) x22,y1 ]  [ (1,23) x23,y1 ]  [ (1,24) x24,y1 ]  [ (1,25) x25,y1 ]  [ (1,26) x26,y1 ]\n",
      "\n"
     ]
    },
    {
     "data": {
      "text/html": [
       "<iframe id=\"igraph\" scrolling=\"no\" style=\"border:none;\" seamless=\"seamless\" src=\"https://plot.ly/~Diksha_Gabha/873.embed\" height=\"500px\" width=\"900px\"></iframe>"
      ],
      "text/plain": [
       "<plotly.tools.PlotlyDisplay object>"
      ]
     },
     "execution_count": 8,
     "metadata": {},
     "output_type": "execute_result"
    }
   ],
   "source": [
    "trace3= FF.create_violin(df, data_header= 'Score', group_header= 'Group',width= 900,height= 500,\n",
    "                         use_colorscale= True, group_stats= group_stats,colors= parula,\n",
    "                         title= \"Parula Colorscale for violin Plots\")\n",
    "py.iplot(trace3)"
   ]
  },
  {
   "cell_type": "markdown",
   "metadata": {},
   "source": [
    "### Acknowledgment\n",
    "\n",
    "Special thanks to [Stéfan van der Walt](https://github.com/stefanv) and [Nathaniel Smith](https://github.com/njsmith) for the statistics of colormaps."
   ]
  },
  {
   "cell_type": "code",
   "execution_count": 3,
   "metadata": {
    "collapsed": false
   },
   "outputs": [
    {
     "data": {
      "text/html": [
       "<link href=\"//fonts.googleapis.com/css?family=Open+Sans:600,400,300,200|Inconsolata|Ubuntu+Mono:400,700rel=\"stylesheet\" type=\"text/css\" />"
      ],
      "text/plain": [
       "<IPython.core.display.HTML object>"
      ]
     },
     "metadata": {},
     "output_type": "display_data"
    },
    {
     "data": {
      "text/html": [
       "<link rel=\"stylesheet\" type=\"text/csshref=\"http://help.plot.ly/documentation/all_static/css/ipython-notebook-custom.css\">"
      ],
      "text/plain": [
       "<IPython.core.display.HTML object>"
      ]
     },
     "metadata": {},
     "output_type": "display_data"
    },
    {
     "name": "stdout",
     "output_type": "stream",
     "text": [
      "Collecting git+https://github.com/plotly/publisher.git\n",
      "  Cloning https://github.com/plotly/publisher.git to /tmp/pip-CzkFss-build\n",
      "Installing collected packages: publisher\n",
      "  Found existing installation: publisher 0.10\n",
      "    Uninstalling publisher-0.10:\n",
      "      Successfully uninstalled publisher-0.10\n",
      "  Running setup.py install for publisher ... \u001b[?25l-\b \bdone\n",
      "\u001b[?25hSuccessfully installed publisher-0.10\n",
      "\u001b[33mYou are using pip version 8.1.1, however version 8.1.2 is available.\n",
      "You should consider upgrading via the 'pip install --upgrade pip' command.\u001b[0m\n"
     ]
    }
   ],
   "source": [
    "from IPython.display import display, HTML\n",
    "\n",
    "display(HTML('<link href=\"//fonts.googleapis.com/css?family=Open+Sans:600,400,300,200|Inconsolata|Ubuntu+Mono:400,700rel=\"stylesheet\" type=\"text/css\" />'))\n",
    "display(HTML('<link rel=\"stylesheet\" type=\"text/csshref=\"http://help.plot.ly/documentation/all_static/css/ipython-notebook-custom.css\">'))\n",
    "\n",
    "! pip install git+https://github.com/plotly/publisher.git --upgrade\n",
    "\n",
    "import publisher\n",
    "publisher.publish(\n",
    "    'matplotlib-colorscales.ipynb', 'python/matplotlib-colorscales/', 'Matplotlib Colorscales | plotly',\n",
    "    'How to make Matplotlib Colorscales in Python with Plotly.',\n",
    "    title = 'Python Matplotlib Colorscales | plotly',\n",
    "    name = 'Matplotlib Colorscales',\n",
    "    has_thumbnail='true', thumbnail='thumbnail/colorbars.jpg', \n",
    "    language='python', page_type='example_index',\n",
    "    display_as='scientific', order=21)  \n"
   ]
  },
  {
   "cell_type": "code",
   "execution_count": null,
   "metadata": {
    "collapsed": true
   },
   "outputs": [],
   "source": []
  }
 ],
 "metadata": {
  "kernelspec": {
   "display_name": "Python 2",
   "language": "python",
   "name": "python2"
  },
  "language_info": {
   "codemirror_mode": {
    "name": "ipython",
    "version": 2
   },
   "file_extension": ".py",
   "mimetype": "text/x-python",
   "name": "python",
   "nbconvert_exporter": "python",
   "pygments_lexer": "ipython2",
   "version": "2.7.11"
  }
 },
 "nbformat": 4,
 "nbformat_minor": 0
}
