{
 "cells": [
  {
   "cell_type": "markdown",
   "metadata": {},
   "source": [
    "#### New to Plotly?\n",
    "Plotly's Python library is free and open source! [Get started](https://plot.ly/python/getting-started/) by dowloading the client and [reading the primer](https://plot.ly/python/getting-started/).\n",
    "<br>You can set up Plotly to work in [online](https://plot.ly/python/getting-started/#initialization-for-online-plotting) or [offline](https://plot.ly/python/getting-started/#initialization-for-offline-plotting) mode, or in [jupyter notebooks](https://plot.ly/python/getting-started/#start-plotting-online).\n",
    "<br>We also have a quick-reference [cheatsheet](https://images.plot.ly/plotly-documentation/images/python_cheat_sheet.pdf) (new!) to help you get started!\n"
   ]
  },
  {
   "cell_type": "markdown",
   "metadata": {},
   "source": [
    "The Colormap module can be downloaded from [here.](https://github.com/plotly/documentation/tree/source-design-merge/_posts/python/matplotlib-colorscales/colormap.py)"
   ]
  },
  {
   "cell_type": "markdown",
   "metadata": {},
   "source": [
    "### Defining the Colormap"
   ]
  },
  {
   "cell_type": "code",
   "execution_count": 1,
   "metadata": {
    "collapsed": false
   },
   "outputs": [],
   "source": [
    "import matplotlib\n",
    "from matplotlib import cm\n",
    "import colormap\n",
    "\n",
    "magma_temp = matplotlib.cm.get_cmap('magma')\n",
    "viridis_temp = matplotlib.cm.get_cmap('viridis')\n",
    "parula_temp = colormap.parula_data\n",
    "\n",
    "norm = matplotlib.colors.Normalize(vmin=0, vmax=255)\n",
    "magma_rgb = []\n",
    "for i in range(0, 255):\n",
    "       k = matplotlib.colors.colorConverter.to_rgb(magma_temp(norm(i)))\n",
    "       magma_rgb.append(k)\n",
    "norm = matplotlib.colors.Normalize(vmin=0, vmax=255)\n",
    "parula_rgb = []\n",
    "for i in range(0, 255):\n",
    "       k = matplotlib.colors.colorConverter.to_rgb(viridis_temp(norm(i)))\n",
    "       parula_rgb.append(k)\n",
    "\n",
    "def seaborn_to_plotly( scl ):\n",
    "        return [ [ float(i)/float(len(scl)-1), 'rgb'+str((scl[i][0]*255, scl[i][1]*255, scl[i][2]*255)) ] \\\n",
    "            for i in range(len(scl)) ]\n",
    "\n",
    "magma = seaborn_to_plotly(magma_rgb)\n",
    "viridis = seaborn_to_plotly(parula_rgb)\n",
    "parula = seaborn_to_plotly(parula_temp)"
   ]
  },
  {
   "cell_type": "markdown",
   "metadata": {},
   "source": [
    "### Colorscales examples for HeatMaps"
   ]
  },
  {
   "cell_type": "code",
   "execution_count": 2,
   "metadata": {
    "collapsed": false
   },
   "outputs": [
    {
     "data": {
      "text/html": [
       "<iframe id=\"igraph\" scrolling=\"no\" style=\"border:none;\" seamless=\"seamless\" src=\"https://plot.ly/~Diksha_Gabha/1015.embed\" height=\"525px\" width=\"100%\"></iframe>"
      ],
      "text/plain": [
       "<plotly.tools.PlotlyDisplay object>"
      ]
     },
     "execution_count": 2,
     "metadata": {},
     "output_type": "execute_result"
    }
   ],
   "source": [
    "import plotly.plotly as py\n",
    "import numpy as np\n",
    "import os\n",
    "import plotly.graph_objs as go\n",
    "from plotly import tools\n",
    "\n",
    "def heatmap_plot(colorscale,title):\n",
    "    \n",
    "    example_dir = os.path.join(os.path.dirname('__file__'), \"examples\")\n",
    "    \n",
    "    hist2d = np.loadtxt(os.path.join(example_dir, \"hist2d.txt\"))\n",
    "    trace1 = go.Heatmap(z=hist2d, colorscale=colorscale, showscale=False)\n",
    "\n",
    "    sthelens = np.loadtxt(os.path.join(example_dir,\n",
    "                                     \"st-helens_before-modified.txt.gz\")).T\n",
    "    trace2 = go.Heatmap(z=sthelens, colorscale=colorscale)\n",
    "\n",
    "    dx = dy = 0.05\n",
    "    y, x = np.mgrid[-5 : 5 + dy : dy, -5 : 10 + dx : dx]\n",
    "    z = np.sin(x) ** 10 + np.cos(10 + y * x) + np.cos(x) + 0.2 * y + 0.1 * x\n",
    "    trace3 = go.Heatmap(z=z,colorscale=colorscale, showscale=False)\n",
    "    \n",
    "    fig = tools.make_subplots(rows=1, cols=3, print_grid=False)\n",
    "    fig.append_trace(trace1, 1, 1)\n",
    "    fig.append_trace(trace2, 1, 2)\n",
    "    fig.append_trace(trace3, 1, 3)\n",
    "    fig['layout'].update(title=title)\n",
    "    return fig\n",
    "\n",
    "py.iplot(heatmap_plot(colorscale=magma, title='MAGMA'))"
   ]
  },
  {
   "cell_type": "code",
   "execution_count": 3,
   "metadata": {
    "collapsed": false
   },
   "outputs": [
    {
     "data": {
      "text/html": [
       "<iframe id=\"igraph\" scrolling=\"no\" style=\"border:none;\" seamless=\"seamless\" src=\"https://plot.ly/~Diksha_Gabha/1017.embed\" height=\"525px\" width=\"100%\"></iframe>"
      ],
      "text/plain": [
       "<plotly.tools.PlotlyDisplay object>"
      ]
     },
     "execution_count": 3,
     "metadata": {},
     "output_type": "execute_result"
    }
   ],
   "source": [
    "py.iplot(heatmap_plot(colorscale=viridis, title='VIRIDIS'))"
   ]
  },
  {
   "cell_type": "code",
   "execution_count": 4,
   "metadata": {
    "collapsed": false
   },
   "outputs": [
    {
     "data": {
      "text/html": [
       "<iframe id=\"igraph\" scrolling=\"no\" style=\"border:none;\" seamless=\"seamless\" src=\"https://plot.ly/~Diksha_Gabha/1019.embed\" height=\"525px\" width=\"100%\"></iframe>"
      ],
      "text/plain": [
       "<plotly.tools.PlotlyDisplay object>"
      ]
     },
     "execution_count": 4,
     "metadata": {},
     "output_type": "execute_result"
    }
   ],
   "source": [
    "py.iplot(heatmap_plot(colorscale=parula, title='PARULA'))"
   ]
  },
  {
   "cell_type": "markdown",
   "metadata": {},
   "source": [
    "### Colorscales for Contour Plots"
   ]
  },
  {
   "cell_type": "code",
   "execution_count": 5,
   "metadata": {
    "collapsed": false
   },
   "outputs": [
    {
     "data": {
      "text/html": [
       "<iframe id=\"igraph\" scrolling=\"no\" style=\"border:none;\" seamless=\"seamless\" src=\"https://plot.ly/~Diksha_Gabha/1021.embed\" height=\"525px\" width=\"100%\"></iframe>"
      ],
      "text/plain": [
       "<plotly.tools.PlotlyDisplay object>"
      ]
     },
     "execution_count": 5,
     "metadata": {},
     "output_type": "execute_result"
    }
   ],
   "source": [
    "import plotly.plotly as py\n",
    "import plotly.graph_objs as go\n",
    "import numpy as np\n",
    "from plotly import tools\n",
    "\n",
    "x = np.linspace(0, 20, 200)\n",
    "y = np.linspace(0, 15, 200)\n",
    "t = np.linspace(0 ,10, 200)\n",
    "\n",
    "trace1 = go.Contour(z= [x, y, t], colorscale=magma)\n",
    "trace2 = go.Contour(z=[x, y, t], colorscale=viridis)\n",
    "trace3 = go.Contour(z=[x, y, t], colorscale=parula)\n",
    "\n",
    "fig = tools.make_subplots(rows=1,cols=3, print_grid=False ,subplot_titles= ('MAGMA', 'VIRIDIS',\n",
    "                                                                             'PARULA'))\n",
    "fig.append_trace(trace1, 1, 1)\n",
    "fig.append_trace(trace2, 1, 2)\n",
    "fig.append_trace(trace3, 1, 3)\n",
    "fig['layout'].update(title= 'ColorScale for Contour Plots')\n",
    "\n",
    "py.iplot(fig)"
   ]
  },
  {
   "cell_type": "markdown",
   "metadata": {},
   "source": [
    "### Colorscales for Trisurf Plots"
   ]
  },
  {
   "cell_type": "code",
   "execution_count": 6,
   "metadata": {
    "collapsed": false
   },
   "outputs": [
    {
     "data": {
      "text/html": [
       "<iframe id=\"igraph\" scrolling=\"no\" style=\"border:none;\" seamless=\"seamless\" src=\"https://plot.ly/~Diksha_Gabha/1023.embed\" height=\"800px\" width=\"800px\"></iframe>"
      ],
      "text/plain": [
       "<plotly.tools.PlotlyDisplay object>"
      ]
     },
     "execution_count": 6,
     "metadata": {},
     "output_type": "execute_result"
    }
   ],
   "source": [
    "import plotly.plotly as py\n",
    "from plotly.tools import FigureFactory as FF\n",
    "from plotly.graph_objs import graph_objs\n",
    "import colormap\n",
    "import numpy as np\n",
    "from scipy.spatial import Delaunay\n",
    "\n",
    "u = np.linspace(0, 2*np.pi, 24)\n",
    "v = np.linspace(-1, 1, 8)\n",
    "u,v = np.meshgrid(u,v)\n",
    "u = u.flatten()\n",
    "v = v.flatten()\n",
    "\n",
    "tp = 1 + 0.5*v*np.cos(u/2.)\n",
    "x = tp*np.cos(u)\n",
    "y = tp*np.sin(u)\n",
    "z = 0.5*v*np.sin(u/2.)\n",
    "\n",
    "points2D = np.vstack([u,v]).T\n",
    "tri = Delaunay(points2D)\n",
    "simplices = tri.simplices\n",
    "\n",
    "trace1 = FF.create_trisurf(x=x, y=y, z=z,\n",
    "                          simplices=simplices, colormap=magma_rgb, plot_edges=False,\n",
    "                          title='Magma Colormap for Trisurf Plot')\n",
    "py.iplot(trace1)"
   ]
  },
  {
   "cell_type": "code",
   "execution_count": 7,
   "metadata": {
    "collapsed": false
   },
   "outputs": [
    {
     "data": {
      "text/html": [
       "<iframe id=\"igraph\" scrolling=\"no\" style=\"border:none;\" seamless=\"seamless\" src=\"https://plot.ly/~Diksha_Gabha/1025.embed\" height=\"800px\" width=\"800px\"></iframe>"
      ],
      "text/plain": [
       "<plotly.tools.PlotlyDisplay object>"
      ]
     },
     "execution_count": 7,
     "metadata": {},
     "output_type": "execute_result"
    }
   ],
   "source": [
    "trace2 = FF.create_trisurf(x=x, y=y, z=z,\n",
    "                          simplices=simplices, colormap=viridis_rgb, plot_edges=False,\n",
    "                          title='Viridis Colormap for Trisurf Plot')\n",
    "\n",
    "py.iplot(trace2)"
   ]
  },
  {
   "cell_type": "code",
   "execution_count": 8,
   "metadata": {
    "collapsed": false
   },
   "outputs": [
    {
     "data": {
      "text/html": [
       "<iframe id=\"igraph\" scrolling=\"no\" style=\"border:none;\" seamless=\"seamless\" src=\"https://plot.ly/~Diksha_Gabha/1027.embed\" height=\"800px\" width=\"800px\"></iframe>"
      ],
      "text/plain": [
       "<plotly.tools.PlotlyDisplay object>"
      ]
     },
     "execution_count": 8,
     "metadata": {},
     "output_type": "execute_result"
    }
   ],
   "source": [
    "trace3 = FF.create_trisurf(x=x, y=y, z=z,\n",
    "                          simplices=simplices, colormap=parula_temp, plot_edges=False,\n",
    "                          title='Parula Colormap for Trisurf Plot')\n",
    "\n",
    "py.iplot(trace3)"
   ]
  },
  {
   "cell_type": "markdown",
   "metadata": {},
   "source": [
    "### Acknowledgment\n",
    "\n",
    "Special thanks to [Stéfan van der Walt](https://github.com/stefanv) and [Nathaniel Smith](https://github.com/njsmith) for the statistics of colormaps."
   ]
  },
  {
   "cell_type": "code",
   "execution_count": 2,
   "metadata": {
    "collapsed": false
   },
   "outputs": [
    {
     "data": {
      "text/html": [
       "<link href=\"//fonts.googleapis.com/css?family=Open+Sans:600,400,300,200|Inconsolata|Ubuntu+Mono:400,700rel=\"stylesheet\" type=\"text/css\" />"
      ],
      "text/plain": [
       "<IPython.core.display.HTML object>"
      ]
     },
     "metadata": {},
     "output_type": "display_data"
    },
    {
     "data": {
      "text/html": [
       "<link rel=\"stylesheet\" type=\"text/csshref=\"http://help.plot.ly/documentation/all_static/css/ipython-notebook-custom.css\">"
      ],
      "text/plain": [
       "<IPython.core.display.HTML object>"
      ]
     },
     "metadata": {},
     "output_type": "display_data"
    },
    {
     "name": "stdout",
     "output_type": "stream",
     "text": [
      "Collecting git+https://github.com/plotly/publisher.git\n",
      "  Cloning https://github.com/plotly/publisher.git to /tmp/pip-hJpshV-build\n",
      "Installing collected packages: publisher\n",
      "  Found existing installation: publisher 0.10\n",
      "    Uninstalling publisher-0.10:\n",
      "      Successfully uninstalled publisher-0.10\n",
      "  Running setup.py install for publisher ... \u001b[?25l-\b \bdone\n",
      "\u001b[?25hSuccessfully installed publisher-0.10\n",
      "\u001b[33mYou are using pip version 8.1.1, however version 8.1.2 is available.\n",
      "You should consider upgrading via the 'pip install --upgrade pip' command.\u001b[0m\n"
     ]
    }
   ],
   "source": [
    "from IPython.display import display, HTML\n",
    "\n",
    "display(HTML('<link href=\"//fonts.googleapis.com/css?family=Open+Sans:600,400,300,200|Inconsolata|Ubuntu+Mono:400,700rel=\"stylesheet\" type=\"text/css\" />'))\n",
    "display(HTML('<link rel=\"stylesheet\" type=\"text/csshref=\"http://help.plot.ly/documentation/all_static/css/ipython-notebook-custom.css\">'))\n",
    "\n",
    "! pip install git+https://github.com/plotly/publisher.git --upgrade\n",
    "\n",
    "import publisher\n",
    "publisher.publish(\n",
    "    'matplotlib-colorscales.ipynb', 'python/matplotlib-colorscales/', 'Matplotlib Colorscales | plotly',\n",
    "    'How to make Matplotlib Colorscales in Python with Plotly.',\n",
    "    title = 'Python Matplotlib Colorscales | plotly',\n",
    "    name = 'Matplotlib Colorscales',\n",
    "    has_thumbnail='true', thumbnail='thumbnail/colorbars.jpg', \n",
    "    language='python', page_type='example_index',\n",
    "    display_as='scientific', order=21)  \n"
   ]
  },
  {
   "cell_type": "code",
   "execution_count": null,
   "metadata": {
    "collapsed": true
   },
   "outputs": [],
   "source": []
  }
 ],
 "metadata": {
  "kernelspec": {
   "display_name": "Python 2",
   "language": "python",
   "name": "python2"
  },
  "language_info": {
   "codemirror_mode": {
    "name": "ipython",
    "version": 2
   },
   "file_extension": ".py",
   "mimetype": "text/x-python",
   "name": "python",
   "nbconvert_exporter": "python",
   "pygments_lexer": "ipython2",
   "version": "2.7.11"
  }
 },
 "nbformat": 4,
 "nbformat_minor": 0
}
