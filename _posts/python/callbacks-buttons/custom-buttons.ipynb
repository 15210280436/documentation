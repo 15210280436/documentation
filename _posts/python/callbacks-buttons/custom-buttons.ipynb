{
 "cells": [
  {
   "cell_type": "markdown",
   "metadata": {},
   "source": [
    "#### New to Plotly?\n",
    "Plotly's Python library is free and open source! [Get started](https://plot.ly/python/getting-started/) by dowloading the client and [reading the primer](https://plot.ly/python/getting-started/).\n",
    "<br>You can set up Plotly to work in [online](https://plot.ly/python/getting-started/#initialization-for-online-plotting) or [offline](https://plot.ly/python/getting-started/#initialization-for-offline-plotting) mode, or in [jupyter notebooks](https://plot.ly/python/getting-started/#start-plotting-online).\n",
    "<br>We also have a quick-reference [cheatsheet](https://images.plot.ly/plotly-documentation/images/python_cheat_sheet.pdf) (new!) to help you get started!"
   ]
  },
  {
   "cell_type": "code",
   "execution_count": 1,
   "metadata": {
    "collapsed": false
   },
   "outputs": [
    {
     "data": {
      "text/plain": [
       "'2.0.0'"
      ]
     },
     "execution_count": 1,
     "metadata": {},
     "output_type": "execute_result"
    }
   ],
   "source": [
    "import plotly\n",
    "plotly.__version__"
   ]
  },
  {
   "cell_type": "markdown",
   "metadata": {},
   "source": [
    "#### Version Check\n",
    "Note: Python Buttons are available in version <b>1.9.12+</b><br>\n",
    "Run  `pip install plotly --upgrade` to update your Plotly version"
   ]
  },
  {
   "cell_type": "markdown",
   "metadata": {},
   "source": [
    "#### One Button\n",
    "You can set up one button to switch to another `style` of your plot. In this example, we are switching from \"Scatter\" to \"Bar\", but since we only are binding _one_ style to this button, we cannot switch back to \"Scatter\"."
   ]
  },
  {
   "cell_type": "code",
   "execution_count": 2,
   "metadata": {
    "collapsed": false
   },
   "outputs": [
    {
     "data": {
      "text/html": [
       "<iframe id=\"igraph\" scrolling=\"no\" style=\"border:none;\" seamless=\"seamless\" src=\"https://plot.ly/~AdamKulidjian/2262.embed\" height=\"600px\" width=\"600px\"></iframe>"
      ],
      "text/plain": [
       "<plotly.tools.PlotlyDisplay object>"
      ]
     },
     "execution_count": 2,
     "metadata": {},
     "output_type": "execute_result"
    }
   ],
   "source": [
    "import plotly.plotly as py\n",
    "import plotly.graph_objs as go\n",
    "\n",
    "data = [go.Scatter(x=range(50), y=range(50))]\n",
    "\n",
    "layout = go.Layout(\n",
    "    width=600,\n",
    "    height=600,\n",
    ")\n",
    "\n",
    "updatemenus=list([\n",
    "    dict(\n",
    "        buttons=list([   \n",
    "            dict(\n",
    "                args=['type', 'bar', 'scatter'],\n",
    "                label='Turn into Bar Graph',\n",
    "                method='restyle'\n",
    "            )      \n",
    "        ]),\n",
    "        direction = 'left',\n",
    "        pad = {'r': 10, 't': 10},\n",
    "        showactive = True,\n",
    "        type = 'buttons',\n",
    "        x = 0.1,\n",
    "        xanchor = 'left',\n",
    "        y = 1.1,\n",
    "        yanchor = 'top' \n",
    "    ),\n",
    "])\n",
    "\n",
    "layout['updatemenus'] = updatemenus\n",
    "\n",
    "fig = dict(data=data, layout=layout)\n",
    "py.iplot(fig, filename='scatter-to-bar')"
   ]
  },
  {
   "cell_type": "markdown",
   "metadata": {},
   "source": [
    "#### Update One Attribute\n",
    "This example shows how to update one plot attributes with a couple buttons."
   ]
  },
  {
   "cell_type": "code",
   "execution_count": 3,
   "metadata": {
    "collapsed": false
   },
   "outputs": [
    {
     "data": {
      "text/html": [
       "<iframe id=\"igraph\" scrolling=\"no\" style=\"border:none;\" seamless=\"seamless\" src=\"https://plot.ly/~AdamKulidjian/2260.embed\" height=\"900px\" width=\"800px\"></iframe>"
      ],
      "text/plain": [
       "<plotly.tools.PlotlyDisplay object>"
      ]
     },
     "execution_count": 3,
     "metadata": {},
     "output_type": "execute_result"
    }
   ],
   "source": [
    "import plotly.plotly as py\n",
    "import plotly.graph_objs as go\n",
    "from plotly.tools import FigureFactory as FF\n",
    "\n",
    "import json\n",
    "import numpy as np\n",
    "import pandas as pd\n",
    "\n",
    "df = pd.read_csv('https://raw.githubusercontent.com/plotly/datasets/master/volcano.csv')\n",
    "\n",
    "data = [go.Surface(z=df.values.tolist(), colorscale='Viridis')]\n",
    "\n",
    "layout = go.Layout(\n",
    "    width=800,\n",
    "    height=900,\n",
    "    autosize=False,\n",
    "    margin=dict(t=0, b=0, l=0, r=0),\n",
    "    scene=dict(\n",
    "        xaxis=dict(\n",
    "            gridcolor='rgb(255, 255, 255)',\n",
    "            zerolinecolor='rgb(255, 255, 255)',\n",
    "            showbackground=True,\n",
    "            backgroundcolor='rgb(230, 230,230)'\n",
    "        ),\n",
    "        yaxis=dict(\n",
    "            gridcolor='rgb(255, 255, 255)',\n",
    "            zerolinecolor='rgb(255, 255, 255)',\n",
    "            showbackground=True,\n",
    "            backgroundcolor='rgb(230, 230,230)'\n",
    "        ),\n",
    "        zaxis=dict(\n",
    "            gridcolor='rgb(255, 255, 255)',\n",
    "            zerolinecolor='rgb(255, 255, 255)',\n",
    "            showbackground=True,\n",
    "            backgroundcolor='rgb(230, 230,230)'\n",
    "        ),\n",
    "        aspectratio = dict(x=1, y=1, z=0.7),\n",
    "        aspectmode = 'manual'\n",
    "    )\n",
    ")\n",
    "\n",
    "updatemenus=list([\n",
    "    dict(\n",
    "        buttons=list([   \n",
    "            dict(\n",
    "                args=['type', 'surface'],\n",
    "                label='3d Surface',\n",
    "                method='restyle'\n",
    "            ),\n",
    "            dict(\n",
    "                args=['type', 'heatmap'],\n",
    "                label='Heatmap',\n",
    "                method='restyle'\n",
    "            )             \n",
    "        ]),\n",
    "        direction = 'left',\n",
    "        pad = {'r': 10, 't': 10},\n",
    "        showactive = True,\n",
    "        type = 'buttons',\n",
    "        x = 0.1,\n",
    "        xanchor = 'left',\n",
    "        y = 1.1,\n",
    "        yanchor = 'top' \n",
    "    ),\n",
    "])\n",
    "\n",
    "annotations = list([\n",
    "    dict(text='Trace type', x=0, y=1.085, yref='paper', align='left', showarrow=False)\n",
    "])\n",
    "layout['updatemenus'] = updatemenus\n",
    "layout['annotations'] = annotations\n",
    "\n",
    "fig = dict(data=data, layout=layout)\n",
    "py.iplot(fig, filename='cmocean-picker-one-button')"
   ]
  },
  {
   "cell_type": "markdown",
   "metadata": {},
   "source": [
    "#### Update Several Attributes\n",
    "This example uses the cmocean python package. You can install this package with `pip install cmocean`. You can update several attributes by making multiple buttons to toggle between."
   ]
  },
  {
   "cell_type": "code",
   "execution_count": 4,
   "metadata": {
    "collapsed": false
   },
   "outputs": [
    {
     "data": {
      "text/html": [
       "<iframe id=\"igraph\" scrolling=\"no\" style=\"border:none;\" seamless=\"seamless\" src=\"https://plot.ly/~AdamKulidjian/2234.embed\" height=\"900px\" width=\"800px\"></iframe>"
      ],
      "text/plain": [
       "<plotly.tools.PlotlyDisplay object>"
      ]
     },
     "execution_count": 4,
     "metadata": {},
     "output_type": "execute_result"
    }
   ],
   "source": [
    "import plotly.plotly as py\n",
    "import plotly.graph_objs as go\n",
    "from plotly.tools import FigureFactory as FF\n",
    "\n",
    "import json\n",
    "import numpy as np\n",
    "import pandas as pd\n",
    "import cmocean\n",
    "\n",
    "def cmocean_to_plotly(cmap, pl_entries=100):\n",
    "    h = 1.0/(pl_entries-1)\n",
    "    pl_colorscale = []\n",
    "    \n",
    "    for k in range(pl_entries):\n",
    "        C = map(np.uint8, np.array(cmap(k*h)[:3])*255)\n",
    "        pl_colorscale.append([k*h, 'rgb'+str((C[0], C[1], C[2]))])\n",
    "        \n",
    "    return pl_colorscale\n",
    "\n",
    "df = pd.read_csv('https://raw.githubusercontent.com/plotly/datasets/master/volcano.csv')\n",
    "\n",
    "data = [go.Surface(z=df.values.tolist(), colorscale='Viridis')]\n",
    "\n",
    "button_layer_1_height = 1.12\n",
    "button_layer_2_height = 1.065\n",
    "\n",
    "layout = go.Layout(\n",
    "    width=800,\n",
    "    height=900,\n",
    "    autosize=False,\n",
    "    margin=dict(t=0, b=0, l=0, r=0),\n",
    "    scene=dict(\n",
    "        xaxis=dict(\n",
    "            gridcolor='rgb(255, 255, 255)',\n",
    "            zerolinecolor='rgb(255, 255, 255)',\n",
    "            showbackground=True,\n",
    "            backgroundcolor='rgb(230, 230,230)'\n",
    "        ),\n",
    "        yaxis=dict(\n",
    "            gridcolor='rgb(255, 255, 255)',\n",
    "            zerolinecolor='rgb(255, 255, 255)',\n",
    "            showbackground=True,\n",
    "            backgroundcolor='rgb(230, 230,230)'\n",
    "        ),\n",
    "        zaxis=dict(\n",
    "            gridcolor='rgb(255, 255, 255)',\n",
    "            zerolinecolor='rgb(255, 255, 255)',\n",
    "            showbackground=True,\n",
    "            backgroundcolor='rgb(230, 230,230)'\n",
    "        ),\n",
    "        aspectratio = dict(x=1, y=1, z=0.7 ),\n",
    "        aspectmode = 'manual'\n",
    "    )\n",
    ")\n",
    "\n",
    "updatemenus=list([\n",
    "    dict(\n",
    "        buttons=list([\n",
    "            dict(\n",
    "                args=['colorscale', json.dumps(cmocean_to_plotly(cmocean.cm.haline)) ],\n",
    "                label='Haline',\n",
    "                method='restyle'\n",
    "            ),\n",
    "            dict(\n",
    "                args=['colorscale', json.dumps(cmocean_to_plotly(cmocean.cm.turbid))],\n",
    "                label='Turbid',\n",
    "                method='restyle'\n",
    "            ),\n",
    "            dict(\n",
    "                args=['colorscale', json.dumps(cmocean_to_plotly(cmocean.cm.speed))],\n",
    "                label='Speed',\n",
    "                method='restyle'\n",
    "            ),\n",
    "            dict(\n",
    "                args=['colorscale', json.dumps(cmocean_to_plotly(cmocean.cm.haline)) ],\n",
    "                label='Tempo',\n",
    "                method='restyle'\n",
    "            ),\n",
    "            dict(\n",
    "                args=['colorscale', json.dumps(cmocean_to_plotly(cmocean.cm.gray))],\n",
    "                label='Gray',\n",
    "                method='restyle'\n",
    "            ),\n",
    "            dict(\n",
    "                args=['colorscale', json.dumps(cmocean_to_plotly(cmocean.cm.phase))],\n",
    "                label='Phase',\n",
    "                method='restyle'\n",
    "            ),  \n",
    "            dict(\n",
    "                args=['colorscale', json.dumps(cmocean_to_plotly(cmocean.cm.balance)) ],\n",
    "                label='Balance',\n",
    "                method='restyle'\n",
    "            ),\n",
    "            dict(\n",
    "                args=['colorscale', json.dumps(cmocean_to_plotly(cmocean.cm.delta))],\n",
    "                label='Delta',\n",
    "                method='restyle'\n",
    "            ),\n",
    "            dict(\n",
    "                args=['colorscale', json.dumps(cmocean_to_plotly(cmocean.cm.curl))],\n",
    "                label='Curl',\n",
    "                method='restyle'\n",
    "            ),                       \n",
    "        ]),\n",
    "        direction = 'left',\n",
    "        pad = {'r': 10, 't': 10},\n",
    "        showactive = True,\n",
    "        type = 'buttons',\n",
    "        x = 0.1,\n",
    "        xanchor = 'left',\n",
    "        y = button_layer_1_height,\n",
    "        yanchor = 'top'            \n",
    "    ),\n",
    "    dict(\n",
    "        buttons=list([   \n",
    "            dict(\n",
    "                args=['reversescale', True],\n",
    "                label='Reverse',\n",
    "                method='restyle'\n",
    "            ),\n",
    "            dict(\n",
    "                args=['reversescale', False],\n",
    "                label='Undo',\n",
    "                method='restyle'\n",
    "            )                    \n",
    "        ]),\n",
    "        direction = 'left',\n",
    "        pad = {'r': 10, 't': 10},\n",
    "        showactive = True,\n",
    "        type = 'buttons',\n",
    "        x = 0.45,\n",
    "        xanchor = 'left',\n",
    "        y = button_layer_2_height,\n",
    "        yanchor = 'top'            \n",
    "    ),\n",
    "    dict(\n",
    "        buttons=list([   \n",
    "            dict(\n",
    "                args=[{'contours.showlines':False, 'type':'contour'}],\n",
    "                label='Hide lines',\n",
    "                method='restyle'\n",
    "            ),\n",
    "            dict(\n",
    "                args=[{'contours.showlines':True, 'type':'contour'}],\n",
    "                label='Show lines',\n",
    "                method='restyle'\n",
    "            ),                    \n",
    "        ]),\n",
    "        direction = 'left',\n",
    "        pad = {'r': 10, 't': 10},\n",
    "        showactive = True,\n",
    "        type = 'buttons',\n",
    "        x = 0.65,\n",
    "        xanchor = 'left',\n",
    "        y = button_layer_2_height,\n",
    "        yanchor = 'top'            \n",
    "    ),        \n",
    "    dict(\n",
    "        buttons=list([   \n",
    "            dict(\n",
    "                args=['type', 'surface'],\n",
    "                label='3d Surface',\n",
    "                method='restyle'\n",
    "            ),\n",
    "            dict(\n",
    "                args=['type', 'heatmap'],\n",
    "                label='Heatmap',\n",
    "                method='restyle'\n",
    "            ),  \n",
    "            dict(\n",
    "                args=['type', 'contour'],\n",
    "                label='Contour',\n",
    "                method='restyle'\n",
    "            )                     \n",
    "        ]),\n",
    "        direction = 'left',\n",
    "        pad = {'r': 10, 't': 10},\n",
    "        showactive = True,\n",
    "        type = 'buttons',\n",
    "        x = 0.1,\n",
    "        xanchor = 'left',\n",
    "        y = button_layer_2_height,\n",
    "        yanchor = 'top' \n",
    "    ),\n",
    "])\n",
    "\n",
    "annotations = list([\n",
    "    dict(text='cmocean<br>scale', x=0, y=1.11, yref='paper', align='left', showarrow=False ),\n",
    "    dict(text='Trace type', x=0, y=1.05, yref='paper', showarrow=False )\n",
    "])\n",
    "layout['updatemenus'] = updatemenus\n",
    "layout['annotations'] = annotations\n",
    "\n",
    "fig = dict(data=data, layout=layout)\n",
    "py.iplot(fig, filename='cmocean-picker')"
   ]
  },
  {
   "cell_type": "markdown",
   "metadata": {},
   "source": [
    "#### Styling Your Buttons\n",
    "We are making a graph of the Largest Wind Farms in United States. We will need to import a large dataset first."
   ]
  },
  {
   "cell_type": "code",
   "execution_count": 5,
   "metadata": {
    "collapsed": false
   },
   "outputs": [
    {
     "data": {
      "text/html": [
       "<iframe id=\"igraph\" scrolling=\"no\" style=\"border:none;\" seamless=\"seamless\" src=\"https://plot.ly/~AdamKulidjian/2236.embed\" height=\"800px\" width=\"100%\"></iframe>"
      ],
      "text/plain": [
       "<plotly.tools.PlotlyDisplay object>"
      ]
     },
     "execution_count": 5,
     "metadata": {},
     "output_type": "execute_result"
    }
   ],
   "source": [
    "df_wind = pd.read_csv('https://plot.ly/~datasets/2805.csv')\n",
    "\n",
    "df_known_capacity = df_wind[ df_wind['total_cpcy'] != -99999.000 ]\n",
    "df_sum = df_known_capacity.groupby('manufac')['total_cpcy'].sum().sort_values(ascending=False).to_frame()\n",
    "\n",
    "df_farms = pd.read_csv('https://plot.ly/~jackp/17256.csv')\n",
    "df_farms.set_index('Wind Farm', inplace=True)\n",
    "\n",
    "wind_farms=list([\n",
    "    dict(\n",
    "        args=[ { \n",
    "            'mapbox.center.lat':38,\n",
    "            'mapbox.center.lon':-94,\n",
    "            'mapbox.zoom':3,\n",
    "            'annotations[0].text':'All US wind turbines (scroll to zoom)'\n",
    "        } ],\n",
    "        label='USA',\n",
    "        method='relayout'\n",
    "    )\n",
    "])\n",
    "\n",
    "for farm, row in df_farms.iterrows():\n",
    "    desc = []\n",
    "    for col in df_farms.columns:\n",
    "        if col not in ['DegMinSec','Latitude','Longitude']:\n",
    "            if str(row[col]) not in ['None','nan','']: \n",
    "                desc.append( col + ': ' + str(row[col]).strip(\"'\") )\n",
    "    desc.insert(0, farm)\n",
    "    wind_farms.append( \n",
    "        dict(\n",
    "            args=[ { \n",
    "                'mapbox.center.lat':row['Latitude'], \n",
    "                'mapbox.center.lon':float(str(row['Longitude']).strip(\"'\")), \n",
    "                'mapbox.zoom':9,\n",
    "                'annotations[0].text': '<br>'.join(desc)\n",
    "            } ],\n",
    "            label=' '.join(farm.split(' ')[0:2]),\n",
    "            method='relayout'\n",
    "        )\n",
    "    )\n",
    "\n",
    "data = []\n",
    "for mfr in list(df_sum.index):\n",
    "    if mfr != 'unknown':\n",
    "        trace = dict(\n",
    "            lat = df_wind[ df_wind['manufac'] == mfr ]['lat_DD'],\n",
    "            lon = df_wind[ df_wind['manufac'] == mfr ]['long_DD'],\n",
    "            name = mfr,\n",
    "            marker = dict(size = 4),\n",
    "            type = 'scattermapbox'\n",
    "        )\n",
    "    data.append(trace)\n",
    "\n",
    "mapbox_access_token = 'pk.eyJ1IjoiY2hlbHNlYXBsb3RseSIsImEiOiJjaXFqeXVzdDkwMHFrZnRtOGtlMGtwcGs4In0.SLidkdBMEap9POJGIe1eGw'\n",
    "\n",
    "layout = dict(\n",
    "    height = 800,\n",
    "    margin = dict( t=0, b=0, l=0, r=0 ),\n",
    "    font = dict( color='#FFFFFF', size=11 ),\n",
    "    paper_bgcolor = '#000000',\n",
    "    mapbox=dict(\n",
    "        accesstoken=mapbox_access_token,\n",
    "        bearing=0,\n",
    "        center=dict(\n",
    "            lat=38,\n",
    "            lon=-94\n",
    "        ),\n",
    "        pitch=0,\n",
    "        zoom=3,\n",
    "        style='dark'\n",
    "    ),\n",
    ")\n",
    "\n",
    "updatemenus=list([\n",
    "    dict(\n",
    "        buttons = wind_farms[0:6],\n",
    "        direction = 'left',\n",
    "        pad = {'r': 0, 't': 10},\n",
    "        type = 'buttons',\n",
    "        x = 0.1,\n",
    "        xanchor = 'left',\n",
    "        y = 1.0,\n",
    "        yanchor = 'top',\n",
    "        bgcolor = 'AAAAAA',\n",
    "        active = 99,\n",
    "        bordercolor = '#FFFFFF',\n",
    "        font = dict(size=11, color='#000000')\n",
    "    ),\n",
    "    dict(\n",
    "        buttons = wind_farms[6:10],\n",
    "        direction = 'left',\n",
    "        pad = {'r': 0, 't': 10},\n",
    "        type = 'buttons',\n",
    "        x = 0.1,\n",
    "        xanchor = 'left',\n",
    "        y = 0.95,\n",
    "        yanchor = 'top',\n",
    "        bgcolor = 'AAAAAA',\n",
    "        active = 99,\n",
    "        bordercolor = '#FFFFFF',\n",
    "        font = dict(size=11, color='#000000')\n",
    "    ),\n",
    "    dict(\n",
    "        buttons=list([\n",
    "            dict(\n",
    "                args=['mapbox.style', 'dark'],\n",
    "                label='Dark',\n",
    "                method='relayout'\n",
    "            ),                    \n",
    "            dict(\n",
    "                args=['mapbox.style', 'light'],\n",
    "                label='Light',\n",
    "                method='relayout'\n",
    "            ),\n",
    "            dict(\n",
    "                args=['mapbox.style', 'satellite'],\n",
    "                label='Satellite',\n",
    "                method='relayout'\n",
    "            ),\n",
    "            dict(\n",
    "                args=['mapbox.style', 'satellite-streets'],\n",
    "                label='Satellite with Streets',\n",
    "                method='relayout'\n",
    "            )                    \n",
    "        ]),\n",
    "        direction = 'up',\n",
    "        x = 0.75,\n",
    "        xanchor = 'left',\n",
    "        y = 0.05,\n",
    "        yanchor = 'bottom',\n",
    "        bgcolor = '#000000',\n",
    "        bordercolor = '#FFFFFF',\n",
    "        font = dict(size=11)\n",
    "    ),        \n",
    "])\n",
    "\n",
    "annotations = list([\n",
    "    dict(text='All US wind turbines (scroll to zoom)', font=dict(color='magenta',size=14), borderpad=10, \n",
    "         x=0.05, y=0.05, xref='page', yref='page', align='left', showarrow=False, bgcolor='black'),\n",
    "    dict(text='Wind<br>Farms', x=0.01, y=0.99, yref='paper', align='left', showarrow=False,font=dict(size=14))\n",
    "])\n",
    "\n",
    "layout['updatemenus'] = updatemenus\n",
    "layout['annotations'] = annotations\n",
    "\n",
    "figure = dict(data=data, layout=layout)\n",
    "py.iplot(figure, filename='wind-turbine-territory')"
   ]
  },
  {
   "cell_type": "markdown",
   "metadata": {},
   "source": [
    "#### Reference"
   ]
  },
  {
   "cell_type": "markdown",
   "metadata": {},
   "source": [
    "See https://plot.ly/python/reference/#layout-updatemenus for more information about `updatemenus`."
   ]
  },
  {
   "cell_type": "code",
   "execution_count": 6,
   "metadata": {
    "collapsed": false
   },
   "outputs": [
    {
     "data": {
      "text/html": [
       "<link href=\"//fonts.googleapis.com/css?family=Open+Sans:600,400,300,200|Inconsolata|Ubuntu+Mono:400,700\" rel=\"stylesheet\" type=\"text/css\" />"
      ],
      "text/plain": [
       "<IPython.core.display.HTML object>"
      ]
     },
     "metadata": {},
     "output_type": "display_data"
    },
    {
     "data": {
      "text/html": [
       "<link rel=\"stylesheet\" type=\"text/css\" href=\"http://help.plot.ly/documentation/all_static/css/ipython-notebook-custom.css\">"
      ],
      "text/plain": [
       "<IPython.core.display.HTML object>"
      ]
     },
     "metadata": {},
     "output_type": "display_data"
    },
    {
     "name": "stdout",
     "output_type": "stream",
     "text": [
      "Collecting git+https://github.com/plotly/publisher.git\n",
      "  Cloning https://github.com/plotly/publisher.git to /private/var/folders/tc/bs9g6vrd36q74m5t8h9cgphh0000gn/T/pip-L1LHPS-build\n",
      "Installing collected packages: publisher\n",
      "  Found existing installation: publisher 0.10\n",
      "    Uninstalling publisher-0.10:\n",
      "      Successfully uninstalled publisher-0.10\n",
      "  Running setup.py install for publisher ... \u001b[?25l-\b \b\\\b \bdone\n",
      "\u001b[?25hSuccessfully installed publisher-0.10\n"
     ]
    },
    {
     "name": "stderr",
     "output_type": "stream",
     "text": [
      "/Library/Frameworks/Python.framework/Versions/2.7/lib/python2.7/site-packages/IPython/nbconvert.py:13: ShimWarning:\n",
      "\n",
      "The `IPython.nbconvert` package has been deprecated. You should import from nbconvert instead.\n",
      "\n",
      "/Library/Frameworks/Python.framework/Versions/2.7/lib/python2.7/site-packages/publisher/publisher.py:53: UserWarning:\n",
      "\n",
      "Did you \"Save\" this notebook before running this command? Remember to save, always save.\n",
      "\n"
     ]
    }
   ],
   "source": [
    "from IPython.display import display, HTML\n",
    "\n",
    "display(HTML('<link href=\"//fonts.googleapis.com/css?family=Open+Sans:600,400,300,200|Inconsolata|Ubuntu+Mono:400,700\" rel=\"stylesheet\" type=\"text/css\" />'))\n",
    "display(HTML('<link rel=\"stylesheet\" type=\"text/css\" href=\"http://help.plot.ly/documentation/all_static/css/ipython-notebook-custom.css\">'))\n",
    "\n",
    "! pip install git+https://github.com/plotly/publisher.git --upgrade\n",
    "import publisher\n",
    "publisher.publish(\n",
    "    'custom-buttons.ipynb', 'python/custom-buttons/', 'Custom Buttons | plotly',\n",
    "    'How to bind callback functions to custom buttons in Python charts with JavaScript.',\n",
    "    title='Custom Buttons | plotly',\n",
    "    name='Custom Buttons',\n",
    "    has_thumbnail='true', thumbnail='thumbnail/custom-buttons.jpg',\n",
    "    language='python', page_type='example_index',\n",
    "    display_as='controls', order=2)"
   ]
  },
  {
   "cell_type": "code",
   "execution_count": null,
   "metadata": {
    "collapsed": true
   },
   "outputs": [],
   "source": []
  }
 ],
 "metadata": {
  "kernelspec": {
   "display_name": "Python 2",
   "language": "python",
   "name": "python2"
  },
  "language_info": {
   "codemirror_mode": {
    "name": "ipython",
    "version": 2
   },
   "file_extension": ".py",
   "mimetype": "text/x-python",
   "name": "python",
   "nbconvert_exporter": "python",
   "pygments_lexer": "ipython2",
   "version": "2.7.12"
  }
 },
 "nbformat": 4,
 "nbformat_minor": 0
}
