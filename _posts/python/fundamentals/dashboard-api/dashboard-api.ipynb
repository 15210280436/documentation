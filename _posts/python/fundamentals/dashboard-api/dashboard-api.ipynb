{
 "cells": [
  {
   "cell_type": "markdown",
   "metadata": {},
   "source": [
    "#### New to Plotly?\n",
    "Plotly's Python library is free and open source! [Get started](https://plot.ly/python/getting-started/) by downloading the client and [reading the primer](https://plot.ly/python/getting-started/).\n",
    "<br>You can set up Plotly to work in [online](https://plot.ly/python/getting-started/#initialization-for-online-plotting) or [offline](https://plot.ly/python/getting-started/#initialization-for-offline-plotting) mode, or in [jupyter notebooks](https://plot.ly/python/getting-started/#start-plotting-online).\n",
    "<br>We also have a quick-reference [cheatsheet](https://images.plot.ly/plotly-documentation/images/python_cheat_sheet.pdf) (new!) to help you get started!"
   ]
  },
  {
   "cell_type": "markdown",
   "metadata": {},
   "source": [
    "#### Version Check\n",
    "Note: The Dashboards API is available in version <b>2.0.5.+</b><br>\n",
    "Run  `pip install plotly --upgrade` to update your Plotly version"
   ]
  },
  {
   "cell_type": "code",
   "execution_count": 1,
   "metadata": {
    "collapsed": false
   },
   "outputs": [
    {
     "data": {
      "text/plain": [
       "'2.0.5'"
      ]
     },
     "execution_count": 1,
     "metadata": {},
     "output_type": "execute_result"
    }
   ],
   "source": [
    "import plotly\n",
    "plotly.__version__"
   ]
  },
  {
   "cell_type": "markdown",
   "metadata": {},
   "source": [
    "#### Initialize a Dashboard\n",
    "Now you can programmatically create and modify dashboards in Python. These dashboards can be uploaded to the Plotly server to join your other dashboards. You can also retrieve dashboards from Plotly.\n",
    "\n",
    "Let's start by creating a new dashboard. To get a preview of the dashboard at any time, run the `.get_preview()` method in a notebook cell. Everytime you modify your dashboard you should run this to check what it looks like.\n",
    "\n",
    "It's important to note that because of the way `.get_preview()` works _only_ one cell of the Jupyter notebook can display the preview of the dashboard after running this method. A good setup is to designate one cell to look like `my_dboard.get_preview()` and then run that every time you make a change to update the HTML representation of the dashboard. For the purposes of clarity, each modification of the dashboard in this tutorial is clearly shown."
   ]
  },
  {
   "cell_type": "code",
   "execution_count": 2,
   "metadata": {
    "collapsed": false
   },
   "outputs": [
    {
     "data": {
      "text/html": [
       "\n",
       "<!DOCTYPE HTML>\n",
       "<html>\n",
       "  <head>\n",
       "    <style>\n",
       "      body {\n",
       "        margin: 0px;\n",
       "        padding: 0px;\n",
       "      }\n",
       "    </style>\n",
       "  </head>\n",
       "  <body>\n",
       "    <canvas id=\"myCanvas\" width=\"400\" height=\"400\"></canvas>\n",
       "    <script>\n",
       "      var canvas = document.getElementById('myCanvas');\n",
       "      var context = canvas.getContext('2d');\n",
       "      <!-- Dashboard -->\n",
       "      context.beginPath();\n",
       "      context.rect(0, 0, 400, 400);\n",
       "      context.lineWidth = 2;\n",
       "      context.strokeStyle = 'black';\n",
       "      context.stroke();\n",
       "      </script>\n",
       "  </body>\n",
       "</html>\n"
      ],
      "text/plain": [
       "<IPython.core.display.HTML object>"
      ]
     },
     "execution_count": 2,
     "metadata": {},
     "output_type": "execute_result"
    }
   ],
   "source": [
    "import plotly.dashboard_objs as dashboard\n",
    "\n",
    "import IPython.display\n",
    "from IPython.display import Image\n",
    "\n",
    "my_dboard = dashboard.Dashboard()\n",
    "my_dboard.get_preview()"
   ]
  },
  {
   "cell_type": "markdown",
   "metadata": {},
   "source": [
    "#### Create Some Plots\n",
    "In order to use the dashboard, we need to put some plots into it. Let's start by making three different plots."
   ]
  },
  {
   "cell_type": "code",
   "execution_count": 3,
   "metadata": {
    "collapsed": false
   },
   "outputs": [
    {
     "data": {
      "text/html": [
       "<iframe id=\"igraph\" scrolling=\"no\" style=\"border:none;\" seamless=\"seamless\" src=\"https://plot.ly/~PlotBot/1296.embed\" height=\"525px\" width=\"100%\"></iframe>"
      ],
      "text/plain": [
       "<plotly.tools.PlotlyDisplay object>"
      ]
     },
     "execution_count": 3,
     "metadata": {},
     "output_type": "execute_result"
    }
   ],
   "source": [
    "import plotly.graph_objs as go\n",
    "import plotly.plotly as py\n",
    "\n",
    "import numpy as np\n",
    "\n",
    "trace1 = go.Scatter(\n",
    "    y = np.random.randn(500),\n",
    "    mode='markers',\n",
    "    marker=dict(\n",
    "        size='16',\n",
    "        color = np.random.randn(500),\n",
    "        colorscale='Viridis',\n",
    "        showscale=True\n",
    "    )\n",
    ")\n",
    "data = [trace1]\n",
    "url_1 = py.plot(data, filename='scatter-for-dashboard', auto_open=False)\n",
    "py.iplot(data, filename='scatter-for-dashboard')"
   ]
  },
  {
   "cell_type": "code",
   "execution_count": 4,
   "metadata": {
    "collapsed": false
   },
   "outputs": [
    {
     "data": {
      "text/html": [
       "<iframe id=\"igraph\" scrolling=\"no\" style=\"border:none;\" seamless=\"seamless\" src=\"https://plot.ly/~PlotBot/1298.embed\" height=\"525px\" width=\"100%\"></iframe>"
      ],
      "text/plain": [
       "<plotly.tools.PlotlyDisplay object>"
      ]
     },
     "execution_count": 4,
     "metadata": {},
     "output_type": "execute_result"
    }
   ],
   "source": [
    "import plotly.plotly as py\n",
    "import plotly.graph_objs as go\n",
    "\n",
    "labels=['Oxygen','Hydrogen','Carbon_Dioxide','Nitrogen']\n",
    "values=[4500,2500,1053,500]\n",
    "\n",
    "trace=go.Pie(labels=labels,values=values)\n",
    "\n",
    "url_2 = py.plot([trace], filename='pie-for-dashboard', auto_open=False)\n",
    "py.iplot([trace], filename='pie-for-dashboard')"
   ]
  },
  {
   "cell_type": "code",
   "execution_count": 5,
   "metadata": {
    "collapsed": false
   },
   "outputs": [
    {
     "data": {
      "text/html": [
       "<iframe id=\"igraph\" scrolling=\"no\" style=\"border:none;\" seamless=\"seamless\" src=\"https://plot.ly/~PlotBot/1300.embed\" height=\"525px\" width=\"100%\"></iframe>"
      ],
      "text/plain": [
       "<plotly.tools.PlotlyDisplay object>"
      ]
     },
     "execution_count": 5,
     "metadata": {},
     "output_type": "execute_result"
    }
   ],
   "source": [
    "import plotly.plotly as py\n",
    "import plotly.graph_objs as go\n",
    "\n",
    "import numpy as np\n",
    "\n",
    "x0 = np.random.randn(50)\n",
    "x1 = np.random.randn(50) + 2\n",
    "\n",
    "trace0 = go.Box(x=x0)\n",
    "trace1 = go.Box(x=x1)\n",
    "data = [trace0, trace1]\n",
    "url_3 = py.plot(data, filename='box-for-dashboard', auto_open=False)\n",
    "py.iplot(data, filename='box-for-dashboard')"
   ]
  },
  {
   "cell_type": "markdown",
   "metadata": {},
   "source": [
    "#### Add a Box\n",
    "Dashboards are a collection of plots organized in a certain orientation. If you want to place a plot into the layout of a dashboard, you need to place it in a `box` and `insert` it into your dashboard. A box takes the form:\n",
    "\n",
    "```\n",
    "{\n",
    "    'type': 'box',\n",
    "    'boxType': 'plot',\n",
    "    'fileId': 'username:123',\n",
    "    'shareKey': None,\n",
    "    'title': ''\n",
    "}\n",
    "```\n",
    "\n",
    "where `type` _must_ be set to `box` and `boxType` _must_ be set to `plot`. The `fileId` only looks something like `username:123` which can be found in the url of your plot once it's up on the Plotly server. `shareKey` and `title` are optional keywords, so they don't need to be included in your box.\n",
    "\n",
    "Note: As is done above, you can run `py.plot()` to return the url of your plot and then assign it to a variable to use in a dashboard later."
   ]
  },
  {
   "cell_type": "code",
   "execution_count": 6,
   "metadata": {
    "collapsed": false
   },
   "outputs": [],
   "source": [
    "index = url_1.find('~')\n",
    "fileId_1 = url_1[index + 1: ]\n",
    "fileId_1 = fileId_1.replace('/', ':')\n",
    "\n",
    "index = url_2.find('~')\n",
    "fileId_2 = url_2[index + 1: ]\n",
    "fileId_2 = fileId_2.replace('/', ':')\n",
    "\n",
    "index = url_3.find('~')\n",
    "fileId_3 = url_3[index + 1: ]\n",
    "fileId_3 = fileId_3.replace('/', ':')"
   ]
  },
  {
   "cell_type": "code",
   "execution_count": 7,
   "metadata": {
    "collapsed": false
   },
   "outputs": [],
   "source": [
    "box_1 = {\n",
    "    'type': 'box',\n",
    "    'boxType': 'plot',\n",
    "    'fileId': fileId_1,\n",
    "    'title': 'scatter-for-dashboard'\n",
    "}\n",
    "\n",
    "box_2 = {\n",
    "    'type': 'box',\n",
    "    'boxType': 'plot',\n",
    "    'fileId': fileId_2,\n",
    "    'title': 'pie-for-dashboard'\n",
    "}\n",
    "\n",
    "box_3 = {\n",
    "    'type': 'box',\n",
    "    'boxType': 'plot',\n",
    "    'fileId': fileId_3,\n",
    "    'title': 'box-for-dashboard'\n",
    "}"
   ]
  },
  {
   "cell_type": "code",
   "execution_count": 8,
   "metadata": {
    "collapsed": true
   },
   "outputs": [],
   "source": [
    "my_dboard.insert(box_1)"
   ]
  },
  {
   "cell_type": "markdown",
   "metadata": {},
   "source": [
    "![IPython terminal](dashboard_1.png)"
   ]
  },
  {
   "cell_type": "code",
   "execution_count": 9,
   "metadata": {
    "collapsed": false
   },
   "outputs": [],
   "source": [
    "my_dboard.insert(box_2, 'above', 1)"
   ]
  },
  {
   "cell_type": "markdown",
   "metadata": {
    "collapsed": true
   },
   "source": [
    "![IPython terminal](dashboard_2.png)"
   ]
  },
  {
   "cell_type": "code",
   "execution_count": 10,
   "metadata": {
    "collapsed": true
   },
   "outputs": [],
   "source": [
    "my_dboard.insert(box_3, 'left', 2)"
   ]
  },
  {
   "cell_type": "markdown",
   "metadata": {},
   "source": [
    "![IPython terminal](dashboard_3.png)"
   ]
  },
  {
   "cell_type": "markdown",
   "metadata": {},
   "source": [
    "#### Swap Boxes"
   ]
  },
  {
   "cell_type": "code",
   "execution_count": 11,
   "metadata": {
    "collapsed": false
   },
   "outputs": [
    {
     "data": {
      "text/plain": [
       "'box-for-dashboard'"
      ]
     },
     "execution_count": 11,
     "metadata": {},
     "output_type": "execute_result"
    }
   ],
   "source": [
    "my_dboard.get_box(3)['title']"
   ]
  },
  {
   "cell_type": "code",
   "execution_count": 12,
   "metadata": {
    "collapsed": false
   },
   "outputs": [
    {
     "data": {
      "text/plain": [
       "'pie-for-dashboard'"
      ]
     },
     "execution_count": 12,
     "metadata": {},
     "output_type": "execute_result"
    }
   ],
   "source": [
    "my_dboard.swap(2, 3)\n",
    "my_dboard.get_box(3)['title']"
   ]
  },
  {
   "cell_type": "markdown",
   "metadata": {},
   "source": [
    "#### Remove Box\n",
    "You can remove a box from the dashboard by identifying its box id from the `.get_preview()`."
   ]
  },
  {
   "cell_type": "code",
   "execution_count": 13,
   "metadata": {
    "collapsed": true
   },
   "outputs": [],
   "source": [
    "my_dboard.insert(box_1, 'below', 2)"
   ]
  },
  {
   "cell_type": "markdown",
   "metadata": {},
   "source": [
    "![IPython terminal](dashboard_4.png)"
   ]
  },
  {
   "cell_type": "code",
   "execution_count": 14,
   "metadata": {
    "collapsed": true
   },
   "outputs": [],
   "source": [
    "my_dboard.remove(2)"
   ]
  },
  {
   "cell_type": "markdown",
   "metadata": {},
   "source": [
    "![IPython terminal](dashboard_3.png)"
   ]
  },
  {
   "cell_type": "markdown",
   "metadata": {},
   "source": [
    "#### Get Box\n",
    "You can use `.get_box()` to retrieve the box from the dashboard based on its box id."
   ]
  },
  {
   "cell_type": "code",
   "execution_count": 15,
   "metadata": {
    "collapsed": false
   },
   "outputs": [
    {
     "data": {
      "text/plain": [
       "{'boxType': 'plot',\n",
       " 'fileId': u'PlotBot:1296',\n",
       " 'title': 'scatter-for-dashboard',\n",
       " 'type': 'box'}"
      ]
     },
     "execution_count": 15,
     "metadata": {},
     "output_type": "execute_result"
    }
   ],
   "source": [
    "my_dboard.get_box(1)"
   ]
  },
  {
   "cell_type": "markdown",
   "metadata": {},
   "source": [
    "#### Upload Dashboard\n",
    "To finally upload your newly made dashboard, use `py.dashboard_ops.upload()`."
   ]
  },
  {
   "cell_type": "code",
   "execution_count": 16,
   "metadata": {
    "collapsed": false
   },
   "outputs": [
    {
     "data": {
      "text/plain": [
       "u'https://plot.ly/~PlotBot/1302/untitled-dashboard/'"
      ]
     },
     "execution_count": 16,
     "metadata": {},
     "output_type": "execute_result"
    }
   ],
   "source": [
    "import plotly.plotly as py\n",
    "py.dashboard_ops.upload(my_dboard, 'my_dboard_from_API')"
   ]
  },
  {
   "cell_type": "markdown",
   "metadata": {},
   "source": [
    "#### Retrieve Dashboard\n",
    "You can also retrieve any of your dashboards from Plotly. To see what dashboards you have in the Plotly cloud, run `py.dashboard_ops.get_dashboard_names()` to get a list of the dashboards you have in your files. To grab a specific dashboard, simply input its name into `py.dashboard_ops.get_dashboard()` to create a `Dashboard()`."
   ]
  },
  {
   "cell_type": "code",
   "execution_count": 17,
   "metadata": {
    "collapsed": false
   },
   "outputs": [
    {
     "data": {
      "text/plain": [
       "['my_dboard_from_API']"
      ]
     },
     "execution_count": 17,
     "metadata": {},
     "output_type": "execute_result"
    }
   ],
   "source": [
    "py.dashboard_ops.get_dashboard_names()"
   ]
  },
  {
   "cell_type": "code",
   "execution_count": 18,
   "metadata": {
    "collapsed": true
   },
   "outputs": [],
   "source": [
    "recent_dboard = py.dashboard_ops.get_dashboard('my_dboard_from_API')"
   ]
  },
  {
   "cell_type": "markdown",
   "metadata": {},
   "source": [
    "#### Reference"
   ]
  },
  {
   "cell_type": "code",
   "execution_count": 20,
   "metadata": {
    "collapsed": false
   },
   "outputs": [
    {
     "name": "stdout",
     "output_type": "stream",
     "text": [
      "Help on class dashboard_ops in module plotly.plotly.plotly:\n",
      "\n",
      "class dashboard_ops\n",
      " |  Interface to Plotly's Dashboards API.\n",
      " |  \n",
      " |  Plotly Dashboards are JSON blobs. They are made up by a bunch of\n",
      " |  containers which contain either empty boxes or boxes with file urls.\n",
      " |  For more info on Dashboard objects themselves, run\n",
      " |  `help(plotly.dashboard_objs)`.\n",
      " |  \n",
      " |  Example 1: Upload Simple Dashboard\n",
      " |  ```\n",
      " |  import plotly.plotly as py\n",
      " |  import plotly.dashboard_objs as dashboard\n",
      " |  box_1 = {\n",
      " |      'type': 'box',\n",
      " |      'boxType': 'plot',\n",
      " |      'fileId': 'username:123',\n",
      " |      'title': 'box 1'\n",
      " |  }\n",
      " |  \n",
      " |  box_2 = {\n",
      " |      'type': 'box',\n",
      " |      'boxType': 'plot',\n",
      " |      'fileId': 'username:456',\n",
      " |      'title': 'box 2'\n",
      " |  }\n",
      " |  \n",
      " |  my_dboard = dashboard.Dashboard()\n",
      " |  my_dboard.insert(box_1)\n",
      " |  # my_dboard.get_preview()\n",
      " |  my_dboard.insert(box_2, 'above', 1)\n",
      " |  # my_dboard.get_preview()\n",
      " |  \n",
      " |  py.dashboard_ops.upload(my_dboard)\n",
      " |  ```\n",
      " |  \n",
      " |  Example 2: Retreive Dashboard from Plotly\n",
      " |  ```\n",
      " |  # works if you have at least one dashboard in your files\n",
      " |  import plotly.plotly as py\n",
      " |  import plotly.dashboard_objs as dashboard\n",
      " |  \n",
      " |  dboard_names = get_dashboard_names()\n",
      " |  first_dboard = get_dashboard(dboard_names[0])\n",
      " |  \n",
      " |  first_dboard.get_preview()\n",
      " |  ```\n",
      " |  \n",
      " |  Class methods defined here:\n",
      " |  \n",
      " |  get_dashboard(cls, dashboard_name) from __builtin__.classobj\n",
      " |      Returns a Dashboard object from a dashboard name.\n",
      " |  \n",
      " |  get_dashboard_names(cls) from __builtin__.classobj\n",
      " |      Return list of all active dashboard names from users' account.\n",
      " |  \n",
      " |  upload(cls, dashboard, filename, sharing='public', auto_open=True) from __builtin__.classobj\n",
      " |      BETA function for uploading/overwriting dashboards to Plotly.\n",
      " |      \n",
      " |      :param (dict) dashboard: the JSON dashboard to be uploaded. Use\n",
      " |          plotly.dashboard_objs.dashboard_objs to create a Dashboard\n",
      " |          object.\n",
      " |      :param (str) filename: the name of the dashboard to be saved in\n",
      " |          your Plotly account. Will overwrite a dashboard of the same\n",
      " |          name if it already exists in your files.\n",
      " |      :param (str) sharing: can be set to either 'public', 'private'\n",
      " |          or 'secret'. If 'public', your dashboard will be viewable by\n",
      " |          all other users. If 'private' only you can see your dashboard.\n",
      " |          If 'secret', the url will be returned with a sharekey appended\n",
      " |          to the url. Anyone with the url may view the dashboard.\n",
      " |      :param (bool) auto_open: automatically opens the dashboard in the\n",
      " |          browser.\n",
      "\n"
     ]
    }
   ],
   "source": [
    "help(py.dashboard_ops)"
   ]
  },
  {
   "cell_type": "code",
   "execution_count": 21,
   "metadata": {
    "collapsed": false,
    "deletable": true,
    "editable": true
   },
   "outputs": [
    {
     "data": {
      "text/html": [
       "<link href=\"//fonts.googleapis.com/css?family=Open+Sans:600,400,300,200|Inconsolata|Ubuntu+Mono:400,700\" rel=\"stylesheet\" type=\"text/css\" />"
      ],
      "text/plain": [
       "<IPython.core.display.HTML object>"
      ]
     },
     "metadata": {},
     "output_type": "display_data"
    },
    {
     "data": {
      "text/html": [
       "<link rel=\"stylesheet\" type=\"text/css\" href=\"http://help.plot.ly/documentation/all_static/css/ipython-notebook-custom.css\">"
      ],
      "text/plain": [
       "<IPython.core.display.HTML object>"
      ]
     },
     "metadata": {},
     "output_type": "display_data"
    },
    {
     "name": "stdout",
     "output_type": "stream",
     "text": [
      "Collecting git+https://github.com/plotly/publisher.git\n",
      "  Cloning https://github.com/plotly/publisher.git to /private/var/folders/tc/bs9g6vrd36q74m5t8h9cgphh0000gn/T/pip-ZWAmzm-build\n",
      "Installing collected packages: publisher\n",
      "  Found existing installation: publisher 0.10\n",
      "    Uninstalling publisher-0.10:\n",
      "      Successfully uninstalled publisher-0.10\n",
      "  Running setup.py install for publisher ... \u001b[?25l-\b \b\\\b \bdone\n",
      "\u001b[?25hSuccessfully installed publisher-0.10\n"
     ]
    },
    {
     "name": "stderr",
     "output_type": "stream",
     "text": [
      "/Library/Frameworks/Python.framework/Versions/2.7/lib/python2.7/site-packages/IPython/nbconvert.py:13: ShimWarning:\n",
      "\n",
      "The `IPython.nbconvert` package has been deprecated. You should import from nbconvert instead.\n",
      "\n",
      "/Library/Frameworks/Python.framework/Versions/2.7/lib/python2.7/site-packages/publisher/publisher.py:53: UserWarning:\n",
      "\n",
      "Did you \"Save\" this notebook before running this command? Remember to save, always save.\n",
      "\n"
     ]
    }
   ],
   "source": [
    "from IPython.display import display, HTML\n",
    "\n",
    "display(HTML('<link href=\"//fonts.googleapis.com/css?family=Open+Sans:600,400,300,200|Inconsolata|Ubuntu+Mono:400,700\" rel=\"stylesheet\" type=\"text/css\" />'))\n",
    "display(HTML('<link rel=\"stylesheet\" type=\"text/css\" href=\"http://help.plot.ly/documentation/all_static/css/ipython-notebook-custom.css\">'))\n",
    "\n",
    "!pip install git+https://github.com/plotly/publisher.git --upgrade\n",
    "import publisher\n",
    "publisher.publish(\n",
    "    'dashboard-api.ipynb', 'python/dashboard-api/', 'Dashboard API | plotly',\n",
    "    'How to create a Dashboard and upload to the cloud in Python.',\n",
    "    title = 'Dashboard API | plotly',\n",
    "    name = 'Dashboard API',\n",
    "    thumbnail='thumbnail/dashboard_wrapper_preview.jpg', language='python',\n",
    "    page_type='example_index', has_thumbnail='true', display_as='file_settings', order=2)"
   ]
  },
  {
   "cell_type": "code",
   "execution_count": null,
   "metadata": {
    "collapsed": true,
    "deletable": true,
    "editable": true
   },
   "outputs": [],
   "source": []
  }
 ],
 "metadata": {
  "anaconda-cloud": {},
  "kernelspec": {
   "display_name": "Python 2",
   "language": "python",
   "name": "python2"
  },
  "language_info": {
   "codemirror_mode": {
    "name": "ipython",
    "version": 2
   },
   "file_extension": ".py",
   "mimetype": "text/x-python",
   "name": "python",
   "nbconvert_exporter": "python",
   "pygments_lexer": "ipython2",
   "version": "2.7.12"
  }
 },
 "nbformat": 4,
 "nbformat_minor": 0
}
