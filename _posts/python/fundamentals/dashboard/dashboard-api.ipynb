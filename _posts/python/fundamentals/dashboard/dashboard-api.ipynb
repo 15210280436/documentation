{
 "cells": [
  {
   "cell_type": "markdown",
   "metadata": {},
   "source": [
    "#### New to Plotly?\n",
    "Plotly's Python library is free and open source! [Get started](https://plot.ly/python/getting-started/) by downloading the client and [reading the primer](https://plot.ly/python/getting-started/).\n",
    "<br>You can set up Plotly to work in [online](https://plot.ly/python/getting-started/#initialization-for-online-plotting) or [offline](https://plot.ly/python/getting-started/#initialization-for-offline-plotting) mode, or in [jupyter notebooks](https://plot.ly/python/getting-started/#start-plotting-online).\n",
    "<br>We also have a quick-reference [cheatsheet](https://images.plot.ly/plotly-documentation/images/python_cheat_sheet.pdf) (new!) to help you get started!"
   ]
  },
  {
   "cell_type": "markdown",
   "metadata": {},
   "source": [
    "#### Version Check\n",
    "Note: The Dashboards API is available in version <b>2.0.5.+</b><br>\n",
    "Run  `pip install plotly --upgrade` to update your Plotly version"
   ]
  },
  {
   "cell_type": "code",
   "execution_count": 1,
   "metadata": {
    "collapsed": false
   },
   "outputs": [
    {
     "data": {
      "text/plain": [
       "'2.0.5'"
      ]
     },
     "execution_count": 1,
     "metadata": {},
     "output_type": "execute_result"
    }
   ],
   "source": [
    "import plotly\n",
    "plotly.__version__"
   ]
  },
  {
   "cell_type": "markdown",
   "metadata": {},
   "source": [
    "#### Plotly Dashboards\n",
    "A dashboard is a collection of plots and images organized with a certain layout. There are two ways to create a Plotly dashboard: using the [online creator](https://plot.ly/dashboard/create/) or programmatically with Plotly's python API.\n",
    "\n",
    "In Plotly, dashboards can contain plots, text and webpage images. To use the online creator, see https://plot.ly/dashboard/create/. Dashboards are stored in your Plotly account: https://plot.ly/organize"
   ]
  },
  {
   "cell_type": "markdown",
   "metadata": {},
   "source": [
    "#### Dashboard Privacy\n",
    "In the same way that a `plot` can be `public`, `private` or `secret`, dashboards can also be `public`, `private` or `secret` independent of the plots inside them. So if you're sharing a `dashboard` with someone and one or more of your plots are set to `private`, they will not show for the other user. For more information about this refer to the [Dashboard Privacy Doc](http://help.plot.ly/dashboard-privacy/)."
   ]
  },
  {
   "cell_type": "markdown",
   "metadata": {},
   "source": [
    "#### Initialize a Dashboard\n",
    "Now you can programmatically create and modify dashboards in Python. These dashboards can be uploaded to the Plotly server to join your other dashboards. You can also retrieve dashboards from Plotly.\n",
    "\n",
    "Let's start by creating a new dashboard. To get a preview of the HTML representation of the dashboard organization - i.e. where the items in the dashboard are located with respect to one another - run the `.get_preview()` method in a notebook cell. Everytime you modify your dashboard you should run this to check what it looks like.\n",
    "\n",
    "`IMPORTANT NOTE`: because of the way `.get_preview()` works _only_ one cell of the Jupyter notebook can display the preview of the dashboard after running this method. A good setup is to designate one cell to look like `my_dboard.get_preview()` and then run that every time you make a change to update the HTML representation of the dashboard. For the purposes of clarity, each modification of the dashboard in this tutorial is clearly shown."
   ]
  },
  {
   "cell_type": "code",
   "execution_count": 2,
   "metadata": {
    "collapsed": false
   },
   "outputs": [],
   "source": [
    "import plotly.dashboard_objs as dashboard\n",
    "\n",
    "import IPython.display\n",
    "from IPython.display import Image\n",
    "\n",
    "my_dboard = dashboard.Dashboard()\n",
    "my_dboard.get_preview()"
   ]
  },
  {
   "cell_type": "markdown",
   "metadata": {},
   "source": [
    "![IPython terminal](https://images.plot.ly/plotly-documentation/images/dashboard_empty.png)"
   ]
  },
  {
   "cell_type": "markdown",
   "metadata": {},
   "source": [
    "#### Add Plots\n",
    "In order to use the dashboard, we need to put some plots into it. You can either make these on-the-fly in Jupyter or use a plot you've already created by using its url."
   ]
  },
  {
   "cell_type": "code",
   "execution_count": 3,
   "metadata": {
    "collapsed": false
   },
   "outputs": [
    {
     "data": {
      "text/html": [
       "<iframe id=\"igraph\" scrolling=\"no\" style=\"border:none;\" seamless=\"seamless\" src=\"https://plot.ly/~PlotBot/1296.embed\" height=\"525px\" width=\"100%\"></iframe>"
      ],
      "text/plain": [
       "<plotly.tools.PlotlyDisplay object>"
      ]
     },
     "execution_count": 3,
     "metadata": {},
     "output_type": "execute_result"
    }
   ],
   "source": [
    "import plotly.graph_objs as go\n",
    "import plotly.plotly as py\n",
    "\n",
    "import numpy as np\n",
    "\n",
    "colorscale = [[0, '#FAEE1C'], [0.33, '#F3558E'], [0.66, '#9C1DE7'], [1, '#581B98']]\n",
    "trace1 = go.Scatter(\n",
    "    y = np.random.randn(500),\n",
    "    mode='markers',\n",
    "    marker=dict(\n",
    "        size='16',\n",
    "        color = np.random.randn(500),\n",
    "        colorscale=colorscale,\n",
    "        showscale=True\n",
    "    )\n",
    ")\n",
    "data = [trace1]\n",
    "url_1 = py.plot(data, filename='scatter-for-dashboard', auto_open=False)\n",
    "py.iplot(data, filename='scatter-for-dashboard')"
   ]
  },
  {
   "cell_type": "code",
   "execution_count": 4,
   "metadata": {
    "collapsed": false
   },
   "outputs": [
    {
     "data": {
      "text/html": [
       "<iframe id=\"igraph\" scrolling=\"no\" style=\"border:none;\" seamless=\"seamless\" src=\"https://plot.ly/~PlotBot/1298.embed\" height=\"525px\" width=\"100%\"></iframe>"
      ],
      "text/plain": [
       "<plotly.tools.PlotlyDisplay object>"
      ]
     },
     "execution_count": 4,
     "metadata": {},
     "output_type": "execute_result"
    }
   ],
   "source": [
    "import plotly.plotly as py\n",
    "import plotly.graph_objs as go\n",
    "\n",
    "labels=['Oxygen','Hydrogen','Carbon_Dioxide','Nitrogen']\n",
    "values=[4500,2500,1053,500]\n",
    "colors = ['#FAEE1C', '#F3558E', '#9C1DE7', '#581B98']\n",
    "\n",
    "trace=go.Pie(labels=labels,values=values,marker={'colors': colors})\n",
    "\n",
    "url_2 = py.plot([trace], filename='pie-for-dashboard', auto_open=False)\n",
    "py.iplot([trace], filename='pie-for-dashboard')"
   ]
  },
  {
   "cell_type": "code",
   "execution_count": 5,
   "metadata": {
    "collapsed": false
   },
   "outputs": [],
   "source": [
    "url_3 = 'https://plot.ly/~PlotBot/1300'"
   ]
  },
  {
   "cell_type": "markdown",
   "metadata": {},
   "source": [
    "#### Add a Box\n",
    "If you want to place a plot, text box or a webpage into  dashboard, you need to place it in a `box` (which is just a dictionary) and `insert` it into your dashboard.\n",
    "\n",
    "A box with a plot in it takes the form:\n",
    "```\n",
    "{\n",
    "    'type': 'box',\n",
    "    'boxType': 'plot',\n",
    "    'fileId': '',\n",
    "    'shareKey': None,\n",
    "    'title': ''\n",
    "}\n",
    "```\n",
    "- `fileId` is of the form `username:number` (eg. 'PlotBot:1300') which can be found in the url of your plot once it's up on the Plotly server.\n",
    "- `shareKey`: optional - the sharekey if your plot is secret.\n",
    "- `title`: optional - sets the title of your box.\n",
    "\n",
    "A box with text in it takes the form:\n",
    "```\n",
    "{\n",
    "    'type': 'box',\n",
    "    'boxType': 'text',\n",
    "    'text': '',\n",
    "    'title': ''\n",
    "}\n",
    "```\n",
    "- `text`: the text you want displayed in your box.\n",
    "- `title`: optional - sets the title of your box.\n",
    "\n",
    "A box with a webpage in it takes the form:\n",
    "```\n",
    "{\n",
    "    'type': 'box',\n",
    "    'boxType': 'webpage',\n",
    "    'url': '',\n",
    "    'title': ''\n",
    "}\n",
    "```\n",
    "- `url`: the url of your webpage (eg. 'https://en.wikipedia.org/wiki/Main_Page').\n",
    "- `title`: optional - sets the title of your box.\n",
    "\n",
    "Note: As above, you can run `py.plot()` to return the url of your plot and then assign it to a variable to use in a dashboard later."
   ]
  },
  {
   "cell_type": "markdown",
   "metadata": {},
   "source": [
    "To extract the fileId from a url, use the `fileId_from_url` below. If your url is `secret`, use `sharekey_from_url` to return the sharekey from the url.\n",
    "\n",
    "Example:\n",
    "```\n",
    "url = 'https://plot.ly/~PlotBot/1322?share_key=c8MTn4oLYEA2LgtQUG9GMl'\n",
    "sharekey_from_url(url)\n",
    "```"
   ]
  },
  {
   "cell_type": "code",
   "execution_count": 6,
   "metadata": {
    "collapsed": false
   },
   "outputs": [],
   "source": [
    "def fileId_from_url(url):\n",
    "    \"\"\"Return fileId from a url.\"\"\"\n",
    "    index = url.find('~')\n",
    "    fileId = url[index + 1: ]\n",
    "    return fileId.replace('/', ':')\n",
    "\n",
    "def sharekey_from_url(url):\n",
    "    \"\"\"Return the sharekey from a url.\"\"\"\n",
    "    index = url.find('share_key=')\n",
    "    return url[index + len('share_key='):]\n",
    "\n",
    "fileId_1 = fileId_from_url(url_1)\n",
    "fileId_2 = fileId_from_url(url_2)\n",
    "fileId_3 = fileId_from_url(url_3)"
   ]
  },
  {
   "cell_type": "code",
   "execution_count": 7,
   "metadata": {
    "collapsed": false
   },
   "outputs": [],
   "source": [
    "box_1 = {\n",
    "    'type': 'box',\n",
    "    'boxType': 'plot',\n",
    "    'fileId': fileId_1,\n",
    "    'title': 'scatter-for-dashboard'\n",
    "}\n",
    "\n",
    "box_2 = {\n",
    "    'type': 'box',\n",
    "    'boxType': 'plot',\n",
    "    'fileId': fileId_2,\n",
    "    'title': 'pie-for-dashboard'\n",
    "}\n",
    "\n",
    "box_3 = {\n",
    "    'type': 'box',\n",
    "    'boxType': 'plot',\n",
    "    'fileId': fileId_3,\n",
    "    'title': 'box-for-dashboard'\n",
    "}"
   ]
  },
  {
   "cell_type": "code",
   "execution_count": 8,
   "metadata": {
    "collapsed": true
   },
   "outputs": [],
   "source": [
    "my_dboard.insert(box_1)"
   ]
  },
  {
   "cell_type": "markdown",
   "metadata": {},
   "source": [
    "![IPython terminal](https://images.plot.ly/plotly-documentation/images/dashboard_1.png)"
   ]
  },
  {
   "cell_type": "code",
   "execution_count": 9,
   "metadata": {
    "collapsed": false
   },
   "outputs": [],
   "source": [
    "my_dboard.insert(box_2, 'above', 1)"
   ]
  },
  {
   "cell_type": "markdown",
   "metadata": {
    "collapsed": true
   },
   "source": [
    "![IPython terminal](https://images.plot.ly/plotly-documentation/images/dashboard_2.png)"
   ]
  },
  {
   "cell_type": "code",
   "execution_count": 10,
   "metadata": {
    "collapsed": true
   },
   "outputs": [],
   "source": [
    "my_dboard.insert(box_3, 'left', 2)"
   ]
  },
  {
   "cell_type": "markdown",
   "metadata": {},
   "source": [
    "![IPython terminal](https://images.plot.ly/plotly-documentation/images/dashboard_3.png)"
   ]
  },
  {
   "cell_type": "markdown",
   "metadata": {},
   "source": [
    "#### Swap Boxes"
   ]
  },
  {
   "cell_type": "code",
   "execution_count": 11,
   "metadata": {
    "collapsed": false
   },
   "outputs": [
    {
     "data": {
      "text/plain": [
       "'box-for-dashboard'"
      ]
     },
     "execution_count": 11,
     "metadata": {},
     "output_type": "execute_result"
    }
   ],
   "source": [
    "my_dboard.get_box(3)['title']"
   ]
  },
  {
   "cell_type": "code",
   "execution_count": 12,
   "metadata": {
    "collapsed": false
   },
   "outputs": [
    {
     "data": {
      "text/plain": [
       "'pie-for-dashboard'"
      ]
     },
     "execution_count": 12,
     "metadata": {},
     "output_type": "execute_result"
    }
   ],
   "source": [
    "my_dboard.swap(2, 3)\n",
    "my_dboard.get_box(3)['title']"
   ]
  },
  {
   "cell_type": "markdown",
   "metadata": {},
   "source": [
    "#### Remove Box\n",
    "You can remove a box from the dashboard by identifying its box id from the `.get_preview()`."
   ]
  },
  {
   "cell_type": "code",
   "execution_count": 13,
   "metadata": {
    "collapsed": true
   },
   "outputs": [],
   "source": [
    "my_dboard.insert(box_1, 'below', 2)"
   ]
  },
  {
   "cell_type": "markdown",
   "metadata": {},
   "source": [
    "![IPython terminal](https://images.plot.ly/plotly-documentation/images/dashboard_4.png)"
   ]
  },
  {
   "cell_type": "code",
   "execution_count": 14,
   "metadata": {
    "collapsed": true
   },
   "outputs": [],
   "source": [
    "my_dboard.remove(2)"
   ]
  },
  {
   "cell_type": "markdown",
   "metadata": {},
   "source": [
    "![IPython terminal](https://images.plot.ly/plotly-documentation/images/dashboard_3.png)"
   ]
  },
  {
   "cell_type": "markdown",
   "metadata": {},
   "source": [
    "#### Get Box\n",
    "You can use `.get_box()` to retrieve the box from the dashboard based on its box id. This is useful for checking what boxes are stored in your dashboard, and you can even change the values in your box by reassigning it."
   ]
  },
  {
   "cell_type": "code",
   "execution_count": 15,
   "metadata": {
    "collapsed": false
   },
   "outputs": [
    {
     "data": {
      "text/plain": [
       "{'boxType': 'plot',\n",
       " 'fileId': u'PlotBot:1296',\n",
       " 'title': 'a new title',\n",
       " 'type': 'box'}"
      ]
     },
     "execution_count": 15,
     "metadata": {},
     "output_type": "execute_result"
    }
   ],
   "source": [
    "my_dboard.get_box(1)['title'] = 'a new title'\n",
    "my_dboard.get_box(1)"
   ]
  },
  {
   "cell_type": "markdown",
   "metadata": {},
   "source": [
    "#### Add a Logo\n",
    "Add a logo to the top-left corner of the dashboard."
   ]
  },
  {
   "cell_type": "code",
   "execution_count": 16,
   "metadata": {
    "collapsed": true
   },
   "outputs": [],
   "source": [
    "my_dboard['settings']['logoUrl'] = 'https://images.plot.ly/language-icons/api-home/python-logo.png'"
   ]
  },
  {
   "cell_type": "markdown",
   "metadata": {},
   "source": [
    "#### Upload Dashboard\n",
    "To upload your dashboard to your [Plotly cloud account](https://plot.ly/organize/home/) use `py.dashboard_ops.upload()`."
   ]
  },
  {
   "cell_type": "code",
   "execution_count": 17,
   "metadata": {
    "collapsed": false
   },
   "outputs": [
    {
     "data": {
      "text/plain": [
       "u'https://plot.ly/~PlotBot/1307/my-dboard-from-api/'"
      ]
     },
     "execution_count": 17,
     "metadata": {},
     "output_type": "execute_result"
    }
   ],
   "source": [
    "import plotly.plotly as py\n",
    "my_dboard['settings']['title'] = 'my_dboard_from_API'\n",
    "py.dashboard_ops.upload(my_dboard, 'my_dboard_from_API')"
   ]
  },
  {
   "cell_type": "markdown",
   "metadata": {},
   "source": [
    "https://plot.ly/~PlotBot/1307/my-dboard-from-api/"
   ]
  },
  {
   "cell_type": "markdown",
   "metadata": {},
   "source": [
    "![IPython terminal](https://images.plot.ly/plotly-documentation/images/my_dboard_from_API_with_logo.png)"
   ]
  },
  {
   "cell_type": "markdown",
   "metadata": {},
   "source": [
    "#### Retrieve Dashboard\n",
    "You can also retrieve any of your dashboards from Plotly. To see what dashboards you have in the Plotly cloud, run `py.dashboard_ops.get_dashboard_names()` to get a list of the dashboards you have in your files. To grab a specific dashboard, simply input its name into `py.dashboard_ops.get_dashboard()` to create a `Dashboard()`."
   ]
  },
  {
   "cell_type": "code",
   "execution_count": 18,
   "metadata": {
    "collapsed": false
   },
   "outputs": [
    {
     "data": {
      "text/plain": [
       "['my_dboard_from_API']"
      ]
     },
     "execution_count": 18,
     "metadata": {},
     "output_type": "execute_result"
    }
   ],
   "source": [
    "py.dashboard_ops.get_dashboard_names()"
   ]
  },
  {
   "cell_type": "code",
   "execution_count": 19,
   "metadata": {
    "collapsed": true
   },
   "outputs": [],
   "source": [
    "recent_dboard = py.dashboard_ops.get_dashboard('my_dboard_from_API')"
   ]
  },
  {
   "cell_type": "markdown",
   "metadata": {},
   "source": [
    "#### Examples\n",
    "For more dashboard examples checkout https://plot.ly/python/dashboard/.\n",
    "\n",
    "Other examples:\n",
    "- [Twitter Marketing Campaign](https://plot.ly/dashboard/jackp:16823/present)\n",
    "- [Shell: Integrated Gas](https://plot.ly/dashboard/jackp:16820/present)\n",
    "- [US Wind Turbine Example](https://plot.ly/dashboard/jackluo:430/view)\n",
    "- [Motorcars Example](https://plot.ly/dashboard/jackp%3A16818/)."
   ]
  },
  {
   "cell_type": "markdown",
   "metadata": {},
   "source": [
    "#### Reference"
   ]
  },
  {
   "cell_type": "code",
   "execution_count": 20,
   "metadata": {
    "collapsed": false
   },
   "outputs": [
    {
     "name": "stdout",
     "output_type": "stream",
     "text": [
      "Help on class dashboard_ops in module plotly.plotly.plotly:\n",
      "\n",
      "class dashboard_ops\n",
      " |  Interface to Plotly's Dashboards API.\n",
      " |  \n",
      " |  Plotly Dashboards are JSON blobs. They are made up by a bunch of\n",
      " |  containers which contain either empty boxes or boxes with file urls.\n",
      " |  For more info on Dashboard objects themselves, run\n",
      " |  `help(plotly.dashboard_objs)`.\n",
      " |  \n",
      " |  Example 1: Upload Simple Dashboard\n",
      " |  ```\n",
      " |  import plotly.plotly as py\n",
      " |  import plotly.dashboard_objs as dashboard\n",
      " |  box_1 = {\n",
      " |      'type': 'box',\n",
      " |      'boxType': 'plot',\n",
      " |      'fileId': 'username:123',\n",
      " |      'title': 'box 1'\n",
      " |  }\n",
      " |  \n",
      " |  box_2 = {\n",
      " |      'type': 'box',\n",
      " |      'boxType': 'plot',\n",
      " |      'fileId': 'username:456',\n",
      " |      'title': 'box 2'\n",
      " |  }\n",
      " |  \n",
      " |  my_dboard = dashboard.Dashboard()\n",
      " |  my_dboard.insert(box_1)\n",
      " |  # my_dboard.get_preview()\n",
      " |  my_dboard.insert(box_2, 'above', 1)\n",
      " |  # my_dboard.get_preview()\n",
      " |  \n",
      " |  py.dashboard_ops.upload(my_dboard)\n",
      " |  ```\n",
      " |  \n",
      " |  Example 2: Retreive Dashboard from Plotly\n",
      " |  ```\n",
      " |  # works if you have at least one dashboard in your files\n",
      " |  import plotly.plotly as py\n",
      " |  import plotly.dashboard_objs as dashboard\n",
      " |  \n",
      " |  dboard_names = get_dashboard_names()\n",
      " |  first_dboard = get_dashboard(dboard_names[0])\n",
      " |  \n",
      " |  first_dboard.get_preview()\n",
      " |  ```\n",
      " |  \n",
      " |  Class methods defined here:\n",
      " |  \n",
      " |  get_dashboard(cls, dashboard_name) from __builtin__.classobj\n",
      " |      Returns a Dashboard object from a dashboard name.\n",
      " |  \n",
      " |  get_dashboard_names(cls) from __builtin__.classobj\n",
      " |      Return list of all active dashboard names from users' account.\n",
      " |  \n",
      " |  upload(cls, dashboard, filename, sharing='public', auto_open=True) from __builtin__.classobj\n",
      " |      BETA function for uploading/overwriting dashboards to Plotly.\n",
      " |      \n",
      " |      :param (dict) dashboard: the JSON dashboard to be uploaded. Use\n",
      " |          plotly.dashboard_objs.dashboard_objs to create a Dashboard\n",
      " |          object.\n",
      " |      :param (str) filename: the name of the dashboard to be saved in\n",
      " |          your Plotly account. Will overwrite a dashboard of the same\n",
      " |          name if it already exists in your files.\n",
      " |      :param (str) sharing: can be set to either 'public', 'private'\n",
      " |          or 'secret'. If 'public', your dashboard will be viewable by\n",
      " |          all other users. If 'private' only you can see your dashboard.\n",
      " |          If 'secret', the url will be returned with a sharekey appended\n",
      " |          to the url. Anyone with the url may view the dashboard.\n",
      " |      :param (bool) auto_open: automatically opens the dashboard in the\n",
      " |          browser.\n",
      "\n"
     ]
    }
   ],
   "source": [
    "help(py.dashboard_ops)"
   ]
  },
  {
   "cell_type": "code",
   "execution_count": 21,
   "metadata": {
    "collapsed": false,
    "deletable": true,
    "editable": true
   },
   "outputs": [
    {
     "data": {
      "text/html": [
       "<link href=\"//fonts.googleapis.com/css?family=Open+Sans:600,400,300,200|Inconsolata|Ubuntu+Mono:400,700\" rel=\"stylesheet\" type=\"text/css\" />"
      ],
      "text/plain": [
       "<IPython.core.display.HTML object>"
      ]
     },
     "metadata": {},
     "output_type": "display_data"
    },
    {
     "data": {
      "text/html": [
       "<link rel=\"stylesheet\" type=\"text/css\" href=\"http://help.plot.ly/documentation/all_static/css/ipython-notebook-custom.css\">"
      ],
      "text/plain": [
       "<IPython.core.display.HTML object>"
      ]
     },
     "metadata": {},
     "output_type": "display_data"
    },
    {
     "name": "stdout",
     "output_type": "stream",
     "text": [
      "Collecting git+https://github.com/plotly/publisher.git\n",
      "  Cloning https://github.com/plotly/publisher.git to /private/var/folders/tc/bs9g6vrd36q74m5t8h9cgphh0000gn/T/pip-W3q1oK-build\n",
      "Installing collected packages: publisher\n",
      "  Found existing installation: publisher 0.10\n",
      "    Uninstalling publisher-0.10:\n",
      "      Successfully uninstalled publisher-0.10\n",
      "  Running setup.py install for publisher ... \u001b[?25l-\b \b\\\b \bdone\n",
      "\u001b[?25hSuccessfully installed publisher-0.10\n"
     ]
    },
    {
     "name": "stderr",
     "output_type": "stream",
     "text": [
      "/Library/Frameworks/Python.framework/Versions/2.7/lib/python2.7/site-packages/IPython/nbconvert.py:13: ShimWarning:\n",
      "\n",
      "The `IPython.nbconvert` package has been deprecated. You should import from nbconvert instead.\n",
      "\n",
      "/Library/Frameworks/Python.framework/Versions/2.7/lib/python2.7/site-packages/publisher/publisher.py:53: UserWarning:\n",
      "\n",
      "Did you \"Save\" this notebook before running this command? Remember to save, always save.\n",
      "\n"
     ]
    }
   ],
   "source": [
    "from IPython.display import display, HTML\n",
    "\n",
    "display(HTML('<link href=\"//fonts.googleapis.com/css?family=Open+Sans:600,400,300,200|Inconsolata|Ubuntu+Mono:400,700\" rel=\"stylesheet\" type=\"text/css\" />'))\n",
    "display(HTML('<link rel=\"stylesheet\" type=\"text/css\" href=\"http://help.plot.ly/documentation/all_static/css/ipython-notebook-custom.css\">'))\n",
    "\n",
    "!pip install git+https://github.com/plotly/publisher.git --upgrade\n",
    "import publisher\n",
    "publisher.publish(\n",
    "    'dashboard-api.ipynb', 'python/create-online-dashboard/', 'Dashboard API | plotly',\n",
    "    'How to create and publish a dashboard with the Python API.',\n",
    "    title = 'Dashboard API | plotly',\n",
    "    name = 'Dashboard API',\n",
    "    thumbnail='thumbnail/dashboard.jpg', language='python',\n",
    "    page_type='example_index', has_thumbnail='true', display_as='file_settings', order=0)"
   ]
  },
  {
   "cell_type": "code",
   "execution_count": null,
   "metadata": {
    "collapsed": true,
    "deletable": true,
    "editable": true
   },
   "outputs": [],
   "source": []
  }
 ],
 "metadata": {
  "anaconda-cloud": {},
  "kernelspec": {
   "display_name": "Python 2",
   "language": "python",
   "name": "python2"
  },
  "language_info": {
   "codemirror_mode": {
    "name": "ipython",
    "version": 2
   },
   "file_extension": ".py",
   "mimetype": "text/x-python",
   "name": "python",
   "nbconvert_exporter": "python",
   "pygments_lexer": "ipython2",
   "version": "2.7.12"
  }
 },
 "nbformat": 4,
 "nbformat_minor": 0
}
