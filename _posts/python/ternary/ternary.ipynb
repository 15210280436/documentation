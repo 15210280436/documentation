{
 "cells": [
  {
   "cell_type": "markdown",
   "metadata": {},
   "source": [
    "# Ternary Plots"
   ]
  },
  {
   "cell_type": "markdown",
   "metadata": {},
   "source": [
    "##### Make ternary plots in Plotly and Python!"
   ]
  },
  {
   "cell_type": "markdown",
   "metadata": {},
   "source": [
    "Learn about API authentication here: https://plot.ly/python/getting-started\n",
    "<br>Find your api_key here: https://plot.ly/settings/api"
   ]
  },
  {
   "cell_type": "code",
   "execution_count": 18,
   "metadata": {
    "collapsed": false
   },
   "outputs": [
    {
     "data": {
      "text/plain": [
       "'1.9.9'"
      ]
     },
     "execution_count": 18,
     "metadata": {},
     "output_type": "execute_result"
    }
   ],
   "source": [
    "import plotly\n",
    "plotly.__version__"
   ]
  },
  {
   "cell_type": "markdown",
   "metadata": {},
   "source": [
    "#### Basic Tenary Plot with Markers"
   ]
  },
  {
   "cell_type": "code",
   "execution_count": 19,
   "metadata": {
    "collapsed": false
   },
   "outputs": [],
   "source": [
    "from plotly.offline import init_notebook_mode, iplot, plot\n",
    "import plotly.graph_objs as go\n",
    "init_notebook_mode()"
   ]
  },
  {
   "cell_type": "code",
   "execution_count": 20,
   "metadata": {
    "collapsed": false
   },
   "outputs": [],
   "source": [
    "rawData = [\n",
    "    {'journalist':75,'developer':25,'designer':0,'label':'point 1'},\n",
    "    {'journalist':70,'developer':10,'designer':20,'label':'point 2'},\n",
    "    {'journalist':75,'developer':20,'designer':5,'label':'point 3'},\n",
    "    {'journalist':5,'developer':60,'designer':35,'label':'point 4'},\n",
    "    {'journalist':10,'developer':80,'designer':10,'label':'point 5'},\n",
    "    {'journalist':10,'developer':90,'designer':0,'label':'point 6'},\n",
    "    {'journalist':20,'developer':70,'designer':10,'label':'point 7'},\n",
    "    {'journalist':10,'developer':20,'designer':70,'label':'point 8'},\n",
    "    {'journalist':15,'developer':5,'designer':80,'label':'point 9'},\n",
    "    {'journalist':10,'developer':10,'designer':80,'label':'point 10'},\n",
    "    {'journalist':20,'developer':10,'designer':70,'label':'point 11'},\n",
    "];"
   ]
  },
  {
   "cell_type": "code",
   "execution_count": 21,
   "metadata": {
    "collapsed": false
   },
   "outputs": [],
   "source": [
    "def makeAxis(title, tickangle): \n",
    "    return {\n",
    "      'title': title,\n",
    "      'titlefont': { 'size': 20 },\n",
    "      'tickangle': tickangle,\n",
    "      'tickfont': { 'size': 15 },\n",
    "      'tickcolor': 'rgba(0,0,0,0)',\n",
    "      'ticklen': 5,\n",
    "      'showline': True,\n",
    "      'showgrid': True\n",
    "    }\n"
   ]
  },
  {
   "cell_type": "code",
   "execution_count": 22,
   "metadata": {
    "collapsed": false
   },
   "outputs": [],
   "source": [
    "data = [{ \n",
    "    'type': 'scatterternary',\n",
    "    'mode': 'markers',\n",
    "    'a': map(lambda x: x['journalist'], rawData),\n",
    "    'b': map(lambda x: x['developer'], rawData),\n",
    "    'c': map(lambda x: x['designer'], rawData),\n",
    "    'text': map(lambda x: x['label'], rawData),\n",
    "    'marker': {\n",
    "        'symbol': 100,\n",
    "        'color': '#DB7365',\n",
    "        'size': 14,\n",
    "        'line': { 'width': 2 }\n",
    "    },\n",
    "    }]"
   ]
  },
  {
   "cell_type": "code",
   "execution_count": 23,
   "metadata": {
    "collapsed": false
   },
   "outputs": [],
   "source": [
    "layout = {\n",
    "    'ternary': {\n",
    "        'sum': 100,\n",
    "        'aaxis': makeAxis('Journalist', 0),\n",
    "        'baxis': makeAxis('<br>Developer', 45),\n",
    "        'caxis': makeAxis('<br>Designer', -45)\n",
    "    },\n",
    "    'annotations': [{\n",
    "      'showarrow': False,\n",
    "      'text': 'Simple Ternary Plot with Markers',\n",
    "        'x': 0.5,\n",
    "        'y': 1.3,\n",
    "        'font': { 'size': 15 }\n",
    "    }]\n",
    "}"
   ]
  },
  {
   "cell_type": "code",
   "execution_count": 24,
   "metadata": {
    "collapsed": false
   },
   "outputs": [],
   "source": [
    "fig = {'data': data, 'layout': layout}"
   ]
  },
  {
   "cell_type": "code",
   "execution_count": 25,
   "metadata": {
    "collapsed": false
   },
   "outputs": [
    {
     "data": {
      "text/html": [
       "<div id=\"d4f4695b-d9e7-4c61-ac4b-416e148abc02\" style=\"height: 525; width: 100%;\" class=\"plotly-graph-div\"></div><script type=\"text/javascript\">require([\"plotly\"], function(Plotly) { window.PLOTLYENV=window.PLOTLYENV || {};window.PLOTLYENV.BASE_URL=\"https://plot.ly\";Plotly.newPlot(\"d4f4695b-d9e7-4c61-ac4b-416e148abc02\", [{\"a\": [75, 70, 75, 5, 10, 10, 20, 10, 15, 10, 20], \"c\": [0, 20, 5, 35, 10, 0, 10, 70, 80, 80, 70], \"b\": [25, 10, 20, 60, 80, 90, 70, 20, 5, 10, 10], \"text\": [\"point 1\", \"point 2\", \"point 3\", \"point 4\", \"point 5\", \"point 6\", \"point 7\", \"point 8\", \"point 9\", \"point 10\", \"point 11\"], \"mode\": \"markers\", \"marker\": {\"color\": \"#DB7365\", \"symbol\": 100, \"line\": {\"width\": 2}, \"size\": 14}, \"type\": \"scatterternary\"}], {\"annotations\": [{\"y\": 1.3, \"text\": \"Simple Ternary Plot with Markers\", \"font\": {\"size\": 15}, \"showarrow\": false, \"x\": 0.5}], \"ternary\": {\"sum\": 100, \"baxis\": {\"tickfont\": {\"size\": 15}, \"title\": \"<br>Developer\", \"tickangle\": 45, \"ticklen\": 5, \"showgrid\": true, \"titlefont\": {\"size\": 20}, \"showline\": true, \"tickcolor\": \"rgba(0,0,0,0)\"}, \"caxis\": {\"tickfont\": {\"size\": 15}, \"title\": \"<br>Designer\", \"tickangle\": -45, \"ticklen\": 5, \"showgrid\": true, \"titlefont\": {\"size\": 20}, \"showline\": true, \"tickcolor\": \"rgba(0,0,0,0)\"}, \"aaxis\": {\"tickfont\": {\"size\": 15}, \"title\": \"Journalist\", \"tickangle\": 0, \"ticklen\": 5, \"showgrid\": true, \"titlefont\": {\"size\": 20}, \"showline\": true, \"tickcolor\": \"rgba(0,0,0,0)\"}}}, {\"linkText\": \"Export to plot.ly\", \"showLink\": true})});</script>"
      ],
      "text/plain": [
       "<IPython.core.display.HTML object>"
      ]
     },
     "metadata": {},
     "output_type": "display_data"
    }
   ],
   "source": [
    "iplot(fig, validate=False)"
   ]
  },
  {
   "cell_type": "markdown",
   "metadata": {},
   "source": [
    "#### Soil Types Ternary Plot"
   ]
  },
  {
   "cell_type": "code",
   "execution_count": 26,
   "metadata": {
    "collapsed": true
   },
   "outputs": [],
   "source": [
    "import json\n",
    "from plotly.offline import init_notebook_mode, iplot\n",
    "import plotly.graph_objs as go\n",
    "import urllib2     # note this will only work in 2.7 now, will upload six package later for compatibility\n",
    "\n",
    "init_notebook_mode()\n"
   ]
  },
  {
   "cell_type": "code",
   "execution_count": 27,
   "metadata": {
    "collapsed": true
   },
   "outputs": [],
   "source": [
    "url = 'https://gist.githubusercontent.com/davenquinn/988167471993bc2ece29/raw/f38d9cb3dd86e315e237fde5d65e185c39c931c2/data.json'\n",
    "req = urllib2.Request(url)\n",
    "opener = urllib2.build_opener()\n",
    "f = opener.open(req)\n",
    "json = json.loads(f.read())"
   ]
  },
  {
   "cell_type": "code",
   "execution_count": 28,
   "metadata": {
    "collapsed": true
   },
   "outputs": [],
   "source": [
    "def create_data(json):\n",
    "    \n",
    "    return ([dict(name=k, type='scatterternary', mode='lines', \n",
    "             a=map(lambda x: x['clay'],json[k]), \n",
    "             b=map(lambda x: x['sand'],json[k]),\n",
    "             c=map(lambda x: x['silt'],json[k]), \n",
    "             line={'color': '#c00'}) for k in json])"
   ]
  },
  {
   "cell_type": "code",
   "execution_count": 29,
   "metadata": {
    "collapsed": true
   },
   "outputs": [],
   "source": [
    "data = create_data(json)"
   ]
  },
  {
   "cell_type": "code",
   "execution_count": 30,
   "metadata": {
    "collapsed": true
   },
   "outputs": [],
   "source": [
    "def makeAxis(title): \n",
    "    return {\n",
    "            'title': title,\n",
    "            'ticksuffix': '%',\n",
    "            'min': 0.01,\n",
    "            'linewidth': 2,\n",
    "            'ticks': 'outside',\n",
    "            'ticklen': 8,\n",
    "            'showgrid': True,\n",
    "    }"
   ]
  },
  {
   "cell_type": "code",
   "execution_count": 31,
   "metadata": {
    "collapsed": true
   },
   "outputs": [],
   "source": [
    "layout = {\n",
    "        'ternary': {\n",
    "                    'sum': 100,\n",
    "                    'aaxis': makeAxis('Clay'),\n",
    "                    'baxis': makeAxis('Sand'),\n",
    "                    'caxis': makeAxis('Silt')\n",
    "                    },\n",
    "        'showlegend': False,\n",
    "        'width': 700,\n",
    "        'annotations': [{\n",
    "            'showarrow': False,\n",
    "            'text': 'Replica of Daven Quinn\\'s block',\n",
    "            'x': 0.50,\n",
    "            'y': 1.3\n",
    "        }]\n",
    "        }\n",
    "\n"
   ]
  },
  {
   "cell_type": "code",
   "execution_count": 32,
   "metadata": {
    "collapsed": true
   },
   "outputs": [],
   "source": [
    "fig = {'data': data, 'layout': layout}"
   ]
  },
  {
   "cell_type": "code",
   "execution_count": 33,
   "metadata": {
    "collapsed": false
   },
   "outputs": [
    {
     "data": {
      "text/html": [
       "<div id=\"d3ab876d-a556-47b1-bccb-dce0d28e431c\" style=\"height: 525; width: 700px;\" class=\"plotly-graph-div\"></div><script type=\"text/javascript\">require([\"plotly\"], function(Plotly) { window.PLOTLYENV=window.PLOTLYENV || {};window.PLOTLYENV.BASE_URL=\"https://plot.ly\";Plotly.newPlot(\"d3ab876d-a556-47b1-bccb-dce0d28e431c\", [{\"a\": [0, 15, 20, 20, 5, 5, 0], \"c\": [30, 0, 0, 32, 42, 50, 50], \"b\": [70, 85, 80, 53, 53, 45, 50], \"name\": \"sandy loam\", \"mode\": \"lines\", \"line\": {\"color\": \"#c00\"}, \"type\": \"scatterternary\"}, {\"a\": [20, 35, 35, 28, 20], \"c\": [0, 0, 20, 27, 32], \"b\": [80, 65, 45, 45, 53], \"name\": \"sandy clay loam\", \"mode\": \"lines\", \"line\": {\"color\": \"#c00\"}, \"type\": \"scatterternary\"}, {\"a\": [40, 40, 28, 28], \"c\": [15, 40, 52, 27], \"b\": [45, 20, 20, 45], \"name\": \"clay loam\", \"mode\": \"lines\", \"line\": {\"color\": \"#c00\"}, \"type\": \"scatterternary\"}, {\"a\": [0, 10, 15, 0], \"c\": [10, 0, 0, 30], \"b\": [90, 90, 85, 70], \"name\": \"loamy sand\", \"mode\": \"lines\", \"line\": {\"color\": \"#c00\"}, \"type\": \"scatterternary\"}, {\"a\": [35, 35, 55], \"c\": [0, 20, 0], \"b\": [65, 45, 45], \"name\": \"sandy clay\", \"mode\": \"lines\", \"line\": {\"color\": \"#c00\"}, \"type\": \"scatterternary\"}, {\"a\": [60, 40, 40], \"c\": [40, 60, 40], \"b\": [0, 0, 20], \"name\": \"silty clay\", \"mode\": \"lines\", \"line\": {\"color\": \"#c00\"}, \"type\": \"scatterternary\"}, {\"a\": [0, 28, 28, 12, 12, 0], \"c\": [50, 50, 72, 88, 80, 80], \"b\": [50, 22, 0, 0, 8, 20], \"name\": \"silty loam\", \"mode\": \"lines\", \"line\": {\"color\": \"#c00\"}, \"type\": \"scatterternary\"}, {\"a\": [0, 10, 0], \"c\": [0, 0, 10], \"b\": [100, 90, 90], \"name\": \"sand\", \"mode\": \"lines\", \"line\": {\"color\": \"#c00\"}, \"type\": \"scatterternary\"}, {\"a\": [28, 28, 40, 40], \"c\": [72, 52, 40, 60], \"b\": [0, 20, 20, 0], \"name\": \"silty clay loam\", \"mode\": \"lines\", \"line\": {\"color\": \"#c00\"}, \"type\": \"scatterternary\"}, {\"a\": [55, 100, 60, 40, 40], \"c\": [0, 0, 40, 40, 15], \"b\": [45, 0, 0, 20, 45], \"name\": \"clay\", \"mode\": \"lines\", \"line\": {\"color\": \"#c00\"}, \"type\": \"scatterternary\"}, {\"a\": [0, 0, 12, 12], \"c\": [100, 80, 80, 88], \"b\": [0, 20, 8, 0], \"name\": \"silt\", \"mode\": \"lines\", \"line\": {\"color\": \"#c00\"}, \"type\": \"scatterternary\"}, {\"a\": [28, 28, 5, 5, 20], \"c\": [27, 50, 50, 42, 32], \"b\": [45, 22, 45, 53, 53], \"name\": \"loam\", \"mode\": \"lines\", \"line\": {\"color\": \"#c00\"}, \"type\": \"scatterternary\"}], {\"width\": 700, \"showlegend\": false, \"annotations\": [{\"y\": 1.3, \"text\": \"Replica of Daven Quinn's block\", \"showarrow\": false, \"x\": 0.5}], \"ternary\": {\"sum\": 100, \"baxis\": {\"ticks\": \"outside\", \"title\": \"Sand\", \"ticklen\": 8, \"showgrid\": true, \"min\": 0.01, \"ticksuffix\": \"%\", \"linewidth\": 2}, \"caxis\": {\"ticks\": \"outside\", \"title\": \"Silt\", \"ticklen\": 8, \"showgrid\": true, \"min\": 0.01, \"ticksuffix\": \"%\", \"linewidth\": 2}, \"aaxis\": {\"ticks\": \"outside\", \"title\": \"Clay\", \"ticklen\": 8, \"showgrid\": true, \"min\": 0.01, \"ticksuffix\": \"%\", \"linewidth\": 2}}}, {\"linkText\": \"Export to plot.ly\", \"showLink\": true})});</script>"
      ],
      "text/plain": [
       "<IPython.core.display.HTML object>"
      ]
     },
     "metadata": {},
     "output_type": "display_data"
    }
   ],
   "source": [
    "iplot(fig, validate=False)"
   ]
  },
  {
   "cell_type": "code",
   "execution_count": 17,
   "metadata": {
    "collapsed": false
   },
   "outputs": [
    {
     "data": {
      "text/html": [
       "<link href=\"//fonts.googleapis.com/css?family=Open+Sans:600,400,300,200|Inconsolata|Ubuntu+Mono:400,700\" rel=\"stylesheet\" type=\"text/css\" />"
      ],
      "text/plain": [
       "<IPython.core.display.HTML object>"
      ]
     },
     "metadata": {},
     "output_type": "display_data"
    },
    {
     "data": {
      "text/html": [
       "<link rel=\"stylesheet\" type=\"text/css\" href=\"http://help.plot.ly/documentation/all_static/css/ipython-notebook-custom.css\">"
      ],
      "text/plain": [
       "<IPython.core.display.HTML object>"
      ]
     },
     "metadata": {},
     "output_type": "display_data"
    },
    {
     "name": "stdout",
     "output_type": "stream",
     "text": [
      "Requirement already up-to-date: publisher in /Library/Frameworks/Python.framework/Versions/2.7/lib/python2.7/site-packages\r\n"
     ]
    },
    {
     "name": "stderr",
     "output_type": "stream",
     "text": [
      "/Library/Frameworks/Python.framework/Versions/2.7/lib/python2.7/site-packages/publisher/publisher.py:53: UserWarning:\n",
      "\n",
      "Did you \"Save\" this notebook before running this command? Remember to save, always save.\n",
      "\n"
     ]
    }
   ],
   "source": [
    "from IPython.display import display, HTML\n",
    "\n",
    "display(HTML('<link href=\"//fonts.googleapis.com/css?family=Open+Sans:600,400,300,200|Inconsolata|Ubuntu+Mono:400,700\" rel=\"stylesheet\" type=\"text/css\" />'))\n",
    "display(HTML('<link rel=\"stylesheet\" type=\"text/css\" href=\"http://help.plot.ly/documentation/all_static/css/ipython-notebook-custom.css\">'))\n",
    "\n",
    "! pip install publisher --upgrade\n",
    "import publisher\n",
    "publisher.publish(\n",
    "    'ternary.ipynb', 'python/ternary-plots/', 'Python Ternary Plots | plotly',\n",
    "    'How to make Ternary plots in Python with Plotly.',\n",
    "    name = 'Ternary',\n",
    "    thumbnail='thumbnail/ternary.jpg', language='python',\n",
    "    page_type='example_index', has_thumbnail='true', display_as='scientific', order=32)  "
   ]
  },
  {
   "cell_type": "code",
   "execution_count": null,
   "metadata": {
    "collapsed": true
   },
   "outputs": [],
   "source": []
  }
 ],
 "metadata": {
  "kernelspec": {
   "display_name": "Python 2",
   "language": "python",
   "name": "python2"
  },
  "language_info": {
   "codemirror_mode": {
    "name": "ipython",
    "version": 2
   },
   "file_extension": ".py",
   "mimetype": "text/x-python",
   "name": "python",
   "nbconvert_exporter": "python",
   "pygments_lexer": "ipython2",
   "version": "2.7.9"
  }
 },
 "nbformat": 4,
 "nbformat_minor": 0
}
