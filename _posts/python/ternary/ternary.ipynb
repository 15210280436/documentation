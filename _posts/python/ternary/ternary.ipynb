{
 "cells": [
  {
   "cell_type": "markdown",
   "metadata": {},
   "source": [
    "# Ternary Plots"
   ]
  },
  {
   "cell_type": "markdown",
   "metadata": {},
   "source": [
    "##### Make ternary plots in Plotly and Python with a data matrix or Pandas Dataframe!"
   ]
  },
  {
   "cell_type": "markdown",
   "metadata": {},
   "source": [
    "Learn about API authentication here: https://plot.ly/python/getting-started\n",
    "<br>Find your api_key here: https://plot.ly/settings/api"
   ]
  },
  {
   "cell_type": "code",
   "execution_count": 54,
   "metadata": {
    "collapsed": false
   },
   "outputs": [
    {
     "data": {
      "text/plain": [
       "'1.9.8'"
      ]
     },
     "execution_count": 54,
     "metadata": {},
     "output_type": "execute_result"
    }
   ],
   "source": [
    "import plotly\n",
    "plotly.__version__"
   ]
  },
  {
   "cell_type": "markdown",
   "metadata": {},
   "source": [
    "#### Basic Tenary Plot with Markers"
   ]
  },
  {
   "cell_type": "code",
   "execution_count": 55,
   "metadata": {
    "collapsed": false
   },
   "outputs": [],
   "source": [
    "import plotly.offline as py\n",
    "import plotly.graph_objs as go\n",
    "py.init_notebook_mode()\n"
   ]
  },
  {
   "cell_type": "code",
   "execution_count": 56,
   "metadata": {
    "collapsed": false
   },
   "outputs": [],
   "source": [
    "rawData = [\n",
    "    {'journalist':75,'developer':25,'designer':0,'label':'point 1'},\n",
    "    {'journalist':70,'developer':10,'designer':20,'label':'point 2'},\n",
    "    {'journalist':75,'developer':20,'designer':5,'label':'point 3'},\n",
    "    {'journalist':5,'developer':60,'designer':35,'label':'point 4'},\n",
    "    {'journalist':10,'developer':80,'designer':10,'label':'point 5'},\n",
    "    {'journalist':10,'developer':90,'designer':0,'label':'point 6'},\n",
    "    {'journalist':20,'developer':70,'designer':10,'label':'point 7'},\n",
    "    {'journalist':10,'developer':20,'designer':70,'label':'point 8'},\n",
    "    {'journalist':15,'developer':5,'designer':80,'label':'point 9'},\n",
    "    {'journalist':10,'developer':10,'designer':80,'label':'point 10'},\n",
    "    {'journalist':20,'developer':10,'designer':70,'label':'point 11'},\n",
    "];"
   ]
  },
  {
   "cell_type": "code",
   "execution_count": 57,
   "metadata": {
    "collapsed": false
   },
   "outputs": [],
   "source": [
    "def makeAxis(title, tickangle): \n",
    "    return {\n",
    "      'title': title,\n",
    "      'titlefont': { 'size': 20 },\n",
    "      'tickangle': tickangle,\n",
    "      'tickfont': { 'size': 15 },\n",
    "      'tickcolor': 'rgba(0,0,0,0)',\n",
    "      'ticklen': 5,\n",
    "      'showline': True,\n",
    "      'showgrid': True\n",
    "    }\n"
   ]
  },
  {
   "cell_type": "code",
   "execution_count": 65,
   "metadata": {
    "collapsed": false
   },
   "outputs": [],
   "source": [
    "data = [{ \n",
    "    'type': 'scatterternary',\n",
    "    'mode': 'markers',\n",
    "    'a': map(lambda x: x['journalist'], rawData),\n",
    "    'b': map(lambda x: x['developer'], rawData),\n",
    "    'c': map(lambda x: x['designer'], rawData),\n",
    "    'text': map(lambda x: x['label'], rawData),\n",
    "    'marker': {\n",
    "        'symbol': 100,\n",
    "        'color': '#DB7365',\n",
    "        'size': 14,\n",
    "        'line': { 'width': 2 }\n",
    "    },\n",
    "    }]"
   ]
  },
  {
   "cell_type": "code",
   "execution_count": 59,
   "metadata": {
    "collapsed": false
   },
   "outputs": [],
   "source": [
    "layout = {\n",
    "    'ternary': {\n",
    "        'sum': 100,\n",
    "        'aaxis': makeAxis('Journalist', 0),\n",
    "        'baxis': makeAxis('<br>Developer', 45),\n",
    "        'caxis': makeAxis('<br>Designer', -45),\n",
    "        'bgcolor': '#fff1e0'\n",
    "    },\n",
    "    'annotations': [{\n",
    "      'showarrow': False,\n",
    "      'text': 'Simple Ternary Plot with Markers',\n",
    "        'x': 0.5,\n",
    "        'y': 1.3,\n",
    "        'font': { 'size': 15 }\n",
    "    }],\n",
    "    'paper_bgcolor': '#fff1e0',\n",
    "}"
   ]
  },
  {
   "cell_type": "code",
   "execution_count": 67,
   "metadata": {
    "collapsed": false
   },
   "outputs": [],
   "source": [
    "fig = {'data': data, 'layout': layout}"
   ]
  },
  {
   "cell_type": "code",
   "execution_count": 68,
   "metadata": {
    "collapsed": false
   },
   "outputs": [
    {
     "data": {
      "text/html": [
       "<div id=\"2691794d-42f5-44da-8f03-d007a5c6d0b0\" style=\"height: 525; width: 100%;\" class=\"plotly-graph-div\"></div><script type=\"text/javascript\">require([\"plotly\"], function(Plotly) {window.PLOTLYENV=window.PLOTLYENV || {};window.PLOTLYENV.BASE_URL=\"https://plot.ly\";Plotly.newPlot(\"2691794d-42f5-44da-8f03-d007a5c6d0b0\", [{\"a\": [75, 70, 75, 5, 10, 10, 20, 10, 15, 10, 20], \"c\": [0, 20, 5, 35, 10, 0, 10, 70, 80, 80, 70], \"b\": [25, 10, 20, 60, 80, 90, 70, 20, 5, 10, 10], \"text\": [\"point 1\", \"point 2\", \"point 3\", \"point 4\", \"point 5\", \"point 6\", \"point 7\", \"point 8\", \"point 9\", \"point 10\", \"point 11\"], \"mode\": \"markers\", \"marker\": {\"color\": \"#DB7365\", \"symbol\": 100, \"line\": {\"width\": 2}, \"size\": 14}, \"type\": \"scatterternary\"}], {\"paper_bgcolor\": \"#fff1e0\", \"annotations\": [{\"y\": 1.3, \"text\": \"Simple Ternary Plot with Markers\", \"font\": {\"size\": 15}, \"showarrow\": false, \"x\": 0.5}], \"ternary\": {\"bgcolor\": \"#fff1e0\", \"sum\": 100, \"baxis\": {\"tickfont\": {\"size\": 15}, \"title\": \"<br>Developer\", \"tickangle\": 45, \"ticklen\": 5, \"showgrid\": true, \"titlefont\": {\"size\": 20}, \"showline\": true, \"tickcolor\": \"rgba(0,0,0,0)\"}, \"caxis\": {\"tickfont\": {\"size\": 15}, \"title\": \"<br>Designer\", \"tickangle\": -45, \"ticklen\": 5, \"showgrid\": true, \"titlefont\": {\"size\": 20}, \"showline\": true, \"tickcolor\": \"rgba(0,0,0,0)\"}, \"aaxis\": {\"tickfont\": {\"size\": 15}, \"title\": \"Journalist\", \"tickangle\": 0, \"ticklen\": 5, \"showgrid\": true, \"titlefont\": {\"size\": 20}, \"showline\": true, \"tickcolor\": \"rgba(0,0,0,0)\"}}}, {\"linkText\": \"Export to plot.ly\", \"showLink\": true})});</script>"
      ],
      "text/plain": [
       "<IPython.core.display.HTML object>"
      ]
     },
     "metadata": {},
     "output_type": "display_data"
    }
   ],
   "source": [
    "py.iplot(fig, validate=False)"
   ]
  },
  {
   "cell_type": "raw",
   "metadata": {},
   "source": []
  },
  {
   "cell_type": "markdown",
   "metadata": {},
   "source": [
    "#### Soil Types Ternary Plot\n"
   ]
  },
  {
   "cell_type": "code",
   "execution_count": 99,
   "metadata": {
    "collapsed": false
   },
   "outputs": [],
   "source": [
    "import json\n",
    "import plotly.offline as py\n",
    "import plotly.graph_objs as go\n",
    "import urllib2     # note this will only work in 2.7 now, will upload six package later for compatibility\n",
    "\n",
    "py.init_notebook_mode()\n"
   ]
  },
  {
   "cell_type": "code",
   "execution_count": 100,
   "metadata": {
    "collapsed": false
   },
   "outputs": [
    {
     "data": {
      "text/plain": [
       "{u'clay': [{u'clay': 55, u'sand': 45, u'silt': 0},\n",
       "  {u'clay': 100, u'sand': 0, u'silt': 0},\n",
       "  {u'clay': 60, u'sand': 0, u'silt': 40},\n",
       "  {u'clay': 40, u'sand': 20, u'silt': 40},\n",
       "  {u'clay': 40, u'sand': 45, u'silt': 15}],\n",
       " u'clay loam': [{u'clay': 40, u'sand': 45, u'silt': 15},\n",
       "  {u'clay': 40, u'sand': 20, u'silt': 40},\n",
       "  {u'clay': 28, u'sand': 20, u'silt': 52},\n",
       "  {u'clay': 28, u'sand': 45, u'silt': 27}],\n",
       " u'loam': [{u'clay': 28, u'sand': 45, u'silt': 27},\n",
       "  {u'clay': 28, u'sand': 22, u'silt': 50},\n",
       "  {u'clay': 5, u'sand': 45, u'silt': 50},\n",
       "  {u'clay': 5, u'sand': 53, u'silt': 42},\n",
       "  {u'clay': 20, u'sand': 53, u'silt': 32}],\n",
       " u'loamy sand': [{u'clay': 0, u'sand': 90, u'silt': 10},\n",
       "  {u'clay': 10, u'sand': 90, u'silt': 0},\n",
       "  {u'clay': 15, u'sand': 85, u'silt': 0},\n",
       "  {u'clay': 0, u'sand': 70, u'silt': 30}],\n",
       " u'sand': [{u'clay': 0, u'sand': 100, u'silt': 0},\n",
       "  {u'clay': 10, u'sand': 90, u'silt': 0},\n",
       "  {u'clay': 0, u'sand': 90, u'silt': 10}],\n",
       " u'sandy clay': [{u'clay': 35, u'sand': 65, u'silt': 0},\n",
       "  {u'clay': 35, u'sand': 45, u'silt': 20},\n",
       "  {u'clay': 55, u'sand': 45, u'silt': 0}],\n",
       " u'sandy clay loam': [{u'clay': 20, u'sand': 80, u'silt': 0},\n",
       "  {u'clay': 35, u'sand': 65, u'silt': 0},\n",
       "  {u'clay': 35, u'sand': 45, u'silt': 20},\n",
       "  {u'clay': 28, u'sand': 45, u'silt': 27},\n",
       "  {u'clay': 20, u'sand': 53, u'silt': 32}],\n",
       " u'sandy loam': [{u'clay': 0, u'sand': 70, u'silt': 30},\n",
       "  {u'clay': 15, u'sand': 85, u'silt': 0},\n",
       "  {u'clay': 20, u'sand': 80, u'silt': 0},\n",
       "  {u'clay': 20, u'sand': 53, u'silt': 32},\n",
       "  {u'clay': 5, u'sand': 53, u'silt': 42},\n",
       "  {u'clay': 5, u'sand': 45, u'silt': 50},\n",
       "  {u'clay': 0, u'sand': 50, u'silt': 50}],\n",
       " u'silt': [{u'clay': 0, u'sand': 0, u'silt': 100},\n",
       "  {u'clay': 0, u'sand': 20, u'silt': 80},\n",
       "  {u'clay': 12, u'sand': 8, u'silt': 80},\n",
       "  {u'clay': 12, u'sand': 0, u'silt': 88}],\n",
       " u'silty clay': [{u'clay': 60, u'sand': 0, u'silt': 40},\n",
       "  {u'clay': 40, u'sand': 0, u'silt': 60},\n",
       "  {u'clay': 40, u'sand': 20, u'silt': 40}],\n",
       " u'silty clay loam': [{u'clay': 28, u'sand': 0, u'silt': 72},\n",
       "  {u'clay': 28, u'sand': 20, u'silt': 52},\n",
       "  {u'clay': 40, u'sand': 20, u'silt': 40},\n",
       "  {u'clay': 40, u'sand': 0, u'silt': 60}],\n",
       " u'silty loam': [{u'clay': 0, u'sand': 50, u'silt': 50},\n",
       "  {u'clay': 28, u'sand': 22, u'silt': 50},\n",
       "  {u'clay': 28, u'sand': 0, u'silt': 72},\n",
       "  {u'clay': 12, u'sand': 0, u'silt': 88},\n",
       "  {u'clay': 12, u'sand': 8, u'silt': 80},\n",
       "  {u'clay': 0, u'sand': 20, u'silt': 80}]}"
      ]
     },
     "execution_count": 100,
     "metadata": {},
     "output_type": "execute_result"
    }
   ],
   "source": [
    "url = 'https://gist.githubusercontent.com/davenquinn/988167471993bc2ece29/raw/f38d9cb3dd86e315e237fde5d65e185c39c931c2/data.json'\n",
    "req = urllib2.Request(url)\n",
    "opener = urllib2.build_opener()\n",
    "f = opener.open(req)\n",
    "json = json.loads(f.read()).prettify\n"
   ]
  },
  {
   "cell_type": "code",
   "execution_count": 105,
   "metadata": {
    "collapsed": false
   },
   "outputs": [
    {
     "data": {
      "text/plain": [
       "[u'sandy loam',\n",
       " u'sandy clay loam',\n",
       " u'clay loam',\n",
       " u'loamy sand',\n",
       " u'sandy clay',\n",
       " u'silty clay',\n",
       " u'silty loam',\n",
       " u'sand',\n",
       " u'silty clay loam',\n",
       " u'clay',\n",
       " u'silt',\n",
       " u'loam']"
      ]
     },
     "execution_count": 105,
     "metadata": {},
     "output_type": "execute_result"
    }
   ],
   "source": [
    "json.keys()"
   ]
  },
  {
   "cell_type": "code",
   "execution_count": 97,
   "metadata": {
    "collapsed": false
   },
   "outputs": [],
   "source": [
    "def makeAxis(title): \n",
    "    return {\n",
    "            'title': title,\n",
    "            'ticksuffix': '%',\n",
    "            'min': 0.01,\n",
    "            'linewidth': 2,\n",
    "            'ticks': 'outside',\n",
    "            'ticklen': 8,\n",
    "            'showgrid': true,\n",
    "    }"
   ]
  },
  {
   "cell_type": "code",
   "execution_count": null,
   "metadata": {
    "collapsed": true
   },
   "outputs": [],
   "source": [
    "data = [{ \n",
    "    'type': 'scatterternary',\n",
    "    'mode': 'lines',\n",
    "    'name': k\n",
    "    'a': map(lambda x: x['journalist'], rawData),\n",
    "    'b': map(lambda x: x['developer'], rawData),\n",
    "    'c': map(lambda x: x['designer'], rawData),\n",
    "    'text': map(lambda x: x['label'], rawData),\n",
    "    'marker': {\n",
    "        'symbol': 100,\n",
    "        'color': '#DB7365',\n",
    "        'size': 14,\n",
    "        'line': { 'width': 2 }\n",
    "    },\n",
    "    }]\n",
    "    \n",
    "    \n",
    "    var data = Object.keys(rawData).map(function(k) {\n",
    "        var pts = rawData[k];\n",
    "\n",
    "        return {\n",
    "            type: 'scatterternary',\n",
    "            mode: 'lines',\n",
    "            name: k,\n",
    "            a: pts.map(function(d) { return d.clay }),\n",
    "            b: pts.map(function(d) { return d.sand }),\n",
    "            c: pts.map(function(d) { return d.silt }),\n",
    "            line: { color: '#c00' }\n",
    "        };\n",
    "    });"
   ]
  },
  {
   "cell_type": "markdown",
   "metadata": {},
   "source": [
    " "
   ]
  },
  {
   "cell_type": "markdown",
   "metadata": {},
   "source": [
    "#### Use LaTeX"
   ]
  },
  {
   "cell_type": "code",
   "execution_count": 64,
   "metadata": {
    "collapsed": false
   },
   "outputs": [
    {
     "data": {
      "text/html": [
       "<link href=\"//fonts.googleapis.com/css?family=Open+Sans:600,400,300,200|Inconsolata|Ubuntu+Mono:400,700\" rel=\"stylesheet\" type=\"text/css\" />"
      ],
      "text/plain": [
       "<IPython.core.display.HTML object>"
      ]
     },
     "metadata": {},
     "output_type": "display_data"
    },
    {
     "data": {
      "text/html": [
       "<link rel=\"stylesheet\" type=\"text/css\" href=\"http://help.plot.ly/documentation/all_static/css/ipython-notebook-custom.css\">"
      ],
      "text/plain": [
       "<IPython.core.display.HTML object>"
      ]
     },
     "metadata": {},
     "output_type": "display_data"
    },
    {
     "name": "stdout",
     "output_type": "stream",
     "text": [
      "Requirement already up-to-date: publisher in /Library/Frameworks/Python.framework/Versions/2.7/lib/python2.7/site-packages\r\n"
     ]
    }
   ],
   "source": [
    "from IPython.display import display, HTML\n",
    "\n",
    "display(HTML('<link href=\"//fonts.googleapis.com/css?family=Open+Sans:600,400,300,200|Inconsolata|Ubuntu+Mono:400,700\" rel=\"stylesheet\" type=\"text/css\" />'))\n",
    "display(HTML('<link rel=\"stylesheet\" type=\"text/css\" href=\"http://help.plot.ly/documentation/all_static/css/ipython-notebook-custom.css\">'))\n",
    "\n",
    "! pip install publisher --upgrade\n",
    "import publisher\n",
    "publisher.publish(\n",
    "    'ternary.ipynb', 'python/ternary-plots', 'Python Ternary Plots | plotly',\n",
    "    'How to make Ternary plots in Python with Plotly.',\n",
    "    name = 'Ternary',\n",
    "    thumbnail='thumbnail/ternary.jpg', language='python',\n",
    "    page_type='example_index', has_thumbnail='true', display_as='chart_type', order=32)  "
   ]
  },
  {
   "cell_type": "code",
   "execution_count": null,
   "metadata": {
    "collapsed": false
   },
   "outputs": [],
   "source": []
  }
 ],
 "metadata": {
  "kernelspec": {
   "display_name": "Python 2",
   "language": "python",
   "name": "python2"
  },
  "language_info": {
   "codemirror_mode": {
    "name": "ipython",
    "version": 2
   },
   "file_extension": ".py",
   "mimetype": "text/x-python",
   "name": "python",
   "nbconvert_exporter": "python",
   "pygments_lexer": "ipython2",
   "version": "2.7.9"
  }
 },
 "nbformat": 4,
 "nbformat_minor": 0
}
