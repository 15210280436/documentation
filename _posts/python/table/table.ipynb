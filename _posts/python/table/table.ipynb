{
 "metadata": {
  "name": "",
  "signature": "sha256:16de921a2d32a864731ee4fa2e4349e04820af4bc2c970433cf57b1ddd37d8a8"
 },
 "nbformat": 3,
 "nbformat_minor": 0,
 "worksheets": [
  {
   "cells": [
    {
     "cell_type": "markdown",
     "metadata": {},
     "source": [
      "#Tables"
     ]
    },
    {
     "cell_type": "markdown",
     "metadata": {},
     "source": [
      "#####Make tables in Plotly and Python with a data matrix or Pandas Dataframe!"
     ]
    },
    {
     "cell_type": "markdown",
     "metadata": {},
     "source": [
      "Learn about API authentication here: https://plot.ly/python/getting-started\n",
      "<br>Find your api_key here: https://plot.ly/settings/api"
     ]
    },
    {
     "cell_type": "code",
     "collapsed": false,
     "input": [
      "import plotly\n",
      "plotly.__version__"
     ],
     "language": "python",
     "metadata": {},
     "outputs": [
      {
       "metadata": {},
       "output_type": "pyout",
       "prompt_number": 5,
       "text": [
        "'1.9.1'"
       ]
      }
     ],
     "prompt_number": 5
    },
    {
     "cell_type": "markdown",
     "metadata": {},
     "source": [
      "####Simple Table"
     ]
    },
    {
     "cell_type": "code",
     "collapsed": false,
     "input": [
      "import plotly.plotly as py\n",
      "from plotly.tools import FigureFactory as FF \n",
      "\n",
      "data_matrix = [['Country', 'Year', 'Population'],\n",
      "               ['United States', 2000, 282200000],\n",
      "               ['Canada', 2000, 27790000],\n",
      "               ['United States', 2005, 295500000],\n",
      "               ['Canada', 2005, 32310000],\n",
      "               ['United States', 2010, 309000000],\n",
      "               ['Canada', 2010, 34000000]]\n",
      "\n",
      "table = FF.create_table(data_matrix)\n",
      "py.iplot(table)"
     ],
     "language": "python",
     "metadata": {},
     "outputs": [
      {
       "html": [
        "<iframe id=\"igraph\" scrolling=\"no\" style=\"border:none;\"seamless=\"seamless\" src=\"https://plot.ly/~chelsea_lyn/9464.embed\" height=\"260px\" width=\"100%\"></iframe>"
       ],
       "metadata": {},
       "output_type": "pyout",
       "prompt_number": 10,
       "text": [
        "<plotly.tools.PlotlyDisplay at 0x107f59e90>"
       ]
      }
     ],
     "prompt_number": 10
    },
    {
     "cell_type": "markdown",
     "metadata": {},
     "source": [
      " "
     ]
    },
    {
     "cell_type": "markdown",
     "metadata": {},
     "source": [
      "####Add links"
     ]
    },
    {
     "cell_type": "code",
     "collapsed": false,
     "input": [
      "import plotly.plotly as py\n",
      "from plotly.tools import FigureFactory as FF \n",
      "\n",
      "data_matrix = [['User', 'Language', 'Chart Type', '# of Views'],\n",
      "               ['<a href=\"https://plot.ly/~empet/folder/home\">empet</a>',\n",
      "                '<a href=\"https://plot.ly/python/\">Python</a>',\n",
      "                '<a href=\"https://plot.ly/~empet/8614/communities-in-a-facebook-network-defined-as-an-igraph-graph-data-1/\">Network Graph</a>',\n",
      "                298],\n",
      "               ['<a href=\"https://plot.ly/~Grondo/folder/home\">Grondo</a>',\n",
      "                '<a href=\"https://plot.ly/matlab/\">Matlab</a>',\n",
      "                '<a href=\"https://plot.ly/~Grondo/42/x-ray-reflectivity-from-euo-sample-103-chi2114/\">Subplots</a>',\n",
      "                356],\n",
      "               ['<a href=\"https://plot.ly/~Dreamshot/folder/home\">Dreamshot</a>',\n",
      "                '<a href=\"https://help.plot.ly/tutorials/\">Web App</a>',\n",
      "                '<a href=\"https://plot.ly/~Dreamshot/6575/_2014-us-city-populations/\">Bubble Map</a>',\n",
      "                262],\n",
      "               ['<a href=\"https://plot.ly/~FiveThirtyEight/folder/home\">FiveThirtyEight</a>',\n",
      "                '<a href=\"https://help.plot.ly/tutorials/\">Web App</a>',\n",
      "                '<a href=\"https://plot.ly/~FiveThirtyEight/30/median-ages-for-males-with-the-25-most-common-names-among-americans-estimated-to/\">Scatter</a>',\n",
      "                692],\n",
      "               ['<a href=\"https://plot.ly/~cpsievert/folder/home\">cpsievert</a>',\n",
      "                '<a href=\"https://plot.ly/r/\">R</a>',\n",
      "                '<a href=\"https://plot.ly/~cpsievert/1130/_1/\">Surface</a>',\n",
      "                302]]\n",
      "\n",
      "table = FF.create_table(data_matrix)\n",
      "py.iplot(table, filename='linked_table')"
     ],
     "language": "python",
     "metadata": {},
     "outputs": [
      {
       "html": [
        "<iframe id=\"igraph\" scrolling=\"no\" style=\"border:none;\"seamless=\"seamless\" src=\"https://plot.ly/~chelsea_lyn/9525.embed\" height=\"230px\" width=\"100%\"></iframe>"
       ],
       "metadata": {},
       "output_type": "pyout",
       "prompt_number": 20,
       "text": [
        "<plotly.tools.PlotlyDisplay at 0x106cdfa50>"
       ]
      }
     ],
     "prompt_number": 20
    },
    {
     "cell_type": "markdown",
     "metadata": {},
     "source": [
      " "
     ]
    },
    {
     "cell_type": "markdown",
     "metadata": {},
     "source": [
      "With LaTeX"
     ]
    },
    {
     "cell_type": "code",
     "collapsed": false,
     "input": [
      "import plotly.plotly as py\n",
      "from plotly.tools import FigureFactory as FF \n",
      "\n",
      "data_matrix = [['Name', 'Equation'],\n",
      "               ['Pythagorean Theorem', '$a^{2}+b^{2}=c^{2}$'],\n",
      "               ['Euler\\'s formula', '$F-E+V=2$'],\n",
      "               ['The Origin of Complex Numbers', '$i^{2}=-1$'],\n",
      "               ['Einstein\\'s theory of relativity', '$E=m c^{2}$']]\n",
      "\n",
      "table = FF.create_table(data_matrix)\n",
      "py.iplot(table)"
     ],
     "language": "python",
     "metadata": {},
     "outputs": [
      {
       "html": [
        "<iframe id=\"igraph\" scrolling=\"no\" style=\"border:none;\"seamless=\"seamless\" src=\"https://plot.ly/~chelsea_lyn/9562.embed\" height=\"200px\" width=\"100%\"></iframe>"
       ],
       "metadata": {},
       "output_type": "pyout",
       "prompt_number": 39,
       "text": [
        "<plotly.tools.PlotlyDisplay at 0x106c7ed90>"
       ]
      }
     ],
     "prompt_number": 39
    },
    {
     "cell_type": "markdown",
     "metadata": {},
     "source": [
      "###Use a Panda's Dataframe"
     ]
    },
    {
     "cell_type": "code",
     "collapsed": false,
     "input": [
      "df = pd.read_csv('https://raw.githubusercontent.com/plotly/datasets/master/gapminderDataFiveYear.csv')"
     ],
     "language": "python",
     "metadata": {},
     "outputs": []
    },
    {
     "cell_type": "markdown",
     "metadata": {},
     "source": [
      " "
     ]
    },
    {
     "cell_type": "markdown",
     "metadata": {},
     "source": [
      "###References"
     ]
    },
    {
     "cell_type": "code",
     "collapsed": false,
     "input": [
      "help(FF.create_table)"
     ],
     "language": "python",
     "metadata": {},
     "outputs": [
      {
       "ename": "NameError",
       "evalue": "name 'FF' is not defined",
       "output_type": "pyerr",
       "traceback": [
        "\u001b[0;31m---------------------------------------------------------------------------\u001b[0m\n\u001b[0;31mNameError\u001b[0m                                 Traceback (most recent call last)",
        "\u001b[0;32m<ipython-input-4-dd6b56e08a3e>\u001b[0m in \u001b[0;36m<module>\u001b[0;34m()\u001b[0m\n\u001b[0;32m----> 1\u001b[0;31m \u001b[0mhelp\u001b[0m\u001b[0;34m(\u001b[0m\u001b[0mFF\u001b[0m\u001b[0;34m.\u001b[0m\u001b[0mcreate_table\u001b[0m\u001b[0;34m)\u001b[0m\u001b[0;34m\u001b[0m\u001b[0m\n\u001b[0m",
        "\u001b[0;31mNameError\u001b[0m: name 'FF' is not defined"
       ]
      }
     ],
     "prompt_number": 4
    },
    {
     "cell_type": "code",
     "collapsed": false,
     "input": [
      "from IPython.display import display, HTML\n",
      "\n",
      "display(HTML('<link href=\"//fonts.googleapis.com/css?family=Open+Sans:600,400,300,200|Inconsolata|Ubuntu+Mono:400,700\" rel=\"stylesheet\" type=\"text/css\" />'))\n",
      "display(HTML('<link rel=\"stylesheet\" type=\"text/css\" href=\"http://help.plot.ly/documentation/all_static/css/ipython-notebook-custom.css\">'))\n",
      "\n",
      "! pip install publisher --upgrade\n",
      "import publisher\n",
      "publisher.publish(\n",
      "    'table.ipynb', 'python/table', 'Python Tables | plotly',\n",
      "    'How to make Tables in Python with Plotly.',\n",
      "    name = 'Tables',\n",
      "    thumbnail='/images/tab.png', language='python',\n",
      "    page_type='example_index', has_thumbnail='true', display_as='chart_type', order=31)  "
     ],
     "language": "python",
     "metadata": {},
     "outputs": [
      {
       "html": [
        "<link href=\"//fonts.googleapis.com/css?family=Open+Sans:600,400,300,200|Inconsolata|Ubuntu+Mono:400,700\" rel=\"stylesheet\" type=\"text/css\" />"
       ],
       "metadata": {},
       "output_type": "display_data",
       "text": [
        "<IPython.core.display.HTML at 0x104a93f90>"
       ]
      },
      {
       "html": [
        "<link rel=\"stylesheet\" type=\"text/css\" href=\"http://help.plot.ly/documentation/all_static/css/ipython-notebook-custom.css\">"
       ],
       "metadata": {},
       "output_type": "display_data",
       "text": [
        "<IPython.core.display.HTML at 0x104a93fd0>"
       ]
      },
      {
       "output_type": "stream",
       "stream": "stdout",
       "text": [
        "Requirement already up-to-date: publisher in /Library/Frameworks/Python.framework/Versions/2.7/lib/python2.7/site-packages\r\n"
       ]
      }
     ],
     "prompt_number": 3
    },
    {
     "cell_type": "code",
     "collapsed": false,
     "input": [],
     "language": "python",
     "metadata": {},
     "outputs": []
    }
   ],
   "metadata": {}
  }
 ]
}