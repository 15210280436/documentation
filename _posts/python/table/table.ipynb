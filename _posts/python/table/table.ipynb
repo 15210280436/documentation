{
 "metadata": {
  "name": "",
  "signature": "sha256:2844457d4ac49f9c08c79cb27d4856f23262ec473ebef5f795cc7e269ef1f7c4"
 },
 "nbformat": 3,
 "nbformat_minor": 0,
 "worksheets": [
  {
   "cells": [
    {
     "cell_type": "markdown",
     "metadata": {},
     "source": [
      "#Tables"
     ]
    },
    {
     "cell_type": "markdown",
     "metadata": {},
     "source": [
      "#####Make tables in Plotly and Python with a data matrix or Pandas Dataframe!"
     ]
    },
    {
     "cell_type": "markdown",
     "metadata": {},
     "source": [
      "Learn about API authentication here: https://plot.ly/python/getting-started\n",
      "<br>Find your api_key here: https://plot.ly/settings/api"
     ]
    },
    {
     "cell_type": "code",
     "collapsed": false,
     "input": [
      "import plotly\n",
      "plotly.__version__"
     ],
     "language": "python",
     "metadata": {},
     "outputs": [
      {
       "metadata": {},
       "output_type": "pyout",
       "prompt_number": 5,
       "text": [
        "'1.9.1'"
       ]
      }
     ],
     "prompt_number": 5
    },
    {
     "cell_type": "markdown",
     "metadata": {},
     "source": [
      "####Simple Table"
     ]
    },
    {
     "cell_type": "code",
     "collapsed": false,
     "input": [
      "import plotly.plotly as py\n",
      "from plotly.tools import FigureFactory as FF \n",
      "\n",
      "data_matrix = [['Country', 'Year', 'Population'],\n",
      "               ['United States', 2000, 282200000],\n",
      "               ['Canada', 2000, 27790000],\n",
      "               ['United States', 2005, 295500000],\n",
      "               ['Canada', 2005, 32310000],\n",
      "               ['United States', 2010, 309000000],\n",
      "               ['Canada', 2010, 34000000]]\n",
      "\n",
      "table = FF.create_table(data_matrix)\n",
      "py.iplot(table, filename='simple_table')"
     ],
     "language": "python",
     "metadata": {},
     "outputs": [
      {
       "html": [
        "<iframe id=\"igraph\" scrolling=\"no\" style=\"border:none;\"seamless=\"seamless\" src=\"https://plot.ly/~chelsea_lyn/9464.embed\" height=\"260px\" width=\"100%\"></iframe>"
       ],
       "metadata": {},
       "output_type": "pyout",
       "prompt_number": 10,
       "text": [
        "<plotly.tools.PlotlyDisplay at 0x107f59e90>"
       ]
      }
     ],
     "prompt_number": 10
    },
    {
     "cell_type": "markdown",
     "metadata": {},
     "source": [
      " "
     ]
    },
    {
     "cell_type": "markdown",
     "metadata": {},
     "source": [
      "####Add links"
     ]
    },
    {
     "cell_type": "code",
     "collapsed": false,
     "input": [
      "import plotly.plotly as py\n",
      "from plotly.tools import FigureFactory as FF \n",
      "\n",
      "data_matrix = [['User', 'Language', 'Chart Type', '# of Views'],\n",
      "               ['<a href=\"https://plot.ly/~empet/folder/home\">empet</a>',\n",
      "                '<a href=\"https://plot.ly/python/\">Python</a>',\n",
      "                '<a href=\"https://plot.ly/~empet/8614/communities-in-a-facebook-network-defined-as-an-igraph-graph-data-1/\">Network Graph</a>',\n",
      "                298],\n",
      "               ['<a href=\"https://plot.ly/~Grondo/folder/home\">Grondo</a>',\n",
      "                '<a href=\"https://plot.ly/matlab/\">Matlab</a>',\n",
      "                '<a href=\"https://plot.ly/~Grondo/42/x-ray-reflectivity-from-euo-sample-103-chi2114/\">Subplots</a>',\n",
      "                356],\n",
      "               ['<a href=\"https://plot.ly/~Dreamshot/folder/home\">Dreamshot</a>',\n",
      "                '<a href=\"https://help.plot.ly/tutorials/\">Web App</a>',\n",
      "                '<a href=\"https://plot.ly/~Dreamshot/6575/_2014-us-city-populations/\">Bubble Map</a>',\n",
      "                262],\n",
      "               ['<a href=\"https://plot.ly/~FiveThirtyEight/folder/home\">FiveThirtyEight</a>',\n",
      "                '<a href=\"https://help.plot.ly/tutorials/\">Web App</a>',\n",
      "                '<a href=\"https://plot.ly/~FiveThirtyEight/30/median-ages-for-males-with-the-25-most-common-names-among-americans-estimated-to/\">Scatter</a>',\n",
      "                692],\n",
      "               ['<a href=\"https://plot.ly/~cpsievert/folder/home\">cpsievert</a>',\n",
      "                '<a href=\"https://plot.ly/r/\">R</a>',\n",
      "                '<a href=\"https://plot.ly/~cpsievert/1130/_1/\">Surface</a>',\n",
      "                302]]\n",
      "\n",
      "table = FF.create_table(data_matrix)\n",
      "py.iplot(table, filename='linked_table')"
     ],
     "language": "python",
     "metadata": {},
     "outputs": [
      {
       "html": [
        "<iframe id=\"igraph\" scrolling=\"no\" style=\"border:none;\"seamless=\"seamless\" src=\"https://plot.ly/~chelsea_lyn/9525.embed\" height=\"230px\" width=\"100%\"></iframe>"
       ],
       "metadata": {},
       "output_type": "pyout",
       "prompt_number": 20,
       "text": [
        "<plotly.tools.PlotlyDisplay at 0x106cdfa50>"
       ]
      }
     ],
     "prompt_number": 20
    },
    {
     "cell_type": "markdown",
     "metadata": {},
     "source": [
      " "
     ]
    },
    {
     "cell_type": "markdown",
     "metadata": {},
     "source": [
      "####Use LaTeX"
     ]
    },
    {
     "cell_type": "code",
     "collapsed": false,
     "input": [
      "import plotly.plotly as py\n",
      "from plotly.tools import FigureFactory as FF \n",
      "\n",
      "data_matrix = [['Name', 'Equation'],\n",
      "               ['Pythagorean Theorem', '$a^{2}+b^{2}=c^{2}$'],\n",
      "               ['Euler\\'s formula', '$F-E+V=2$'],\n",
      "               ['The Origin of Complex Numbers', '$i^{2}=-1$'],\n",
      "               ['Einstein\\'s theory of relativity', '$E=m c^{2}$']]\n",
      "\n",
      "table = FF.create_table(data_matrix)\n",
      "py.iplot(table, filename='latex_table')"
     ],
     "language": "python",
     "metadata": {},
     "outputs": [
      {
       "html": [
        "<iframe id=\"igraph\" scrolling=\"no\" style=\"border:none;\"seamless=\"seamless\" src=\"https://plot.ly/~chelsea_lyn/9564.embed\" height=\"200px\" width=\"100%\"></iframe>"
       ],
       "metadata": {},
       "output_type": "pyout",
       "prompt_number": 40,
       "text": [
        "<plotly.tools.PlotlyDisplay at 0x106c7e910>"
       ]
      }
     ],
     "prompt_number": 40
    },
    {
     "cell_type": "markdown",
     "metadata": {},
     "source": [
      " "
     ]
    },
    {
     "cell_type": "markdown",
     "metadata": {},
     "source": [
      "####Use a Panda's Dataframe"
     ]
    },
    {
     "cell_type": "code",
     "collapsed": false,
     "input": [
      "import plotly.plotly as py\n",
      "from plotly.tools import FigureFactory as FF\n",
      "\n",
      "import pandas as pd\n",
      "\n",
      "df = pd.read_csv('https://raw.githubusercontent.com/plotly/datasets/master/gapminderDataFiveYear.csv')\n",
      "df_sample = df[100:120]\n",
      "\n",
      "table = FF.create_table(df_sample)\n",
      "py.iplot(table, filename='pandas_table')"
     ],
     "language": "python",
     "metadata": {},
     "outputs": [
      {
       "html": [
        "<iframe id=\"igraph\" scrolling=\"no\" style=\"border:none;\"seamless=\"seamless\" src=\"https://plot.ly/~chelsea_lyn/9566.embed\" height=\"680px\" width=\"100%\"></iframe>"
       ],
       "metadata": {},
       "output_type": "pyout",
       "prompt_number": 41,
       "text": [
        "<plotly.tools.PlotlyDisplay at 0x106c9d9d0>"
       ]
      }
     ],
     "prompt_number": 41
    },
    {
     "cell_type": "markdown",
     "metadata": {},
     "source": [
      " "
     ]
    },
    {
     "cell_type": "markdown",
     "metadata": {},
     "source": [
      "####Include and Index Column"
     ]
    },
    {
     "cell_type": "code",
     "collapsed": false,
     "input": [
      "import plotly.plotly as py\n",
      "from plotly.tools import FigureFactory as FF \n",
      "\n",
      "data_matrix = [['Country', 'Year', 'Population'],\n",
      "               ['United States', 2000, 282200000],\n",
      "               ['Canada', 2000, 27790000],\n",
      "               ['United States', 2005, 295500000],\n",
      "               ['Canada', 2005, 32310000],\n",
      "               ['United States', 2010, 309000000],\n",
      "               ['Canada', 2010, 34000000]]\n",
      "\n",
      "table = FF.create_table(data_matrix, index=True)\n",
      "py.iplot(table, filename='index_table')"
     ],
     "language": "python",
     "metadata": {},
     "outputs": [
      {
       "html": [
        "<iframe id=\"igraph\" scrolling=\"no\" style=\"border:none;\"seamless=\"seamless\" src=\"https://plot.ly/~chelsea_lyn/9572.embed\" height=\"260px\" width=\"100%\"></iframe>"
       ],
       "metadata": {},
       "output_type": "pyout",
       "prompt_number": 44,
       "text": [
        "<plotly.tools.PlotlyDisplay at 0x106c7e650>"
       ]
      }
     ],
     "prompt_number": 44
    },
    {
     "cell_type": "markdown",
     "metadata": {},
     "source": [
      " "
     ]
    },
    {
     "cell_type": "code",
     "collapsed": false,
     "input": [
      "import plotly.plotly as py\n",
      "from plotly.tools import FigureFactory as FF\n",
      "\n",
      "from datetime import datetime\n",
      "import pandas.io.data as web\n",
      "\n",
      "df = web.DataReader(\"aapl\", 'yahoo', datetime(2009, 1, 1), datetime(2009, 4, 1))\n",
      "\n",
      "table = FF.create_table(df, index=True, index_title='Date')\n",
      "py.iplot(table, filename='index_table_pd')"
     ],
     "language": "python",
     "metadata": {},
     "outputs": [
      {
       "html": [
        "<iframe id=\"igraph\" scrolling=\"no\" style=\"border:none;\"seamless=\"seamless\" src=\"https://plot.ly/~chelsea_lyn/9574.embed\" height=\"1940px\" width=\"100%\"></iframe>"
       ],
       "metadata": {},
       "output_type": "pyout",
       "prompt_number": 51,
       "text": [
        "<plotly.tools.PlotlyDisplay at 0x107bfdd10>"
       ]
      }
     ],
     "prompt_number": 51
    },
    {
     "cell_type": "markdown",
     "metadata": {},
     "source": [
      " "
     ]
    },
    {
     "cell_type": "markdown",
     "metadata": {},
     "source": [
      "####Custom Table Colors\n",
      "A custom colorscale should be a `list[list]`:<br> `[[0, 'Header_Color'],[.5, 'Odd_Row_Color'],[1, 'Even_Row_Color']]`"
     ]
    },
    {
     "cell_type": "code",
     "collapsed": false,
     "input": [
      "import plotly.plotly as py\n",
      "from plotly.tools import FigureFactory as FF\n",
      "\n",
      "import pandas as pd\n",
      "\n",
      "df = pd.read_csv('https://raw.githubusercontent.com/plotly/datasets/master/gapminderDataFiveYear.csv')\n",
      "df_sample = df[400:410]\n",
      "\n",
      "colorscale = [[0, '#4C152B'],[.5, '#E9E2E5'],[1, '#ffffff']]\n",
      "\n",
      "table = FF.create_table(df_sample, colorscale=colorscale)\n",
      "py.iplot(table, filename='color_table')"
     ],
     "language": "python",
     "metadata": {},
     "outputs": [
      {
       "html": [
        "<iframe id=\"igraph\" scrolling=\"no\" style=\"border:none;\"seamless=\"seamless\" src=\"https://plot.ly/~chelsea_lyn/9576.embed\" height=\"380px\" width=\"100%\"></iframe>"
       ],
       "metadata": {},
       "output_type": "pyout",
       "prompt_number": 57,
       "text": [
        "<plotly.tools.PlotlyDisplay at 0x107bfde10>"
       ]
      }
     ],
     "prompt_number": 57
    },
    {
     "cell_type": "markdown",
     "metadata": {},
     "source": [
      " "
     ]
    },
    {
     "cell_type": "markdown",
     "metadata": {},
     "source": [
      "####Custom Font Colors"
     ]
    },
    {
     "cell_type": "code",
     "collapsed": false,
     "input": [
      "import plotly.plotly as py\n",
      "from plotly.tools import FigureFactory as FF\n",
      "\n",
      "import pandas as pd\n",
      "\n",
      "text = [['Team', 'Rank'], ['A', 1], ['B', 2], ['C', 3], ['D', 4], ['E', 5], ['F', 6]]\n",
      "\n",
      "colorscale = [[0, '#272D31'],[.5, '#f7f7f7'],[1, '#ffffff']]\n",
      "font=['#FCFCFC', '#488957', '#7eac89', '#99c7bd', '#d8a6ab', '#ee7587', '#E41937']\n",
      "\n",
      "table = FF.create_table(text, colorscale=colorscale, font_colors=font)\n",
      "table.layout.width=200\n",
      "py.iplot(table, filename='font_table')"
     ],
     "language": "python",
     "metadata": {},
     "outputs": [
      {
       "html": [
        "<iframe id=\"igraph\" scrolling=\"no\" style=\"border:none;\"seamless=\"seamless\" src=\"https://plot.ly/~chelsea_lyn/9578.embed\" height=\"260px\" width=\"200px\"></iframe>"
       ],
       "metadata": {},
       "output_type": "pyout",
       "prompt_number": 69,
       "text": [
        "<plotly.tools.PlotlyDisplay at 0x107fce150>"
       ]
      }
     ],
     "prompt_number": 69
    },
    {
     "cell_type": "markdown",
     "metadata": {},
     "source": [
      " "
     ]
    },
    {
     "cell_type": "markdown",
     "metadata": {},
     "source": [
      "####Tables in Subplots"
     ]
    },
    {
     "cell_type": "code",
     "collapsed": false,
     "input": [],
     "language": "python",
     "metadata": {},
     "outputs": []
    },
    {
     "cell_type": "markdown",
     "metadata": {},
     "source": [
      " "
     ]
    },
    {
     "cell_type": "markdown",
     "metadata": {},
     "source": [
      "###References"
     ]
    },
    {
     "cell_type": "code",
     "collapsed": false,
     "input": [
      "help(FF.create_table)"
     ],
     "language": "python",
     "metadata": {},
     "outputs": [
      {
       "output_type": "stream",
       "stream": "stdout",
       "text": [
        "Help on function create_table in module plotly.tools:\n",
        "\n",
        "create_table(table_text, colorscale=None, font_colors=None, index=False, index_title='', annotation_offset=0.45, height_constant=30, hoverinfo='none', **kwargs)\n",
        "    BETA function that creates data tables\n",
        "    \n",
        "    :param (pandas.Dataframe | list[list]) text: data for table.\n",
        "    :param (str|list[list]) colorscale: Colorscale for table where the\n",
        "        color at value 0 is the header color, .5 is the first table color\n",
        "        and 1 is the second table color. (Set .5 and 1 to avoid the striped\n",
        "        table effect). Default=[[0, '#66b2ff'], [.5, '#d9d9d9'],\n",
        "        [1, '#ffffff']]\n",
        "    :param (list) font_colors: Color for fonts in table. Can be a single\n",
        "        color, three colors, or a color for each row in the table.\n",
        "        Default=['#000000'] (black text for the entire table)\n",
        "    :param (int) height_constant: Constant multiplied by # of rows to\n",
        "        create table height. Default=30.\n",
        "    :param (bool) index: Create (header-colored) index column index from\n",
        "        Pandas dataframe or list[0] for each list in text. Default=False.\n",
        "    :param (string) index_title: Title for index column. Default=''.\n",
        "    :param kwargs: kwargs passed through plotly.graph_objs.Heatmap.\n",
        "        These kwargs describe other attributes about the annotated Heatmap\n",
        "        trace such as the colorscale. For more information on valid kwargs\n",
        "        call help(plotly.graph_objs.Heatmap)\n",
        "    \n",
        "    Example 1: Simple Plotly Table\n",
        "    ```\n",
        "    import plotly.plotly as py\n",
        "    from plotly.tools import FigureFactory as FF\n",
        "    \n",
        "    text = [['Country', 'Year', 'Population'],\n",
        "            ['US', 2000, 282200000],\n",
        "            ['Canada', 2000, 27790000],\n",
        "            ['US', 2010, 309000000],\n",
        "            ['Canada', 2010, 34000000]]\n",
        "    \n",
        "    table = FF.create_table(text)\n",
        "    py.iplot(table)\n",
        "    ```\n",
        "    \n",
        "    Example 2: Table with Custom Coloring\n",
        "    ```\n",
        "    import plotly.plotly as py\n",
        "    from plotly.tools import FigureFactory as FF\n",
        "    \n",
        "    text = [['Country', 'Year', 'Population'],\n",
        "            ['US', 2000, 282200000],\n",
        "            ['Canada', 2000, 27790000],\n",
        "            ['US', 2010, 309000000],\n",
        "            ['Canada', 2010, 34000000]]\n",
        "    \n",
        "    table = FF.create_table(text,\n",
        "                          colorscale=[[0, '#000000'],\n",
        "                                      [.5, '#80beff'],\n",
        "                                      [1, '#cce5ff']],\n",
        "                          font_colors=['#ffffff', '#000000',\n",
        "                                     '#000000'])\n",
        "    py.iplot(table)\n",
        "    ```\n",
        "    Example 3: Simple Plotly Table with Pandas\n",
        "    ```\n",
        "    import plotly.plotly as py\n",
        "    from plotly.tools import FigureFactory as FF\n",
        "    \n",
        "    import pandas as pd\n",
        "    \n",
        "    df = pd.read_csv('http://www.stat.ubc.ca/~jenny/notOcto/STAT545A/examples/gapminder/data/gapminderDataFiveYear.txt', sep='      ')\n",
        "    df_p = df[0:25]\n",
        "    \n",
        "    table_simple = FF.create_table(df_p)\n",
        "    py.iplot(table_simple)\n",
        "    ```\n",
        "\n"
       ]
      }
     ],
     "prompt_number": 47
    },
    {
     "cell_type": "code",
     "collapsed": false,
     "input": [
      "from IPython.display import display, HTML\n",
      "\n",
      "display(HTML('<link href=\"//fonts.googleapis.com/css?family=Open+Sans:600,400,300,200|Inconsolata|Ubuntu+Mono:400,700\" rel=\"stylesheet\" type=\"text/css\" />'))\n",
      "display(HTML('<link rel=\"stylesheet\" type=\"text/css\" href=\"http://help.plot.ly/documentation/all_static/css/ipython-notebook-custom.css\">'))\n",
      "\n",
      "! pip install publisher --upgrade\n",
      "import publisher\n",
      "publisher.publish(\n",
      "    'table.ipynb', 'python/table', 'Python Tables | plotly',\n",
      "    'How to make Tables in Python with Plotly.',\n",
      "    name = 'Tables',\n",
      "    thumbnail='/images/tab.png', language='python',\n",
      "    page_type='example_index', has_thumbnail='true', display_as='chart_type', order=31)  "
     ],
     "language": "python",
     "metadata": {},
     "outputs": [
      {
       "html": [
        "<link href=\"//fonts.googleapis.com/css?family=Open+Sans:600,400,300,200|Inconsolata|Ubuntu+Mono:400,700\" rel=\"stylesheet\" type=\"text/css\" />"
       ],
       "metadata": {},
       "output_type": "display_data",
       "text": [
        "<IPython.core.display.HTML at 0x104a93f90>"
       ]
      },
      {
       "html": [
        "<link rel=\"stylesheet\" type=\"text/css\" href=\"http://help.plot.ly/documentation/all_static/css/ipython-notebook-custom.css\">"
       ],
       "metadata": {},
       "output_type": "display_data",
       "text": [
        "<IPython.core.display.HTML at 0x104a93fd0>"
       ]
      },
      {
       "output_type": "stream",
       "stream": "stdout",
       "text": [
        "Requirement already up-to-date: publisher in /Library/Frameworks/Python.framework/Versions/2.7/lib/python2.7/site-packages\r\n"
       ]
      }
     ],
     "prompt_number": 3
    },
    {
     "cell_type": "code",
     "collapsed": false,
     "input": [],
     "language": "python",
     "metadata": {},
     "outputs": []
    }
   ],
   "metadata": {}
  }
 ]
}