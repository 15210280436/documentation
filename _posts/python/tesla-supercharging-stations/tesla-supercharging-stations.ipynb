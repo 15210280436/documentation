{
 "cells": [
  {
   "cell_type": "markdown",
   "metadata": {},
   "source": [
    "#### New to Plotly?\n",
    "Plotly's Python library is free and open source! [Get started](https://plot.ly/python/getting-started/) by dowloading the client and [reading the primer](https://plot.ly/python/getting-started/).\n",
    "<br>You can set up Plotly to work in [online](https://plot.ly/python/getting-started/#initialization-for-online-plotting) or [offline](https://plot.ly/python/getting-started/#initialization-for-offline-plotting) mode, or in [jupyter notebooks](https://plot.ly/python/getting-started/#start-plotting-online).\n",
    "<br>We also have a quick-reference [cheatsheet](https://images.plot.ly/plotly-documentation/images/python_cheat_sheet.pdf) (new!) to help you get started!"
   ]
  },
  {
   "cell_type": "code",
   "execution_count": 1,
   "metadata": {
    "collapsed": false
   },
   "outputs": [
    {
     "data": {
      "text/plain": [
       "'1.12.9'"
      ]
     },
     "execution_count": 1,
     "metadata": {},
     "output_type": "execute_result"
    }
   ],
   "source": [
    "import plotly\n",
    "plotly.__version__"
   ]
  },
  {
   "cell_type": "markdown",
   "metadata": {},
   "source": [
    "#### Mapbox Access Token\n",
    "To plot on Mapbox maps with Plotly you'll need a Mapbox account and a [Mapbox Access Token](https://www.mapbox.com/studio/) which you can add to your [Plotly settings](https://plot.ly/settings/mapbox)."
   ]
  },
  {
   "cell_type": "markdown",
   "metadata": {},
   "source": [
    "#### Car Route Between Tesla Stations\n",
    "We can visualize the car route between two Tesla supercharging stations using Mapbox."
   ]
  },
  {
   "cell_type": "code",
   "execution_count": 2,
   "metadata": {
    "collapsed": false
   },
   "outputs": [
    {
     "data": {
      "text/html": [
       "<iframe id=\"igraph\" scrolling=\"no\" style=\"border:none;\" seamless=\"seamless\" src=\"https://plot.ly/~AdamKulidjian/996.embed\" height=\"525px\" width=\"100%\"></iframe>"
      ],
      "text/plain": [
       "<plotly.tools.PlotlyDisplay object>"
      ]
     },
     "execution_count": 2,
     "metadata": {},
     "output_type": "execute_result"
    }
   ],
   "source": [
    "import plotly.plotly as py\n",
    "import plotly.graph_objs as graph_objs\n",
    "\n",
    "mapbox_access_token = 'pk.eyJ1IjoiYWRhbWt1bGlkamlhbiIsImEiOiJjaXNya29kemwwNDNoMnRtMXBobGtvbWE4In0._k_JKvR8MknvKmiUsJ6C7g'\n",
    "\n",
    "var_coords = [\n",
    "    [-122.48369693756104, 37.83381888486939], [-122.48348236083984, 37.83317489144141],\n",
    "    [-122.48339653015138, 37.83270036637107], [-122.48356819152832, 37.832056363179625],\n",
    "    [-122.48404026031496, 37.83114119107971], [-122.48404026031496, 37.83049717427869],\n",
    "    [-122.48348236083984, 37.829920943955045], [-122.48356819152832, 37.82954808664175],\n",
    "    [-122.48507022857666, 37.82944639795659], [-122.48610019683838, 37.82880236636284],\n",
    "    [-122.48695850372314, 37.82931081282506], [-122.48700141906738, 37.83080223556934],\n",
    "    [-122.48751640319824, 37.83168351665737], [-122.48803138732912, 37.832158048267786],\n",
    "    [-122.48888969421387, 37.83297152392784], [-122.48987674713133, 37.83263257682617],\n",
    "    [-122.49043464660643, 37.832937629287755], [-122.49125003814696, 37.832429207817725],\n",
    "    [-122.49163627624512, 37.832564787218985], [-122.49223709106445, 37.83337825839438],\n",
    "    [-122.49378204345702, 37.83368330777276]\n",
    "]\n",
    "\n",
    "data = graph_objs.Data([\n",
    "    graph_objs.Scattermapbox(\n",
    "        lat=[coord[1] for coord in var_coords],\n",
    "        lon=[coord[0] for coord in var_coords],\n",
    "        mode='lines',\n",
    "        marker=graph_objs.Marker(\n",
    "            size=2\n",
    "        ),\n",
    "    )\n",
    "])\n",
    "\n",
    "layout = graph_objs.Layout(\n",
    "    autosize=True,\n",
    "    hovermode='closest',\n",
    "    title='Driving Route Between Tesla Supercharging Stations',\n",
    "    mapbox=dict(\n",
    "        accesstoken=mapbox_access_token,\n",
    "        bearing=0,\n",
    "        center=dict(\n",
    "            lat=37.830348,\n",
    "            lon=-122.486052\n",
    "        ),\n",
    "        style='streets',\n",
    "        pitch=0,\n",
    "        zoom=14.2\n",
    "    ),\n",
    ")\n",
    "\n",
    "fig = dict(data=data, layout=layout)\n",
    "py.iplot(fig, filename='tesla-car-travel-example')"
   ]
  },
  {
   "cell_type": "markdown",
   "metadata": {},
   "source": [
    "#### Reference\n",
    "See https://plot.ly/python/reference/#scattermapbox for more information about mapbox and their attribute options"
   ]
  },
  {
   "cell_type": "code",
   "execution_count": 3,
   "metadata": {
    "collapsed": false
   },
   "outputs": [
    {
     "data": {
      "text/html": [
       "<link href=\"//fonts.googleapis.com/css?family=Open+Sans:600,400,300,200|Inconsolata|Ubuntu+Mono:400,700\" rel=\"stylesheet\" type=\"text/css\" />"
      ],
      "text/plain": [
       "<IPython.core.display.HTML object>"
      ]
     },
     "metadata": {},
     "output_type": "display_data"
    },
    {
     "data": {
      "text/html": [
       "<link rel=\"stylesheet\" type=\"text/css\" href=\"http://help.plot.ly/documentation/all_static/css/ipython-notebook-custom.css\">"
      ],
      "text/plain": [
       "<IPython.core.display.HTML object>"
      ]
     },
     "metadata": {},
     "output_type": "display_data"
    },
    {
     "name": "stderr",
     "output_type": "stream",
     "text": [
      "/Library/Frameworks/Python.framework/Versions/2.7/lib/python2.7/site-packages/IPython/nbconvert.py:13: ShimWarning:\n",
      "\n",
      "The `IPython.nbconvert` package has been deprecated. You should import from nbconvert instead.\n",
      "\n",
      "/Library/Frameworks/Python.framework/Versions/2.7/lib/python2.7/site-packages/publisher/publisher.py:53: UserWarning:\n",
      "\n",
      "Did you \"Save\" this notebook before running this command? Remember to save, always save.\n",
      "\n"
     ]
    }
   ],
   "source": [
    "from IPython.display import display, HTML\n",
    "\n",
    "display(HTML('<link href=\"//fonts.googleapis.com/css?family=Open+Sans:600,400,300,200|Inconsolata|Ubuntu+Mono:400,700\" rel=\"stylesheet\" type=\"text/css\" />'))\n",
    "display(HTML('<link rel=\"stylesheet\" type=\"text/css\" href=\"http://help.plot.ly/documentation/all_static/css/ipython-notebook-custom.css\">'))\n",
    "\n",
    "import publisher\n",
    "publisher.publish(\n",
    "    'tesla-supercharging-stations.ipynb', 'python/tesla-supercharging-stations/', 'Python Tesla Supercharging Stations | plotly',\n",
    "    'How to track car travels between supercharging stations with Plotly.',\n",
    "    title='Python Tesla Supercharging Stations | plotly',\n",
    "    name='Tesla Supercharging Stations',\n",
    "    thumbnail='thumbnail/tesla-supercharging-stations.jpg', language='python',\n",
    "    page_type='example_index', has_thumbnail='true', display_as='maps', order=8)"
   ]
  },
  {
   "cell_type": "code",
   "execution_count": null,
   "metadata": {
    "collapsed": true
   },
   "outputs": [],
   "source": []
  }
 ],
 "metadata": {
  "kernelspec": {
   "display_name": "Python 2",
   "language": "python",
   "name": "python2"
  },
  "language_info": {
   "codemirror_mode": {
    "name": "ipython",
    "version": 2
   },
   "file_extension": ".py",
   "mimetype": "text/x-python",
   "name": "python",
   "nbconvert_exporter": "python",
   "pygments_lexer": "ipython2",
   "version": "2.7.11"
  }
 },
 "nbformat": 4,
 "nbformat_minor": 0
}
