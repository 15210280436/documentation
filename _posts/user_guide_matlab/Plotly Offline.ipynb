{
 "cells": [
  {
   "cell_type": "markdown",
   "metadata": {},
   "source": [
    "#Plotly Offline for MATLAB\n",
    "\n",
    "**NEW: Plotly's MATLAB library v.2.2.0 now includes support for Plotly Offline.**\n",
    "- Instead of saving the converted MATLAB figures to a server, your data and graphs will be saved as *html* files to your current working directory using Plotly Offline. These *html* files will contain all of the necessary dependencies to render the plot within a browser.\n",
    "\n",
    "\n",
    "- When your ready to share, you can just publish them to the [Plotly Cloud](https://plot.ly/feed]) or to your company's internal [Plotly Enterprise](https://plot.ly/product/enterprise).\n",
    "\n",
    "\n",
    "- To get started with Plotly Offline, [start a trial](http://purchasing.plot.ly) or contact <a href=\\\"mailto:sales@plot.ly\\\">sales@plot.ly</a> to learn about licensing and receive a URL to download the package.\n",
    "\n",
    "### Getting Started\n",
    "\n",
    "1 - Update the Plotly MATLAB Library so that your version is at least v.2.2.0\n",
    "\n",
    "```\n",
    ">>> plotlyupdate;\n",
    "```\n",
    "\n",
    "2 - Download the offline Plotly bundle. Obtain a license url by [starting a trial](http://purchasing.plot.ly) or contacting <a href=\\\"mailto:sales@plot.ly\\\">sales@plot.ly</a>\n",
    "\n",
    "```\n",
    ">>> getplotlyoffline('http://purchasing.plot.ly/your_licensed_plotly_offline_url')\n",
    "Success! You can generate your first offline graph\n",
    "using the 'offline' flag of fig2plotly as follows:\n",
    "\n",
    ">> plot(1:10); fig2plotly(gcf, 'offline', true);\n",
    "```\n",
    "\n",
    "3 - Now, you are ready to start using Plotly offline! All you need to do is provide the `offline` flag to `fig2plotly`"
   ]
  },
  {
   "cell_type": "code",
   "execution_count": 1,
   "metadata": {
    "collapsed": false
   },
   "outputs": [
    {
     "data": {
      "text/html": [
       "<iframe id=\"igraph\" scrolling=\"no\" style=\"border:none;\"seamless=\"seamless\" src=\"https://plot.ly/~matlab_user_guide/6235.embed\" height=\"525\" width=\"100%\"></iframe>"
      ],
      "text/plain": [
       "<plotly.tools.PlotlyDisplay object>"
      ]
     },
     "execution_count": 1,
     "metadata": {},
     "output_type": "execute_result"
    }
   ],
   "source": [
    ">> t = linspace(0,1,1000);\n",
    ">> plot(t, sin(2*pi*t*20), '-'); \n",
    "\n",
    ">> plotly_fig = fig2plotly(gcf, 'offline', true, 'filename', 'sine wave');\n",
    ">> plotly_fig.url\n",
    "file:///Users/bronsolo/.plotly/plotlyjs/sinewave.html"
   ]
  },
  {
   "cell_type": "code",
   "execution_count": 2,
   "metadata": {
    "collapsed": false
   },
   "outputs": [
    {
     "data": {
      "text/html": [
       "<iframe id=\"igraph\" scrolling=\"no\" style=\"border:none;\"seamless=\"seamless\" src=\"https://plot.ly/~matlab_user_guide/6249.embed\" height=\"525\" width=\"100%\"></iframe>"
      ],
      "text/plain": [
       "<plotly.tools.PlotlyDisplay object>"
      ]
     },
     "execution_count": 2,
     "metadata": {},
     "output_type": "execute_result"
    }
   ],
   "source": [
    ">> contour(rand(10,10)); \n",
    ">> plotly_fig = fig2plotly(gcf, 'offline', true, 'filename', 'contour data');\n",
    ">> plotly_fig.url\n",
    "file:///Users/bronsolo/.plotly/plotlyjs/mycontour.html"
   ]
  },
  {
   "cell_type": "code",
   "execution_count": 3,
   "metadata": {
    "collapsed": false
   },
   "outputs": [
    {
     "data": {
      "text/html": [
       "<iframe id=\"igraph\" scrolling=\"no\" style=\"border:none;\"seamless=\"seamless\" src=\"https://plot.ly/~matlab_user_guide/6265.embed\" height=\"525\" width=\"100%\"></iframe>"
      ],
      "text/plain": [
       "<plotly.tools.PlotlyDisplay object>"
      ]
     },
     "execution_count": 3,
     "metadata": {},
     "output_type": "execute_result"
    }
   ],
   "source": [
    ">> sphere; \n",
    ">> plotly_fig = fig2plotly(gcf, 'offline', true, 'filename', 'sphere');"
   ]
  },
  {
   "cell_type": "code",
   "execution_count": 4,
   "metadata": {
    "collapsed": false
   },
   "outputs": [
    {
     "data": {
      "text/html": [
       "<iframe id=\"igraph\" scrolling=\"no\" style=\"border:none;\"seamless=\"seamless\" src=\"https://plot.ly/~jackp/9185.embed\" height=\"525\" width=\"100%\"></iframe>"
      ],
      "text/plain": [
       "<plotly.tools.PlotlyDisplay object>"
      ]
     },
     "execution_count": 4,
     "metadata": {},
     "output_type": "execute_result"
    }
   ],
   "source": [
    "[X,Y,Z] = peaks(25);\n",
    "figure\n",
    "surf(X,Y,Z);\n",
    "fig2plotly()"
   ]
  },
  {
   "cell_type": "code",
   "execution_count": 7,
   "metadata": {
    "collapsed": false
   },
   "outputs": [],
   "source": [
    "import publisher\n",
    "publisher.publish('Plotly Offline', '/matlab/offline',\n",
    "                  'Plotly Offline for Plotly''s MATLAB Library',\n",
    "                  'How to use Plotly offline using fig2plotly and MATLAB',\n",
    "                  language='matlab')"
   ]
  },
  {
   "cell_type": "code",
   "execution_count": null,
   "metadata": {
    "collapsed": true
   },
   "outputs": [],
   "source": []
  }
 ],
 "metadata": {
  "kernelspec": {
   "display_name": "Python 2",
   "language": "python",
   "name": "python2"
  },
  "language_info": {
   "codemirror_mode": {
    "name": "ipython",
    "version": 2
   },
   "file_extension": ".py",
   "mimetype": "text/x-python",
   "name": "python",
   "nbconvert_exporter": "python",
   "pygments_lexer": "ipython2",
   "version": "2.7.10"
  }
 },
 "nbformat": 4,
 "nbformat_minor": 0
}
